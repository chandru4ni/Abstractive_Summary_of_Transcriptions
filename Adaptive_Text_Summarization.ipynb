{
  "nbformat": 4,
  "nbformat_minor": 0,
  "metadata": {
    "colab": {
      "name": "Adaptive Text Summarization.ipynb",
      "provenance": []
    },
    "kernelspec": {
      "name": "python3",
      "display_name": "Python 3"
    },
    "accelerator": "GPU",
    "widgets": {
      "application/vnd.jupyter.widget-state+json": {
        "0808f36f21b54033a071858010574770": {
          "model_module": "@jupyter-widgets/controls",
          "model_name": "HBoxModel",
          "state": {
            "_view_name": "HBoxView",
            "_dom_classes": [],
            "_model_name": "HBoxModel",
            "_view_module": "@jupyter-widgets/controls",
            "_model_module_version": "1.5.0",
            "_view_count": null,
            "_view_module_version": "1.5.0",
            "box_style": "",
            "layout": "IPY_MODEL_7c5d932b770d40fbb144b317b62a0438",
            "_model_module": "@jupyter-widgets/controls",
            "children": [
              "IPY_MODEL_3034271972f4411db1467a16f19985db",
              "IPY_MODEL_84c322f6ff0c484a9632e955b68f6ac4"
            ]
          }
        },
        "7c5d932b770d40fbb144b317b62a0438": {
          "model_module": "@jupyter-widgets/base",
          "model_name": "LayoutModel",
          "state": {
            "_view_name": "LayoutView",
            "grid_template_rows": null,
            "right": null,
            "justify_content": null,
            "_view_module": "@jupyter-widgets/base",
            "overflow": null,
            "_model_module_version": "1.2.0",
            "_view_count": null,
            "flex_flow": null,
            "width": null,
            "min_width": null,
            "border": null,
            "align_items": null,
            "bottom": null,
            "_model_module": "@jupyter-widgets/base",
            "top": null,
            "grid_column": null,
            "overflow_y": null,
            "overflow_x": null,
            "grid_auto_flow": null,
            "grid_area": null,
            "grid_template_columns": null,
            "flex": null,
            "_model_name": "LayoutModel",
            "justify_items": null,
            "grid_row": null,
            "max_height": null,
            "align_content": null,
            "visibility": null,
            "align_self": null,
            "height": null,
            "min_height": null,
            "padding": null,
            "grid_auto_rows": null,
            "grid_gap": null,
            "max_width": null,
            "order": null,
            "_view_module_version": "1.2.0",
            "grid_template_areas": null,
            "object_position": null,
            "object_fit": null,
            "grid_auto_columns": null,
            "margin": null,
            "display": null,
            "left": null
          }
        },
        "3034271972f4411db1467a16f19985db": {
          "model_module": "@jupyter-widgets/controls",
          "model_name": "FloatProgressModel",
          "state": {
            "_view_name": "ProgressView",
            "style": "IPY_MODEL_c246ec495f954a409385ad46daebfe5d",
            "_dom_classes": [],
            "description": "Dl Completed...: 100%",
            "_model_name": "FloatProgressModel",
            "bar_style": "success",
            "max": 1,
            "_view_module": "@jupyter-widgets/controls",
            "_model_module_version": "1.5.0",
            "value": 1,
            "_view_count": null,
            "_view_module_version": "1.5.0",
            "orientation": "horizontal",
            "min": 0,
            "description_tooltip": null,
            "_model_module": "@jupyter-widgets/controls",
            "layout": "IPY_MODEL_2bf9eae72d5547208468d8f9ab17ad1f"
          }
        },
        "84c322f6ff0c484a9632e955b68f6ac4": {
          "model_module": "@jupyter-widgets/controls",
          "model_name": "HTMLModel",
          "state": {
            "_view_name": "HTMLView",
            "style": "IPY_MODEL_ee653f8bfaad486580b8b2676a2e55a8",
            "_dom_classes": [],
            "description": "",
            "_model_name": "HTMLModel",
            "placeholder": "​",
            "_view_module": "@jupyter-widgets/controls",
            "_model_module_version": "1.5.0",
            "value": " 1/1 [00:04&lt;00:00,  4.33s/ url]",
            "_view_count": null,
            "_view_module_version": "1.5.0",
            "description_tooltip": null,
            "_model_module": "@jupyter-widgets/controls",
            "layout": "IPY_MODEL_3553e605158c489d89fe9317db39a0d2"
          }
        },
        "c246ec495f954a409385ad46daebfe5d": {
          "model_module": "@jupyter-widgets/controls",
          "model_name": "ProgressStyleModel",
          "state": {
            "_view_name": "StyleView",
            "_model_name": "ProgressStyleModel",
            "description_width": "initial",
            "_view_module": "@jupyter-widgets/base",
            "_model_module_version": "1.5.0",
            "_view_count": null,
            "_view_module_version": "1.2.0",
            "bar_color": null,
            "_model_module": "@jupyter-widgets/controls"
          }
        },
        "2bf9eae72d5547208468d8f9ab17ad1f": {
          "model_module": "@jupyter-widgets/base",
          "model_name": "LayoutModel",
          "state": {
            "_view_name": "LayoutView",
            "grid_template_rows": null,
            "right": null,
            "justify_content": null,
            "_view_module": "@jupyter-widgets/base",
            "overflow": null,
            "_model_module_version": "1.2.0",
            "_view_count": null,
            "flex_flow": null,
            "width": null,
            "min_width": null,
            "border": null,
            "align_items": null,
            "bottom": null,
            "_model_module": "@jupyter-widgets/base",
            "top": null,
            "grid_column": null,
            "overflow_y": null,
            "overflow_x": null,
            "grid_auto_flow": null,
            "grid_area": null,
            "grid_template_columns": null,
            "flex": null,
            "_model_name": "LayoutModel",
            "justify_items": null,
            "grid_row": null,
            "max_height": null,
            "align_content": null,
            "visibility": null,
            "align_self": null,
            "height": null,
            "min_height": null,
            "padding": null,
            "grid_auto_rows": null,
            "grid_gap": null,
            "max_width": null,
            "order": null,
            "_view_module_version": "1.2.0",
            "grid_template_areas": null,
            "object_position": null,
            "object_fit": null,
            "grid_auto_columns": null,
            "margin": null,
            "display": null,
            "left": null
          }
        },
        "ee653f8bfaad486580b8b2676a2e55a8": {
          "model_module": "@jupyter-widgets/controls",
          "model_name": "DescriptionStyleModel",
          "state": {
            "_view_name": "StyleView",
            "_model_name": "DescriptionStyleModel",
            "description_width": "",
            "_view_module": "@jupyter-widgets/base",
            "_model_module_version": "1.5.0",
            "_view_count": null,
            "_view_module_version": "1.2.0",
            "_model_module": "@jupyter-widgets/controls"
          }
        },
        "3553e605158c489d89fe9317db39a0d2": {
          "model_module": "@jupyter-widgets/base",
          "model_name": "LayoutModel",
          "state": {
            "_view_name": "LayoutView",
            "grid_template_rows": null,
            "right": null,
            "justify_content": null,
            "_view_module": "@jupyter-widgets/base",
            "overflow": null,
            "_model_module_version": "1.2.0",
            "_view_count": null,
            "flex_flow": null,
            "width": null,
            "min_width": null,
            "border": null,
            "align_items": null,
            "bottom": null,
            "_model_module": "@jupyter-widgets/base",
            "top": null,
            "grid_column": null,
            "overflow_y": null,
            "overflow_x": null,
            "grid_auto_flow": null,
            "grid_area": null,
            "grid_template_columns": null,
            "flex": null,
            "_model_name": "LayoutModel",
            "justify_items": null,
            "grid_row": null,
            "max_height": null,
            "align_content": null,
            "visibility": null,
            "align_self": null,
            "height": null,
            "min_height": null,
            "padding": null,
            "grid_auto_rows": null,
            "grid_gap": null,
            "max_width": null,
            "order": null,
            "_view_module_version": "1.2.0",
            "grid_template_areas": null,
            "object_position": null,
            "object_fit": null,
            "grid_auto_columns": null,
            "margin": null,
            "display": null,
            "left": null
          }
        },
        "2bb2e8ee5f91449c812469e614a4dc64": {
          "model_module": "@jupyter-widgets/controls",
          "model_name": "HBoxModel",
          "state": {
            "_view_name": "HBoxView",
            "_dom_classes": [],
            "_model_name": "HBoxModel",
            "_view_module": "@jupyter-widgets/controls",
            "_model_module_version": "1.5.0",
            "_view_count": null,
            "_view_module_version": "1.5.0",
            "box_style": "",
            "layout": "IPY_MODEL_493e7d7f4e30468d93e3227d686c43b5",
            "_model_module": "@jupyter-widgets/controls",
            "children": [
              "IPY_MODEL_391653e2641647568047fbd9db2e85f5",
              "IPY_MODEL_c2a9c3091e9f494ea7595f74e26a283a"
            ]
          }
        },
        "493e7d7f4e30468d93e3227d686c43b5": {
          "model_module": "@jupyter-widgets/base",
          "model_name": "LayoutModel",
          "state": {
            "_view_name": "LayoutView",
            "grid_template_rows": null,
            "right": null,
            "justify_content": null,
            "_view_module": "@jupyter-widgets/base",
            "overflow": null,
            "_model_module_version": "1.2.0",
            "_view_count": null,
            "flex_flow": null,
            "width": null,
            "min_width": null,
            "border": null,
            "align_items": null,
            "bottom": null,
            "_model_module": "@jupyter-widgets/base",
            "top": null,
            "grid_column": null,
            "overflow_y": null,
            "overflow_x": null,
            "grid_auto_flow": null,
            "grid_area": null,
            "grid_template_columns": null,
            "flex": null,
            "_model_name": "LayoutModel",
            "justify_items": null,
            "grid_row": null,
            "max_height": null,
            "align_content": null,
            "visibility": null,
            "align_self": null,
            "height": null,
            "min_height": null,
            "padding": null,
            "grid_auto_rows": null,
            "grid_gap": null,
            "max_width": null,
            "order": null,
            "_view_module_version": "1.2.0",
            "grid_template_areas": null,
            "object_position": null,
            "object_fit": null,
            "grid_auto_columns": null,
            "margin": null,
            "display": null,
            "left": null
          }
        },
        "391653e2641647568047fbd9db2e85f5": {
          "model_module": "@jupyter-widgets/controls",
          "model_name": "FloatProgressModel",
          "state": {
            "_view_name": "ProgressView",
            "style": "IPY_MODEL_df2689c586144811afb6b7a1875b1e18",
            "_dom_classes": [],
            "description": "Dl Size...: ",
            "_model_name": "FloatProgressModel",
            "bar_style": "success",
            "max": 1,
            "_view_module": "@jupyter-widgets/controls",
            "_model_module_version": "1.5.0",
            "value": 1,
            "_view_count": null,
            "_view_module_version": "1.5.0",
            "orientation": "horizontal",
            "min": 0,
            "description_tooltip": null,
            "_model_module": "@jupyter-widgets/controls",
            "layout": "IPY_MODEL_c62c18247f7841909f031a48c4720272"
          }
        },
        "c2a9c3091e9f494ea7595f74e26a283a": {
          "model_module": "@jupyter-widgets/controls",
          "model_name": "HTMLModel",
          "state": {
            "_view_name": "HTMLView",
            "style": "IPY_MODEL_6cabeb63daf64a4eb51e924b181ebdfc",
            "_dom_classes": [],
            "description": "",
            "_model_name": "HTMLModel",
            "placeholder": "​",
            "_view_module": "@jupyter-widgets/controls",
            "_model_module_version": "1.5.0",
            "value": " 11/0 [00:04&lt;00:00,  2.56 MiB/s]",
            "_view_count": null,
            "_view_module_version": "1.5.0",
            "description_tooltip": null,
            "_model_module": "@jupyter-widgets/controls",
            "layout": "IPY_MODEL_bd066177b7ab442f92b6dc0fdc0b0d95"
          }
        },
        "df2689c586144811afb6b7a1875b1e18": {
          "model_module": "@jupyter-widgets/controls",
          "model_name": "ProgressStyleModel",
          "state": {
            "_view_name": "StyleView",
            "_model_name": "ProgressStyleModel",
            "description_width": "initial",
            "_view_module": "@jupyter-widgets/base",
            "_model_module_version": "1.5.0",
            "_view_count": null,
            "_view_module_version": "1.2.0",
            "bar_color": null,
            "_model_module": "@jupyter-widgets/controls"
          }
        },
        "c62c18247f7841909f031a48c4720272": {
          "model_module": "@jupyter-widgets/base",
          "model_name": "LayoutModel",
          "state": {
            "_view_name": "LayoutView",
            "grid_template_rows": null,
            "right": null,
            "justify_content": null,
            "_view_module": "@jupyter-widgets/base",
            "overflow": null,
            "_model_module_version": "1.2.0",
            "_view_count": null,
            "flex_flow": null,
            "width": null,
            "min_width": null,
            "border": null,
            "align_items": null,
            "bottom": null,
            "_model_module": "@jupyter-widgets/base",
            "top": null,
            "grid_column": null,
            "overflow_y": null,
            "overflow_x": null,
            "grid_auto_flow": null,
            "grid_area": null,
            "grid_template_columns": null,
            "flex": null,
            "_model_name": "LayoutModel",
            "justify_items": null,
            "grid_row": null,
            "max_height": null,
            "align_content": null,
            "visibility": null,
            "align_self": null,
            "height": null,
            "min_height": null,
            "padding": null,
            "grid_auto_rows": null,
            "grid_gap": null,
            "max_width": null,
            "order": null,
            "_view_module_version": "1.2.0",
            "grid_template_areas": null,
            "object_position": null,
            "object_fit": null,
            "grid_auto_columns": null,
            "margin": null,
            "display": null,
            "left": null
          }
        },
        "6cabeb63daf64a4eb51e924b181ebdfc": {
          "model_module": "@jupyter-widgets/controls",
          "model_name": "DescriptionStyleModel",
          "state": {
            "_view_name": "StyleView",
            "_model_name": "DescriptionStyleModel",
            "description_width": "",
            "_view_module": "@jupyter-widgets/base",
            "_model_module_version": "1.5.0",
            "_view_count": null,
            "_view_module_version": "1.2.0",
            "_model_module": "@jupyter-widgets/controls"
          }
        },
        "bd066177b7ab442f92b6dc0fdc0b0d95": {
          "model_module": "@jupyter-widgets/base",
          "model_name": "LayoutModel",
          "state": {
            "_view_name": "LayoutView",
            "grid_template_rows": null,
            "right": null,
            "justify_content": null,
            "_view_module": "@jupyter-widgets/base",
            "overflow": null,
            "_model_module_version": "1.2.0",
            "_view_count": null,
            "flex_flow": null,
            "width": null,
            "min_width": null,
            "border": null,
            "align_items": null,
            "bottom": null,
            "_model_module": "@jupyter-widgets/base",
            "top": null,
            "grid_column": null,
            "overflow_y": null,
            "overflow_x": null,
            "grid_auto_flow": null,
            "grid_area": null,
            "grid_template_columns": null,
            "flex": null,
            "_model_name": "LayoutModel",
            "justify_items": null,
            "grid_row": null,
            "max_height": null,
            "align_content": null,
            "visibility": null,
            "align_self": null,
            "height": null,
            "min_height": null,
            "padding": null,
            "grid_auto_rows": null,
            "grid_gap": null,
            "max_width": null,
            "order": null,
            "_view_module_version": "1.2.0",
            "grid_template_areas": null,
            "object_position": null,
            "object_fit": null,
            "grid_auto_columns": null,
            "margin": null,
            "display": null,
            "left": null
          }
        },
        "f2ef84d3dfd84685946e51f76de39644": {
          "model_module": "@jupyter-widgets/controls",
          "model_name": "HBoxModel",
          "state": {
            "_view_name": "HBoxView",
            "_dom_classes": [],
            "_model_name": "HBoxModel",
            "_view_module": "@jupyter-widgets/controls",
            "_model_module_version": "1.5.0",
            "_view_count": null,
            "_view_module_version": "1.5.0",
            "box_style": "",
            "layout": "IPY_MODEL_a6c17e80c9674809b62b682631dd3544",
            "_model_module": "@jupyter-widgets/controls",
            "children": [
              "IPY_MODEL_41db9afbb23c46e3a362e55720d63348",
              "IPY_MODEL_5cd759de222546f290c40ea20d11aa9b"
            ]
          }
        },
        "a6c17e80c9674809b62b682631dd3544": {
          "model_module": "@jupyter-widgets/base",
          "model_name": "LayoutModel",
          "state": {
            "_view_name": "LayoutView",
            "grid_template_rows": null,
            "right": null,
            "justify_content": null,
            "_view_module": "@jupyter-widgets/base",
            "overflow": null,
            "_model_module_version": "1.2.0",
            "_view_count": null,
            "flex_flow": null,
            "width": null,
            "min_width": null,
            "border": null,
            "align_items": null,
            "bottom": null,
            "_model_module": "@jupyter-widgets/base",
            "top": null,
            "grid_column": null,
            "overflow_y": null,
            "overflow_x": null,
            "grid_auto_flow": null,
            "grid_area": null,
            "grid_template_columns": null,
            "flex": null,
            "_model_name": "LayoutModel",
            "justify_items": null,
            "grid_row": null,
            "max_height": null,
            "align_content": null,
            "visibility": null,
            "align_self": null,
            "height": null,
            "min_height": null,
            "padding": null,
            "grid_auto_rows": null,
            "grid_gap": null,
            "max_width": null,
            "order": null,
            "_view_module_version": "1.2.0",
            "grid_template_areas": null,
            "object_position": null,
            "object_fit": null,
            "grid_auto_columns": null,
            "margin": null,
            "display": null,
            "left": null
          }
        },
        "41db9afbb23c46e3a362e55720d63348": {
          "model_module": "@jupyter-widgets/controls",
          "model_name": "FloatProgressModel",
          "state": {
            "_view_name": "ProgressView",
            "style": "IPY_MODEL_7045795f26dc45a7ac74bbcd056407fc",
            "_dom_classes": [],
            "description": "Extraction completed...: 100%",
            "_model_name": "FloatProgressModel",
            "bar_style": "success",
            "max": 1,
            "_view_module": "@jupyter-widgets/controls",
            "_model_module_version": "1.5.0",
            "value": 1,
            "_view_count": null,
            "_view_module_version": "1.5.0",
            "orientation": "horizontal",
            "min": 0,
            "description_tooltip": null,
            "_model_module": "@jupyter-widgets/controls",
            "layout": "IPY_MODEL_5d72efb2e4cd4b14a0c5ae6127977375"
          }
        },
        "5cd759de222546f290c40ea20d11aa9b": {
          "model_module": "@jupyter-widgets/controls",
          "model_name": "HTMLModel",
          "state": {
            "_view_name": "HTMLView",
            "style": "IPY_MODEL_68417b22d66c45a996dd735b2e369c1f",
            "_dom_classes": [],
            "description": "",
            "_model_name": "HTMLModel",
            "placeholder": "​",
            "_view_module": "@jupyter-widgets/controls",
            "_model_module_version": "1.5.0",
            "value": " 1/1 [00:04&lt;00:00,  4.27s/ file]",
            "_view_count": null,
            "_view_module_version": "1.5.0",
            "description_tooltip": null,
            "_model_module": "@jupyter-widgets/controls",
            "layout": "IPY_MODEL_e1773ae28d6546e78d171d39f918544a"
          }
        },
        "7045795f26dc45a7ac74bbcd056407fc": {
          "model_module": "@jupyter-widgets/controls",
          "model_name": "ProgressStyleModel",
          "state": {
            "_view_name": "StyleView",
            "_model_name": "ProgressStyleModel",
            "description_width": "initial",
            "_view_module": "@jupyter-widgets/base",
            "_model_module_version": "1.5.0",
            "_view_count": null,
            "_view_module_version": "1.2.0",
            "bar_color": null,
            "_model_module": "@jupyter-widgets/controls"
          }
        },
        "5d72efb2e4cd4b14a0c5ae6127977375": {
          "model_module": "@jupyter-widgets/base",
          "model_name": "LayoutModel",
          "state": {
            "_view_name": "LayoutView",
            "grid_template_rows": null,
            "right": null,
            "justify_content": null,
            "_view_module": "@jupyter-widgets/base",
            "overflow": null,
            "_model_module_version": "1.2.0",
            "_view_count": null,
            "flex_flow": null,
            "width": null,
            "min_width": null,
            "border": null,
            "align_items": null,
            "bottom": null,
            "_model_module": "@jupyter-widgets/base",
            "top": null,
            "grid_column": null,
            "overflow_y": null,
            "overflow_x": null,
            "grid_auto_flow": null,
            "grid_area": null,
            "grid_template_columns": null,
            "flex": null,
            "_model_name": "LayoutModel",
            "justify_items": null,
            "grid_row": null,
            "max_height": null,
            "align_content": null,
            "visibility": null,
            "align_self": null,
            "height": null,
            "min_height": null,
            "padding": null,
            "grid_auto_rows": null,
            "grid_gap": null,
            "max_width": null,
            "order": null,
            "_view_module_version": "1.2.0",
            "grid_template_areas": null,
            "object_position": null,
            "object_fit": null,
            "grid_auto_columns": null,
            "margin": null,
            "display": null,
            "left": null
          }
        },
        "68417b22d66c45a996dd735b2e369c1f": {
          "model_module": "@jupyter-widgets/controls",
          "model_name": "DescriptionStyleModel",
          "state": {
            "_view_name": "StyleView",
            "_model_name": "DescriptionStyleModel",
            "description_width": "",
            "_view_module": "@jupyter-widgets/base",
            "_model_module_version": "1.5.0",
            "_view_count": null,
            "_view_module_version": "1.2.0",
            "_model_module": "@jupyter-widgets/controls"
          }
        },
        "e1773ae28d6546e78d171d39f918544a": {
          "model_module": "@jupyter-widgets/base",
          "model_name": "LayoutModel",
          "state": {
            "_view_name": "LayoutView",
            "grid_template_rows": null,
            "right": null,
            "justify_content": null,
            "_view_module": "@jupyter-widgets/base",
            "overflow": null,
            "_model_module_version": "1.2.0",
            "_view_count": null,
            "flex_flow": null,
            "width": null,
            "min_width": null,
            "border": null,
            "align_items": null,
            "bottom": null,
            "_model_module": "@jupyter-widgets/base",
            "top": null,
            "grid_column": null,
            "overflow_y": null,
            "overflow_x": null,
            "grid_auto_flow": null,
            "grid_area": null,
            "grid_template_columns": null,
            "flex": null,
            "_model_name": "LayoutModel",
            "justify_items": null,
            "grid_row": null,
            "max_height": null,
            "align_content": null,
            "visibility": null,
            "align_self": null,
            "height": null,
            "min_height": null,
            "padding": null,
            "grid_auto_rows": null,
            "grid_gap": null,
            "max_width": null,
            "order": null,
            "_view_module_version": "1.2.0",
            "grid_template_areas": null,
            "object_position": null,
            "object_fit": null,
            "grid_auto_columns": null,
            "margin": null,
            "display": null,
            "left": null
          }
        },
        "0edac15ab1db4dc2b62cbe7cbf41b384": {
          "model_module": "@jupyter-widgets/controls",
          "model_name": "HBoxModel",
          "state": {
            "_view_name": "HBoxView",
            "_dom_classes": [],
            "_model_name": "HBoxModel",
            "_view_module": "@jupyter-widgets/controls",
            "_model_module_version": "1.5.0",
            "_view_count": null,
            "_view_module_version": "1.5.0",
            "box_style": "",
            "layout": "IPY_MODEL_dac7487131d744b8b8e84a2cc9abd14d",
            "_model_module": "@jupyter-widgets/controls",
            "children": [
              "IPY_MODEL_59927093498249e6a3b0653891fc2a97",
              "IPY_MODEL_ddfa9530fe2e429190762d5b5ac5c395"
            ]
          }
        },
        "dac7487131d744b8b8e84a2cc9abd14d": {
          "model_module": "@jupyter-widgets/base",
          "model_name": "LayoutModel",
          "state": {
            "_view_name": "LayoutView",
            "grid_template_rows": null,
            "right": null,
            "justify_content": null,
            "_view_module": "@jupyter-widgets/base",
            "overflow": null,
            "_model_module_version": "1.2.0",
            "_view_count": null,
            "flex_flow": null,
            "width": null,
            "min_width": null,
            "border": null,
            "align_items": null,
            "bottom": null,
            "_model_module": "@jupyter-widgets/base",
            "top": null,
            "grid_column": null,
            "overflow_y": null,
            "overflow_x": null,
            "grid_auto_flow": null,
            "grid_area": null,
            "grid_template_columns": null,
            "flex": null,
            "_model_name": "LayoutModel",
            "justify_items": null,
            "grid_row": null,
            "max_height": null,
            "align_content": null,
            "visibility": null,
            "align_self": null,
            "height": null,
            "min_height": null,
            "padding": null,
            "grid_auto_rows": null,
            "grid_gap": null,
            "max_width": null,
            "order": null,
            "_view_module_version": "1.2.0",
            "grid_template_areas": null,
            "object_position": null,
            "object_fit": null,
            "grid_auto_columns": null,
            "margin": null,
            "display": null,
            "left": null
          }
        },
        "59927093498249e6a3b0653891fc2a97": {
          "model_module": "@jupyter-widgets/controls",
          "model_name": "FloatProgressModel",
          "state": {
            "_view_name": "ProgressView",
            "style": "IPY_MODEL_40d60c795ac34d8fa4c33d1a18a26de8",
            "_dom_classes": [],
            "description": "",
            "_model_name": "FloatProgressModel",
            "bar_style": "info",
            "max": 1,
            "_view_module": "@jupyter-widgets/controls",
            "_model_module_version": "1.5.0",
            "value": 1,
            "_view_count": null,
            "_view_module_version": "1.5.0",
            "orientation": "horizontal",
            "min": 0,
            "description_tooltip": null,
            "_model_module": "@jupyter-widgets/controls",
            "layout": "IPY_MODEL_70b38351715048699543a3c16c4f6474"
          }
        },
        "ddfa9530fe2e429190762d5b5ac5c395": {
          "model_module": "@jupyter-widgets/controls",
          "model_name": "HTMLModel",
          "state": {
            "_view_name": "HTMLView",
            "style": "IPY_MODEL_25f2d43a4b6d43199c8aef77395ff7af",
            "_dom_classes": [],
            "description": "",
            "_model_name": "HTMLModel",
            "placeholder": "​",
            "_view_module": "@jupyter-widgets/controls",
            "_model_module_version": "1.5.0",
            "value": " 14436/0 [00:05&lt;00:00, 2581.64 examples/s]",
            "_view_count": null,
            "_view_module_version": "1.5.0",
            "description_tooltip": null,
            "_model_module": "@jupyter-widgets/controls",
            "layout": "IPY_MODEL_4d5146241a9c49e8be85218bc958743c"
          }
        },
        "40d60c795ac34d8fa4c33d1a18a26de8": {
          "model_module": "@jupyter-widgets/controls",
          "model_name": "ProgressStyleModel",
          "state": {
            "_view_name": "StyleView",
            "_model_name": "ProgressStyleModel",
            "description_width": "initial",
            "_view_module": "@jupyter-widgets/base",
            "_model_module_version": "1.5.0",
            "_view_count": null,
            "_view_module_version": "1.2.0",
            "bar_color": null,
            "_model_module": "@jupyter-widgets/controls"
          }
        },
        "70b38351715048699543a3c16c4f6474": {
          "model_module": "@jupyter-widgets/base",
          "model_name": "LayoutModel",
          "state": {
            "_view_name": "LayoutView",
            "grid_template_rows": null,
            "right": null,
            "justify_content": null,
            "_view_module": "@jupyter-widgets/base",
            "overflow": null,
            "_model_module_version": "1.2.0",
            "_view_count": null,
            "flex_flow": null,
            "width": null,
            "min_width": null,
            "border": null,
            "align_items": null,
            "bottom": null,
            "_model_module": "@jupyter-widgets/base",
            "top": null,
            "grid_column": null,
            "overflow_y": null,
            "overflow_x": null,
            "grid_auto_flow": null,
            "grid_area": null,
            "grid_template_columns": null,
            "flex": null,
            "_model_name": "LayoutModel",
            "justify_items": null,
            "grid_row": null,
            "max_height": null,
            "align_content": null,
            "visibility": null,
            "align_self": null,
            "height": null,
            "min_height": null,
            "padding": null,
            "grid_auto_rows": null,
            "grid_gap": null,
            "max_width": null,
            "order": null,
            "_view_module_version": "1.2.0",
            "grid_template_areas": null,
            "object_position": null,
            "object_fit": null,
            "grid_auto_columns": null,
            "margin": null,
            "display": null,
            "left": null
          }
        },
        "25f2d43a4b6d43199c8aef77395ff7af": {
          "model_module": "@jupyter-widgets/controls",
          "model_name": "DescriptionStyleModel",
          "state": {
            "_view_name": "StyleView",
            "_model_name": "DescriptionStyleModel",
            "description_width": "",
            "_view_module": "@jupyter-widgets/base",
            "_model_module_version": "1.5.0",
            "_view_count": null,
            "_view_module_version": "1.2.0",
            "_model_module": "@jupyter-widgets/controls"
          }
        },
        "4d5146241a9c49e8be85218bc958743c": {
          "model_module": "@jupyter-widgets/base",
          "model_name": "LayoutModel",
          "state": {
            "_view_name": "LayoutView",
            "grid_template_rows": null,
            "right": null,
            "justify_content": null,
            "_view_module": "@jupyter-widgets/base",
            "overflow": null,
            "_model_module_version": "1.2.0",
            "_view_count": null,
            "flex_flow": null,
            "width": null,
            "min_width": null,
            "border": null,
            "align_items": null,
            "bottom": null,
            "_model_module": "@jupyter-widgets/base",
            "top": null,
            "grid_column": null,
            "overflow_y": null,
            "overflow_x": null,
            "grid_auto_flow": null,
            "grid_area": null,
            "grid_template_columns": null,
            "flex": null,
            "_model_name": "LayoutModel",
            "justify_items": null,
            "grid_row": null,
            "max_height": null,
            "align_content": null,
            "visibility": null,
            "align_self": null,
            "height": null,
            "min_height": null,
            "padding": null,
            "grid_auto_rows": null,
            "grid_gap": null,
            "max_width": null,
            "order": null,
            "_view_module_version": "1.2.0",
            "grid_template_areas": null,
            "object_position": null,
            "object_fit": null,
            "grid_auto_columns": null,
            "margin": null,
            "display": null,
            "left": null
          }
        },
        "6586874063224c5c82e0863848174c4f": {
          "model_module": "@jupyter-widgets/controls",
          "model_name": "HBoxModel",
          "state": {
            "_view_name": "HBoxView",
            "_dom_classes": [],
            "_model_name": "HBoxModel",
            "_view_module": "@jupyter-widgets/controls",
            "_model_module_version": "1.5.0",
            "_view_count": null,
            "_view_module_version": "1.5.0",
            "box_style": "",
            "layout": "IPY_MODEL_d7aa70016b314a73a4e631d1b03e8b85",
            "_model_module": "@jupyter-widgets/controls",
            "children": [
              "IPY_MODEL_836dc6f227114c97a7578dc1a98321d8",
              "IPY_MODEL_147bdc35069047789c848915bfe16df7"
            ]
          }
        },
        "d7aa70016b314a73a4e631d1b03e8b85": {
          "model_module": "@jupyter-widgets/base",
          "model_name": "LayoutModel",
          "state": {
            "_view_name": "LayoutView",
            "grid_template_rows": null,
            "right": null,
            "justify_content": null,
            "_view_module": "@jupyter-widgets/base",
            "overflow": null,
            "_model_module_version": "1.2.0",
            "_view_count": null,
            "flex_flow": null,
            "width": null,
            "min_width": null,
            "border": null,
            "align_items": null,
            "bottom": null,
            "_model_module": "@jupyter-widgets/base",
            "top": null,
            "grid_column": null,
            "overflow_y": null,
            "overflow_x": null,
            "grid_auto_flow": null,
            "grid_area": null,
            "grid_template_columns": null,
            "flex": null,
            "_model_name": "LayoutModel",
            "justify_items": null,
            "grid_row": null,
            "max_height": null,
            "align_content": null,
            "visibility": null,
            "align_self": null,
            "height": null,
            "min_height": null,
            "padding": null,
            "grid_auto_rows": null,
            "grid_gap": null,
            "max_width": null,
            "order": null,
            "_view_module_version": "1.2.0",
            "grid_template_areas": null,
            "object_position": null,
            "object_fit": null,
            "grid_auto_columns": null,
            "margin": null,
            "display": null,
            "left": null
          }
        },
        "836dc6f227114c97a7578dc1a98321d8": {
          "model_module": "@jupyter-widgets/controls",
          "model_name": "FloatProgressModel",
          "state": {
            "_view_name": "ProgressView",
            "style": "IPY_MODEL_6a0b2ed05d244c95bc3efb49bd8ca5ae",
            "_dom_classes": [],
            "description": "  0%",
            "_model_name": "FloatProgressModel",
            "bar_style": "danger",
            "max": 14436,
            "_view_module": "@jupyter-widgets/controls",
            "_model_module_version": "1.5.0",
            "value": 0,
            "_view_count": null,
            "_view_module_version": "1.5.0",
            "orientation": "horizontal",
            "min": 0,
            "description_tooltip": null,
            "_model_module": "@jupyter-widgets/controls",
            "layout": "IPY_MODEL_d4b6f3567f0a4646909ffd9d5fb898a1"
          }
        },
        "147bdc35069047789c848915bfe16df7": {
          "model_module": "@jupyter-widgets/controls",
          "model_name": "HTMLModel",
          "state": {
            "_view_name": "HTMLView",
            "style": "IPY_MODEL_1c3f05a3245e4b03b63a9d672921444d",
            "_dom_classes": [],
            "description": "",
            "_model_name": "HTMLModel",
            "placeholder": "​",
            "_view_module": "@jupyter-widgets/controls",
            "_model_module_version": "1.5.0",
            "value": " 0/14436 [00:00&lt;?, ? examples/s]",
            "_view_count": null,
            "_view_module_version": "1.5.0",
            "description_tooltip": null,
            "_model_module": "@jupyter-widgets/controls",
            "layout": "IPY_MODEL_9094202db6594fe4befc707611f7e87f"
          }
        },
        "6a0b2ed05d244c95bc3efb49bd8ca5ae": {
          "model_module": "@jupyter-widgets/controls",
          "model_name": "ProgressStyleModel",
          "state": {
            "_view_name": "StyleView",
            "_model_name": "ProgressStyleModel",
            "description_width": "initial",
            "_view_module": "@jupyter-widgets/base",
            "_model_module_version": "1.5.0",
            "_view_count": null,
            "_view_module_version": "1.2.0",
            "bar_color": null,
            "_model_module": "@jupyter-widgets/controls"
          }
        },
        "d4b6f3567f0a4646909ffd9d5fb898a1": {
          "model_module": "@jupyter-widgets/base",
          "model_name": "LayoutModel",
          "state": {
            "_view_name": "LayoutView",
            "grid_template_rows": null,
            "right": null,
            "justify_content": null,
            "_view_module": "@jupyter-widgets/base",
            "overflow": null,
            "_model_module_version": "1.2.0",
            "_view_count": null,
            "flex_flow": null,
            "width": null,
            "min_width": null,
            "border": null,
            "align_items": null,
            "bottom": null,
            "_model_module": "@jupyter-widgets/base",
            "top": null,
            "grid_column": null,
            "overflow_y": null,
            "overflow_x": null,
            "grid_auto_flow": null,
            "grid_area": null,
            "grid_template_columns": null,
            "flex": null,
            "_model_name": "LayoutModel",
            "justify_items": null,
            "grid_row": null,
            "max_height": null,
            "align_content": null,
            "visibility": null,
            "align_self": null,
            "height": null,
            "min_height": null,
            "padding": null,
            "grid_auto_rows": null,
            "grid_gap": null,
            "max_width": null,
            "order": null,
            "_view_module_version": "1.2.0",
            "grid_template_areas": null,
            "object_position": null,
            "object_fit": null,
            "grid_auto_columns": null,
            "margin": null,
            "display": null,
            "left": null
          }
        },
        "1c3f05a3245e4b03b63a9d672921444d": {
          "model_module": "@jupyter-widgets/controls",
          "model_name": "DescriptionStyleModel",
          "state": {
            "_view_name": "StyleView",
            "_model_name": "DescriptionStyleModel",
            "description_width": "",
            "_view_module": "@jupyter-widgets/base",
            "_model_module_version": "1.5.0",
            "_view_count": null,
            "_view_module_version": "1.2.0",
            "_model_module": "@jupyter-widgets/controls"
          }
        },
        "9094202db6594fe4befc707611f7e87f": {
          "model_module": "@jupyter-widgets/base",
          "model_name": "LayoutModel",
          "state": {
            "_view_name": "LayoutView",
            "grid_template_rows": null,
            "right": null,
            "justify_content": null,
            "_view_module": "@jupyter-widgets/base",
            "overflow": null,
            "_model_module_version": "1.2.0",
            "_view_count": null,
            "flex_flow": null,
            "width": null,
            "min_width": null,
            "border": null,
            "align_items": null,
            "bottom": null,
            "_model_module": "@jupyter-widgets/base",
            "top": null,
            "grid_column": null,
            "overflow_y": null,
            "overflow_x": null,
            "grid_auto_flow": null,
            "grid_area": null,
            "grid_template_columns": null,
            "flex": null,
            "_model_name": "LayoutModel",
            "justify_items": null,
            "grid_row": null,
            "max_height": null,
            "align_content": null,
            "visibility": null,
            "align_self": null,
            "height": null,
            "min_height": null,
            "padding": null,
            "grid_auto_rows": null,
            "grid_gap": null,
            "max_width": null,
            "order": null,
            "_view_module_version": "1.2.0",
            "grid_template_areas": null,
            "object_position": null,
            "object_fit": null,
            "grid_auto_columns": null,
            "margin": null,
            "display": null,
            "left": null
          }
        },
        "f2b0182887d844b98417ff3a1a287598": {
          "model_module": "@jupyter-widgets/controls",
          "model_name": "HBoxModel",
          "state": {
            "_view_name": "HBoxView",
            "_dom_classes": [],
            "_model_name": "HBoxModel",
            "_view_module": "@jupyter-widgets/controls",
            "_model_module_version": "1.5.0",
            "_view_count": null,
            "_view_module_version": "1.5.0",
            "box_style": "",
            "layout": "IPY_MODEL_e574ab00ba264e71bce74e5e5e869958",
            "_model_module": "@jupyter-widgets/controls",
            "children": [
              "IPY_MODEL_7e5832f863a54b4198b263a1f705e2a5",
              "IPY_MODEL_4aa3aae232ff4bc1a2f4e4fcbcc401e4"
            ]
          }
        },
        "e574ab00ba264e71bce74e5e5e869958": {
          "model_module": "@jupyter-widgets/base",
          "model_name": "LayoutModel",
          "state": {
            "_view_name": "LayoutView",
            "grid_template_rows": null,
            "right": null,
            "justify_content": null,
            "_view_module": "@jupyter-widgets/base",
            "overflow": null,
            "_model_module_version": "1.2.0",
            "_view_count": null,
            "flex_flow": null,
            "width": null,
            "min_width": null,
            "border": null,
            "align_items": null,
            "bottom": null,
            "_model_module": "@jupyter-widgets/base",
            "top": null,
            "grid_column": null,
            "overflow_y": null,
            "overflow_x": null,
            "grid_auto_flow": null,
            "grid_area": null,
            "grid_template_columns": null,
            "flex": null,
            "_model_name": "LayoutModel",
            "justify_items": null,
            "grid_row": null,
            "max_height": null,
            "align_content": null,
            "visibility": null,
            "align_self": null,
            "height": null,
            "min_height": null,
            "padding": null,
            "grid_auto_rows": null,
            "grid_gap": null,
            "max_width": null,
            "order": null,
            "_view_module_version": "1.2.0",
            "grid_template_areas": null,
            "object_position": null,
            "object_fit": null,
            "grid_auto_columns": null,
            "margin": null,
            "display": null,
            "left": null
          }
        },
        "7e5832f863a54b4198b263a1f705e2a5": {
          "model_module": "@jupyter-widgets/controls",
          "model_name": "FloatProgressModel",
          "state": {
            "_view_name": "ProgressView",
            "style": "IPY_MODEL_10a052c6914e42f1be2cffe10bd90c1b",
            "_dom_classes": [],
            "description": "",
            "_model_name": "FloatProgressModel",
            "bar_style": "info",
            "max": 1,
            "_view_module": "@jupyter-widgets/controls",
            "_model_module_version": "1.5.0",
            "value": 1,
            "_view_count": null,
            "_view_module_version": "1.5.0",
            "orientation": "horizontal",
            "min": 0,
            "description_tooltip": null,
            "_model_module": "@jupyter-widgets/controls",
            "layout": "IPY_MODEL_e6b2744bcef24d558c863a4413af3ef0"
          }
        },
        "4aa3aae232ff4bc1a2f4e4fcbcc401e4": {
          "model_module": "@jupyter-widgets/controls",
          "model_name": "HTMLModel",
          "state": {
            "_view_name": "HTMLView",
            "style": "IPY_MODEL_8670cb0d70e740c99acaa5a496280976",
            "_dom_classes": [],
            "description": "",
            "_model_name": "HTMLModel",
            "placeholder": "​",
            "_view_module": "@jupyter-widgets/controls",
            "_model_module_version": "1.5.0",
            "value": " 1960/0 [00:00&lt;00:00, 2039.37 examples/s]",
            "_view_count": null,
            "_view_module_version": "1.5.0",
            "description_tooltip": null,
            "_model_module": "@jupyter-widgets/controls",
            "layout": "IPY_MODEL_c284f2d0a9454610a30c3204c267ca3a"
          }
        },
        "10a052c6914e42f1be2cffe10bd90c1b": {
          "model_module": "@jupyter-widgets/controls",
          "model_name": "ProgressStyleModel",
          "state": {
            "_view_name": "StyleView",
            "_model_name": "ProgressStyleModel",
            "description_width": "initial",
            "_view_module": "@jupyter-widgets/base",
            "_model_module_version": "1.5.0",
            "_view_count": null,
            "_view_module_version": "1.2.0",
            "bar_color": null,
            "_model_module": "@jupyter-widgets/controls"
          }
        },
        "e6b2744bcef24d558c863a4413af3ef0": {
          "model_module": "@jupyter-widgets/base",
          "model_name": "LayoutModel",
          "state": {
            "_view_name": "LayoutView",
            "grid_template_rows": null,
            "right": null,
            "justify_content": null,
            "_view_module": "@jupyter-widgets/base",
            "overflow": null,
            "_model_module_version": "1.2.0",
            "_view_count": null,
            "flex_flow": null,
            "width": null,
            "min_width": null,
            "border": null,
            "align_items": null,
            "bottom": null,
            "_model_module": "@jupyter-widgets/base",
            "top": null,
            "grid_column": null,
            "overflow_y": null,
            "overflow_x": null,
            "grid_auto_flow": null,
            "grid_area": null,
            "grid_template_columns": null,
            "flex": null,
            "_model_name": "LayoutModel",
            "justify_items": null,
            "grid_row": null,
            "max_height": null,
            "align_content": null,
            "visibility": null,
            "align_self": null,
            "height": null,
            "min_height": null,
            "padding": null,
            "grid_auto_rows": null,
            "grid_gap": null,
            "max_width": null,
            "order": null,
            "_view_module_version": "1.2.0",
            "grid_template_areas": null,
            "object_position": null,
            "object_fit": null,
            "grid_auto_columns": null,
            "margin": null,
            "display": null,
            "left": null
          }
        },
        "8670cb0d70e740c99acaa5a496280976": {
          "model_module": "@jupyter-widgets/controls",
          "model_name": "DescriptionStyleModel",
          "state": {
            "_view_name": "StyleView",
            "_model_name": "DescriptionStyleModel",
            "description_width": "",
            "_view_module": "@jupyter-widgets/base",
            "_model_module_version": "1.5.0",
            "_view_count": null,
            "_view_module_version": "1.2.0",
            "_model_module": "@jupyter-widgets/controls"
          }
        },
        "c284f2d0a9454610a30c3204c267ca3a": {
          "model_module": "@jupyter-widgets/base",
          "model_name": "LayoutModel",
          "state": {
            "_view_name": "LayoutView",
            "grid_template_rows": null,
            "right": null,
            "justify_content": null,
            "_view_module": "@jupyter-widgets/base",
            "overflow": null,
            "_model_module_version": "1.2.0",
            "_view_count": null,
            "flex_flow": null,
            "width": null,
            "min_width": null,
            "border": null,
            "align_items": null,
            "bottom": null,
            "_model_module": "@jupyter-widgets/base",
            "top": null,
            "grid_column": null,
            "overflow_y": null,
            "overflow_x": null,
            "grid_auto_flow": null,
            "grid_area": null,
            "grid_template_columns": null,
            "flex": null,
            "_model_name": "LayoutModel",
            "justify_items": null,
            "grid_row": null,
            "max_height": null,
            "align_content": null,
            "visibility": null,
            "align_self": null,
            "height": null,
            "min_height": null,
            "padding": null,
            "grid_auto_rows": null,
            "grid_gap": null,
            "max_width": null,
            "order": null,
            "_view_module_version": "1.2.0",
            "grid_template_areas": null,
            "object_position": null,
            "object_fit": null,
            "grid_auto_columns": null,
            "margin": null,
            "display": null,
            "left": null
          }
        },
        "a26eac41a9114f38bab952be36908311": {
          "model_module": "@jupyter-widgets/controls",
          "model_name": "HBoxModel",
          "state": {
            "_view_name": "HBoxView",
            "_dom_classes": [],
            "_model_name": "HBoxModel",
            "_view_module": "@jupyter-widgets/controls",
            "_model_module_version": "1.5.0",
            "_view_count": null,
            "_view_module_version": "1.5.0",
            "box_style": "",
            "layout": "IPY_MODEL_4ed70ed4887d4b0bb419b73614aef4e8",
            "_model_module": "@jupyter-widgets/controls",
            "children": [
              "IPY_MODEL_b96a8b4cf1964f459a4c22714ee29f3e",
              "IPY_MODEL_9125daa80b4b44a5972b3c117642af52"
            ]
          }
        },
        "4ed70ed4887d4b0bb419b73614aef4e8": {
          "model_module": "@jupyter-widgets/base",
          "model_name": "LayoutModel",
          "state": {
            "_view_name": "LayoutView",
            "grid_template_rows": null,
            "right": null,
            "justify_content": null,
            "_view_module": "@jupyter-widgets/base",
            "overflow": null,
            "_model_module_version": "1.2.0",
            "_view_count": null,
            "flex_flow": null,
            "width": null,
            "min_width": null,
            "border": null,
            "align_items": null,
            "bottom": null,
            "_model_module": "@jupyter-widgets/base",
            "top": null,
            "grid_column": null,
            "overflow_y": null,
            "overflow_x": null,
            "grid_auto_flow": null,
            "grid_area": null,
            "grid_template_columns": null,
            "flex": null,
            "_model_name": "LayoutModel",
            "justify_items": null,
            "grid_row": null,
            "max_height": null,
            "align_content": null,
            "visibility": null,
            "align_self": null,
            "height": null,
            "min_height": null,
            "padding": null,
            "grid_auto_rows": null,
            "grid_gap": null,
            "max_width": null,
            "order": null,
            "_view_module_version": "1.2.0",
            "grid_template_areas": null,
            "object_position": null,
            "object_fit": null,
            "grid_auto_columns": null,
            "margin": null,
            "display": null,
            "left": null
          }
        },
        "b96a8b4cf1964f459a4c22714ee29f3e": {
          "model_module": "@jupyter-widgets/controls",
          "model_name": "FloatProgressModel",
          "state": {
            "_view_name": "ProgressView",
            "style": "IPY_MODEL_d939e2c85cd148a88b77f878028eaeb3",
            "_dom_classes": [],
            "description": "  0%",
            "_model_name": "FloatProgressModel",
            "bar_style": "danger",
            "max": 1960,
            "_view_module": "@jupyter-widgets/controls",
            "_model_module_version": "1.5.0",
            "value": 0,
            "_view_count": null,
            "_view_module_version": "1.5.0",
            "orientation": "horizontal",
            "min": 0,
            "description_tooltip": null,
            "_model_module": "@jupyter-widgets/controls",
            "layout": "IPY_MODEL_20fddf7ad0f14aea91e6d46d0e03764d"
          }
        },
        "9125daa80b4b44a5972b3c117642af52": {
          "model_module": "@jupyter-widgets/controls",
          "model_name": "HTMLModel",
          "state": {
            "_view_name": "HTMLView",
            "style": "IPY_MODEL_af7ef409cb6844c3be681b994d8845be",
            "_dom_classes": [],
            "description": "",
            "_model_name": "HTMLModel",
            "placeholder": "​",
            "_view_module": "@jupyter-widgets/controls",
            "_model_module_version": "1.5.0",
            "value": " 0/1960 [00:00&lt;?, ? examples/s]",
            "_view_count": null,
            "_view_module_version": "1.5.0",
            "description_tooltip": null,
            "_model_module": "@jupyter-widgets/controls",
            "layout": "IPY_MODEL_fc4b39f53bfb4690b7ce8c5d15c62ae5"
          }
        },
        "d939e2c85cd148a88b77f878028eaeb3": {
          "model_module": "@jupyter-widgets/controls",
          "model_name": "ProgressStyleModel",
          "state": {
            "_view_name": "StyleView",
            "_model_name": "ProgressStyleModel",
            "description_width": "initial",
            "_view_module": "@jupyter-widgets/base",
            "_model_module_version": "1.5.0",
            "_view_count": null,
            "_view_module_version": "1.2.0",
            "bar_color": null,
            "_model_module": "@jupyter-widgets/controls"
          }
        },
        "20fddf7ad0f14aea91e6d46d0e03764d": {
          "model_module": "@jupyter-widgets/base",
          "model_name": "LayoutModel",
          "state": {
            "_view_name": "LayoutView",
            "grid_template_rows": null,
            "right": null,
            "justify_content": null,
            "_view_module": "@jupyter-widgets/base",
            "overflow": null,
            "_model_module_version": "1.2.0",
            "_view_count": null,
            "flex_flow": null,
            "width": null,
            "min_width": null,
            "border": null,
            "align_items": null,
            "bottom": null,
            "_model_module": "@jupyter-widgets/base",
            "top": null,
            "grid_column": null,
            "overflow_y": null,
            "overflow_x": null,
            "grid_auto_flow": null,
            "grid_area": null,
            "grid_template_columns": null,
            "flex": null,
            "_model_name": "LayoutModel",
            "justify_items": null,
            "grid_row": null,
            "max_height": null,
            "align_content": null,
            "visibility": null,
            "align_self": null,
            "height": null,
            "min_height": null,
            "padding": null,
            "grid_auto_rows": null,
            "grid_gap": null,
            "max_width": null,
            "order": null,
            "_view_module_version": "1.2.0",
            "grid_template_areas": null,
            "object_position": null,
            "object_fit": null,
            "grid_auto_columns": null,
            "margin": null,
            "display": null,
            "left": null
          }
        },
        "af7ef409cb6844c3be681b994d8845be": {
          "model_module": "@jupyter-widgets/controls",
          "model_name": "DescriptionStyleModel",
          "state": {
            "_view_name": "StyleView",
            "_model_name": "DescriptionStyleModel",
            "description_width": "",
            "_view_module": "@jupyter-widgets/base",
            "_model_module_version": "1.5.0",
            "_view_count": null,
            "_view_module_version": "1.2.0",
            "_model_module": "@jupyter-widgets/controls"
          }
        },
        "fc4b39f53bfb4690b7ce8c5d15c62ae5": {
          "model_module": "@jupyter-widgets/base",
          "model_name": "LayoutModel",
          "state": {
            "_view_name": "LayoutView",
            "grid_template_rows": null,
            "right": null,
            "justify_content": null,
            "_view_module": "@jupyter-widgets/base",
            "overflow": null,
            "_model_module_version": "1.2.0",
            "_view_count": null,
            "flex_flow": null,
            "width": null,
            "min_width": null,
            "border": null,
            "align_items": null,
            "bottom": null,
            "_model_module": "@jupyter-widgets/base",
            "top": null,
            "grid_column": null,
            "overflow_y": null,
            "overflow_x": null,
            "grid_auto_flow": null,
            "grid_area": null,
            "grid_template_columns": null,
            "flex": null,
            "_model_name": "LayoutModel",
            "justify_items": null,
            "grid_row": null,
            "max_height": null,
            "align_content": null,
            "visibility": null,
            "align_self": null,
            "height": null,
            "min_height": null,
            "padding": null,
            "grid_auto_rows": null,
            "grid_gap": null,
            "max_width": null,
            "order": null,
            "_view_module_version": "1.2.0",
            "grid_template_areas": null,
            "object_position": null,
            "object_fit": null,
            "grid_auto_columns": null,
            "margin": null,
            "display": null,
            "left": null
          }
        },
        "ad65ae7aadb14ec09d45f6dc18ba4b21": {
          "model_module": "@jupyter-widgets/controls",
          "model_name": "HBoxModel",
          "state": {
            "_view_name": "HBoxView",
            "_dom_classes": [],
            "_model_name": "HBoxModel",
            "_view_module": "@jupyter-widgets/controls",
            "_model_module_version": "1.5.0",
            "_view_count": null,
            "_view_module_version": "1.5.0",
            "box_style": "",
            "layout": "IPY_MODEL_a954485792a542de99f8ed8aa34373f2",
            "_model_module": "@jupyter-widgets/controls",
            "children": [
              "IPY_MODEL_5631f25cc64748aa91502957c7525276",
              "IPY_MODEL_705f8c85c6fe4f6b86b1d83d49a8da31"
            ]
          }
        },
        "a954485792a542de99f8ed8aa34373f2": {
          "model_module": "@jupyter-widgets/base",
          "model_name": "LayoutModel",
          "state": {
            "_view_name": "LayoutView",
            "grid_template_rows": null,
            "right": null,
            "justify_content": null,
            "_view_module": "@jupyter-widgets/base",
            "overflow": null,
            "_model_module_version": "1.2.0",
            "_view_count": null,
            "flex_flow": null,
            "width": null,
            "min_width": null,
            "border": null,
            "align_items": null,
            "bottom": null,
            "_model_module": "@jupyter-widgets/base",
            "top": null,
            "grid_column": null,
            "overflow_y": null,
            "overflow_x": null,
            "grid_auto_flow": null,
            "grid_area": null,
            "grid_template_columns": null,
            "flex": null,
            "_model_name": "LayoutModel",
            "justify_items": null,
            "grid_row": null,
            "max_height": null,
            "align_content": null,
            "visibility": null,
            "align_self": null,
            "height": null,
            "min_height": null,
            "padding": null,
            "grid_auto_rows": null,
            "grid_gap": null,
            "max_width": null,
            "order": null,
            "_view_module_version": "1.2.0",
            "grid_template_areas": null,
            "object_position": null,
            "object_fit": null,
            "grid_auto_columns": null,
            "margin": null,
            "display": null,
            "left": null
          }
        },
        "5631f25cc64748aa91502957c7525276": {
          "model_module": "@jupyter-widgets/controls",
          "model_name": "FloatProgressModel",
          "state": {
            "_view_name": "ProgressView",
            "style": "IPY_MODEL_50b3795a37d649dd8e1e8d6216941fab",
            "_dom_classes": [],
            "description": "",
            "_model_name": "FloatProgressModel",
            "bar_style": "info",
            "max": 1,
            "_view_module": "@jupyter-widgets/controls",
            "_model_module_version": "1.5.0",
            "value": 1,
            "_view_count": null,
            "_view_module_version": "1.5.0",
            "orientation": "horizontal",
            "min": 0,
            "description_tooltip": null,
            "_model_module": "@jupyter-widgets/controls",
            "layout": "IPY_MODEL_fc844705d99e48ff94dae21c037286c9"
          }
        },
        "705f8c85c6fe4f6b86b1d83d49a8da31": {
          "model_module": "@jupyter-widgets/controls",
          "model_name": "HTMLModel",
          "state": {
            "_view_name": "HTMLView",
            "style": "IPY_MODEL_30ab01d46e1a458b87f3ccfb04bfc323",
            "_dom_classes": [],
            "description": "",
            "_model_name": "HTMLModel",
            "placeholder": "​",
            "_view_module": "@jupyter-widgets/controls",
            "_model_module_version": "1.5.0",
            "value": " 1906/0 [00:00&lt;00:00, 2265.72 examples/s]",
            "_view_count": null,
            "_view_module_version": "1.5.0",
            "description_tooltip": null,
            "_model_module": "@jupyter-widgets/controls",
            "layout": "IPY_MODEL_64a8b002786d47b9a12fe683015ef459"
          }
        },
        "50b3795a37d649dd8e1e8d6216941fab": {
          "model_module": "@jupyter-widgets/controls",
          "model_name": "ProgressStyleModel",
          "state": {
            "_view_name": "StyleView",
            "_model_name": "ProgressStyleModel",
            "description_width": "initial",
            "_view_module": "@jupyter-widgets/base",
            "_model_module_version": "1.5.0",
            "_view_count": null,
            "_view_module_version": "1.2.0",
            "bar_color": null,
            "_model_module": "@jupyter-widgets/controls"
          }
        },
        "fc844705d99e48ff94dae21c037286c9": {
          "model_module": "@jupyter-widgets/base",
          "model_name": "LayoutModel",
          "state": {
            "_view_name": "LayoutView",
            "grid_template_rows": null,
            "right": null,
            "justify_content": null,
            "_view_module": "@jupyter-widgets/base",
            "overflow": null,
            "_model_module_version": "1.2.0",
            "_view_count": null,
            "flex_flow": null,
            "width": null,
            "min_width": null,
            "border": null,
            "align_items": null,
            "bottom": null,
            "_model_module": "@jupyter-widgets/base",
            "top": null,
            "grid_column": null,
            "overflow_y": null,
            "overflow_x": null,
            "grid_auto_flow": null,
            "grid_area": null,
            "grid_template_columns": null,
            "flex": null,
            "_model_name": "LayoutModel",
            "justify_items": null,
            "grid_row": null,
            "max_height": null,
            "align_content": null,
            "visibility": null,
            "align_self": null,
            "height": null,
            "min_height": null,
            "padding": null,
            "grid_auto_rows": null,
            "grid_gap": null,
            "max_width": null,
            "order": null,
            "_view_module_version": "1.2.0",
            "grid_template_areas": null,
            "object_position": null,
            "object_fit": null,
            "grid_auto_columns": null,
            "margin": null,
            "display": null,
            "left": null
          }
        },
        "30ab01d46e1a458b87f3ccfb04bfc323": {
          "model_module": "@jupyter-widgets/controls",
          "model_name": "DescriptionStyleModel",
          "state": {
            "_view_name": "StyleView",
            "_model_name": "DescriptionStyleModel",
            "description_width": "",
            "_view_module": "@jupyter-widgets/base",
            "_model_module_version": "1.5.0",
            "_view_count": null,
            "_view_module_version": "1.2.0",
            "_model_module": "@jupyter-widgets/controls"
          }
        },
        "64a8b002786d47b9a12fe683015ef459": {
          "model_module": "@jupyter-widgets/base",
          "model_name": "LayoutModel",
          "state": {
            "_view_name": "LayoutView",
            "grid_template_rows": null,
            "right": null,
            "justify_content": null,
            "_view_module": "@jupyter-widgets/base",
            "overflow": null,
            "_model_module_version": "1.2.0",
            "_view_count": null,
            "flex_flow": null,
            "width": null,
            "min_width": null,
            "border": null,
            "align_items": null,
            "bottom": null,
            "_model_module": "@jupyter-widgets/base",
            "top": null,
            "grid_column": null,
            "overflow_y": null,
            "overflow_x": null,
            "grid_auto_flow": null,
            "grid_area": null,
            "grid_template_columns": null,
            "flex": null,
            "_model_name": "LayoutModel",
            "justify_items": null,
            "grid_row": null,
            "max_height": null,
            "align_content": null,
            "visibility": null,
            "align_self": null,
            "height": null,
            "min_height": null,
            "padding": null,
            "grid_auto_rows": null,
            "grid_gap": null,
            "max_width": null,
            "order": null,
            "_view_module_version": "1.2.0",
            "grid_template_areas": null,
            "object_position": null,
            "object_fit": null,
            "grid_auto_columns": null,
            "margin": null,
            "display": null,
            "left": null
          }
        },
        "90c2d468461b44bcb3512a89cb37b532": {
          "model_module": "@jupyter-widgets/controls",
          "model_name": "HBoxModel",
          "state": {
            "_view_name": "HBoxView",
            "_dom_classes": [],
            "_model_name": "HBoxModel",
            "_view_module": "@jupyter-widgets/controls",
            "_model_module_version": "1.5.0",
            "_view_count": null,
            "_view_module_version": "1.5.0",
            "box_style": "",
            "layout": "IPY_MODEL_bc39c23bba5f42bb95716071d5b9f6c8",
            "_model_module": "@jupyter-widgets/controls",
            "children": [
              "IPY_MODEL_517c1c152d724abc9274a4e9cbd8d249",
              "IPY_MODEL_e62e3590e2634c67b094e754f0894de5"
            ]
          }
        },
        "bc39c23bba5f42bb95716071d5b9f6c8": {
          "model_module": "@jupyter-widgets/base",
          "model_name": "LayoutModel",
          "state": {
            "_view_name": "LayoutView",
            "grid_template_rows": null,
            "right": null,
            "justify_content": null,
            "_view_module": "@jupyter-widgets/base",
            "overflow": null,
            "_model_module_version": "1.2.0",
            "_view_count": null,
            "flex_flow": null,
            "width": null,
            "min_width": null,
            "border": null,
            "align_items": null,
            "bottom": null,
            "_model_module": "@jupyter-widgets/base",
            "top": null,
            "grid_column": null,
            "overflow_y": null,
            "overflow_x": null,
            "grid_auto_flow": null,
            "grid_area": null,
            "grid_template_columns": null,
            "flex": null,
            "_model_name": "LayoutModel",
            "justify_items": null,
            "grid_row": null,
            "max_height": null,
            "align_content": null,
            "visibility": null,
            "align_self": null,
            "height": null,
            "min_height": null,
            "padding": null,
            "grid_auto_rows": null,
            "grid_gap": null,
            "max_width": null,
            "order": null,
            "_view_module_version": "1.2.0",
            "grid_template_areas": null,
            "object_position": null,
            "object_fit": null,
            "grid_auto_columns": null,
            "margin": null,
            "display": null,
            "left": null
          }
        },
        "517c1c152d724abc9274a4e9cbd8d249": {
          "model_module": "@jupyter-widgets/controls",
          "model_name": "FloatProgressModel",
          "state": {
            "_view_name": "ProgressView",
            "style": "IPY_MODEL_95bd44ddeb10474c84e09f7a5b9623c9",
            "_dom_classes": [],
            "description": "  0%",
            "_model_name": "FloatProgressModel",
            "bar_style": "danger",
            "max": 1906,
            "_view_module": "@jupyter-widgets/controls",
            "_model_module_version": "1.5.0",
            "value": 0,
            "_view_count": null,
            "_view_module_version": "1.5.0",
            "orientation": "horizontal",
            "min": 0,
            "description_tooltip": null,
            "_model_module": "@jupyter-widgets/controls",
            "layout": "IPY_MODEL_2e13963e76b44ae280dd918d32a9244c"
          }
        },
        "e62e3590e2634c67b094e754f0894de5": {
          "model_module": "@jupyter-widgets/controls",
          "model_name": "HTMLModel",
          "state": {
            "_view_name": "HTMLView",
            "style": "IPY_MODEL_b07c5f4f3af5426a9b82f45f03e58883",
            "_dom_classes": [],
            "description": "",
            "_model_name": "HTMLModel",
            "placeholder": "​",
            "_view_module": "@jupyter-widgets/controls",
            "_model_module_version": "1.5.0",
            "value": " 0/1906 [00:00&lt;?, ? examples/s]",
            "_view_count": null,
            "_view_module_version": "1.5.0",
            "description_tooltip": null,
            "_model_module": "@jupyter-widgets/controls",
            "layout": "IPY_MODEL_15a08f100a954c31b47286f520f04bd1"
          }
        },
        "95bd44ddeb10474c84e09f7a5b9623c9": {
          "model_module": "@jupyter-widgets/controls",
          "model_name": "ProgressStyleModel",
          "state": {
            "_view_name": "StyleView",
            "_model_name": "ProgressStyleModel",
            "description_width": "initial",
            "_view_module": "@jupyter-widgets/base",
            "_model_module_version": "1.5.0",
            "_view_count": null,
            "_view_module_version": "1.2.0",
            "bar_color": null,
            "_model_module": "@jupyter-widgets/controls"
          }
        },
        "2e13963e76b44ae280dd918d32a9244c": {
          "model_module": "@jupyter-widgets/base",
          "model_name": "LayoutModel",
          "state": {
            "_view_name": "LayoutView",
            "grid_template_rows": null,
            "right": null,
            "justify_content": null,
            "_view_module": "@jupyter-widgets/base",
            "overflow": null,
            "_model_module_version": "1.2.0",
            "_view_count": null,
            "flex_flow": null,
            "width": null,
            "min_width": null,
            "border": null,
            "align_items": null,
            "bottom": null,
            "_model_module": "@jupyter-widgets/base",
            "top": null,
            "grid_column": null,
            "overflow_y": null,
            "overflow_x": null,
            "grid_auto_flow": null,
            "grid_area": null,
            "grid_template_columns": null,
            "flex": null,
            "_model_name": "LayoutModel",
            "justify_items": null,
            "grid_row": null,
            "max_height": null,
            "align_content": null,
            "visibility": null,
            "align_self": null,
            "height": null,
            "min_height": null,
            "padding": null,
            "grid_auto_rows": null,
            "grid_gap": null,
            "max_width": null,
            "order": null,
            "_view_module_version": "1.2.0",
            "grid_template_areas": null,
            "object_position": null,
            "object_fit": null,
            "grid_auto_columns": null,
            "margin": null,
            "display": null,
            "left": null
          }
        },
        "b07c5f4f3af5426a9b82f45f03e58883": {
          "model_module": "@jupyter-widgets/controls",
          "model_name": "DescriptionStyleModel",
          "state": {
            "_view_name": "StyleView",
            "_model_name": "DescriptionStyleModel",
            "description_width": "",
            "_view_module": "@jupyter-widgets/base",
            "_model_module_version": "1.5.0",
            "_view_count": null,
            "_view_module_version": "1.2.0",
            "_model_module": "@jupyter-widgets/controls"
          }
        },
        "15a08f100a954c31b47286f520f04bd1": {
          "model_module": "@jupyter-widgets/base",
          "model_name": "LayoutModel",
          "state": {
            "_view_name": "LayoutView",
            "grid_template_rows": null,
            "right": null,
            "justify_content": null,
            "_view_module": "@jupyter-widgets/base",
            "overflow": null,
            "_model_module_version": "1.2.0",
            "_view_count": null,
            "flex_flow": null,
            "width": null,
            "min_width": null,
            "border": null,
            "align_items": null,
            "bottom": null,
            "_model_module": "@jupyter-widgets/base",
            "top": null,
            "grid_column": null,
            "overflow_y": null,
            "overflow_x": null,
            "grid_auto_flow": null,
            "grid_area": null,
            "grid_template_columns": null,
            "flex": null,
            "_model_name": "LayoutModel",
            "justify_items": null,
            "grid_row": null,
            "max_height": null,
            "align_content": null,
            "visibility": null,
            "align_self": null,
            "height": null,
            "min_height": null,
            "padding": null,
            "grid_auto_rows": null,
            "grid_gap": null,
            "max_width": null,
            "order": null,
            "_view_module_version": "1.2.0",
            "grid_template_areas": null,
            "object_position": null,
            "object_fit": null,
            "grid_auto_columns": null,
            "margin": null,
            "display": null,
            "left": null
          }
        }
      }
    }
  },
  "cells": [
    {
      "cell_type": "code",
      "metadata": {
        "id": "yZt4FpzHFLy8",
        "colab_type": "code",
        "colab": {}
      },
      "source": [
        "from google.colab import drive"
      ],
      "execution_count": 1,
      "outputs": []
    },
    {
      "cell_type": "code",
      "metadata": {
        "id": "JnJKqPyIFVim",
        "colab_type": "code",
        "colab": {
          "base_uri": "https://localhost:8080/",
          "height": 124
        },
        "outputId": "9264ebb2-40e9-4b86-9ba9-61e77f89325e"
      },
      "source": [
        "drive.mount('/content/drive/')"
      ],
      "execution_count": 2,
      "outputs": [
        {
          "output_type": "stream",
          "text": [
            "Go to this URL in a browser: https://accounts.google.com/o/oauth2/auth?client_id=947318989803-6bn6qk8qdgf4n4g3pfee6491hc0brc4i.apps.googleusercontent.com&redirect_uri=urn%3aietf%3awg%3aoauth%3a2.0%3aoob&scope=email%20https%3a%2f%2fwww.googleapis.com%2fauth%2fdocs.test%20https%3a%2f%2fwww.googleapis.com%2fauth%2fdrive%20https%3a%2f%2fwww.googleapis.com%2fauth%2fdrive.photos.readonly%20https%3a%2f%2fwww.googleapis.com%2fauth%2fpeopleapi.readonly&response_type=code\n",
            "\n",
            "Enter your authorization code:\n",
            "4/4AE5hnPnZycN3mDmGWQLVYjVYxw8TP407B-tGJkIPj1g5YOJaNVggms\n",
            "Mounted at /content/drive/\n"
          ],
          "name": "stdout"
        }
      ]
    },
    {
      "cell_type": "markdown",
      "metadata": {
        "id": "uKHB48r5oeGr",
        "colab_type": "text"
      },
      "source": [
        "Try out TFDS dataset\n"
      ]
    },
    {
      "cell_type": "code",
      "metadata": {
        "id": "wtinf9t4ohBK",
        "colab_type": "code",
        "colab": {
          "base_uri": "https://localhost:8080/",
          "height": 489,
          "referenced_widgets": [
            "0808f36f21b54033a071858010574770",
            "7c5d932b770d40fbb144b317b62a0438",
            "3034271972f4411db1467a16f19985db",
            "84c322f6ff0c484a9632e955b68f6ac4",
            "c246ec495f954a409385ad46daebfe5d",
            "2bf9eae72d5547208468d8f9ab17ad1f",
            "ee653f8bfaad486580b8b2676a2e55a8",
            "3553e605158c489d89fe9317db39a0d2",
            "2bb2e8ee5f91449c812469e614a4dc64",
            "493e7d7f4e30468d93e3227d686c43b5",
            "391653e2641647568047fbd9db2e85f5",
            "c2a9c3091e9f494ea7595f74e26a283a",
            "df2689c586144811afb6b7a1875b1e18",
            "c62c18247f7841909f031a48c4720272",
            "6cabeb63daf64a4eb51e924b181ebdfc",
            "bd066177b7ab442f92b6dc0fdc0b0d95",
            "f2ef84d3dfd84685946e51f76de39644",
            "a6c17e80c9674809b62b682631dd3544",
            "41db9afbb23c46e3a362e55720d63348",
            "5cd759de222546f290c40ea20d11aa9b",
            "7045795f26dc45a7ac74bbcd056407fc",
            "5d72efb2e4cd4b14a0c5ae6127977375",
            "68417b22d66c45a996dd735b2e369c1f",
            "e1773ae28d6546e78d171d39f918544a",
            "0edac15ab1db4dc2b62cbe7cbf41b384",
            "dac7487131d744b8b8e84a2cc9abd14d",
            "59927093498249e6a3b0653891fc2a97",
            "ddfa9530fe2e429190762d5b5ac5c395",
            "40d60c795ac34d8fa4c33d1a18a26de8",
            "70b38351715048699543a3c16c4f6474",
            "25f2d43a4b6d43199c8aef77395ff7af",
            "4d5146241a9c49e8be85218bc958743c",
            "6586874063224c5c82e0863848174c4f",
            "d7aa70016b314a73a4e631d1b03e8b85",
            "836dc6f227114c97a7578dc1a98321d8",
            "147bdc35069047789c848915bfe16df7",
            "6a0b2ed05d244c95bc3efb49bd8ca5ae",
            "d4b6f3567f0a4646909ffd9d5fb898a1",
            "1c3f05a3245e4b03b63a9d672921444d",
            "9094202db6594fe4befc707611f7e87f",
            "f2b0182887d844b98417ff3a1a287598",
            "e574ab00ba264e71bce74e5e5e869958",
            "7e5832f863a54b4198b263a1f705e2a5",
            "4aa3aae232ff4bc1a2f4e4fcbcc401e4",
            "10a052c6914e42f1be2cffe10bd90c1b",
            "e6b2744bcef24d558c863a4413af3ef0",
            "8670cb0d70e740c99acaa5a496280976",
            "c284f2d0a9454610a30c3204c267ca3a",
            "a26eac41a9114f38bab952be36908311",
            "4ed70ed4887d4b0bb419b73614aef4e8",
            "b96a8b4cf1964f459a4c22714ee29f3e",
            "9125daa80b4b44a5972b3c117642af52",
            "d939e2c85cd148a88b77f878028eaeb3",
            "20fddf7ad0f14aea91e6d46d0e03764d",
            "af7ef409cb6844c3be681b994d8845be",
            "fc4b39f53bfb4690b7ce8c5d15c62ae5",
            "ad65ae7aadb14ec09d45f6dc18ba4b21",
            "a954485792a542de99f8ed8aa34373f2",
            "5631f25cc64748aa91502957c7525276",
            "705f8c85c6fe4f6b86b1d83d49a8da31",
            "50b3795a37d649dd8e1e8d6216941fab",
            "fc844705d99e48ff94dae21c037286c9",
            "30ab01d46e1a458b87f3ccfb04bfc323",
            "64a8b002786d47b9a12fe683015ef459",
            "90c2d468461b44bcb3512a89cb37b532",
            "bc39c23bba5f42bb95716071d5b9f6c8",
            "517c1c152d724abc9274a4e9cbd8d249",
            "e62e3590e2634c67b094e754f0894de5",
            "95bd44ddeb10474c84e09f7a5b9623c9",
            "2e13963e76b44ae280dd918d32a9244c",
            "b07c5f4f3af5426a9b82f45f03e58883",
            "15a08f100a954c31b47286f520f04bd1"
          ]
        },
        "outputId": "568baca0-3f3e-4cc2-d1c3-d90caf51194b"
      },
      "source": [
        "import tensorflow_datasets as tfds\n",
        "ds, info = tfds.load('aeslc',split='train',with_info=True)"
      ],
      "execution_count": 3,
      "outputs": [
        {
          "output_type": "stream",
          "text": [
            "\u001b[1mDownloading and preparing dataset aeslc/1.0.0 (download: 11.10 MiB, generated: Unknown size, total: 11.10 MiB) to /root/tensorflow_datasets/aeslc/1.0.0...\u001b[0m\n"
          ],
          "name": "stdout"
        },
        {
          "output_type": "display_data",
          "data": {
            "application/vnd.jupyter.widget-view+json": {
              "model_id": "0808f36f21b54033a071858010574770",
              "version_minor": 0,
              "version_major": 2
            },
            "text/plain": [
              "HBox(children=(FloatProgress(value=1.0, bar_style='info', description='Dl Completed...', max=1.0, style=Progre…"
            ]
          },
          "metadata": {
            "tags": []
          }
        },
        {
          "output_type": "display_data",
          "data": {
            "application/vnd.jupyter.widget-view+json": {
              "model_id": "2bb2e8ee5f91449c812469e614a4dc64",
              "version_minor": 0,
              "version_major": 2
            },
            "text/plain": [
              "HBox(children=(FloatProgress(value=1.0, bar_style='info', description='Dl Size...', max=1.0, style=ProgressSty…"
            ]
          },
          "metadata": {
            "tags": []
          }
        },
        {
          "output_type": "display_data",
          "data": {
            "application/vnd.jupyter.widget-view+json": {
              "model_id": "f2ef84d3dfd84685946e51f76de39644",
              "version_minor": 0,
              "version_major": 2
            },
            "text/plain": [
              "HBox(children=(FloatProgress(value=1.0, bar_style='info', description='Extraction completed...', max=1.0, styl…"
            ]
          },
          "metadata": {
            "tags": []
          }
        },
        {
          "output_type": "stream",
          "text": [
            "/usr/local/lib/python3.6/dist-packages/urllib3/connectionpool.py:847: InsecureRequestWarning: Unverified HTTPS request is being made. Adding certificate verification is strongly advised. See: https://urllib3.readthedocs.io/en/latest/advanced-usage.html#ssl-warnings\n",
            "  InsecureRequestWarning)\n",
            "/usr/local/lib/python3.6/dist-packages/urllib3/connectionpool.py:847: InsecureRequestWarning: Unverified HTTPS request is being made. Adding certificate verification is strongly advised. See: https://urllib3.readthedocs.io/en/latest/advanced-usage.html#ssl-warnings\n",
            "  InsecureRequestWarning)\n"
          ],
          "name": "stderr"
        },
        {
          "output_type": "stream",
          "text": [
            "\n",
            "\n",
            "\n",
            "\n",
            "\n",
            "\n"
          ],
          "name": "stdout"
        },
        {
          "output_type": "display_data",
          "data": {
            "application/vnd.jupyter.widget-view+json": {
              "model_id": "0edac15ab1db4dc2b62cbe7cbf41b384",
              "version_minor": 0,
              "version_major": 2
            },
            "text/plain": [
              "HBox(children=(FloatProgress(value=1.0, bar_style='info', max=1.0), HTML(value='')))"
            ]
          },
          "metadata": {
            "tags": []
          }
        },
        {
          "output_type": "stream",
          "text": [
            "\rShuffling and writing examples to /root/tensorflow_datasets/aeslc/1.0.0.incompleteMPQQMF/aeslc-train.tfrecord\n"
          ],
          "name": "stdout"
        },
        {
          "output_type": "display_data",
          "data": {
            "application/vnd.jupyter.widget-view+json": {
              "model_id": "6586874063224c5c82e0863848174c4f",
              "version_minor": 0,
              "version_major": 2
            },
            "text/plain": [
              "HBox(children=(FloatProgress(value=0.0, max=14436.0), HTML(value='')))"
            ]
          },
          "metadata": {
            "tags": []
          }
        },
        {
          "output_type": "display_data",
          "data": {
            "application/vnd.jupyter.widget-view+json": {
              "model_id": "f2b0182887d844b98417ff3a1a287598",
              "version_minor": 0,
              "version_major": 2
            },
            "text/plain": [
              "HBox(children=(FloatProgress(value=1.0, bar_style='info', max=1.0), HTML(value='')))"
            ]
          },
          "metadata": {
            "tags": []
          }
        },
        {
          "output_type": "stream",
          "text": [
            "\rShuffling and writing examples to /root/tensorflow_datasets/aeslc/1.0.0.incompleteMPQQMF/aeslc-validation.tfrecord\n"
          ],
          "name": "stdout"
        },
        {
          "output_type": "display_data",
          "data": {
            "application/vnd.jupyter.widget-view+json": {
              "model_id": "a26eac41a9114f38bab952be36908311",
              "version_minor": 0,
              "version_major": 2
            },
            "text/plain": [
              "HBox(children=(FloatProgress(value=0.0, max=1960.0), HTML(value='')))"
            ]
          },
          "metadata": {
            "tags": []
          }
        },
        {
          "output_type": "stream",
          "text": [
            "\r"
          ],
          "name": "stdout"
        },
        {
          "output_type": "display_data",
          "data": {
            "application/vnd.jupyter.widget-view+json": {
              "model_id": "ad65ae7aadb14ec09d45f6dc18ba4b21",
              "version_minor": 0,
              "version_major": 2
            },
            "text/plain": [
              "HBox(children=(FloatProgress(value=1.0, bar_style='info', max=1.0), HTML(value='')))"
            ]
          },
          "metadata": {
            "tags": []
          }
        },
        {
          "output_type": "stream",
          "text": [
            "\rShuffling and writing examples to /root/tensorflow_datasets/aeslc/1.0.0.incompleteMPQQMF/aeslc-test.tfrecord\n"
          ],
          "name": "stdout"
        },
        {
          "output_type": "display_data",
          "data": {
            "application/vnd.jupyter.widget-view+json": {
              "model_id": "90c2d468461b44bcb3512a89cb37b532",
              "version_minor": 0,
              "version_major": 2
            },
            "text/plain": [
              "HBox(children=(FloatProgress(value=0.0, max=1906.0), HTML(value='')))"
            ]
          },
          "metadata": {
            "tags": []
          }
        },
        {
          "output_type": "stream",
          "text": [
            "\u001b[1mDataset aeslc downloaded and prepared to /root/tensorflow_datasets/aeslc/1.0.0. Subsequent calls will reuse this data.\u001b[0m\n",
            "\r"
          ],
          "name": "stdout"
        }
      ]
    },
    {
      "cell_type": "code",
      "metadata": {
        "id": "sXtuhrN-p6wi",
        "colab_type": "code",
        "colab": {}
      },
      "source": [
        "ds1 = ds.take(2)"
      ],
      "execution_count": 6,
      "outputs": []
    },
    {
      "cell_type": "code",
      "metadata": {
        "id": "bwS_nchtbdXN",
        "colab_type": "code",
        "colab": {
          "base_uri": "https://localhost:8080/",
          "height": 297
        },
        "outputId": "728f3e99-cdc0-4027-c793-c0e716535ce9"
      },
      "source": [
        "import pandas as pd\n",
        "\n",
        "ex_dict = []\n",
        "sub_dict = []\n",
        "\n",
        "for example in tfds.as_numpy(ds1):\n",
        "  print(example)\n",
        "  data = []\n",
        "  print(example['email_body'].decode('utf-8'))\n",
        "  data.append(example['email_body'])\n",
        "  data = (data[:200] ) if len(data) > 200 else data\n",
        "  ex_dict.append([data,example['subject_line']])\n",
        "  #sub_dict.append(example['subject_line'])\n"
      ],
      "execution_count": 7,
      "outputs": [
        {
          "output_type": "stream",
          "text": [
            "{'email_body': b\"Greg and Mark:  Attached is a draft of the very short story that will accompany your profiles in Enron Business.\\n(PR management has approved.)\\nThe purpose is simply to introduce you and quickly address the issue that's on everyone's mind, the stock price.\\nPlease review your individual quotes and let me know if you have any revisions as soon as possible.\\nThe quotes were extracted from your interviews with us a few weeks ago.\\nIf I have not heard back from you by the end of the day tomorrow, I'll assume it's OK to print as is.\\nThanks again for taking the time to meet with us.\\nWarm regards and cheers,\\n\", 'subject_line': b'Enron Business Article'}\n",
            "Greg and Mark:  Attached is a draft of the very short story that will accompany your profiles in Enron Business.\n",
            "(PR management has approved.)\n",
            "The purpose is simply to introduce you and quickly address the issue that's on everyone's mind, the stock price.\n",
            "Please review your individual quotes and let me know if you have any revisions as soon as possible.\n",
            "The quotes were extracted from your interviews with us a few weeks ago.\n",
            "If I have not heard back from you by the end of the day tomorrow, I'll assume it's OK to print as is.\n",
            "Thanks again for taking the time to meet with us.\n",
            "Warm regards and cheers,\n",
            "\n",
            "{'email_body': b\"Please note the change in location for tomorrow's meeting.\\nEB4102 is undergoing construction for several months.\\nOps Committee Meeting \\t\\tFriday, 10/5 \\t\\t1:30 - 2:30 PM \\t\\tEB30C2 - OMA 3C1  Thanks.\\n\", 'subject_line': b'CMS/CRS Ops Committee Mtg, 10/5'}\n",
            "Please note the change in location for tomorrow's meeting.\n",
            "EB4102 is undergoing construction for several months.\n",
            "Ops Committee Meeting \t\tFriday, 10/5 \t\t1:30 - 2:30 PM \t\tEB30C2 - OMA 3C1  Thanks.\n",
            "\n"
          ],
          "name": "stdout"
        }
      ]
    },
    {
      "cell_type": "markdown",
      "metadata": {
        "id": "J_jEbe6JU3kf",
        "colab_type": "text"
      },
      "source": [
        ""
      ]
    },
    {
      "cell_type": "code",
      "metadata": {
        "id": "eAmE8WJmgJ9l",
        "colab_type": "code",
        "colab": {
          "base_uri": "https://localhost:8080/",
          "height": 54
        },
        "outputId": "3ca79271-799d-477b-8558-b6d4f810465f"
      },
      "source": [
        "print(ex_dict)\n",
        "tr = pd.DataFrame(ex_dict[0:300])\n",
        "dev = pd.DataFrame(ex_dict[301:400])\n",
        "test = pd.DataFrame(ex_dict[401:500])"
      ],
      "execution_count": null,
      "outputs": [
        {
          "output_type": "stream",
          "text": [
            "[[[b\"Greg and Mark:  Attached is a draft of the very short story that will accompany your profiles in Enron Business.\\n(PR management has approved.)\\nThe purpose is simply to introduce you and quickly address the issue that's on everyone's mind, the stock price.\\nPlease review your individual quotes and let me know if you have any revisions as soon as possible.\\nThe quotes were extracted from your interviews with us a few weeks ago.\\nIf I have not heard back from you by the end of the day tomorrow, I'll assume it's OK to print as is.\\nThanks again for taking the time to meet with us.\\nWarm regards and cheers,\\n\"], b'Enron Business Article'], [[b\"Please note the change in location for tomorrow's meeting.\\nEB4102 is undergoing construction for several months.\\nOps Committee Meeting \\t\\tFriday, 10/5 \\t\\t1:30 - 2:30 PM \\t\\tEB30C2 - OMA 3C1  Thanks.\\n\"], b'CMS/CRS Ops Committee Mtg, 10/5'], [[b\"John/John/Frank  As we are approaching the November 1st Trading Track interview dates, we need to finalize the reminder of the external candidate's initial screen.\\nCan you please provide me with your feedback/status.\\nIf we need to re-assign your candidates to other traders please let me know by return.\\nThanks,\\n\"], b'Trading Track Interviews'], [[b\"Congratulations on your promotion to Manager.\\nBrent Price, Bob Hall, Leslie  Reeves, Brenda Herod and I would like to invite you to a luncheon in  recognition of your promotion on Tuesday, February 6.\\nWe appreciate your  contributions to the continuing success of Enron's wholesale services  business.\\nWe would like the opportunity to help you celebrate your  promotion.\\nPlease RSVP to Patti Thompson (x39106).\\nDetails on time and location will  follow.\\n\"], b'Promotions Luncheon for Managers'], [[b\"Today's Hottest Travel Deals from Bestfares.com!\\n=20 There are only five days left to purchase our $60 roundtrip buddy fares.\\nBu= siness travelers can save their company big bucks with the average coast-to=\\n\"], b'Final 5 days: $60 rt buddy fares coast-to-coast'], [[b\"Miss me?\\nApparently not - no hugs from you.\\nWho is doing my Market area  stuff and why didn't Alicia tell me she was leaving??\\nI guess we aren't the  item I thought we wuz.\\n\"], b'Yo'], [[b'Geoff-  Do you still want to launch Secondary Firm Index products and Dawn vs. Niagara Phy Fwd Firm Spreads??\\nLet me know so our bridging team can continue working on them.\\nChris 3-7533\\n'], b'EOL products'], [[b\"Greg Whalley has requested a Trader's Meeting tomorrow morning @ 7:45 a.m. (CST).\\nThe meeting will be held in his office, ECS 06752.\\nThe dial-in number for Portland and Calgary is listed below.\\n\"], b'Trader Meeting - 2/7 @ 7:45 a.m. (CST) - ECS 06752'], [[b\"Scott:  I have a call scheduled with Martin for tomorrow morning to discuss these  CFTC  issues.\\nI'll let you know how it goes.\\nI have also not forgotten your request for my view on Martin's tenure in  Houston.\\nI have mixed feelings that are difficult to put down in writing and  I'm hoping we can take a few minutes in New Orleans to discuss.\\nMark\\n\"], b'CFTC issues in Norway'], [[b'COLUMBIA GAS TRANSMISSION CORPORATION                         NOTICE TO ALL INTERESTED PARTIES                                 OCTOBER 10, 2001  Notice ID: 3172 5 - NO RESPONSE REQUIRED  SUBJECT: AUCTION OF FTS CAPACITY  Columbia Gas Transmission has posted the following offers of FTS capacity.\\nAdditional details of this capacity may be found in the Columbia Internet NAVIGATOR system under the Capacity Release Folder, Offers, Offers Summary, Offer Type, Capacity Auctions, under the following offer numbers:  Offer      Rate        Receipt  No.\\nSchedule       Point             Delivery Point  33760      FTS       Leach                Market Area 1 33761      FTS       Lebanon              Market Area 1 33762      FTS       Leach                Market Area 4 33763      FTS       Leach                Market Area 5 33764      FTS       Leach                Market Area 5 33765      FTS       Kenova Agg           Market Area 5 33766      FTS       Lebanon              Market Area 6 33767      FTS       Leach                Market Area 7 33768      FTS       Leach                Market Area 8 33769      FTS       Kenova Agg           Market Area 8 33770      FTS       Leach                Market Area 8 33771      FTS       Leach                Market Area 8 33772      FTS       Leach                Market Area 9 33773      FTS       Leach                Market Area 10 33774      FTS       Leach                Market Area 10 33775      FTS       Leach                Market Area 12 33776      FTS       Leach                Market Area 15 33777      FTS       Leach                Market Area 15 33778      FTS       Leach                Market Area 19 33779      FTS       Alexander Agg        Market Area 32 33780      FTS       Highland             Market Area 38  For additional information, please contact your Account Representative or your Customer Services Team.\\n'], b'TCO-AUCTION OF FTS CAPACITY'], [[b'The information contained herein is based on sources that we believe to be reliable, but we do not represent that it is accurate or complete.\\nNothing contained herein should be considered as an offer to sell or a solicitation of an offer to buy any financial instruments discussed herein.\\nAny opinions expressed herein are solely those of the author.\\nAs such, they may differ in material respects from those of, or expressed or published by on behalf of Carr Futures or its officers, directors, employees or affiliates.\\n?\\n2001 Carr Futures   The charts are now in the most recent version of Adobe Acrobat 4.0 and they should print clearly from Adobe Acrobat Reader 3.0 or higher.\\nAdobe Acrobat Reader 4.0 may be downloaded for FREE from www.adobe.com.\\n(See attached file: NGstockspricetime.pdf)(See attached file: NGscatterdeviation.pdf)  - NGstockspricetime.pdf   - NGscatterdeviation.pdf\\n'], b'Nat Gas Scatter and Stocks/Price/Time Graphs'], [[b'Beginning tomorrow this report will contain Inter-Continental Exchange (ICE)   trade numbers and volumes, in addition to EOL and brokered deal information.\\nPlease look for that information at the beginning of the e-mail.\\nAlso note  that the ICE data is released one day later, so it will not correlate  directly to the EOL data below it.\\n(i.e.\\nDaily EOL Summary 3/1 will include  ICE data from 2/28) Enjoy...\\n'], b'Daily EOL Summary 2/28'], [[b\"It seems as if I have caused some confusion.\\nLast night's email attachment  was the P&L that did not include People's or Origination's share of the  total.\\nCurrently attached is the P&L that was signed off on last night.\\nIf  you have any questions, please call.\\nDG    3-9573\\n\"], b'EMW 07/17'], [[b'Listening in by phone is so much better than traveling to these meetings.\\nIt greatly reduces one\\'s exposure to the toxins of this process.\\n1.\\nA learned expert on Secured Transactions  from Mike\\'s firm gave an opening address on the principles of granting and receiving the grantation of security interests.\\nAlmost completely irrelevant.\\nThe guy up and suggested that for a given transaction, the parties might consider giving a security interest in an office building, ie.real estate,  as collateral.\\n2.\\nA cannabalized EEI Credit Support Annex  was tabled by Deedee Russo of Reliant and muddled through.\\nThe format was typically:      Mike:  \"Okay guys, why don\\'t you explain to me what you want.\"\\nMember:  \"We think we need this...blah blah blah, \"    Mike:  \"Okay, we\\'ll put that into our next draft and have a conference call in December and a meeting in   January and remember, none of this is binding, its all optional.\"\\n3.\\nAt the very end, a lawyer from PacifiCorp managed to raise the vital issue and Mike got his hackles up very quickly.\\nThe PacifiCorp guy was basically saying that the WSPP was becoming more and more like the EEI and that this made it more and more difficult for parties to decide which agreement to use.\\nHis implication was that the WSPP should try to remain different or throw in the towel and be just like the EEI.\\nSmall reacted from a position of religion, dogmatically and loudly asserting that the two agreements were fundamentally different.\\nHere is where he left himself open to the shining light of rational analysis:  if someone, had the time,  and we thought it mattered enough, the approach to take would be this:    Dispassionate Spokesperson:  A question has been raised:  is the WSPP agreement becoming more or less like the EEI?\\nTo fairly answer this question one needs to look at all the changes that have been made by  the WSPP in the last three years, comparing each change to the EEI agreement.\\n(prepare comparison document).\\nIf we look at the evidence do we see convergence or divergence?\\nThe answer will be overwhelmingly convergence.\\nIf this objective study could be placed before the \"Membership\" it would speak for itself.\\nNobody would have to utter a word.\\nThe comparison document would do the job.\\nIf we are going to bother playing with these guys, this is what we should do.\\nIt would take some time, but if we circulated it to the membership and then merely raised the question of future direction, we might deal this tedious process a mortal blow.\\nBelieve it or not, the solution to  this process is to follow the same process that went on when the King James Bible was put together in 1611.\\nVarious scholars took various views on how various Hebrew passages should be translated, and it took a committee of draftsmen, appointed and sent to Geneva  by King James  to pound out the form that has stood the test of time for centuries.\\nThe Joint Drafting Committee\\'s time on the historical stage is finally arriving.\\nI am going to talk to this Pacificorp fellow and Brenda Anderson at BPA and see what happens.\\n----cgy\\n'], b'Summary of  WSPP meeting'], [[b'Mike,  Attached please find a draft confidentiality agreement which we would  propose to use with the financial information required to be provided  pursuant to the guaranty.\\nIf acceptable, please print and start execution,  we will sign when we receive the other documents.\\nSorry for the delay, I had  requested this from our credit department and forgot to follow thru.\\nM\\n'], b'Ormet Confidentiality Agreement'], [[b'Here is the file.\\nSorry it is a day late - teh price desk had some errors in  teh file adn I was waiting for them to correct the deals.\\nThanks.\\nPL\\n'], b'central orig - 4/3'], [[b'Kim: I have completed the invoices for April, May and June and we owe Pasadena each month for a total of $3,615,910.62.\\nI am waiting to hear back from Patti on May and June to make sure they are okay with her.\\nDo you want me to pay Pasadena on Friday for these months or do you want me to hold off until I finish July and August?\\nAgain, I do not have all of the information for July and August, so I cannot give you any numbers.\\nIf I go by what is currently in the system as a guide, Pasadena would owe Enron a little over $1 mil.\\nI need to forecast the money today, so please let me know what you would like to do.\\nFYI-I will be out of the office all next week.\\nMegan\\n'], b'City of Pasadena'], [[b'Justin - are the EnBank contracts physical or financial?\\nIt seems to me we  should use the same customer profiles - that is if the contracts are  physical, then any counterparty which can trade physical UK gas should have  access.\\nIf the contracts are financial, then any counterparty that can trade  UK derivatives should have access.\\nMark\\n'], b'Counterparty access to EnBank'], [[b'Confidential; Attorney client work product; Not discoverable  Here is a rough draft.\\nI will also start on TVA letter.\\nPer my earlier vm,  I am struggling with the benefit of a 2 year proposal vs. 7.\\nI\\'m not sure if  we get any \"cap\" benefit from making a seven year deal even if TVA doesn\\'t  accept our offers (benefit would assume that TVA has an obligation to cover  entire position which is contrary to what our outside counsel has said in the  past.\\nAccording to Bob, since TVA is asking for specific performance, it may  not be reasonable for TVA to cover entire period.\\nI will try to talk to him  tonight.).\\nIf  TVA accepts one of our proposals and then we lose the  termination argument, what do we do?\\nSupply?\\nTerminate Again?\\nIn either case  our proposal for 7 years will likely not cap our damages.\\nLet me know what  you think.\\nI\\'ll be in early tomorrow.\\nThanks\\n'], b'Draft TVA memo to Delainey'], [[b'What people know:  Hertzberg (et al\\'s) bill (82XX)was heard in an \"informational\" hearing today  and still sits in the Assembly Energy Committee.\\nIt will be heard again  tomorrow (perhaps beginning at 10 AM) , at which time parties will have a  chance to support/oppose and ask for amendments.\\nMost, including us, oppose  unless significantly amended.\\nThe Wright (D) -Richman (R) bill (83XX)was heard in an \"informational\"\\n'], b'California Update--0717.01'], [[b'Lech - A high priority Master Netting and Setoff Agreement (see attached) is in the late stages of negotiation with the below-referenced AEP affiliates.\\nThe agreement is currently intended to be limited to masters/ transactions between ENA &/or EPMI and two major AEP trading affiliates, American Electric Power Service Corporation as Agent for the AEP Operating Companies (\"AEP\") and AEP Energy Services, Inc. (\"AEPESI\").\\nThe Netting Agreement explicitly identifies enabling agreements between those entities relating to trading physical gas, physical power, and financial swaps.\\nEarlier today the Enron Credit group indicated that ENA trades (using GTCs) physical coal and physical synfuel with American Electric Power Service Corporation.\\nPlease contact me with any questions.\\n-- David\\n'], b'AEP Master Netting Agr'], [[b'How has your day been so far?\\nDo you like were your new desk is?\\nDo the same people sit next to you?\\nIf you have time, call me and let me know how you are.\\nThe books were delivered today.\\nI just started looking at them, but I think it will help us.\\nheart me\\n'], b'how is the new building?'], [[b'Jana::  I am the manager of West Desk Logistics, and I would like to start  having analysts rotate into my group.\\nThe gas trading desk director, Phillip  Allen is also very high on this idea.\\nCould you give me a call so we could  discuss?\\nI would like to get one of the new hires as quickly as possible.\\nMy extension is 31991.\\nThanks.\\n'], b'Analysts'], [[b'Brad and John: We have not sent out the ISDA draft on energen because I need calrification  on the following points:  1.\\nIs the $75MM Guaranty cap meant to cover both physical and financial  combined or are we doing separate Guarantys each with a $75MM cap amount?\\n2.\\nHow does the $50MM collateral threshold work?\\nI noticed in the physical  master that it appears as if we subtract from the $50MM threshold our  exposure under the ISDA to arrive at the Counterparty\\'s threshold, although  the language in the physical says \"the exposure\" and it is not clear whose  exposure they are talking about.\\nIs that how it is suppposed to work?\\nCarol\\n'], b'Energen'], [[b\"Hey there, I'm about to head out to run some errands.\\nI could totally be persuaded to meet you for lunch..hee hee...if you are interested in getting out....ANOTHER beautiful day.\\nMy last errand is to get dairy products so just give me a ring.\\nMo\\n\"], b'yo'], [[b'I recently heard from David Marshall in the Risk Management Group that we may have made or were contemplating a claim against Ron Anderson of IBC Turbo for misrepresenting the quality of the gas turbines that he procured for us.\\nMarshall said that you were the person who would know.\\nAnderson is a potentially crucial witness for us if we decide to pursue Underwriters on the insurance claim arising out of the failure of the Doyle Unit #1, which is one of the gas turbines that he procured for us and that was located in Monroe, Georgia at the Doyle plant.\\nAre you the man I need to talk to?\\nI know you are underwater.\\nIs there anyone else who would know about this?\\nBritt\\n'], b'In re Doyle Claim Against Underwriters'], [[b'The World Wide RibFest \"celebration of the Rib\" is coming up.\\nThis will be the 5th annual ribfest, and John Mee has his work cut out for him to defend the title he won last year (for the second time).\\nI believe he will have a tough time, as the competition looks increasingly focused on unseating the former Bostonian from his Throne.\\nFor those of you who haven\\'t been to a ribfest in the past, it\\'s a barbeque competition where 5 to 7 cooks compete to see who can produce the best Baby Back Ribs (if you want those Fred Flintstone beef ribs, you ain\\'t getting them here).\\nA blind-judging takes place to determine the winner, but often the crowd gets up in arms and nominates a \"peoples choice\" (though this is not officially recognized by the sanctioning body).\\nEvery year, my wife asks the following: \\t\"So, besides Ribs, beer and margaritas, what else will be served?\"\\nI reply:\\t\"Nothing comes to mind.\"\\nShe replies:\\t\"No.\"\\nAs you might expect, she wins this discussion year in, year out.\\nSo, appetizers, sides, desserts and food & drink for the kids are also served.\\nThe competition around the grills gets a little rough, so I recommend that the young and faint-of-heart maintain a safe distance while the cooking and competition is taking place.\\nThe appropriate College football games will be broadcast, so you don\\'t have to worry about missing any games.\\nThere are a couple of changes to this year\\'s competition: The competition will be held at the John Mee/Laura Benjamins compound in Bellaire Mike Paradise (who won the very first ribfest) has stepped out of the competition this year citing \"personal reasons\"  Date & Time Saturday November 3rd.\\nWe fire the grills up around 12:00, and the judging takes place between 3:00 and 3:30.\\nWhere 4807 Elm Street in Bellaire  Directions (from John Mee himself) From downtown, take 59s to 610s.\\nThe first exit is the Bissonette//Fournace exit.\\nTake this exit and go through the light, noting the gouging in the lamppost from that freak cherry-picker accident from last April.\\nBefore the Bisonette light, there is a big Chase Bank Building.\\nRight before that building is Elm Street.\\nTake a right on Elm Street exactly 236 yards to 4807 Elm Street.\\nGo inside and ask for directions there, cause I really don\\'t have a clue...\\nKIDS Bring \\'em!\\nWe\\'ll have the Moonwalk set up for them again this year, and we\\'ll have hot dogs, burgers, popcorn and drinks for them.\\nThe more kids the better.\\nWhat you need to bring Nothing, except maybe some attitude to heckle the cooks while they try to concentrate.\\n'], b'RIBFEST -5- (Nov. 3rd)'], [[b'I updated the transport demand charges on Tetco and Trco for March.\\nPlease  get those in the P&L sometime this week.\\nAlso note:  I think I had Trco at  TP1 instead of TP2.\\nthanks\\n'], b'Demand Charges'], [[b'Richard:  Please do not forward the Project Stanley email that we sent to you earlier  today.\\nI am making some revisions and will forward the revised document out to you  and the others.\\nThanks.\\n'], b'PLEASE WAIT TO FORWARD EMAIL'], [[b'Jeff, go ahead and have the meeting - I think I know what it is about.\\nLet  me know what you guys want to do.\\nRegards\\n'], b'meeting with Jeff Donahue'], [[b'Berco Resources Inc, K#96000645, CP ID #26557.\\nThe Counterparty system indicates that this counterparty was suspended on 3/15/01.\\nCheryl Johnson\\'s (Counterparty Group) comments state:     \"Spoke to Bill Bergner who states that he has sent documentation to legal regarding the conversion.\\nHe said they did business under a group of different entities other than \"Inc.\"  In Jan. \\'99, they combined those entities to form the LLC, so it wasn\\'t a simple conversion per se.\\nHe also stated that this entity should be deleted (inactivated), as there will be no business conducted in that name.\\nThis record will be suspended pending inactivation.\"\\nDoes anyone in legal know anything about this because we do have an active contract in the contract system?\\nThis is part of the contract audit I\\'ve been working on.\\nThanks, - g\\n'], b'BERCO RESOURCES INC.'], [[b\"Dear YPO Couple Retreat Attendees.\\nThese attachments are duplicates of hard copies that have been mailed to your homes.\\nPlease respond to Cheryl Hester in Larry Del Papa's office.\\n<<YPO COUPLE RETREAT ACTIVITY LETTER.doc>>  <<Off sites - mail out copy.doc>>  <<Offsite Sign Up Sheet.xls>>   - YPO COUPLE RETREAT ACTIVITY LETTER.doc   - Off sites - mail out copy.doc   - Offsite Sign Up Sheet.xls\\n\"], b'Offsite Activity Choices'], [[b'The following are the names I have identified as participants for the Corporate Legal Year End 2001 PRC Meeting on Friday, December 7th.\\nJim Derrick Rob Walls Chuck Cheek Paula Rieker  Rex Rogers  Please let me know if there are any changes to this list.\\nWe are only required to review Manager level and above however, we have the flexibility to review all (or some)  levels.\\nPlease let me know how far down you would like to go on the review table.\\nMy recommendation is that we may want to discuss at least down to the Sr Specialist level since there may be some nominations for promotion to Manager in this category.\\nIf you have questions, please call me at Ext 30649.\\nThanks.\\nSheila Walton\\n'], b'Year End 2001 PRC Meeting'], [[b\"We know you have questions about recent events impacting Enron and our plans for the future.\\nOngoing investigations and pending litigation have made it difficult, if not impossible, to share information in a timely manner.\\nWhile we can't address certain issues, we can tell you about our initial plans to move Enron forward and emerge from bankruptcy, and we are eager to do that.\\nWe had planned to hold an all-employee meeting tomorrow, January 23, at the Hyatt Regency.\\nHowever, we don't want to subject you to the media frenzy that would certainly surround such a meeting, so we've decided to postpone it.\\nWe are currently making arrangements to hold a series of employee meetings within the building to protect your privacy.\\nWe will provide the date and times to you as soon as the logistics for those meetings are finalized.\\nPrior to the employee meetings, we will provide an overview of Enron's new organizational structure.\\nYou can expect that memo shortly.\\n\"], b'Employee Meeting Postponed'], [[b\"In conversations with GE, it is their understanding that their guaranty will  not be transmitted until there is a fed ref number tomorrow.\\nThe opinion  letter will be faxed as soon as the GC is available, or Kent can sign for Dan  Rowley if that is acceptable.\\nDRowley can sign originals on Thursday.\\nThe LOC is in the works, and GE understands that 10% will be retained in  escrow until the LOC is delivered.\\nThere will be three original opinions.\\nThere is one original guaranty, and  I'm not certain of GE's willingness to give more than that.\\nObviously, there  will be only one LOC.\\nKay\\n\"], b'GE guaranty, opinion of counsel and letter of credit'], [[b'Richard  sorry didn\\'t make meeting....tied up on CNCC \"closing\"...(this has been closing for weeks).\\nWe should briefly discuss..maybe tomorrow...and definitely prior to the forthcoming german visit.\\nJohn\\n'], b'act'], [[b'Hey Gerald, Your brother just called; I calendared a lunch appointment for Monday 10/8, from 11:30-1pm.\\nHe says you have his number and his guitar...\\nI told him you would call him in case of conflict.\\nThanks!\\n'], b'Lunch Plans'], [[b'Greetings: As folks heard, Ken Lay met with some California CEOs last Friday back East.\\nAs a result of that meeting, McNealy, CEO for Sun, asked for some background  and more detail on what Ken Lay proposed as a solution for California during  his meetings in California over the past couple of weeks.\\nMcNealy and others  have expressed a willingness to make phone calls to policymakers, etc.\\nto try  to advance the ball.\\nI pulled this together very hastily on Friday and take responsibility for all  errors, omissions, ramblings, etc.\\nWanted to distribute, however, to make  sure that all had the info that is getting distributed.\\nKnow folks are busy,  but this will likely get distributed to other CEOs this week, so any  comments, suggestions, etc.\\nabout how to improve are welcome and appreciated.\\nBest,\\n'], b'Backgrounder for McNealy'], [[b'Hey Danny,  Here is a prospective roster for Flag Football.\\nAll are Enron employees.\\nEric Bass Brian Hoskins Tim Blanchard Matt Lenhart Luis Mena Jeff Gossett Ken Shulklapper Amir Ahanchian Nick Hiemstra  Can you tell us what night the games will be on?\\nWhen do you need the due?\\nThanks,\\n'], b'Roster'], [[b\"Jeff - Please review the following report and let me know if their are any recent developments that I should be aware of while preparing Jim's November report.\\nPerhaps you can update me on the negative CTC claim.\\nThanks so much for your help, Bryan\\n\"], b'Monthly Update'], [[b\"Executive Search Partners Inc.\\nThanks for taking the time to speak with me.\\nI appreciate the opportunity to introduce myself to you.\\nAs you are well aware, a quality recruiter can be an invaluable resource to you, especially with the current state of energy industry.\\nExecutive Search Partners, Inc. provides national recruiting services across diverse business sectors.\\nI specialize in the placement of Traders and Risk Management positions within the financial services and energy industries.\\nHaving spent over 15 years in the trading profession, including a position as one of the top Head Long Treasury Traders for Merrill Lynch Canada and an owner-operator of a Commodities Trading Company, I know the industry and am qualified to assist you in your job search.\\nThe relationships with my client firms in the energy industry have helped me successfully place candidates at all levels in the risk area.\\nWe understand the need to receive proper representation from your recruiter as it is a reflection of you in your job search.\\nWith intensive and daily exposure to the market, we seek potential job opportunities and most often know of positions before they're posted.\\nBy analyzing your own needs and objectives, career goals and philosophy, we develop with you a target profile for an ideal company and position.\\nCandidates have found that having us assist during final discussions and negotiations with the prospective company provides them third party sensitivity and objectivity, so often necessary to close the deal.\\nOur proven methods for helping people will give you a step up on other candidates in this ever-changing market, where time and timing are everything.\\nAs someone that knows and understands your business, I feel strongly that I am qualified to help you.\\nI look forward to working with you to explore job opportunities that can enhance your career.\\nSincerely,\\n\"], b'Exceutive Search Partners'], [[b\"Tanya:  I'd like to send our Schedule to Rabobank today since we will be off  Monday, Jan. 15 and I have been called for jury duty on Tuesday, Jan. 16.\\nI  will ask Angela Davis (a finance lawyer with swap experience who is helping  us out on the structured deals) to handle this for me.\\nI don't want to deal  with Rabobank's form of Schedule as a basis for discussion and I am told that  this deal closes Friday, Jan. 19..  A voice mail would be greatly appreciated.\\nThanks.\\nSara\\n\"], b'Project Cerberus - amended to introduce the swap counterparty  Rabobank (\"Rabo\")'], [[b\"The following parcel's open season has expired and is pending award of bids by the releasing shipper.\\nReleasing Shipper: Enron North America Corp. Parcel: 8867 Contract Number: 08076  Path: Kingsgate to Malin Quantity: 15000 Min Release Quantity: 15000 Begin Date: 12/1/2001 End Date: 11/1/2002  This parcel is Biddable Open Season Begin Date: 11/27/2001 11:00  A.M. Open Season End Date: 11/27/2001 12:00  P.M.\\nThe prearranged replacement shipper is: Canadian Natural Resources Limited    PG&E National Energy Group and any other company referenced herein that uses the PG&E name or logo are not the same company as Pacific Gas and Electric Company, the regulated California utility.\\nNeither PG&E National Energy Group nor these other referenced companies are regulated by the California Public Utilities Commission.\\nCustomers of Pacific Gas and Electric Company do not have to buy products from these companies in order to continue to receive quality regulated services from the utility.\\n\"], b'PG&E eTrans Notification - Parcel 8867 is Award Pending'], [[b\"This counterparty came across on my online list for today.\\nI took a look at  the master you have in your office, and to me it seems to be approved for all  products, including weather & pulp & paper, just not FX.\\nIn Susan Flynn's  email she said no pulp & paper.\\nWhich is correct?\\n\"], b'HS Energy Services'], [[b\"GET RID OF DEBT - NOW and FOREVER!\\nIT'S JUST A PHONE CALL AWAY!\\nGet a FREE QUOTE On Consolidating Your Bills   * Drastically Reduce Your Interest Rates!\\n* Stop Creditors From Harassing You!\\n* Slash Your Monthly Payments in Half!\\nWE HAVE HELPED THOUSANDS OF PEOPLE JUST LIKE YOU!\\nWE CAN DO THE FOLLOWING FOR YOU:    Drastically lower your interest rates    One easy monthly payment    Get your peace of mind back again   Simply send your  NAME:  ADDRESS:  CITY/STATE:  PHONENUMBER:(H)              (W)  BEST TIME TO CALL:  AMOUNT OF DEBT:  (All information is strictly confidential)     To be removed from our lists please hit reply and type remove in the subject line.\\nThank you\\n\"], b'Get Out of Debt NOW!                                                    [65jzt]'], [[b'In preparation to present offers to APS, Duke, and Panda, the following tasks need to be completed-  James, Teb, Blair to calculate rates for $911 MM facilities according to the following guidelines-  - Rate matrix based on contract terms of 15/20/25/30 years  - Project depreciation consistent with contract term - Segmented rates (max rate) - Levelized - Volume allocations: SJ-780k/d; Cal Border-330k/d; Phoenix;500k/d - Incremental O&M costs charged to new shippers prior to next rate case; O&M costs re-allocated based on expected outcome following next rate case.\\n- Incremental fuel retention charged to new shippers prior to next rate case; fuel costs re-allocated based on expected outcome following next rate case.\\n- Determine rate sensitivity (for 15/20/25/30 year terms) assuming +/- $25 MM change in cost of new facilities - Determine rate sensitivity (for 15/20/25/30 year terms) assuming +/- $2 MM change in O+M re-allocated based on expected outcome following next rate case.\\nKevin to provide capital structure and cost of debt, cost of equity (in light of recent circumstances) in support of new rate analyses.\\nEric, Kevin, Lorraine and Michelle to outline commercial transaction structures for APS, Duke, and Panda.\\nEric to schedule meeting to discuss rate indexation.\\nEric to schedule next team meeting asap (target=Nov 1).\\n'], b'Sun Devil'], [[b'If you have not already responded and would like to attend this CLE program, please RSVP by e-mail by Wednesday, August 15.\\nThank you.\\nJamie Serota and Allan Van Fleet with Vinson & Elkins have developed a one hour CLE program covering the antitrust issues encountered when non-regulated entities such as Enron compete with regulated utilities for market share.\\nAn outline of the program is attached.\\nJamie Serota and Allan Van Fleet will present the CLE program on Wednesday, August 22, 2001 at the Doubletree Hotel, 400 Dallas (La Salle B room) from Noon to 1:30 p.m.\\nThe program will be accredited for 1.00 hour of CLE credit including at least .25 hours of ethics credit.\\nIf you would like to attend please RSVP by Wednesday, August 15, 2001 by sending an e-mail to my assistant, Janette Elbertson.\\nLunch will be served.\\n'], b'REMINDER - CLE Program - Antitrust Issues'], [[b'Rick/Bill/David, Generally, we have managed to keep our main counterparts transacting, but things are tight.\\nWe are signing netting agreements and agreeing to collateral threshholds, but we are negotiating hard where we think that we will be so close to collateral lines in the next few months that we would actually have to post.\\nAs we go into this week, we need to hold on to those we have, incrementally open up a few more, and start to get people to business as usual.\\nAmongst the things that continues to be missing are the OFFICIAL STORY (we have access to the newspaper here, too), good communication regarding global relationships, and calendar and status of new developments regarding credit facilities, equity issuance/raising.....  Not that some of it is getting through, it just comes through random channels and we know very little more than our counterparts that have a subscription to the Wall Street Journal.\\nTo that end, it has been suggested here that Houston (PR?)\\nwith RAC/Finance develop a daily script of talking points for the masses.\\nWe have traders and credit people talking all day to counterparts - they really could use a strong story to tell without have to think about it.\\nI am very confident that I can tell a reasonable story myself, but I am concerned that I do not have all the facts at my disposal and my guess is that the average trader/credit specialist is probably at a greater disadvantage.\\nThoughts?\\nTed\\n'], b'Credit Story'], [[b\"With Dana's return to employment, I have updated the Origination Account assignment list which is attached.\\nAll accounts have returned to the previously established assignment list with the exception of Monsanto and Cytec which will remain with Rich until Dana returns to full-time status in August.\\nI want to thank each of you - especially Karen, Rich, Dee and Ragan who took on the additional duties and responsibilities of managing the daily activities of these accounts over the past 4 months.\\nOur customers retained our high level of service and professionalism due to the assistance from the whole organization.\\nAgain, I thank you for your efforts.\\n\"], b'Updated Temporary Account Assignment'], [[b'As we discussed today, east curve files have been set up.\\nThere is 1 file for physical curves and 2 files containing basis, index, and Y curves.\\nI have saved them out to O:\\\\_Dropbox\\\\Scott P\\\\.\\nPlease take a look at these and have who ever is going to set each of them establish any needed links.\\nThey can save them out to the same directory.\\nRisk needs this done by Wednesday afternoon.\\nThanks.\\nScott  3-6599\\n'], b'East Curves'], [[b\"Generator Operators,  \\tIf you received this email then you should have been given access to the new generators directory.\\nAt your earliest convienence please verify that you have the correct Read/Write access to the directory listed below by creating and deleting a file inside of it.\\nAt the present time we are still working with people in the IRM (Information Risk Management) group who have made this request a very high priority; as soon as this verification process is complete we can release them from this task and begin working on transitioning all of the generators' code to function in their new home....(the sooner the better).\\nPlease respond to this email, or contact me by phone the moment you have verified your access.\\nIf you receive an 'Access Denied' error message then verify that you are mapped to the R: drive using your Corp account and try again before responding to this email.\\nA link to a test file in the new directory is below, you may save time by selecting the link to access the folder.\\n\\\\\\\\eeshou-fs2\\\\retail$\\\\RISK_MGT\\\\CurvesPM\\\\WholesaleEnergy\\\\Generators\\\\AccessTest.txt  James Sweet x51701 pge8774734541  (jes)\\n\"], b'New Home for Curve Generators'], [[b'Thanks in advance for agreeing to speak at the Global Operations Controller  Forum.\\nDress for the forum is casual, so feel free to do the same.\\nThere  will be approximately 30 Enron business controllers present at the meeting.\\nAll have responsibility for mid and back office operations for the following  Enron entities:  Enron North America, Enron Europe, Enron South America,  Enron Global Markets, Enron Industrial Markets, Enron Broadband Services and  Enron Energy Services.\\nAttendees will be here from Houston, Calgary, Tokyo,  Sydney, London and New York (metals business).\\nAttached for your reference is the agenda.\\nThere may be some slight changes  before the forum begins, but this will give you a good idea of the topics to  be covered and the other speakers who will address the group.\\nYou and I talked about Monday or Tuesday afternoon, October 23 or 24.\\nI have  tentatively put you on the agenda over lunch on Tuesday as detailed below.\\nI hope that you can join us for lunch and address the group either before or  after you eat - your choice on that.\\nI will call Peggy to check on your  schedule, and if this does not work we can rearrange.\\n'], b'Speaking Engagement for Operations Controller Forum'], [[b\"Planning has met with ENA on Tuesday and responded to the questions from ENA.\\nLet's four of us have a meeting in my office sometime next week and follow-up on this project.\\nWhat day/ time would be good for you?\\nThanks,\\n\"], b'TW/NNG & Sid Richardson'], [[b\"Valued RDI client,   Welcome back to Inside RDI.\\nYou can access the most recent edition by clicking here.\\n(Or you may visit www.rdionline.com to download the most recent edition whenever you wish.)\\nThe goal of this publication is to provide you with an overview of the latest industry trends, explain how you can use our products more effectively, and bring you up to date on the new tools we're developing.\\nInside RDI is also intended to serve as a forum where we can answer your questions.\\nWe hope you'll find Inside RDI to be a useful business tool.\\nYour input is invaluable to us, because we want to make sure that this newsletter serves your changing needs.\\nPlease don't hesitate to let us know what we can do to improve the publication.\\nSincerely,\\n\"], b'RDI Newsletter-The third edition of Inside RDI is now online!'], [[b\"Hey Yao!\\nHow are you doing these days?\\nWe never see you anymore.\\nI'm going  over to London on Saturday - any chance you'll be in that part of the world?\\nOn a business note, we are getting set up to trade energy commodities and  derivatives online and one of the things we have to do is figure out what we  can trade with each potential counterparty.\\nDo you remember negotiating any  master agreements for ECT that did not contain the necessary elements for  trading energy commodity derivatives?\\nIn particular I'm thinking about  things like the trade option exemption representations and the commodity  derivatives definitions provisions.\\nThanks!\\n\"], b'Restricted Master Agreements'], [[b\"Mary & Teresa:  Here's the latest draft awaiting comment from George Gilbert, Tim Proffitt,  Tanya and Chris Sherman.\\nLet me know if you have any comments.\\nThanks.\\n\"], b'KCS - VC0917 & VC09'], [[b'Attached is my draft of the \"two-pager\" for LLC.\\nObviously it is going to be a bit longer than two pages.\\nPlease take a look and provide any comments that you might have.\\nAlso:  1)  Gerald please provide summaries of the debtor contracts as you did for NNG and also respond to the issues that have your name by them in the memo; 2)  Karen - please continue your efforts (in cooperation with Mark) to provide the revenues/expenses both actual and forecasted to be attached to the memo; 3)  Mark - please provide the deal structure diagrams for the deals (obviously you already gave me Gallup - but please forward to me electronically) and also respond to the issues that have your name by them in the memo.\\nI really would like to have this memo completed by mid-day tomorrow so that I can get it to Patty M as promised.\\nThanks in advance for your efforts.\\nRegards\\n'], b'ECS Compression Co, LLC (\"LLC\")'], [[b\"We have received a notice dated 7/10/00 from Merrill Lynch International Bank  that it intends to transfer their FX business to Merrill Lynch International  Bank Ltd., a United Kingdom incorporated bank regulated by the SFA,   effective as of the fourth quarter of 2000.\\nWe do have an ISDA Master  Agreement in place with Merrill Lynch International Bank.\\nI am sending a copy of the notice to Gary Hickerson & Tanya Rohauer (I am  also sending Tanya the financials of the new entity).\\nWe will await Credit's  instructions as to how they would like to proceed after reviewing the  documentation.\\n\"], b'Transfer of Merrill Lynch International Bank FX Business'], [[b\"Kevin,  Here are the Firm GTC's with and without collateral and with and without signature lines.\\nI have also attached a redlined version.\\nI will send the spot GTC's shortly.\\nPlease call me with any questions.\\nStacy\\n\"], b'EOL Firm GTC'], [[b'Trunkline LNG Company 5/18/00 - Trunkline filed for approval of a new rate schedule (LLS) for LNG= =20 Lending Service.\\nIt is patterned on PALS services=01*short term loans, wit= h=20 repayment within 31 days.\\nany opportunities for us?\\nHunter\\n'], b'LNG'], [[b'Please replace the prior version of the capacity release with the attached  version.\\nI found a typo.\\nIn the 5th line of the Section 2.1, the number was  incorrect.\\n'], b'Capacity Release'], [[b\"Ben/Chris,  Unless something new comes up, I think we finished the letter agreement.\\nI'm  awaiting a revised draft now, and if it is acceptable to NW, they will sign  it and fax it to me tomorrow morning.\\nMaybe on Ben's layover we can have a discussion about where we go from here  from a schedule standpoint.\\nTalk to you tomorrow,  Kay\\n\"], b'NorthWestern exclusivity letter'], [[b'Stephanie -  Can you finalize the attached and have it signed.\\nI need to initial it, but it needs to be signed by Brad Richter.\\nThanks.\\n'], b'Ronald Chisholm LOI'], [[b'For any support issues next week, even if I am not in the office, just leave a message on my phone.\\nThe TDS Hotline, the Sitara Hotline, and my normal number all do page me.\\nI plan to be in the office next week, but not 8-5 everyday.\\nRuss\\n'], b'Sitara & TDS Support'], [[b\"I've consolidated the presentation slides we decided on (and added a few).\\nIt is still very rough and probably too long, but at a good point to dig in and really discuss what we want to say and how we want to say it.\\nTy\\n\"], b'Fundies Draft Presentation'], [[b\"Okay...My itinerary is as follows:  Arriving in San Diego 2:20 am Friday  night (I'll need your new address for the cab) and departing Sunday at 6:15  pm.\\nIf you just want to leave the key under the mat that would be perfect  for me...I'll probably crash immediately anyway.\\nI am so excited to be  coming out there - -  I really need a break from Houston...not to mention  work.\\nThe Gas Lamp district Saturday night sounds like fun and I would love  to meet your friends.\\nAlso, please don't feel like you have to plan the  whole weekend, I have no problem going with the flow.\\nSee you in a couple of weeks, Susan\\n\"], b'We have a go....'], [[b\"Dear Team,  The electronic copy of this week's PPW has not been published at this time.\\nI will keep you posted as soon as it is available.\\nThanks.\\n\"], b'PPW THIS WEEK'], [[b'Jeff:  Per my voice mail, please let me know if Friday, May 12 is an  acceptable date for your group.\\nThis works fine for Settlements.\\nThanks.\\nSara\\n'], b'Confirmation/Settlements lunch'], [[b\"They're still in the formative stage, and the title is korny, but wanted to  get the ball rolling.\\nNo pride of authorship.\\nFeel free to hack away.\\nBest,\\n\"], b'DRAFT slides for Sempra Meeting'], [[b\"Here are the draft handouts for tomorrow's meeting with Stan.\\nPlease channel  any comments or questions to Steve Kirk so he and Martha can get a final set  to me in Houston before the 1:30 meeting.\\n(Martha--pls get the final version\\n\"], b'The slides'], [[b'The Commission just voted out one half of the \"Bilas Alternate.\"\\nThe decision that got voted out included Bilas\\' DWR-based language stating  that the PUC 1) would not second-guess DWR purchases and 2) would pass  through DWR costs to customers.\\nHowever, in a move led by Commissioner Carl Wood, the decision removed the  Bilas language on Direct Access.\\nThe decision therefore did NOT include the  Bilas language staying any Commission action on implementing the Direct  Access prohibition.\\nCarl Wood called including Direct Access \"the height of  arrogance.\"\\nThe decision was voted out 3-2, with the 2 remaining Republicans dissenting.\\nThat said, the Commission has no proposal before it implementing the  prohibition, and there was no talk at the meeting of implementing the  prohibition any time soon.\\nBest,\\n'], b'PUC Approves DWR Language in Decision; Removes Language Staying  Commission Action on Direct Access'], [[b\"Over the past few weeks, we have received numerous requests for information about changes to Enron's business policies and procedures since filing for bankruptcy, so we have developed REORIENTATION.\\nIt's a short session designed for employees to outline current benefits and services, and to provide a better understanding of the bankruptcy process.\\nAgenda items include: - An update on the Credit Union - A Legal Overview, including some things you should know about bankruptcy - Status of the Enron Building, including space management, churns and building services - A review of Employee Benefits - A presentation from the Resolution Center - An update on existing Employee Services - An overview Employee Self Service, including how to access or change your own employee information  Each session will be held in EB5C2 from 9:00-10:30am, and is limited to 50 participants, so you must RSVP if you would like to attend.\\nSimply select a button above to indicate the date you would like to attend.\\nThe session dates are April 3rd, 10th and 11th.\\nYou will then be sent a confirmation email.\\nThe plan is to have one or two morning sessions weekly.\\nIf you have a question about this program or a suggestion for a future program, please contact Rachael Tobor at 3-1481.\\n\"], b'Reorientation'], [[b'Dear Questia Series B Preferred Shareholder,  The Board of Directors has adopted resolutions extending the Series C offering in order to attempt to secure additional investors.\\nThis is notice that the proxy holder of your shares intends to vote in favor of the resolutions, and of your right to revoke your proxy with respect to this vote.\\n(See attached file: Notice of Voting Event (Sept. 2001).DOC)(See attached file: Shareholders Resolution (Notice) September __, 2001.DOC)\\n'], b'Questia - Notice of Voting Event'], [[b\"Kam,  I need your help on something.\\nI am trying to compile a listing of all reports that were being run by the Risk leads and Specialist on a daily basis for the estate.\\nIf you could please give me a general idea of the daily reports that you know of, I would greatly appreciate it.\\nI am doing this to ensure that we don't skip  or miss anything that was being done on a day to day basis for the estate.\\nI will take what info you give me and forward it on to Greg Couch so that he will be aware of all reports that needs to be ran daily.\\nThanks\\n\"], b'Reports'], [[b'Math Homework   A little boy was doing his math homework.\\nHe said to himself, \"Two plus five, that son of a bitch is seven.\\nThree plus six, that son of a  bitch is nine.\\nHis mother heard what he was saying and gasped, \"What are you doing?\"\\nThe little boy answered, \"I\\'m doing my math homework, Mom.\"\\n\"And this is how your teacher taught you to do it?\"\\nthe mother asked.\\n\"Yes,\" he answered.\\nInfuriated, the mother asked the teacher the next day, \"What are you  teaching my son in math?\"\\nThe teacher replied, \"Right now, we are learning addition.\"\\nThe mother asked \"And are you teaching them to say \\'two plus two,  that son of a bitch is four\\'?\"\\nAfter the teacher stopped laughing, she answered, \"What I taught them was  two plus two, THE SUM OF WHICH, is four.\\'\"\\n'], b'Math Homework'], [[b'I would like to sign up for the following presentations:  (1)  Power Marketing - Structuring Power Transactions on November 10 and 11 (2)  Fundamentals of Corporate Finance on  December 2  Please let me know.\\nThanks.\\nSara\\n'], b'\"Ernie\" seminars'], [[b\"As most of us are aware, Trasnco will be terminating all master commodity  contracts effective 9/1/2000.\\nI don't think we should make any changes to  the master contracts in our system until after the 1st.\\nHowever, we will  need start adding the demand contracts to the East and Market East in  Sitara.\\nFollowing is a list of master contracts and the associated demand  contracts effective 9/1/2000.\\nMaster/Demand Rate Sched Start  End  Offer 2.2173 - Master  FTAR       2.7055 - Master  FTCHR   3.4367-Master  FTFR 3.5318-Demand  FTFR  6/1/2000 10/31/200 19885 3.4522-Demand  FTFR  5/1/2000 10/31/2000 19123  2.1439-Master  FTLR    2.2390-Master  FTLR   2.4539-Demand  FTLR  6/1/1998 5/31/2008 10382  .7537-Master  FTR 3.5116-Demand  FTR  6/1/2000 9/30/2000 19800 3.5115-Demand  FTR  6/1/2000 9/30/2000 19799 3.5049-Demand  FTR  5/3/2000 9/30/2000 19486 3.4708-Demand  FTR  5/1/2000 10/31/2000 19328 3.4358-Demand  FTR  4/1/2000 10/31/2000 18972 3.4271-Demand  FTR  4/1/2000 10/31/2000 18944  1.3861-Master  FTR  2.3496-Master  FTR  2.7002-Master  FTR  3.3433-Master  FTSR  1.0828-Master  SE94R  1.2786-Master  SE95R\\n\"], b'Terminating Transco contracts'], [[b'Dorie, as per our discussion.\\nFor the Friday night speaker, can you give me an idea of price and  availability for the following:    - Joe Gibbs  - Lou Holtz  - Mike Krzynewski  - Joe Paterno  - James Carville  The topic would be leadership and motivation.\\nRegards\\n'], b'2000 ENA Offsite - Final Agenda'], [[b\"Brent, Andrea and I were hoping you might be available for a 30-minute call  on Tuesday after 5pm (BA time) or 2pm (Houston time) on Tuesday, Feb. 29.\\nThe BA office had a meeting last Friday afternoon and has apparently set some  rather lofty goals, such as online trading for Q3, etc.\\nPlease let me or  Brent know if you are available and/or alternative times.\\nTomorrow we meet with the American Chamber of Commerce, Wed. with Marval and  the ADA and the Securities Commission, and Thursday with tax consultants.\\nAlso, I need to talk with you about Brazil when I return.\\nSami has been  diligent about forwarding deal flow information and there are a ton of  references to PPA's and SWAPS.\\nWe are still trying to get our arms around  all the business units in Brazil to track their activity.\\nHave you heard  from Yao?\\nThis international position may be right up his alley.\\nSara\\n\"], b'Telephone conference'], [[b'Richard Sanders has asked me to set up a meeting regarding the above  referenced.\\nThe following participants are:  Lisa Mellencamp Mark Peterson John Hopley John Enerson Richard Sanders  It looks as though, this Friday, Aug. 13. at 2:00 will be a good time for  everyone.\\nPlease let me know if this time is convenient for you.\\nThe  location will be 38C1.\\n(I tried to contact you by phone today, but your  extension 31406 was forwarded to a non working number).\\nMy extension is 39402, if you wish to call me.\\nThanks\\n'], b'Noram Rigs'], [[b'On October 15, 2001, the Midwest ISO filed an amendment to  Section 17.5 of its Open Access Transmission Tariff to charge  a fee for non-confirmed transmission service requests for  transmission service greater than one week.\\nMidwest ISO  has requested an effective date December 15, 2001.\\nInterventions and protests are due November 5.\\nLet me know if you need further information.\\n'], b'MISO proposed tariff change'], [[b\"FYI, still under discussions between Enron and Light.\\nThis deal is similar to the Duke Call Options we closed last month.\\nI'd rather do it under a Master Agreement and will check with the business guys if we can do so.\\nRgds,  Sami\\n\"], b'Light Call Option of 50MW'], [[b\"Rob, independent of dotted/solid lines, you already have the primary and  complete responsibility to manage the office and the business.\\nAt the risk  of being bold,  I think the undercurrent of your note and your discussions  with Haedicke over the last couple of days is a matter of absolute control.\\nOwnership and passion are important characteristics of our best commercial  people but so is fostering a diversity of opinions and ideas.\\nWith the back  and mid office,  the current Enron model is based upon scale and  standardization which generates tremendous operating leverage.\\nFurther, it  helps us manage risk and is a board mandated control issue.\\nIn the  long-run, it is actually less costly (ie) systems that don't work together,  less transferable human capital, un-managed legal risks, etc.\\nA lot of your points are very valid and Haedicke has never and never will get  in the way of managing commercial business; however, Mark, Wes, Sally, Beth  et al have a mandate to provide a flexible, scalable but standardized  delivery mechanism, that manages our risk across the broad empire.\\nDon't  quit protecting the business and your people; however, please help accomplish  some of these goals as well.\\nIn short, I would like to keep the reporting structures the same.\\nLets take the earliest opporunity to discuss this.\\nRegards\\n\"], b'Reporting Structure'], [[b\"You left 2 TRCO invoice questions on my desk.\\n1.\\nContract 3.3558 - this is a volumetric release from PSNC for CES Retail.\\nThe demand and commodity invoice come in together I believe.\\n2.\\nContract 3.3509 - ???\\nI don't understand this one.\\nTake a look at  k#1.3473.\\nDid we receive a demand charge on 1.3473 and not have the demand  estimated in Sitara?\\nI may need to add 1.3473 and 0 3.3509.\\nLet me know  what you find.\\n\"], b'TRCO invoices'], [[b'Congratulations on your added role of CEO for Enron Europe.\\nI look forward  to continuing to work with you and the staff in London on risk management  operations initiatives.\\nI talk with Brent Price several times a week.\\nI know that Fernley has  appreciated his participation in London, and I hope that you have found his  involvement to be beneficial as well.\\nWe are almost at the half way mark on  his assignment, so I will talk with you next week when I return from Calgary  to get your input on his role to date.\\n'], b'Added Role'], [[b\"...and I was only 30 seconds late for my Parent - Teacher Conference.\\nGreat driving performance by Bob Litterman (yesterday's carpool driver).\\nMarriage still in tact for another day (and another Enron adventure).\\nThanks again\\n\"], b'Thank you one and all for making the Fed Wire deadline...'], [[b'Mark Frevert has reviewed the attached addition to the upcoming  organizational memo and has asked that I forward it to you to be included.\\nThis would be included in the section under Commercial Support, added as an  additional bullet point beneath the one that addresses Business Analysis and  Reporting (I believe that these bullet points are on Page 3 of the draft  memo).\\nPlease call me at x35926 if you have any questions.\\n'], b'Insert for Organizational Memo'], [[b'Have you had a chance to review the draft of this agreement?\\nPlease advise  in order that I can forward same for signing.\\nAlso provide me with the name  of your contact.\\nThanks!\\n'], b'Enron LNG Atlantic Holdings Ltd.'], [[b'Hi Pete,  Can you send me the most recent version of the LV Co Gen facility agreement?\\nAlso, in a separate email could you send me the C of A?\\nI want to make sure  I have the latest, greatest of each.\\nThanks,\\n'], b'LV Co Gen'], [[b'Mr. Kenneth L. Lay, Chairman and CEO of Enron Corp. will not be able to  attend the November 16 - 17, 2000 6th Olympiad of the Mind.\\nIf you have any questions, please call me.\\n713/853-5769  Thank you\\n'], b'6th Olympiad of the Mind'], [[b'David: Just wanted to let you know that Jason is doing a fantastic job helping us  out!\\nHe is eager and willing to do whatever we give him and a quick  learner.\\nYou made an excellent choice and we appreciate it.\\nThanks.\\n'], b'Jason Peters'], [[b\"John:  I received your voice mail upon return to the office this morning.\\nI'm sorry the schedules did not match up yesterday but certainly hope the next opportunity to meet will not be long in coming.\\nI was most impressed with the quality of students interviewed on campus yesterday.\\nLikewise, I have now had a chance to meet some of those we have hired while I was in London.\\nThe high standard clearly continues.\\nConcerning your reference to the annual finance conference, I have kept up with each event from a distance.\\nMemory serving, it has been about four years since the concept was first considered.\\nTime flies!\\nOthers have also said that it is a real success.\\nMany thanks to you and others at Baylor for the time and effort dedicated to date.\\nLet me know when you have plans to be in Houston in the future.\\nI'll do the same when in Waco.\\nPass on my well wishes to others at the Business School including Dr.(s) Rose and Petty.\\nI did have a chance to visit with Dr. Maness by phone and exchanged v-mails with Dr. Rose.\\nAll The Best,\\n\"], b'Hello & Thanks for the Call'], [[b'Attached is revised language to drop in the confirm.\\nJohn:  Please approve.\\nJoe:  edit my margins AND does the preamble of the confirm use the word  \"Agreement\" to define the Master Agreement?\\nTHIS IS NOT AN ISDA!\\n'], b'Statex confirm language'], [[b'Ben, Check this out:  1.\\nGo to MS word and type Q33 NY (the number of the first plane that crashed into the WTC) 2.\\nIncrease the font to 65 3.\\nChange the font to Wingdings Look at what you have!!!\\nMegan\\n'], b'weird thing!!'], [[b'Good Morning Ducky!\\nCheck this out and tell me what you think.\\nIt is a guide as to how the 1st   Ministry of Prayer Open House (if you will) might be.\\n'], b'Ministry of Prayer'], [[b'Dear Phil Your online pledge has been made to United Way.\\nIf the following pledge information is correct, please take no action on this email.\\nIf this information is incorrect, please contact Dorothy Bodino (212-251-2443), immediately.\\n'], b'United Way Electronic Pledge Confirmation'], [[b\"Make sure on the TDS Curve Manager not to hit the    button on the publish sheet.\\nThis button normally brings in the latest version of code, however the latest version does not include information for the 'Y' curve.\\nThis will be fixed after the code freeze that is now in place is released.\\nAny questions or problems, give me a call.\\nRuss\\n\"], b\"Important - GDI  'Y' Curve Manager Issue\"], [[b\"We had previously discussed Stan's group presenting a business unit update at the Dec. 11 Board meeting, and he will begin preparing soon.\\nI recommend we proceed with his business unit review at this meeting, particularly given the important role his pipeline assets play in the debt and equity financings and his other businesses play in the asset sales program.\\nPlease advise if you do not feel this business unit presentation is necessary.\\nI am soliciting agenda items from other areas of the company and will keep you informed.\\nThank you very much.\\nPaula\\n\"], b'Dec. 11 BoD Meeting Presentation'], [[b'Glen, as we discussed, here is the negotiated rate TW deal which TK did today  under Rate Schedule ITS-1.\\nThe term is ONE DAY, Nov. 15.\\nQuantity:  30,000 Dth/day  I know this is a bit unusual.\\nWe are just going to have to ask the FERC for  a waiver of their \"before gas flows\" filing requirement.\\nGiven the price spreads and the shippers\\' willingness to pay more than max.\\nrates for short-term deals, we might have more deals like this.\\nWe probably  need to put our heads together to come up with a better procedure for when  this happens.\\nIt would be so much better if we were able to send tariff  sheets via e-mail to our D.C. office.\\nCall if you have questions or need anything.\\n'], b'Negotiated Rate'], [[b\"As we discussed, attached is a brief description of ENA's and EES' key goals  in California and the actions underway to achieve them.\\nWe'll update the  status report weekly.\\nWe hope that the weekly update will serve as a useful  internal communication tool to keep folks abreast of activities and  developments in CA.\\nIt can also serve as a tool to help identify the need to  modify our goals and/or actions as circumstances change.\\nComments on the form and/or substance of the document and how we can make it  more useful are welcome.\\nBest,\\n\"], b'California Update--12.12.00'], [[b\"I saw that about Mackovic - He's a good fit in the Pac10.\\nWho do you take in  the Orange Bowl?\\nFSU is -11.\\nThat sure seems like alot of points.\\n\"], b'Email'], [[b'Good Morning Sara,  I wanted to touch base with you regarding the CSFB 2001 Equity Swap Basket documentation.\\nSince the last time we spoke here are some of the issues discussed along with some additional recommendations.\\n1) Finalizing the Master ISDA Agreement with Credit Suisse First Boston (Europe) Limited.\\nI see that the status is under Credit Review.\\n2) Definitions: \\ta) Interest Payment Date- should state \"3 business days after the Valuation Date\" \\tb) Reference Price- amend the phrase \"..last regular way trade...\" to state \"...Official Closing Price...\" in (i) and (ii)(b)(iii).\\nc) Securities- Omit the reference to \"Bonds\".\\nThe definition should only read: \"are the securities specified as such in the Confirmation\".\\nd) Valuation Date (s)- October 15, 2001, November 15, 2001, ... October 15, 2002 \\t 3) Section 5.1 (i)- Omit the reference to Bonds.\\nThis section (i) should read: \"If a Security pays a dividend or makes another distribution, the payment to be made by the Seller shall be equal to the gross amount of the cash dividend or distribution per share (excluding for the avoidance of doubt any tax credits), as the case may be, multiplied by the Dividend Percentage, multiplied by the Contract Quantity\".\\nWe should include a definition for \"Dividend Payment Date\" to read, \"The Equity Payment Date relating to the Valuation Date (s) on which the relevant Dividend Period ends\".\\nWe should also include a definition for \"Dividend Amount\".\\nThe \"Dividend Amount\" definition should read, \"100% of all ordinary cash dividends where; (i) the ex-dividend date occurs during the period from the day following the Trade Date to and including the final Valuation Date and (ii) the date on which the related ordinary cash dividend would have been received by persons who held the Shares comprising the Basket during such period is during the relevent Dividend Period\".\\nI believe we should address Section 5.2 \"Potential Adjustment Event\".\\nWe should recommend replacing the language similar to the Intra-Period Adjustment language we utilitized in the Enron Credit Confirmation.\\nTheir section allows CSFB to \"determine\" the provisions of the Intra-Period Adjustments.\\nCSFB should not have control over determining any additonal payment or adjustment of the Opening Price or Contract Quantity.\\nThe Intra-Period adjustment language is comprehensive in covering all provisions therein.\\n4) Schedule to Basket Swaps: \\ta) Applicable Interest Rate Cycle: should read \"1 month\" \\tb) Termination Date: should read \"1 year\" \\tc) Business Day Convention: should be the standard ISDA \"Modified Following Business Day Convention\" language.\\n5) We should also include the Annex structure to be able to monitor the positions held, along with any subsequent adjustments, in the Equity Swap Basket at any time throughout the deal.\\nPlease advise if you like to meet to discuss the documentation in further detail.\\nRegards,\\n'], b'CSFB 2001 Equity Swap Basket Documentation'], [[b\"I attach an updated list (to Feb 5) of the terminated contracts to date.\\nF= or informational purposes, I have added a column that sets out the settleme= nt dates for contracts we have settled, so there may be some additional cou= nterparties added to my previous list where there was no ECC agreed termina= tion date but we have settled and terminated (no one needs to do anything f= or these c/ps).\\nAgain, the first table sets forth the physical contracts t= hat have been terminated and the second sets out the financial contracts, a= nd all data reflects ECC's (not the counterparties') perception of the worl= d.  I have vetted my list against Blakes' master list and believe this is a= ccurate in all respects.\\nAs I indicated in my previous e-mails to you ther= e were a few date discrepancies and I have previously provided you with the=  corrected dates for El Paso, Marathon, AEC Marketing, Calpine (Encal), Wil= liams Energy and Baytex (all physical), all which are now correctly reflect= ed in the attachment.\\nA few others that were not previously on the list in= clude Coast Energy (physical) which auto terminated on Dec 2 and PrimeWest = Energy (physical) which auto terminated on Dec 2.\\n=20  Thanks\\n\"], b'Terminated Counterparty Contracts'], [[b\"Sometimes I have brilliant ideas and this may not be one of them.\\nAlso, it  would be nice if Jennifer had a singing role but I know how kids can be so  don't you worry.\\nI'm not implying that Zachary shouldn't sing (or take on an  acting role as well)  because that would be even better.\\nOr we could do a  quartet.\\nWhatever.\\nBut you ,dahling, are the centerpiece here because Mother and Daddy like you  best.\\nSo here are my preliminary thoughts for an Irving Houston off-Broadway  play.\\nNaturally this is based on an Ada & Mike premise.\\n(1)  This old suitcase  (Daddy packed the Louis Vuitton without wheels a WEEK  early but Mother wouldn't let him close it and then it wouldn't close) (2)  Lovely Linda  (you remember Linda, don't you?)\\n(3)  Hi Debba, Hi Sara  (what's the story, morning glory, etc.\\nand of course  this is the information hot-line and Mother's source of e-mail)   I'm sure I'll have many more brilliant ideas over the weekend but I wanted  you to be the first to share these ideas with me.\\nSas  Hope Phoenix was facializing and massaging (and fun to boot)\\n\"], b'\"Best Play of the Millennium\"'], [[b\"For once I remembered.\\nHope you have a good one and all is going well.\\nIt  was nice to see ya'll at Christmas.\\nTell Terry that Mom and Laurie loved the  trunks.\\nI was quite happy with the A&M cardholder as well so let Jason and  Erin know for me.\\nToo bad the Aggie lost that wild one in Shreveport (could  you believe that snow).\\nConrats again on your appointment to the board of  the KofC.\\nHope 2001 is a superb year for you.\\nRegards,\\n\"], b'Happy Birthday'], [[b\"I've tried sending this 3 times.\\nPlease see if you can figure out the  problem.\\nI've used the autoaddressing and his long internet address.\\nIf all  else fails, just print and have it delivered, I guess, or send it to his  assistant.\\nThanks,\\n\"], b'Confidentiality agreement'], [[b'Sara: Here are drafts of the Certificates and Sight Drafts for Niagara Mohawk, El Paso electric, LG&E Energy Marketing and Energy Production Corp. (just in case it wasn\\'t renewed).\\nI have put together files for each of these that include copies of the LC, the underlying trading docs and any correspondence that has been sent.\\nExcept for Niagara Mohawk which requires copies of the invoices and that the certificate be on \"letterhead\" there don\\'t appear to be any other special requirements.\\nLeslie Reeves will be faxing the invoices to us.\\nI will be in tomorrow until around 11.\\nThanks for your help on this.\\nAll of these docs are in a file called Enron Restructuring.\\n'], b'LC Docs'], [[b'In preparation for the upcoming move to Enron Center South we are moving your Home Directories to a new trading cluster.\\nWHAT YOU NEED TO DO: This will occur for you this EVENING after 6:30PM.\\nWe will need to restart your computer in order to complete this action.\\nPlease log out or your computer by 6:30PM, if the machine is not logged off we will reboot the machine in order to complete these actions.\\nSave your data before going home this evening.\\nIf you have outstanding circumstances and cannot be down, please speak to the tech when he comes to your desk.\\nHERE ARE A FEW OF THE BENEFITS OF THIS ACTION: Newer, more stable environment More disk space available for common data Faster network connections    HOW THIS WILL EFFECT YOU: If you are a laptop user and have to work at home, you should save any work to your \\'C:\\' drive on the laptop.\\nDO NOT use the \"My Documents\" folder.\\nWhen you return to work and reconnect to the network, any changes made to files/folders in the \"My Documents\" folder may be deleted from the laptop.\\nLaptops reconnecting to the network for the first time will receive a synchronization error.\\nRESOLUTION: Please call the Resolution Center (x3-1411) and they will correct the problem ASAP.\\nWe will have additional Technicians available on the floor if the Resolution Center has any problems.\\n'], b'IMPORTANT!  Actions needed Tuesday.'], [[b'Due to the sale of HPL we will be modifying  the General Terms and Conditions (\"GTC\") governing all North American physical natural gas transactions on EnronOnline, on Nov 5th.\\nThis will require all Counterparties\\' not having a Master Agreement governing Physicals to accept the revised GTC in order to continue transacting in these Physicals.\\nIn order to ensure minimal disruption to trading we are taking the following steps.\\nThere will be a pop-up announcement to this effect on EnronOnline on Monday Oct 29th  There will be a ticker with the same information all week , next week on EnronOnline.\\nThe modified version of the GTC will be available on EnronOnline all week, next week for any customers wishing to have their legal departments review it before they accept it.\\nThe EnronOnline marketing group will be contacting customers who had previously accepted the GTC to make sure they are comfortable with the changes.\\nIf you need more information or have any questions please call me at X 31787 Savita\\n'], b'ENRONONLINE- GAS PHYSICAL GTC CHANGE'], [[b'Well, it\\'s upon us again and that means X-Mas party.\\nJoseph and I have begun (barely) to plan for this year\\'s festivities.\\nBut  before we get to far along, tried and true democratic (small \"d\") principles  call for a wee bit of polling.\\nBecause we\\'re already in the middle of October we need your responses  pronto.\\nIf we don\\'t receive your responses by COB Thursday, then democracy\\'s  out the window, and good ol\\' dictatorship takes over.\\nOf course, it will be difficult to grant everyone\\'s wishes, but all  suggestions will be given great (and equal) weight.\\nHere are the questions:  Would you prefer just dinner, or dinner plus an activity?\\nJoseph and I are leaning toward dinner and an activity, but wanted to hear  from other folks.\\nIf yes, Joseph has come up with a couple of very fun ideas  for an activity but suggestions are greatly encouraged and welcome.\\nSame  goes for a restaurant (understanding that the choice of activity may  influence where we eat).\\nSue has put in her vote for Fleur de Lys.\\nShould we try to organize the event with the rest of the SF office (i.e., EES  and ENA) or confine it to GA?\\nShould we expand to include Western GA or keep it to SFGA?\\nWe choose for dates the 7th or 8th or 14th or 15th of December.\\nWhat\\'s your  preference.\\nIs there a day that just won\\'t work?\\nJoseph, if I\\'ve missed anything, please tack on.\\nBest,\\n'], b'That Joyous Time of Year'], [[b\"Tana: As we discussed, here is my list of amendments that are according to my  records in various stages of negotiation:  1.\\nAllegheny energy - Patricia Clark sent to Frank Davis her comments on June  15th by e-mail.\\nI responded on June 19th and have never heard back from  her.\\nMost of her comments we could not accept.\\nNone of her comments have  been run by Dave.\\n2.\\nImperial Oil -  Grant Oh was handling this.\\nThey had 3 comments.\\nmost of  which we could not accept.\\nI spoke with Grant about this around June 6th and  have never heard back from him.\\nNone of their proposed changes have been run  by Dave.\\n3.\\nKennecott Coal Sales Company - A draft amendment letter which Dave F. has  approved was sent to them on May 15th.\\nMy contact there is Jim Sobule  Wayne  Gresham is alos involved in this.\\nI have never heard back from Jim.\\n4.\\nArco - We received by e-mail comments from David Dyck at Arco in March.\\nTori Kuykendall and Grant Oh are involved from the Enron side.\\nI responded   to David Dyck by e-mail on March 10th and have never heard anything further  on this.\\nNone of their comments or my response has been reviewed by Dave.\\n5.\\nChevron - Canada - I received a letter from Bruce Borwick  on January 31st  which I responded to and have never heard anything further from them.\\nDave  has not reviewed their comments or my response.\\n6.\\nCargill - I sent to Mike Pederson a form of amendment letter which I don't  think has been signed.\\nThey wanted a minor change to the confidentiality  language.\\nDave has not seen this but in the event that Cargill comes back to  life, i doubt that he will have a problem with it.\\n7.\\nCinergy - I sent a draft amendment letter which dave approved to John  Dirheimer on May 15th.\\nTo my knowledge it has not been signed.\\n8.\\nDuke Energy - I sent a draft amendment letter to John Puett on May 15th  which Dave approved.\\nTo my knowledge, it has not been signed.\\n9.\\nTalisman - we have been exchanging drafts of a revised ETA for months.\\nMy  contact there is Ann Love.\\nWe are close to reaching agreement with them and  mark has been involved in some of the early discussions.\\nI am sending to  Dave a mark-up of the revised agreement for his approval.\\nAll of the ETA amendment letters and the Talisman revised ETA are in my  directory under specproj/online.\\nCarol\\n\"], b'Status of Online Amendments'], [[b\"Please plan to attend a discussion concerning the Enron Corp exposure to ETS, Tuesday, November 27, 8:30 a.m. to 9:30 a.m.\\nThe areas for discussion will be Pipeline - FERC issues of non-discrimination; Loan Agreement/Covenants; and Partnership Fiduciary responsibilities.\\nThe meeting for the Houston attendees will be in Rod's office EB 4054 and for the Omaha attendees, Jerry's office.\\nWe will make the call to Jerry's office.\\nIf you have any questions.\\nplease advise.\\nRegards.\\n\"], b'Enron Corp. Exposure - ETS Meeting November 27, 2001'], [[b\"Brant: Just a reminder that we need to discuss matters relating to Occidental (their  proposed change to the MAC language) and Chautauqua Airlines.\\nAlos, with  respect to Aquila/Utilicorp,  apparently they cannot have all of the online  paperwork completed until next Tuesday.\\nThey submitted a PA today but the  guy that needs to authorize the sub-user accounts is not in the office until  Tuesday.\\nThe current plan would be for them to do that on Tuesday and then  to make the switch from Aquila to Utilicorp effective next Wednesday.\\nI'll  keep you posted but we still have not declared the Utilicorp ISDA effective.\\nCarol\\n\"], b'reminder'], [[b'Mike,   In response to your voice mail, yes the change from Enron Capital & Trade  Resources Corp. (ECTR) to Enron North America Corp. (ENA) was a name change.\\nThe Global Contract No.\\nfor the ENFOLIO Master Purchase/Sale Agreement for  General Service Customers - Houston, East Texas and Gulf Coast Divisions  dated effective as of April 1, 1999 between ECTR and Entex, a division of  Noram Energy Corp. is 96019120.\\nThe Global Contract No.\\nfor the ENFOLIO Master Purchase/Sale Agreement for  Large Commercial and Industrial Consumers dated effective as of May 1, 1995  between ECTR (assignee of HPL Resources Company) and Entex, a division of  Noram Energy Corp. is 96004582.\\nThe Global Contract No.\\nfor the ENFOLIO Master Purchase/Sale Agreement dated  effective as of May 1, 1995 between ECTR (assignee of HPL Resources Company)  and Unit Gas Transmission Company is 96002879.\\nPlease call me at (713) 853-6895 if you need anything further concerning the  foregoing.\\n'], b'Entex Performance Guarantee'], [[b\"Shelley, Sheila, and Galen,  Attached is an excel workbook with worksheets for each individual month's imbalance calculations.\\nPlease call or email if you have any questions.\\nThx, Jim\\n\"], b'Imbalance worksheets'], [[b'Frank,  This email will confirm that MidAmerican will not be paid for the November gas purchase amount of $1,558,687.65, since they have already shortpaid their transportation invoice by this amount.\\nI spoke with Mark Walton in Finance this afternoon, and he said that they are aware of the situation and have already taken the appropriate actions to cancel the wire transfer that would have gone out to MidAmerican later this month.\\nAlso, FYI,  I did check with the Contracts Group about payment terms in GISB agreements.\\nSection 7.2 of the GISB form stipulates the payment date as being the 25th day of the month following the month of delivery.\\nI spoke with Renee Perry in Gas Logistics this afternoon, and she is looking into compiling an invoice for finance charges on the balance shortpaid for the period November 12th - November 25th.\\nPlease call me if you need further information.\\nThanks,\\n'], b'MidAmerican Gas Purchase Payment'], [[b'Please note this meeting has now been rescheduled for Thursday, November 15, 2001 from 1:00 - 3:00 PM in EB49C2.\\nFor Omaha participants this meeting will be in OMA 7C2.\\nPlease mark your calendars.\\nThank You,\\n'], b'How are we doing and what are my issues meeting?'], [[b'Dear Board Members:  Lekha and I are hosting a Customer Appreciation Dinner at my house and would like to invite you and your spouse.\\nThe dinner is by special invitation to our top 100 customers.\\nIt is scheduled the evening of our Board Meeting, Wed., 24 Oct at 7pm.\\nThe next morning we will have our Five.Two presentation.\\nYou are invited to attend any of these functions.\\nPlease let me know if you are able to attend.\\nWe would be happy to arrange any transportation/hotel that you may need.\\nRegards,\\n'], b'Invitation'], [[b'Citizens is initiating the process to terminate our agreement.\\nThey will likely recall the capacity on TW and terminate our agency relationships with EP and TW.\\nThey want to know if we are continuing to deliver gas.\\nCan you call Sean and tell him?\\nC\\n'], b'Citizens'], [[b\"Karen,  I have forwarded all the resumes to Charlene Jackson about 10 days ago.\\nI am resending 4 resumes (in the case of Paolo it's a copy of his E-mail  message) I have in electronic format.\\nThe resume for Gappy will be faxed to you.\\nThanks for your help.\\n\"], b'Resumes'], [[b'Judge says Enron has to give up documents  By Emily Bazar Bee Capitol Bureau (Published Sept. 7, 2001)  Enron Corp. must turn over sensitive internal documents to state legislators, a Sacramento judge ruled Thursday, but only after the two sides agree to a court-approved confidentiality agreement.\\nFor months, a special Senate committee investigating electricity price manipulation has been issuing subpoenas and gathering documents from power generators and marketers.\\nDuring the process, the committee has found three companies in contempt for resisting the subpoenas, including Enron, which fought back with a lawsuit asking the court to intervene on its behalf.\\nIn his ruling stemming from the suit, Sacramento Superior Court Judge Charles Kobayashi said he wasn\\'t convinced that \"the Senate committee will be able to maintain the petitioner\\'s right to confidentiality.\"\\nAs a result, he ruled, those documents handed over by Enron that contain legitimate trade secrets must be protected by a confidentiality agreement.\\nIn his ruling on another Enron motion, however, he denied the company\\'s request to quash the committee\\'s subpoena.\\nStill, Enron officials considered the judge\\'s findings on the whole a victory.\\n\"We had no certainty that anything we handed over to the Senate would remain confidential,\" said Enron spokeswoman Karen Denne.\\n\"We were not receiving due process from Senator (Joe) Dunn\\'s committee.\\nThey were acting as judge and jury on this issue.\"\\nDunn, D-Santa Ana, who is the committee chairman, said he \"respectfully disagrees\" with the judge\\'s decision on the confidentiality agreement, which he said will be reviewed in the next few days by the Legislature\\'s lawyers to determine whether an appeal should be pursued.\\nAnother Enron motion seeking an injunction against the committee will be heard in court next week.\\nEnron is one of three companies that have been found in contempt by the committee.\\nHowever, the committee purged its contempt finding against Mirant in July after the company complied with the committee\\'s requests.\\nThe committee was poised to expunge its contempt finding against Reliant Energy Inc. on Thursday as well but couldn\\'t draw enough senators for a vote.\\nDunn delayed the action until the next meeting.\\nAs for the contempt charge facing Enron, the Senate Rules Committee is scheduled to review the findings Monday and possibly make a recommendation to the full Senate.\\nShould the full Senate also find Enron in contempt, it would determine what punishments, if any, would be levied.\\nDunn said he believes fines would be the most appropriate punishment.\\n'], b'CA Energy Issues'], [[b'I\\'ve simulated the Aggregate power portfolio\\'s VAR with the BPA contract (approx.\\n$51MM) as a stand alone (approx $3MM) and with the BPA position reversed out (approx $49MM).\\nOnly issue seems to be that the VAR related to the position per credit Agg does not \"tie\" with VAR related to position in Enpower - I\\'m attributed this to the peak/off peak simulation difference.\\nSpecifically, the credit agg file does not define what was peak or off peak, whereas file from Enpower did, resulting in more accurate measurement of risk.\\nBottom line is that BPA removal appears to be risk reducing.\\nFrank\\n'], b'BPA removal'], [[b'We now have a computer set up so you can view the TradeSpark website.\\nIt is  located in a cubicle across from the C-1 conference room (on the side  opposite of me, at EB3858D).\\nSince it has taken us so long to get access  into this website, it is critical that each of you review your products  descriptions of the website AS SOON AS POSSIBLE.\\nCan you each please confirm  to me that you have completed your review and if you have any issues with the  product descriptions please pass them on to Sheri Thomas with EnronOnline.\\nIf for any reason you continue to have computer problems, please call Jason,  our floor computer tech, ASAP.\\nThanks for your prompt attention to this!\\n'], b'Tradespark PC'], [[b'Attached is your morning research report for Friday, August 31, 2001.\\nPlease contact me if there are particular companies or sectors that you are interested in hearing from.\\n(713-853-2407)  Thank You,\\n'], b'fbsummary.pdf'], [[b'John,  Many thanks for agreeing to speak at our YPO session on April 24, 2001, in= =20 Houston.\\nThe meeting will be held at Enron Broadband Services=01, network= =20 equipment staging building, which is close to downtown.\\nWe anticipate=20 attendance of about 100 people.\\nBreakfast will begin at 7:30 a.m., and the program will run from 8:15 a.m. = to=20 10:15 a.m.\\nThe subject is \"New Trends in Technology and Venture Capital.\"\\n= =20 You will be on a panel discussion with two other venture capitalists.\\nI=20 expect the tone will be highly informal, but I will schedule a conference= =20 call (probably in early March) to provide more details and specific topics = of=20 interest.\\nAgain, John, thank you.\\nI look forward to seeing you in April.\\n'], b'YPO Panel, April 24, 2001'], [[b\"Not surprisingly, the organization is moving faster than Rick Buy's vacation  schedule.\\nOur meeting is set with Mark Frevert, Rick Buy, you and me on  August 28 -- two weeks from next Monday, dictated by Rick Buy's schedule.\\nI\\n\"], b'Meeting with Mark Frevert - Should We Move It Up?'], [[b'John: Sara and I would like to hold another lunch with your group on Friday, May  5th to go through in detail how the ISDA and CSA Masters and Schedules work.\\nCould you please take a look at this list and let me know of any additions or  deletions?\\nThanks.\\nCarol  Bill Bradford Debbie Brackett Tanya Rohauer Rod Nelson Russell Diamond Veronica Espinoza Tracy Ngo Brant Reves Kevin Radous Tom Moran Christopher Smith Lesli Campbell Cathy Tudon Nidia Martinez Molly Harris  Thanks.\\n'], b'Credit Group Lunch'], [[b'I am planning a trip to BA from Feb. 27 - March 3.\\nThe objective will be to  present derivatives training for the BA traders, meet with tax and legal  representatives and the Argentine Derivatives Association with respect to  changing tax laws, legislation, and \"local\" derivatives trading, and sitting  down with Mike Guerriero to establish an \"action plan\".\\nThe monthly swap  calendar does not indicate other lawyers out of the office during that week.\\nPlease note this on the group calendar.\\nThanks.\\nSara  P.S.\\nMark - let me know if there are other issues you would like to have  addressed.\\n'], b'Trip to Argentina'], [[b'Contract 04603 was suspended at 11/30/2001 08:35:46   PG&E National Energy Group and any other company referenced herein that uses the PG&E name or logo are not the same company as Pacific Gas and Electric Company, the regulated California utility.\\nNeither PG&E National Energy Group nor these other referenced companies are regulated by the California Public Utilities Commission.\\nCustomers of Pacific Gas and Electric Company do not have to buy products from these companies in order to continue to receive quality regulated services from the utility.\\n'], b'e-Trans Contract Administration'], [[b\"In the wake of Tuesday's tragic events, from which we are all still reeling, we are temporarily suspending our Eyeforenergy subscriber services.\\nWe would like to take this opportunity to convey our deepest condolences to all of our friends in the energy community who have lost friends, colleagues or loved ones as a result of this terrible disaster, and our thoughts are with you.\\nThe Eyeforenergy team.\\n\"], b't,h: Eyeforenergy Special Notice'], [[b'Victor,  As discussed, we need to engineer a tie-in to Peerless so that we have a way to periodically turnover (by selling) our fuel oil inventory to before it goes bad.\\nJames McMillan will forward to you a scope of work and cost for an engineer to go to site to develop the tie-in design.\\nThis cost should be between $5 and 10K.\\nOnce finalized, please issue an Eco PO to perform this work.\\nRick\\n'], b'Fuel Oil Tie-in to Peerless'], [[b\"I guess we all do care about the AGA number.\\nIf the number is low due to the increasing difficulty companies are having injecting gas, I believe it.\\nOur system is very full right now.\\nTherefore, no excess injections for tomorrow.\\nIT through Concord for 100,000 dth.\\nExcess withdrawal's and IAS gas is available for 100,000 dth.\\n\"], b'Capacity for the 26th'], [[b'Ken:  Mark H. asked me to forward to you this initial draft term sheet.\\nWe would  like to talk to you, and presumably one of your colleagues, tomorrow  regarding the possible antitrust implications of the proposed structure.\\nPlease give me a call and we can schedule a time.\\nThanks,\\n'], b'Project Bigtoe'], [[b\"I think most of you know that we gave Jeff a gift certificate for Forno's, which came with a free night of babysitting, by me.\\nWe also gave trophies to the assistant coaches.\\nI know some of you have reimbursed me.\\nIf you have not and would like to do so, (naturally, it is purely voluntary), please send $10 to:  Beth Hurst 502 Regentview Dr. Houston, TX   77079-6909  Thanks, Beth\\n\"], b'Coaches Gifts'], [[b\"Hi Lindy.\\nSorry I've not yet set up the meeting on imbalances...I feel I am  still lacking focus so thought I'd run this by you for your comments before  inviting people.\\nFirst of all, I believe the general topics we wanted to address were:  - imbalance netting & trading - mandatory use of Park N Ride service for out of balance operators - hourly determination of imbalances  Is this correct?\\nNext, the list of attendees:  you, me, Darrell, Richard Hanagriff, Sheila  Nacey (or someone else she designates).\\nAnyone else?\\nAs far as timing, I am very flexible, so let me know what works for you, and  I'll get it set up.\\n\"], b'imbalance meeting'], [[b'Dan does not know what this contract is used for.\\nI think it has (or had)  something to do with the Boston Gas contract.\\nWe currently use k#29667 for  that.\\nI would like to terminate deal 77257 effective 6/30/2000.\\nComments / questions?\\n'], b'Tenn K #23231 (deal 77257)'], [[b'The Perd is a problem because it cost $10,000 per year to maintain.\\nI guess  Mom is (justifiably) tired of paying this when it has been used twice in six  months.\\nThere is really nothing more to it than that.\\nWhen we1) all get a  little older and our kids can play unsupervised,2) are less busy and3) have  our spiritual leader back in the land of the round eye, then we will use it  alot more.\\nNo one is seriosly considering selling the joint, save  Yvonne.\\nI can probably take off two weeks in August next year to do something stupid  w/ you.\\nJuly and June are bad because Julie will be in Montissori training  school in Austin.\\nWe should do something bold, exciting--not Colorado  or\\n'], b'stuff'], [[b'Sir  I am an Enron employee.\\nI tried to send this e-mail using name of your high office as e-mail ID, however the same came back as undelivered with the fatal error message from server.\\nSince the matter is very serious, I am respectfully marking it to your direct attention and consideration.\\nWith Kind Regards  Ravi Garg\\n'], b'Dabhol India - Illegal Action and Criminal Conduct / violation of  human rights'], [[b\"Hi there,  I believe Chris should be back today, so I wanted to follow up on this.\\nI don't have any recollection of where we left the escrow agreement with NW.\\nPlease get with MKahn or Jerry DeBerry to see if we can get consensus on the  current form of escrow agreement.\\nOnce we have that, Enron (Chris) will make  contact with Citibank.\\nThanks,\\n\"], b'NW escrow agreement'], [[b'Mark,  I have attached a document which contains the long descriptions for Canadian Daily Nat Gas options.\\nThe trader will be using Options Manager on these products and because he has to choose an exercise date, he will choose a middle of the month business day.\\nHowever, there will be an option per day during the term.\\nPlease review the descriptions the trader put together and let me know your thoughts.\\nKevin Meredith\\n'], b'Canada Gas options'], [[b'I have spoken with Calger about us going through the West Power contracts with his team next Tuesday through Friday.\\nThey are gathering an extended set of information (including the items on the current matrix) on their top 25 exposures.\\nThe top 25 exposures include the top exposures under Master agreements and in many cases include numerous contracts.\\nChris said that the 26th exposure was about $10MM and one would need to get to about the 50th exposure to get below $1MM.\\nI asked him to forward down whatever they had completed to date so we could get educated and keep a central file.\\nHe is also going to forward a call in number for a conference call tomorrow so we can begin to get educated on the current effort.\\nLorraine Becker (ext.\\n31680) will be handling travel arrangements.\\nPlease forward your credit card # so she can complete the reservations.\\n(P.S.\\nPiper is getting verification from Bowen regarding travel expenditures.)\\n'], b'West Power'], [[b'Gerald and Stacy -  Attached is a worksheet for a new master physical with Berry Petroleum Company.\\nPlease prepare draft at your earliest convenience and contact me when ready.\\nI am getting the email address of the Berry Petroleum person to whom we need to send this.\\nThanks,\\n'], b'New Master Physical'], [[b\"Let me check with Mr. B.  I don't think we have any specific plans - probably  last minute shopping/wrapping.\\nWe're both leaving on Thurs.\\nand returning on  Sun.\\n\"], b'Christmas Eve Eve'], [[b'We need to protect the flows to Citizens on TW.\\nI know you guys have been working on this, but Citizens continues to receive cuts.\\nPlease secure the supply off of TW.\\nLet Sempra know that IB Link gas will not do.\\nThanks,\\n'], b'Citizens flows on TW'], [[b'1.\\nAt the end of the \"Notice of Exercise\" clause, ass\"(but not both)\"  2.\\nInstead of \"Additional Provisions\", insert the following:  Special Provisions:  Notwithstanding the foregoing, the exercise by the Buyer  of the option to enter into either Underlying Transaction I or Underlying  Transaction II is conditioned upon (i) the execution by the parties on or  before the Expiration Date of an ISDA Master Agreement and (ii) Enron Corp.  Risk Assessment and Control approval [of what?].\\nIn the event that  either/both (?)\\ncondition is not satisfied prior to the Expiration Date, this  Transaction shall terminate on such date without further action or payment  required by either party.\\n'], b'Re-Box'], [[b\"Hello Scooter,  Hope you had fun on your three dates this weekend!!!\\n(you slut!)\\nYou know I am jealous.\\nPeggy says not to spread yourself too thin!!!!\\nYou would not believe how cheap it is here.\\nToday at the musuem I had a sandwich, snickers and a cafe latte for $1.50!!!\\nA three course dinner last night cost $3.00.\\nThe bad news is that your gift cost $0.20!!\\n(ha, ha)  I really haven't bought it yet.\\nTake Care,  Miss you,  Julie  :-)\\n\"], b'Hello from Prague'], [[b'The following items were presented in last week\\'s change control meetings....  Nov. 29 Shared Folder Move \"Common\" located on GTA\\\\SYS2\\\\ will be moved to GTHOU-DV01\\\\data1\\\\Transfer.\\nIn an effort to migrate the remaining GTA Common folders from the old GTA server to our current Windows 2000 server, GTHOU-DV01\\\\Common, we are asking you to do the following: ?\\nReview the folders on gphou-nwgway1\\\\gta2\\\\Common.\\n?\\nIdentify the folders you are currently using.\\n?\\nReply back with a list.\\n?\\nOnly the folders identified on the reply back will be moved!\\n'], b'ETS and Corporate Change Control'], [[b'The information contained herein is based on sources that we believe to be reliable, but we do not represent that it is accurate or complete.\\nNothing contained herein should be considered as an offer to sell or a solicitation of an offer to buy any financial instruments discussed herein.\\nAny opinions expressed herein are solely those of the author.\\nAs such, they may differ in material respects from those of, or expressed or published by on behalf of Carr Futures or its officers, directors, employees or affiliates.\\n?\\n2001 Carr Futures  (See attached file: HUHJ Seasonal.pdf)  - HUHJ Seasonal.pdf\\n'], b'HU Seasonal'], [[b'As you both know, we are working on the launch of Phase III of EnronOnline.\\nSince we will be making changes to the website we are currently reviewing all content online.\\nThis is an opportune time to make any necessary changes.\\nI have attached the Legal and Privacy section for your review.\\nIf you have any questions, please give me a call.\\nThanks,\\n'], b'EnronOnline Phase III'], [[b'CONFIDENTIAL AND LEGALLY PRIVILEGED  Vicki \\t Many thanks for your assistance yesterday.\\nClinton Energy Management Services, Inc. because it holds a current power marketing certificate is an entity which we would like to move to being a direct subsidiary of Enron Corp. to take effect today.\\nThis is considered to be an essential part of restructuring to meet our current and future needs.\\nWhile the day to day control will remain where it is and all the efforts assign contracts and other work should progress as planned, since the value to Enron Corp. is the power marketing certificate nothing should be done to jeopardize this.\\nIn addition we will be changing the charter and will need copies of the existing charter to effect those changes required.\\nPlease call me if you need to discuss this further.\\nKind regards,\\n'], b'CONFIDENTIAL AND LEGALLY PRIVILEGED'], [[b'Group,  Our deal with EES has changed.\\nAs Ryan indicated in his email we are now charging $3 for EES up to 100 mws, above 100 mws to  200 mws we are charging $4, above 200 mws per hour we are charging $5.\\nHowever, when we have transacted with EES for a peaker product or day-ahead schedule we will not integrate our fee into their price for that quanity of mws.\\nI will indicate in an email to you when this occurs.\\nThis is a bit complex but if you have questions just let me know.\\nAlso, EnMax has recently been buying energy from us at the BC Border.\\nThis turned out to be a \"Canadian\" firm purchase on the part of Enmax.\\nPlease do not fill any sale to EnMax with MPC energy.\\nWe need to treat EnMax just like ECC.\\nWe should buy an option or a call and then exercise that option.\\nMPC does not have this capability and should not be used in this manner.\\nFinally, the NW evening peak has arrived.\\nThe NW has been extremely tight through morning and evening peaks, often over $30 to pick up...  Any questions, just let me know.\\nThanks,\\n'], b'Changing Deals and Counterparties--'], [[b\"Here is my initial perspective.\\nI am still waiting for call backs on some information.\\nBull Case Best positioned among emerging backbone carriers Core network build done Cash EBITDA positive (adjusted for IRU sales) Broad network coverage Reasonable liquidity: $2.6B forecast YE01 Potential upside $21   Bear Case: Extreme capacity supply/demand imbalance Pricing pressure, no apparent elasticity Low visibility in IRU and dark fiber sales business (28% revenue) $9B debt & pref Hard to make a constructive case on demand in intermediate term Potential issue with cash movement between Parent and Subs, covenant test Seems fairly valued on peer group risk-adjusted basis, absolute fair value $6  Conclusion: Debt yielding 23%, why would you buy equity?\\nProbability of recap: 50% Chance of survival without restructuring: 25%  If a proposed deal involved some cash exchange for equity upside I would be hard pressed to recommend that transaction.\\nI don't understand all the dynamics of a deal so if you want me to do any more in-depth work let me know.\\nI will pass on the additional information as I get it.\\nRegards,\\n\"], b'View on Global Crossing'], [[b'Mark, Brian, and Steve, \\tFurther to my conversation two weeks ago with Mark, I would like to schedule a visit to Denver 11/19-20.\\nAs a reminder, Business Controls is looking at the security posture of Enron facilities worldwide.\\nCurrently, we are focusing our resources on domestic sites.\\nAt the moment, I am planning for one of our IT specialists to travel from Portland to assist me with reviewing IT back-up procedures, recovery, and continuity issues.\\nIf I could impose on you to provide some information about the office, it would greatly help in our planning.\\nIn particular, could you briefly describe the office(s); physical location, which floor, how large, how many employees, and any other Enron subsidiaries or offices in Denver.\\nAdditionally, would you be our point of contact, or can you designate someone?\\nThank you in advance for your attention to this matter.\\n'], b'Denver Visit'], [[b'So far I have talked to everyone but Heather.\\nAs I mentioned Nick was much = better than I anticipated.\\nHe said things were a little slower than he was = expecting but nothing else.\\nThe point I wanted to get across to him was to = take the initiative in working with Jeff and getting more involved within o= ur group.\\nFran was a little unusual.\\nShe was concerned about having to wait each morn= ing before running liquidations because we are not flat and she felt that i= t was a bad reflection on the group if we reported late.\\nShe was also conce= rned about the Enpower QandA meeting and why none of the West issues had be= en taken care of that have been sitting there for a couple of months.\\nShe a= lso couldn\\'t understand why it mentioning your name before they would take = the index option out of the PCS.\\nShe just wished that if Bill Crooks requir= ed your approval then he should say so.\\nFinally, while she has seen some im= provement with Heather, she is still a little unhappy with her.\\nShe feels t= hat Heather is not doing her part in helping with the day to day routines e= nough, disappears for a while,etc.\\nI told her that I would talk to Bill abo= ut the status of our projects, that we need to run liquidations by 9 each m= orning no matter what and I will address the issue with Bill Williams and T= im only if necessary.\\nHeather\\'s issues I was going to address anyway, so we=  will see how that goes.\\nI did tell Fran that she has really stepped up and=  become a \"lead\" in this group and that she is doing an outstanding job.\\nI = also mentioned to her that I talked to you about the work status thing and = she was very grateful for that.\\nI asked what her long term goals were and s= he thought at some point about getting into structuring and maybe doing tha= t in Houston!\\nI was surprised by that comment.\\nSam\\'s went fairly well.\\nHer only concern was regarding team spirit.\\nNot wha= t I thought it meant thought.\\nShe really means interaction between people, = so I have suggested that we go more regular meeting depending on what proje= cts are going on within the group.\\nShe also is comparing herself to Fran an= d the learning curve.\\nShe wanted to know how she could learn more like what=  Fran has done.\\nThe only thing that I see as different between the two is t= hat Fran has been heavily involved with the index and Asian options.\\nI reco= mmended that Sam take on some of these \"testing duties\" and she was happy a= bout that.\\nJohn\\n'], b'reviews'], [[b'Louise -- The Houston legal/regulatory group is working with the UBS legal department to obtain from the London branch of UBS AG a power of attorney which will expedite the execution of agreements and other signature documents involved in starting the energy trading activities.\\n(I will provide you specific information on the nature of this power of attorney as soon as I obtain it.)\\nTo get this in place as soon as possible, we\\'ve been asked to provide backup information with sufficient specificity that the nature of each relationship/contract and counterparty is identified.\\n(Example 1: \"Wholesale power trading master purchase and sale agreement with Duke Energy Trading and Marketing L.L.C.\\nand related transaction confirmations\".\\nExample 2: We would specify the contract and counterparty for each of the 44 gas pipelines which we need to utilize for gas trading operations in ERCOT).\\n'], b'Power of Attorney re UBS AG energy trading activities'], [[b'Dear Mr. TenHave,  We are in receipt of the above referenced letter addressed to Mr. Jeff  Skilling.\\nAt this time, Enron has no interest in investing in prime  timber/woodlands.\\nWe do, however, thank you for the opportunity and wish you  success in this endeavor.\\nRegards,\\n'], b'Letter dated November 28, 2000'], [[b'Susan:    Just a reminder that our meeting is at 10:00 am on Wednesday, 38C1.\\nPlease  confirm that you will be able to attend and speak to us re:  tax issues for  derivatives.\\nI am glad to assist in any way.\\nThanks.\\n'], b'Swap Group Meeting - Wednesday, April 4'], [[b'Attached are the revised agreements based on our discussion prior.\\nPlease  review and if everything  looks good, I will prepare executables for MidCon.\\nPlease note the following revisions:   1.\\nMidcon installs, owns, and operates the Deer Park Interconnect.\\n2.\\nHPL installs, owns, and operates the Flagstaff Interconnect.\\n3.\\nIf the pressures committments are violated in accordance with the terms,  the violating party pays the others cost incurred at that interconnect.\\n4.\\nEach Party still entitled to 1/2 capacity at each interconnect.\\nPlease call if you have any questions.\\nx-33512.\\n'], b'MidCon Agreements'], [[b'Ina could not get us into the new building tomorrow, so we will not get together after work.\\nWe will plan on going out as a group after we move over.\\nMike\\n'], b\"We will not be going out with Tych's group\"], [[b'Over $50mm listed below.\\nI think Sempra or one of the producers would have interest in buying these contracts (obviously with a haircut)  I will wait to hear from you how to move forward.\\nThanks   CntrParty_NM\\tCG_NM\\tMTM\\t Newark Group Inc., The\\tCA-PG&E\\t10,229,801 \\t Sutter Health System Procurement\\tCA-PG&E\\t8,626,295 \\t Tissurama Industries, Inc.\\tCA-SOCAL Gas\\t4,600,862 \\t Lockheed Martin Corporation\\tCA-PG&E\\t4,451,494 \\t Nissin Foods (USA) Co., Inc.\\tCA-SOCAL Gas\\t4,204,934 \\t Castaic Clay Manufacturing Co.\\tCA-SOCAL Gas\\t4,049,547 \\t Chroma Systems Partners\\tCA-SOCAL Gas\\t3,926,683 \\t Bay City Flower Co, Inc.\\tCA-PG&E\\t3,361,741 \\t Paradise Textile Corp.\\tCA-SOCAL Gas\\t3,235,771 \\t U.S. Dyeing & Finishing, Inc.\\tCA-SOCAL Gas\\t3,076,664 \\t Huntington Memorial Hospital\\tCA-SOCAL Gas\\t2,957,537\\n'], b'Contract sale idea'], [[b'Apologies for the SPAM, but kind of fun send out one final one to everyone!\\nNew contact info: Email: mellis@alumni.haas.org or mm_ellis@yahoo.com Website: www.geocities.com/mm_ellis  Happy holidays and see you guys in May!\\nCheers,\\n'], b'SPAM: Contact info and website'], [[b'30 days remain prior to the target date specified in an open audit observation.\\nPlease click on the document link below, review the observation / action step(s) / responsible person(s), and provide completion /  progress report, updates, and revised target date, if any.\\nNOTE:  EACH E-MAIL REPRESENTS A SEPARATE AUDIT OBSERVATION.\\nClick on this link to view document -->\\n'], b'\"Project DoorStep\" 30-DAY REMINDER'], [[b\"Here's the current redline, incorporating most of the comments made last  week.\\nHerman, the language to address your biggest issue is in 2.3, page 7 on the  marked version.\\nThanks,\\n\"], b'Enron/VEPCO CEC'], [[b\"We can create significant mutual benefit by partnering with a firm which is  focussed on developing IT systems for bulk power systems:   We need to take our deregulation model to the next level of detail by having  IT solutions which will support our view of how the market ought to work.\\nThe IT firm would benefit from our access to the policy makers (domestic and  international)  whose decisions will make the IT firm's systems either  successful or obsolete.\\nCall me if you would like to discuss.\\n\"], b\"Ross Perot's EMS company\"], [[b'Psalms 9:10   \"Those who know your name will trust in you, for you, LORD, have never forsaken those who seek you. \"\\nThank you, Lord, that Mr. Lay is one that knows your name.\\nHelp him, Lord, that even though things look absolutely awful, we look to you for you are our help.\\nYou are an ever present help in time of trouble.\\nAll that call upon the name of the Lord will be saved.\\nWe will not tell you how our salvation should look, we will just trust in the One that can save us.\\nWe trust in your gentle, loving kindness.\\nYour heart that has good thoughts towards us that we may have an expected end.\\nLord, the end looks like disaster right now.\\nOh Lord, hear our cry for your name\\'s sake.\\nDeliver us and we will proclaim your goodness to all.\\nDon\\'t leave us to the hands of our enemies.\\nThank you, Lord, that we see that we CANNOT trust in money or earthly riches and forgive us that we have momentarily sinned but Yes, Lord, we see that we can ONLY trust in you.\\nGreat is your faithfulness!\\n'], b'Psalms 9:10'], [[b'Hi Guys,  Enron policy requires that the assignment of tasks to outside counsel go  through (or at least be coordinated with) the legal department.\\nIn the  future, please let me know what you need so that there can be some order to  the process.\\nDid the Fehrs and Ledfords sign the option agreements?\\nThank you,\\n'], b'Schaeffer Property - Livingston County, Illinois'], [[b\"Jeff,  Let me know what you think of this guy.\\nWade Cline and Tim Det.\\nare both  high on him.\\nJeff Donahue is not so sure but will meet with him on Friday.\\nDuring my lunch with Jeff, we discussed that we need a Corp. Dev guy  dedicated to us full time but if he reported to him, that would be great.\\nI  think we could use that co-ordination with his group as long as we didn't get  a part time guy in the process.\\nHe could also report to us obviously (like  Larry) but i think in this case a dual role makes a  lot of sense.\\nWhat do  you think?\\nIf you like Don, he could be an immediate candidate to start doing our Corp  Dev work, but that is of course not the best reason.\\nI thought he was all  right and he did have a good understanding of our products and is an  innovative thinker.\\nHe has also worked as a trader and although it doesn't  seem possible by his personality, having some background is a plus.\\nMike\\n\"], b'D Parsons'], [[b\"Meeting covered Market Power and Market Monitoring issues.\\nFirst presenter was David Patton, from Potomac Economics.\\nThis firm has been jointly hired to provide technical support to SPP, MISO and Alliance.\\nMany initial questions on what is market power, how can you define a well functioning market, etc.\\nDavid envisions a market monitoring organization.\\nIf a problem emerges, it has to work with the RTO.\\nIMM should not recommend power mitigation measures, but it should report any problems to FERC.\\nIt (has to go via FERC).\\nGeneral feeling is that Market Monitoring should be much more than market power, but to make sure that the market as a whole is functioning.\\nIt seems to me that the proposal is aligned with what Christi has advocated as part of the Southeast Mitigation.\\nMultiple questions on how power market should be handled for must run, out of merit (constrained on and contrained off plants) and inflexible plants (e.g.\\nhydro or take or pay gas contracts).\\nProposals to establish price caps were not accepted.\\nInstead a proposal to deal with one or more generators with potential mkt power: they should   have caps on bid prices.\\nDavid proposed some market rules to deal with specific circumstances.\\nIt was generally accepted that demand side response should be used to mitigate market power.\\nOther questions on how demand side bidding shold be operationalized (Mike: are there  rules for DSB as part of the MISO Market Rules compendium?)\\nSecond Presenter - from WPPI.\\nHe raised serious concerns about potential market power in the region (Michigan Peninsula).\\nShould utilities have approval to sell at market based rates?\\nHow should ATC be calculate to take into account counterflows?\\nIssue is more pertinent until RTO enter into day 2 phase.\\nPresenter's proposal, which faced a lot of resistance, was to assume that all Gs have market power, unless they prove otherwise (except must run agreements for reliability purposes).\\nRoberto disagreed: this goes beyond MISO's authority.\\nRTO has to work with IMM if market power is suspected.\\nDynegy requested David to further explore the situation of must run plants.\\nDavid asked whether or not we had filed our position on MM for MISO.\\nMike: you may want to send him a copy, just as a courtesy.\\nLM\\n\"], b'MISO Meeting last week'], [[b\"Mr. Lay,  Per my conversation with Rosie, I wanted to inform you of a couple of items regarding the Houston 2012 Olympic Committee.\\nYesterday, I received a call from Susan Bandy (Executive Director, Houston 2012) advising me that she and George DeMontrond came to meet with you regarding your potential involvement and role in the Houston Olympic bid effort.\\nI wanted to make you aware that Mark Frevert and I are on the Board of the Houston 2012 Olympic Committee.\\nWhen I joined Enron in 1999, I was asked by Joe Sutton to replace him on the Advisory Board Committee.\\nWe've been involved with the organization since then, and this past June, Mark Frevert became a member of the Board of Directors.\\nI would like to offer my services to you at any level possible with this initiative, from coordination/development of activities to attending meetings or researching opportunities.\\nIf you need any additional details concerning our involvement with Houston 2012, I would be more than happy to do a full briefing.\\nThis is just one of many initiatives we are working on.\\nWe continuously keep members of the executive committee and office of the chairman through M. Frevert, engaged in our efforts.\\nIf we can be of assistance to you on this matter or any other related to sports, sponsorships and event marketing items, please don't hesitate to call.\\nThank you.\\n\"], b'Houston 2012 Olympic Committee'], [[b'I just spoke to Brent and he still cannot get into the website.\\nCan you get  with TradeSpark and figure out what the problem is and how can we get our  people access.\\nThanks.\\n'], b'TradeSpark Website'], [[b'> Political Philosophies Explained in Simple \"Two Cow\" Terms > > Socialism: You have two cows.\\nYou keep one and give one to your neighbor.\\n> > Communism: You have two cows.\\nThe government takes them both and provides   you with milk.\\n> > Fascism: You have two cows.\\nThe government takes them and sells you the > milk.\\n> > Bureaucracy: You have two cows.\\nThe government takes them both, shoots > one, milks the other, pays you for the milk, and then pours it down the > drain.\\n> > Capitalism: You have two cows.\\nYou sell one and buy a bull.\\n> > Corporate: You have two cows.\\nYou sell one, force the other to produce > the milk of four cows and then act surprised when it drops dead.\\n> > Democracy: You have two cows.\\nThe government taxes you to the point that > you must sell them both in order to support a man in a foreign country > who has only one cow which was a gift from your government\\n'], b'Political Philosophies'], [[b'Attached is a revised Credit Watch listing for the week of 5/14/01.\\nIf there are any personnel in your group that were not included in this distribution, please insure that they receive a copy of this report.\\nTo add additional people to this distribution, or if this report has been sent to you in error, please contact Veronica Espinoza at x6-6002.\\nFor other questions, please contact Jason R. Williams at x5-3923, Russell Diamond at x5-7095, or Veronica Espinoza at x6-6002.\\n'], b'Credit Watch List--Week of 5/14/01'], [[b'> \"I went to a party, Mom\"  > I went to a party,  > and remembered what you said.\\n> You told me not to drink, Mom  > so I had a sprite instead.\\n>  > I felt proud of myself,  > the way you said I would,  > that I didn\\'t drink and drive,  > though some friends said I should.\\n>  > I made a healthy choice,  > and your advice to me was right,  > the party finally ended,\\n'], b'i had to send this - sorry'], [[b'A little humor to keep us smiling in these troubled times:  Make sure to read the last one.\\n***************************************  Social Studies: Some Useful Definitions  Feudalism You have two cows.\\nYour lord takes some of the milk.\\nFascism You have two cows.\\nThe government takes both, hires you to take care of them and sells you the milk.\\nApplied Communism You have two cows.\\nYou must take care of them, but the government takes all the milk.\\nCapitalism You have two cows.\\nYou sell one and buy a bull.\\nYour herd multiplies, and the economy grows.\\nYou sell them and retire on the income  Enron Venture Capitalism You have two cows.\\nYou sell three of them to your publicly listed company, using letters of credit opened by your brother-in-law at the bank, then execute a debt/equity swap with an associated general offer so that you get all four cows back, with a tax exemption for five cows.\\nThe milk rights of the six cows are transferred via an intermediary to a Cayman Island company secretly owned by the majority shareholder who sells the rights to all seven cows back to your listed company.\\nThe annual report says the company owns eight cows, with an option on one more.\\n- No Balance Sheet provided with the release.\\n'], b'Useful Definitions'], [[b'Mark, I was talking to Jay on Friday and he was telling about Kerr McGee shutting down their operations.\\nIs there any play here for you guys.?\\nBT\\n'], b'Kerr McGee/ Cinergy Structure'], [[b\"Hi Mark,  I don't know  what these folks are up to.\\nIn fact, I didn't know that Scott  Laidlaw was involved.\\nWhen I spoke with EECC I told them that they needed to  get direction from you, someone from Mike Coleman's group, or an ENA  developer.\\nAny word from the Co Op/PB team?\\nI have jury duty in just a little while, so I'll be out of touch for a short  while.\\nKay\\n\"], b'Co-op City - Term Sheet'], [[b\"We regret to announce that Rick Bergsieker has decided to leave Enron to pursue other interests.\\nRick has led our commercial activities in the Middle East for the past several years.\\nRick is a highly respected individual within the company as well as within the energy sector, and we will miss his contributions.\\nWith Rick's departure, we are realigning the Global LNG group into the following four separate functional areas: Americas Origination, European and Pacific Origination, New Asset Implementation and Trading and Logistics.\\nThese functional areas will report to Eric Gonzales who will be assuming lead responsibility for the Global LNG business unit.\\nWithin the Americas Origination effort, Doug Arnell will take the group leadership for activities within the Atlantic Basin.\\nThe priorities for Doug's group include the continued development of the Bahamas Terminal and the implementation of the Elba terminal agreement.\\nThe current teams focused on the VLNG project and North American West Coast project are also part of the Americas effort and will continue reporting directly to Eric.\\nClay Harris will expand his role to lead the European and Pacific Origination function from the London office.\\nReporting to Clay will be the existing Pacific Origination team as well as the members of the London based LNG team.\\nThe New Asset Implementation group will be led by Greg Curran.\\nGreg's group will be focusing on the successful implementation of construction and initial operations of our LNG assets under development.\\nThe Trading and Logistics groups will continue reporting to Jonathan Whitehead.\\nPlease join us in wishing Rick well for the future, and congratulating Eric, Doug, Clay, and Greg on their new and expanded roles.\\nMike McConnell & Jeff Shankman\\n\"], b'Organization Announcement'], [[b\"CONGRATULATIONS !\\nI just found out that you were extended an offer by the Big E.  I can't tell  you how happy I am that I didn't have to question the intelligence of my  company.\\nHope you had a good birthday and I'll see you at the A&M game.\\n\"], b'Happy Belated Birthday and .......'], [[b\"Done at last!\\nWhew, I'm whooped!\\nNow it's your turn to have fun!\\nUnfortunatel, I have a call into David Minns about one issue, and I hope when  he responds it doesn't change my approvals...\\n\"], b'Japan & Australia Weather Counterparty Approval'], [[b'Are you in debt for $4,000 or more?\\nAre you tired of being overwhelmed by your bills?\\nFeeling as if is there nothing you can do about it?\\nWe can help you get out of debt without another loan!\\nWe make Debt a thing of the Past!\\nWe offer hope and help to put you back on track with your finances!\\nWe are here to help!\\nFor a FREE Consultation   Please provide the following information.\\nFull Name:  Address:  City:  State:  Zip Code:  Home Phone:  Work Phone:  Best Time to Call:  E-Mail Address:  Estimated Debt Size:   (All information is kept securely and never   provided to any third party sources)  To no longer receive this message reply with the word - remove - in the e-mail subject line.\\n'], b'Do you want some help?                                                    [tmamn]'], [[b\"We will need to catch a cab to get to La Fogata which is located at 2427  Vance Jackson Road in San Antonio.\\nOur dinner reservations are for 7:00 pm,  so I suggest we all meet in the hotel lobby at 6:30 and catch group cabs  together.\\nDress is casual.\\nThe phone number for the restaurant is  210-340-1337, in case you get lost in a wild cab ride or something similar  (this will have special meaning to certain swap group members!).\\nIf you  haven't RSVP'd back to me, please do so, so I can get an accurate head count  for tomorrow.\\nSee you in San Antonio.\\n\"], b'Dinner Tomorrow in San Antonio'], [[b\"NIck:  Do we have an erergy meeting scheduled in September.\\nLet's talk about this.\\nWe could do it in either London or Frankfurt doing the week of the board  meeting.\\nLet me know your thoughts on this.\\nMark\\n\"], b'Energy Committee Meeting in September'], [[b'We are in need of the following information:   Emergency Contact Name: Emergency Contact Phone:  Please update this information by going through eHRonline or email me with the information.\\nYour cooperation is appreciated !\\nThanks,\\n'], b'Important Information Needed!!!!!!!!'], [[b'The speaker introduced a bill that would:  Order the CA PUC to establish a \"rate component\" to permit the utilities to  recover its \"net undercollected amount\" over a period of ten years.\\n(Sounds  like there may be a haircut in there somewhere.)\\nAuthorize the State Water Dept.\\nto purchase power on behalf of utilities and  munis.\\nOrder the CA PUC to create a separate rate component to cover the Dept.\\n\\'s  cost of purchasing the power.\\nAuthorize the Treasurer to issue debt, backed by ratepayers, to cover any  difference between the price the Water Dept.\\nbuys the power for and the price  that can be collected from ratepayers under the rate freeze.\\nAuthorizes the State Director of Finance to \"accept on behalf of the state  any tangible asset of an electrical corporation.\"\\n(Presumably the state is  looking to get something from the IOUs (say, the hydro assets) in exchange  for giving the utility it\\'s \"net undercollected amount.\"\\nThe bill is long and haven\\'t yet had a chance to review it in detail.\\nWe\\'re  faxing the bill.\\nThe bill will be controversial and it is unclear who in the Legislature has  bought into it, though the Governor signaled his general support for this  sort of approach in a press conference last night announcing the results of  the power auction.\\nThe Assembly is scheduled to have a hearing on the bill later today.\\nWill pass on more info as we get it.\\nJeff\\n'], b'New Bill Introduced in CA Legislature'], [[b'Dear Sir;  Still at anchor in Algeciras, Spain - awaiting spares.\\nETD 28 1900LT      3: BOG \\t198\\tm3      5: F.O Consumed\\t14\\tm3     6: G.O.\\nConsumed\\t0\\tm3     7: Average vapor press\\t\\tAverage liq.\\nTemp: Tk1:\\t0.136\\tbar\\t-158.19\\t?C\\n'], b'POSREP 28 MAY'], [[b\"Per,  Today, I submitted a brief summary of each groups 2001 goals.\\nI wasn't able  to talk to you before putting these out but they were fine for step one.\\nPlease review  and make any changes you wish to them.\\nI also need you to add  as many specifics as possible.\\nFor example number of transactions, $  amounts, etc.\\nPlease read and make the changes on this email and return to  me asap.\\nKeep your goals to no more than 5.\\nGlobal Risk Markets ?\\nCreate $38 million in gross margin and $26 million in EBIT ?\\nComplete and market and execute transactions in three primary  technologies:  double trigger, upstream term-working interest and power price  risk   Thanks,\\n\"], b'2001 goals'], [[b\"A little forward movement trying to get the Global Counterparty not to set up  counterparties under division or trade names.\\nIf the counterparties insist  on doing so, we have been trying to get them to add the legal name as part of  the counterparty's name in GCP.\\nFor non-swap team members, you may want to  forward this email on to your groups as well.\\n\"], b'Counterparty Name Conventions'], [[b'Maria: Could you please send me a redline of the Guaranty Agreements and LC (either  by fax or e-mail) that crosses through and/or underlines the changes that  were made?\\nAlso, please send me a redline (either by fax or e-mail) of both  the CSA (when it is ready) and ISDA Schedules that underlines or crosses  through the changes that were made so that I can sign off on this.\\nThe fax  that I received did not indicate all chnages that were made in this way.\\nThanks.\\n'], b'New Drafts'], [[b'Kate: A few points about the last draft of the Agreement:  (1)  Par.\\n1(a):  the transfer and assumption is effective as of March 16,  2001 and not as of the Collateral Return  (2)  Par.\\n1(d):  the parties have already agreed to use one set of  spreadsheets  (3)  Par.\\n3:  the ML&Co.\\nguaranties are not being released because there are  existing deals in place.\\nThe guaranties will only be released as to the  transferred Transactions  (4)  Par.\\n6:  conform language to side letters\\n'], b'Transfer and Assumption Agreement (\"Agreement\")'], [[b'Hello, I am looking for supply for two facilities in Ohio.\\nThe first is located behind COH 7-3 and the second facility is located behind COH 5-2.\\nThey are looking for firm supply to their respective gates.\\nI have attached their load profile below.\\nI am looking for a Nymex plus applicable basis quote.\\nPlease let me know if you are able to bid on one if not both facilities.\\nI look forward to hearing from you soon.\\nSincerely,\\n'], b'Customers in COH'], [[b'A friend of mine, Jim McCloskey, a Director at Ernst & Young, mentioned to me that one of his partners and former Vice Chairman of E&Y, Bob Herdman, was recently named Chief Accountant to the SEC and asked whether E&Y could be of any assistance with respect to the present SEC inquiry.\\nI told Jim that I would convey his request to the appropriate personnel.\\nIf you or any one wanted to discuss this matter further with Jim he can be reached at 713-750-8206.\\nI do know that Jim had met with Jeff Skilling earlier this year to talk about opportunities in E&Y working with Enron and I think he has another meeting scheduled  in November with Rick Causey and others for a follow up presentation, all unrelated to the SEC inquiry.\\nRegards,\\n'], b'Ernst & Young'], [[b'PG&E will announce via press release very early next week an open season on  Redwood, Baja and Silverado.\\nIt comes in direct response to recent announcements of expansions into  California by pipelines.\\nThe bid protocols will be structured similar to original open season from the  original Gas Accord.\\nThe open season will start on June 1 and end on July 31.\\nCapacity will be available starting 1.1.03.\\nBidders will be able to bid up to 30 years (PG&E states that that\\'s what  generators want).\\nAccompanying the announcement will be another announcement that PG&E will  expand Redwood by 200mmcf/day, which they hope to have available by 1.1.03,  or some time during Q103.\\nAbout 2-4 weeks after the open season begins, PG&E will file its proposed  \"Gas Accord II,\"  (the first one expires end of 02).\\nAs part of that filing, PG&E will offer its proposed ratemaking treatment for  the next five years (beginning 1.1.03).\\nPG&E will not include in the open season 1) core capacity and 2) certain EAD  contracts that extend beyond the Gas Accord 1 end date.\\nIn addition, PG&E will hold back an additional 20% (after excluding core and  EAD), to be \"open-seasoned\" at some \"future\" date.\\nThe capacity to be auctioned is: 1) 900 mmcf/day on Redwood, 2) 245 (annual)  on Baja, plus an additional 200/day in summer on Baja, 3) 155 on Silverado.\\nHow PG&E will market the 20% they intend to hold back, and when they might  auction it off in the future will be discussed in PG&E\\'s Gas Accord II filing.\\nNo single company will be awarded more than 30% of the capacity on any  specific path in the primary open season (though firms can bid whatever level  of capacity they choose).\\nPlease forwad along to anyone else who might be interested.\\nIf you have any  questions, just holler.\\nBest,\\n'], b'More Info: PG&E to Announce Open Season on Redwood and Baja Early  Next Week'], [[b\"Dave would like to have a strategy meeting next Tuesday  Ocotober 10, 2000  from 2:30-4:30 in room 30C1.\\nNo preparation is necessary and it's important  that each of you plan to attend.\\nIf you cannot attend, please contact Dave  directly.\\nThanks!\\n\"], b'Strategy Meeting'], [[b\"Doc:  The schedule calls for the meetings to end at 5:00.\\nThere's also a play (The  Merry Wives of Windsor) that night and we can work around that if you were  planning on going.\\nMark\\n\"], b'Campaign Planning Committee'], [[b'Sara, \\tI was just following up on what the status of our review of the \"Three-way\" agreement and referral agreement contracts that we are pursuing with Plains Resources, in order to facilitate small producer hedging.\\nIf you could give me a call or reply with where we stand, I would appreciate it.\\nThanks  Mark\\n'], b'Status of Plains/Enron contracts'], [[b\"Hi Tana,  A little birdie tells me that you  have a supply of the Energy & Power Risk  Management Glossary booklets.\\nAm I getting close?\\nI've found it to be very  helpful, and I think it would help one of our new lawyers, Carlos Sole.\\nCould I get a copy for him?\\nAny other good power references?\\nThanks,\\n\"], b'Energy & Power Risk Management Glossary'], [[b\"Hey thanks for coming out to see the boys the other night, if you weren't there you missed a good show.\\n24BOM will probably play with Junco Parker again.\\nBut more important than that is Thursday night at the Medicine Hat Gallery- 18th and Alberta St-  9:00 PM.\\nShow up and give some support, 24BOM will be recording live that night and it would be great to have some crowd response on that cd!!\\nThanks again for your support- hope to see you there\\n\"], b'Thursday'], [[b\"Keith,  The article I mentioned.\\nVince  ***********************************************   rashed By Tax Selling                    But are there bargains among the discards?\\nBy Michael Santoli                     Here it is more than six months since even the most  intransigent last-minute                   filers wrote checks to the IRS to render to the government  its due for their                   financial good fortune in 1999.\\nBy rights, this should be a  season relatively                   free of concerns about taxes, notwithstanding the  presidential candidates'                   parrying over whose tax-cut math features more fuzz.\\nAnd yet, for anyone with a dollar in the stock market  (which in recent weeks                   has likely been reduced to loose change), the looming  demands of this year's                   levies on capital gains have helped to make this month yet  another taxing                   October for investors.\\nThe jump-and-stumble course  the                                                  major stock indexes have  taken this                                                  year is being blamed for a                                                  particularly intense effort  among                                                  mutual-fund managers and  other big                                                  investors to sell their  losers.\\nThe                                                  steep ramp-up in stocks that                                                  persisted from the fall of  1999                                                  through the first quarter of  this year\\n\"], b'Article'], [[b\"Tracy,  Please find attached the Plan presentation for Adam's review with Stan scheduled for Thurdsday.\\nPlease let me know if you have any concerns.\\nThank you.\\n\"], b'EREC 2002 Plan Presentation'], [[b\"Williams Launches uE Web Site For Cross Commodity Pricing  Tulsa-based Williams on Monday launched uE, a cross-commodity price index for both spot and future energy prices, as a companion to its web-based EnergyNewsLive.com.\\nSimilar to the Dow Jones for equity markets, the Williams uE will offer an equivalent benchmark for the overall price of energy, measuring the price average of eight individual commodities: electricity, natural gas, unleaded gasoline, heating oil, ethane, propane, residual fuel and jet fuel.\\nThe site includes information on pricing trends including a national spot uE, forward uE, regional uE, commodity quotes, as well as daily, weekly and monthly commentary.\\nIncluded on the site is EnergyPulse, which will feature Dr. Dennis O'Brien, director of energy and policy at the University of Oklahoma.\\nEnergyPulse now airs every Friday on Williams' EnergyNewsLive site, and offers an analysis of trends in energy pricing and the impact the economy has on energy.\\nWilliams uE was introduced a year ago when EnergyNewsLive debuted, and Williams said it has tested and refined the site for the company's own market activity.\\nIt also has been reviewed by the Energy Information Administration, said Williams.\\nTo view the site, visit www.williams-ue.com.\\n\"], b'Add This to your Price Discovery Sites'], [[b'Greg/Phillip,  Attached is the Grande Communications Service Agreement.\\nThe business points can be found in Exhibit C.  I Can get the Non-Disturbance agreement after it has been executed by you and Grande.\\nI will fill in the Legal description of the property one I have received it.\\nPlease execute and send to:  Grande Communications, 401 Carlson Circle, San Marcos Texas, 78666 Attention Hunter Williams.\\n<<Bishopscontract.doc>>\\n'], b'Service Agreement'], [[b\"hi just booked a room  (a studio actually) for whistler on feb 16, 17, 18, and 19th... we had to book 4  nights although we are staying only 3 nights.\\ngot a pretty good deal considering  we get a kitchen, it's ski in and ski out, etc.\\nwill be so fun... i am going  with my friend ali that i work with, and her roommate sam.\\nthey are both super  cool we have room for one  more person.\\ni know it's a stretch, but since i knew you were interested in  heading to whistler at some point and was going to see if you would want to come  with us.\\nwe would leave on  saturday the 16th for whistler and come back to seattle on tuesday the 19th...  (monday is presidents day ).\\nit is going to be great fun!\\npresidents day weekend  is crazy in whistler, they think of it like christmas time as it is as busy as  christmas time or busier.\\ntons of people.\\nim so excited.\\ni know you will be  looking for jobs, etc.\\nmaybe you could make a trip back up to seattle coincide  with a fun trip to whistler!\\nlet me know what you  think   bonnie price is: 299  Canadian a night times 4 nights so total is 1200  Canadian divided by 4 (if you  came, there would be 4) is 300 canadian each, which is about 212.00 US... NOt  bad for 3 night stay\\n\"], b'whistler!'], [[b\"Attached is the executable Agency and Management Agreement Document.\\nPlease  print out and execute and fax back to Barry for ENA's execution.\\nWe will fax  back a fully executed copy.\\nPlease note that as we discussed, two of the  gentlemen listed in Mexicana  de Cobre's power of attorney must execute.\\nWill will follow up with hardcopy orginals for execution with all the  exhibits in the mail or delivered by Barry.\\nThank You.\\n\"], b'Final Agency Agreement'], [[b'Gerald,  At long last I have been able to get input from others within our company such that I can provide comments our your drafts of the above-referenced Agreements for Public Service Company of Colorado (\"PSCo\") and Cheyenne Light, Fuel and Power (\"CLF&P\").\\nI apologize for the delay.\\nOur comments are as follows:  Public Service Company of Colorado Agreement  Disparity of Dollar Levels related to Credit Issues.\\nWe request in Section 4.1 that the $20,000,000 dollar level be applicable to each of our companies.\\nWe further request that the collateral trigger level in Section 4.6 be $25,000,000 as to each of our companies.\\n2.4 Confirmations.\\nIn the second line, please change \"may\" to \"shall\".\\nWe need to have written confirmations of gas transactions in our files for regulatory purposes.\\nWe also request on the Confirmation form Exhibit that the confirms issued to reflect telephonic transactions likewise be signed and returned, in the same manner as indicated on the form for Section 2.21 Transactions.\\n3.5 Netting and 4.4.\\nOffset.\\nWe cannot agree to the netting of payments in the normal course of business under these contracts.\\nAmounts due to and from a counterparty must be tracked separately for regulatory purposes, especially with respect to any sales proceeds that we might realize if PSCo or CLF&P acted as Seller to Enron in a Transaction.\\nAccordingly, we propose that the provision allowing monthly netting of amounts due between the parties be deleted from the contract and that the right of Offset be limited to be applicable only in connection with the occurrence of a Triggering Event and the calculation of any Termination Payment due under the Agreement.\\n4.1 Early Termination.\\nI am concerned that the date to be established for termination of Transactions is without definition.\\nI would prefer to see the language in subpart (i) modified to state that the Notifying Party may \"establish a date, which shall be not less than two (2) nor more than ten (10) Business Days following the date of such notice.\"\\n4.2 Triggering Event.\\nIn the 8th line down, I don\\'t understand the inclusion of the phrase \"or deemed to be repeated\".\\nUnless I am missing something, it doesn\\'t make sense with the rest of the sentence.\\nPlease delete this phrase in the Agreement.\\n4.1 and 4.5 References to Affiliates.\\nIn numerous places throughout the Agreements and, in particular, in Sections 4.1 and 4.5, reference is made to Affiliates.\\nFor regulatory reasons, we cannot intermingle the account status of our affiliated companies.\\nMoreover, neither PSCo nor CLF&P is authorized to contractually bind its Affiliates in the manner indicated.\\nPlease delete all references to Affiliates of PSCo or CLF&P in the respective Agreements.\\nArticle 5.\\nForce Majeure.\\nThe language in this Article is not typical of most Force Majeure provisions, which allow a Party to claim Force Majeure for the duration of a Force Majeure event and place no limitation on the ability to claim Force Majeure within a given time period.\\nThe language in your draft can be read to allow a Party to claim Force Majeure one time only, for a duration of up to 60 Days, after which time Force Majeure no longer applies to any of the obligations under the Agreement.\\nIn other words, Force Majeure could not be claimed later for an unrelated occurrence involving a separate and independent Transaction.\\nThis is not acceptable.\\nWe therefore request that you substitute your language with more standard Force Majeure provisions consistent with these comments.\\nSection 8.1.\\nNotices.\\nPrior to the language in the parenthetical, please insert \"provided that receipt thereof has been confirmed electronically\".\\nSection 8.2.\\nTransfer.\\nWe would prefer that this language be revised to the more traditional language requiring the consent (rather than approval) of the other Party, \"which consent shall not be unreasonably withheld\".\\nPlease modify this provision accordingly.\\nSection 8.3.\\nLimitation of Remedies.\\nWe are in general agreement with this provision, however we cannot agree to a disclaimer of implied warranties of merchantability or fitness for the ordinary use.\\nThe gas sold and purchased under the Agreement should be of merchantable quality and fit for the ordinary use to which it is intended.\\nPlease modify this Section accordingly.\\nDefinition of Confirm Deadline in ENFOLIO General Provisions.\\nThe GISB Standard contract and all other contract forms that we use have a 2 day confirm deadline, rather than 24 hours as reflected in your definition.\\nWe request that you revise this Agreement to be consistent with this industry standard.\\nDefinition of Material Adverse Change.\\nThis definition needs to be expanded beyond a review of the level of each company\\'s credit rating.\\nPlease replace your definition with the following:  \\t\"Material Adverse Change\" with respect to a Party means (i) any downgrading of any unsecured, long-term senior debt of such Party \\tor any entity that has provided a guaranty or other form of credit support for the obligations of such Party (each such entity being a \"Credit Support Provider\" for such Party) such that such debt is rated below \"BBB-\" or its equivalent by Standard & Poors or below \"Baa3\", or its equivalent, by Moody\\'s Investor Services, Inc.; \\tprovided, that if a Party or its Credit Support Provider does not have \\tany unsecured, long-term, senior debt that is rate by either \\tStandard & Poors or Moody\\'s Investor Services, Inc., then a \\tMaterial Adverse Change shall mean the occurrence of one or more \\tevents which, in the reasonable judgment of the exposed Party \\tconstitutes a material adverse effect on the creditworthiness, \\tfinancial responsibility, or ability of such Party or its Credit Support \\tProvider, as applicable, to perform its obligations in connection \\therewith.\\nDefinition of Replacement Price Differential.\\nAlthough we are in general agreement with your definition of Replacement Price Differential, it seems preferable that where the Minimum Monthly Quantity is applicable, cost of cover should be the difference between the contract price and a 30 or 31 day average of Spot Prices for the Month in which the deficiency occurred.\\nPlease modify your definition accordingly.\\nCheyenne Light Fuel and Power Company Agreement  Our comments with respect to this Agreement are identical to those stated above regarding the PSCo Agreement, with the following exceptions:  Section 4.2.\\nTriggering Event.\\nThe dollar levels near the end of the Section should be equivalent between our companies.\\nPlease make each $75,000,000.\\nSection 4.7.\\nCollateral Requirement.\\nSimilarly, the dollar trigger levels in this provision should be equivalent between our companies.\\nPlease make each $25,000,000.\\nExcept for the foregoing, please make changes to the Cheyenne Agreement consistent with our comments to the PSCo Agreement as set forth above.\\nShould you have questions or wish to discuss any of our requested changes, you may contact me via return e-mail or at the phone number listed below.\\nThank you for your consideration.\\nI look forward to working with you to finalize these Agreements.\\n'], b'ENFOLIO Master Firm Purchase/Sale Agreements with PSCo and CLF&P'], [[b\"We are in urgent need of approximately 35 interviewers for this weekend's  Super Saturday recruiting, to which 105 analyst and associate candidates have  been invited.\\nYou all realize the importance of these efforts, and I would  appreciate you encouraging members of your organization to participate this  weekend.\\nDetails are as follows:\\n\"], b'URGENT: Interviewer Request - Saturday, December 9'], [[b'Rob,   I got your name from Doug Leach.\\nHe  thought that you would be the person to  talk to about this.\\nI got a call last night from Rudolph Maldonado.\\n(The operator forwarded him  our way.)\\nHe stated that he has some natural gas to sell in Saudi Arabia.\\nHis number is 562-866-1755.\\nCould you give him a call and check this out?\\nI  told him that I would find someone that he could discuss this with.\\nI can be reached at 3-6905 if you have any questions.\\nDaren Farmer\\n'], b'Saudi Arabia'], [[b\"Quick question to Joe and/or Christian, John and Mary:  I'm assuming that any deal we sign with DWR that falls below the $150/MWH  soft cap is free and clear of the order FERC issued on Friday as well as any  other refund risk associated with FERC's December order.\\nIs that correct?\\nThanks.\\nBest,\\n\"], b'FERC Order and DWR'], [[b\"Rob: I received the documents and Susan Flynn will get them executed along with  the Enron Guaranty and the other certificates and get them back to you next  week.\\nMy question for you is when you consider the agreement to be effective  for trading purposes?\\nI'm assuming you want to wait for the Enron Guaranty  and that any trades done before the Guaranty is sent to you would not be  confirmed under the Master.\\nPlease let me know your thoughts on this.\\nI  have asked Enron's counsel to process the Guaranty ASAP.\\nThanks.\\nCarol\\n\"], b'ISDA Master'], [[b\"In order to bring better legal coordination and standardization to Enron's Risk Assessment and Control (RAC) group, we have formed a new legal group, which will initially include Lisa Mellencamp (Finance), Marcus Nettelton (Power Trading), Carol St. Clair (Broadband/Power Trading), Mary Cook (Financial Swaps), Peter Keohane (Canada), Ed Essandoh (Retail), Paul Darmitzel (Retail) and Elizabeth Sager (Power Trading) (Team Leader).\\nThis group will focus on, among other things, managing Enron's exposures with bankrupt counterparties, working out credit solutions with distressed counterparties and standardizing our overall credit practices.\\nThe initial members in this group have been drawn from Enron's numerous legal groups in order to gain a broader perspective.\\nEach of these members will provide support to this new group in addition to their current responsibilities.\\nWithin RAC, Michael Tribolet will focus on distressed counterparties, in conjunction with Bill Bradford, who continues to manage the Credit Risk Management group.\\nPlease join us in supporting the efforts of this new group.\\n\"], b'New Legal Team to Assist RAC'], [[b'Apologies to anyone I did not include on the mail I sent earlier today...  As a recap, we had some issues this weekend with Questar, Overthrust, and one cycle each of Kinder Morgan and Transcolorado.\\nI reset all failed jobs this afternoon, and Overthrust appears to still be having problems as I write this...cycles 1 and 3 for Overthrust have failed again, due to web site errors.\\nAs stated previously, we should look into attempting to recover missed data for the afforementioned pipes as soon as possible.\\nAlso, a call to Overthrust might be in order, to see if they expect any more down time.\\nThanks,\\n'], b'Harvesting Issues...Memorial Day Weekend'], [[b'Please note, as many of you are aware, Steve Harris resigned on last week and Shelley Corman is now the Managing Director of the   TW Commercial Team.\\nShelley has cancelled the staff meeting on this afternoon and will communicate to you our next planned staff meeting.\\nThanks for your patience,\\n'], b\"Cancelled - TW Commercial Team's Staff Meeting\"], [[b\"I regret to inform you that Kay Mann's father passed away this morning.\\nI will get funeral arrangement details to you as soon as I receive them.\\nI will also send flowers on behalf of the company.\\nPlease keep Kay's family in your thoughts and prayers today.\\nThanks.\\n\"], b\"Kay Mann's Father\"], [[b'Here is another matrix of TW \"Current Shipper\" rates & surcharges.\\nThis one is not posted on the web.\\nI don\\'t know whether anyone needs/uses it, anymore, but I have been keeping it up.\\nThere is a new tab for each change in Current Shipper Rates.\\nThe latest is \"200111\"  Elizabeth - I forgot to send this to you this morning.\\nJeanette - I don\\'t recall whether I sent this along with the other TW files.\\n'], b'FYI  11/2001 TW Rate Matrix - same rates, different format'], [[b\"Please respond to Sivy on Stocks SIVY ON STOCKS from money.com April 23, 2001  Winning a loser's game  Companies that make the fewest mistakes will fare best in the current market.\\nAnd 3M is trying to not miss a trick.\\nBy Michael Sivy  Some sports, such as football, are winner's games.\\nThe team with the most successful offense wins.\\nOthers, such as golf, are loser's games.\\nPlayers don't defeat their opponents -- victory goes to the person who makes the\\n\"], b\"Sivy on Stocks: Winning a loser's game\"], [[b'This is a notice to inform you that the server where your Outlook mailbox resides is scheduled for an outage tonight.\\nYour mailbox will be temporarily unavailable starting anytime after 11pm and may continue to be unavailable until 1 a.m., when all server maintenance work have been completed.\\nOutlook Web Access (OWA) will also be unavailable during this time.\\nBlackberry users:  Message delivery may be delayed for a few minutes.\\nIf you have any questions, please call the Resolution Center at x31411.\\n'], b'CORRECTION:  Outlook Outage - Friday, December 28, 2001'], [[b\"This is what I heard,  Please type any anything significant that you might have heard and send it back to me.\\nDan Leff floor presentation on Friday March 22nd, 10:00 AM came here 5 years ago, Mechanical enigeer, sold his business FMES in 1997 to EES and been with EES every since.\\nwe have about 1,000 people left in wholesale and retail about 800 people in support groups we've lost about 7,000 people since Dec 2nd.\\n3 things 1.  where is the business now we know where we are, where we are going, retention\\\\ pooled wholesale and retail resources figure out how to get the people together  we've completly revamped the sr management team target recovery of $6 billion dollars for the estate team, this is not a book value or firesell value.\\n$3 bill in ENA, $1.4 EES  $600 mill enron canada.....so forth.\\nstan hortin   mike mcconnel looking at packaging deal and assets together to develope a new reorganized company.\\n2. we are important, the people that is all the difficult times are behind us he understands our urge to leave take a deep breath, think about how what you do will enhance career.\\nretention plan should be presented next week, will be filed next week with the bankruptcy court.\\ncreditor's committee has approved the retention plan  plan brings substantial amount of money to bear  jobs may change email will go out next week detailing plan management will talk to people before next friday about how the overall retention plan will impact us and our coworkers   Liquidation bucket - people settleing terminated positions, assets, primarily commercial oriented.\\nCommision type environment.\\nRetention Pool - cetain amount of money is paid on a qtrly basis.\\nSevereance plan - safety net for people not in retention or liguidation bucket.\\nanyone in severance plan will have their monies offset by any monies they recieve  on one of the other plans.\\n3. personal message  be positive have some fun get a bounce back in your walk you can be part of fixing it take next year or 2 years to learn and develope.\\nqueston:  what is the goal of the company we are selling books of business, assets, and substantial amount of backoffice work needs to be done to do the settlements.\\nwe are not going to try and develope new business.\\nquestion:  org chart?\\nWe should be developing one over the next few weeks.\\ncame here 5 years ago, Mechanical enigeer, sold his business FMES in 1997 to EES and been with EES every since.\\n\"], b'FLoor Meeting'], [[b\"My YTD nymx and your YTD nymx don't tie.\\nHere is my worksheet.\\nWould take a  look at it and let me know which deals are wrong.\\nYou are a wonderful person  by the way.\\n\"], b'Hey'], [[b'The position for Monday is currently scheduled into imbalance in both the QSE MOS and Enpower.\\nMake sure that both are modified when you make sales/purchases.\\nAttached are the spreadsheets that reflect what Frontera is doing for the next three days.\\nAgain,  look to the top line to know what generation output should be.\\nKnow it,  learn it,   live it.\\nThanks,\\n'], b'Frontera position'], [[b'We have received the executed Second Amendment to the ISDA Master Agreement  dated as of July 31, 2000.\\nThis amendment changes the Counterparty\\'s  exposure Threshold and exempts certain Transactions when calculating  \"Exposure\" under Paragraph 3 of the ISDA Credit Support Annex.\\nCopies will  be distributed.\\n'], b'HS Resources, Inc.'], [[b'Hello, Everyone -  This notice confirms the review session next week on December 19, 2001, at the Kingstad Conference Center first floor meeting room.\\nThe Kingstad Conference Center is located at 5933 NE Win Sivers Drive, about three miles east of the Portland Airport.\\nThe meeting will begin at 8:30 a.m. and end by 12:30 p.m.\\nThe purpose of the meeting is to \"walk through\" preliminary rough drafts of write-ups on Congestion Management, Pricing, and Facilities Inclusion.\\nWe are presenting these preliminary rough drafts together because of the interest expressed at the last RRG meeting to see how these interrelated concepts work together.\\nWe are not planning to walk through the drafts on Planning and Market Monitoring because they have been extensively discussed at previous RRG and Content Group meetings.\\nBut we will be prepared to discuss any questions about them.\\nThe preliminary rough drafts on all of these subjects will be posted on the RTO West website - www.rtowest.org - before the meeting, and we will send a notice to you when they are available on the website.\\nBecause this review meeting is open to members of the various content groups as well as the RRG, I will send this notice to several exploder lists.\\nTherefore, some of you who are on multiple lists will get duplicative copies of this notice.\\nPlease feel free to vent your annoyance with me about this at the December 19 meeting.\\nWe\\'ll also provide a schedule for completing work on the March 1 filing to FERC at the December 19 meeting.\\nWe look forward to seeing you next week on December 19.\\n- Bud\\n'], b'Notice of December 19 Review Session on Stage 2 Write-ups'], [[b'Susan, please substitute the setoff language set forth in the attached to each of the referenced items in the swap form bank.\\nIf there are any other items in the swap form bank that you think also need the new language, please advise.\\nThere may be additional language for a Canadian alternative; Peter is reviewing this further with Canadian counsel.\\nSusan, also please note that as I update the US Industrial I will include this new language, but for now, put it in the current US Industrial form.\\nAfter you have substituted the language, please provide me with one copy of each form for a final check.\\nThank you.\\nMark Taylor:  This language has not been implemented in EOL.\\n'], b'New Setoff Language in Isda Forms'], [[b'I have attached a draft of the letter to be sent to Mr. Esses.\\nPlease give  me any comments you may have by 4:00 p.m. today.\\nThanks.\\n'], b'Euell Energy Resources'], [[b'Thanks for the call.\\nBrenda Herod is the operations controller for EIM.\\n(Brenda and Brent in their roles over EIM and EGM, respectively, are both  direct reports of mine.)\\nBrenda is out of the country through the end of  this week on vacation, touring Europe with her mom.\\nIf there is a need to  address this issue this week, let me know and I can start down that road  until Brenda returns.\\nLet me know.\\nI did hear an unsubstantiated rumor this week that Clickpaper.com is set to  go live in London within 5 days.\\nI am trying to find out if that is true.\\nIf it is, it would be a repeat of a commercial decision in Houston to do so  this past July without letting anyone in the mid and back office know.\\nWe  had to scramble to set up an infrastructure to support that in a big hurry.\\nNot ideal.\\nI hope that history has not repeated itself.\\nLet me know if you  have heard anything on this.\\n'], b'EIM Resources'], [[b\"With Aleck Dadson's recent departure, I am pleased to announce that Rob Hemstock will immediately assume a leadership role on behalf of Government Affairs for Enron Canada.\\nRob will be working very closely in this capacity with Rob Milnthorp as well as myself and others.\\nPlease join me in congratulating Rob on his new responsibilities.\\n\"], b'Organizational Announcement: Canadian Government Affairs'], [[b\"The technical difficulties with the SAP Security email box have been resolved.\\nYou may once again follow the normal submission process as noted in the instructions for the SAP Security Request Form and the IBuyit eProcurement Request Form.\\nIf you submitted a request for security during the week of  July 16-20 and have NOT received a notification of it's receipt, please resubmit the form.\\nWe can not be certain that all mail directed to the box during this period was actually received.\\nWe apologize for any inconvenience that this may have caused you.\\n\"], b'SAP Security Mailbox functional again'], [[b\"Gerald,  The PSC held a pre-hearing conference today on the territorial dispute.\\nIt was uneventful.\\nThe Hilgert testimony was admitted as Exhibit 14 to WFEA's submission.\\nWFEA sought a delay, Gulf opposed.\\nNo delay was granted.\\nBill\\n\"], b\"Today's Hearing\"], [[b\"Please give me a call ASAP on marketing affiliate issue on TW Enron Online  deal.\\nCell 402-630-8461 or home 402-572-8595.\\nI'm in tomorrow around 7:45.\\nGracias.\\nDF\\n\"], b'EComm'], [[b\"As requested at the 11 October PRC Committee, attached is a comprehensive overview of the proposed PRC process (360  feedback, PRC and bonus compensation) for year-end 2001,  by Business Unit and Function.\\nWe look forward to comments, amendments or concurrence.\\nIn addition, as regards employment agreement provisions with target bonus amounts based on performance, we have included the bonus language contained in the majority of such agreements.\\nShould you have any questions please don't hesitate to contact me,  Gina Corteselli\\n\"], b'PRC Year-end 2001'], [[b'An old scam has surfaced recently with renewed vigor.\\nThe Nigerian-419 fraud letter, so called because it violates section 419 of Nigerian law, is sent in many variations, by surface and airmail as well as by fax and email.\\nGenerally the form it takes is to ask the unsuspecting victim to provide their bank account information in return for a promise to deposit a very large sum of money into that account under some pretext.\\nEmployees should be advised that any information given will be used to further promote the scam through the emptying out of bank accounts, counterfeit and forged checks being written against the accounts, and for other illegal purposes.\\nIf you receive what you believe to be one of these letters, forward it to Mike Hicks (Michael.Hicks@enron.com).\\nCorporate Security maintains a file on them, and works with the US Secret Service to reduce the number of letters received by our employees.\\nFor more information on these letters, please email or call Mike at (713) 853-6198.\\n'], b'Corporate Security Message'], [[b\"Just a reminder about tomorrow's meeting at the Houston Four Seasons Downtown  Hotel from 1:00 to 3:00PM with John Somerhalder and others.\\nThe meeting  room has been changed to The Travis Room.\\nThe dress attire for this meeting will be business casual.\\nThanks,\\n\"], b'MAY 11 ALASKA PIPELINE MEETING'], [[b'Congratulations to you both!\\nYour designation as V.Ps.\\nis richly deserved!\\nJust among us \"constrained technical\" people, however,  couldn\\'t they have  come up with a better description of our category?\\nIt makes us sound like we  are deficient in something other than just career choice!\\nSee you  soon--beers are on me!\\nDF\\n'], b'The Memo'], [[b'Teleconference  Issuer Financial Analysis Under FASB Statement No.\\n133  Monday, December 3rd, 2001  10:00 AM (New York)  3:00 PM (London)        Dear Client:  Moody\\'s Investors Service\\'s Priority of Claims/Accounting Standing Committee is pleased to invite you to participate in a teleconference hosted by Patrick Finnegan, Arthur Fliegelman, and Dr. Ashwinpaul (Tony) Sondhi.\\nThe teleconference will consist of approximately 30 minutes of prepared remarks, followed by a question and answer session.\\nKey highlights of the discussion will include:  *  Credit and financial analysis issues raised by FAS 133.\\n*  Moody\\'s views on interpreting financial statements under FAS 133.\\n*  Problems and pitfalls of statements issued using FAS 133.\\nIf you wish to participate, please dial one of the following numbers with the password of \"Moodys\" approximately 5-10 minutes prior to the start of the call:  ALL Callers -- 1- 312 - 470 - 0053 password \"Moodys\"\\n'], b\"Moody's Teleconference - Issuer Financial Analysis Under FASB           Statement No. 133\"], [[b\"Brad,  I really don't know where to begin other than just to say it.\\nEnron is having some extremely difficult times now.\\nI have been trying to focus on helping Enron stay together.\\nThis is not a good time for you or anyone else to try and seek employment here.\\nI am sorry if I am letting you down.\\nI was only wanting to help.\\nI will always keep you in mind, and hopefully when things turn around here I will be able to address you coming here.\\n\"], b'Summer Enron Internship'], [[b\"=                                                                            =                                                                            =                                                                            =                                                                            =                                                                            =                                                                            =                                                                            =                                                                            =                                                                            =                                                                            =                                                                            =                                                                            =                                                                            =                                                                            =                                                                            =                                                                            =                                                                            =                                    IntercontinentalExchange                =                                                                            =                                                                            =                                                                            =                                                                            =                                                                            =                                                                            =                                                                            =                                                                            =                                                             =20                                                                            =                                                                            =                                                                            =                                                                            =                                                                            =                                                                            =                                                                            =                                                                            =                                                                            =                    Firm Physical Natural Gas Price Bulletin                =                                                                            =                                                                            =                                                                            =                                                                            =                                                                            =                                                                            =                                                                            =                                                                            =                                             =20                                                                            =                                                                            =                                                                            =                                                                            =                                                                            =                                                                            =                                                                            =                                                                            =                                                                            =                    For Natural Gas Delivered on Saturday, December  01, 200= 1 thru Monday, December  03, 2001                                          =                                                                            =                                                                            =                                                                            =                                                                            =                                                                            =                                                                            =                                                                            =                                                                            =                                                                            =                                                                            =                                                                            =                                                                            =                                                                            =                                                                            =                                                                            =                                                                            =                                                                   =20                                                                            =                                                                            =                                                                            =                                                                            =                                                                            =                                                                            =                                                                            =                                                                            =                                                                            =                                                                            =                                                                            =                                                                            =                                                                            =                                                                            =                                                                            =                                                                            =                                                                            =                                                                            =                                    (Trade Date of Friday, November  30, 200= 1)                                                                         =                                                                            =                                                                            =                                                                            =                                                                            =                                                                            =                                                                            =                                                                            =                                                                            =                                                                            =                                                                            =                                                                            =                                                                            =                                                                            =                                                                            =                                                                            =                                                                            =                                                                            =                                                                            =                                                                            =                                                                            =                                                                            =                                                                            =                                                                            =                                                                            =                                                                            =                                                                            =                           =20 Click here to access index history .\\n=                                                                            =                                                                            =                                                                            =                                                                            =                                                                            =                                                                            =                                                                     =20                                                                            =                                                                            =                                                                            =                                                                            =                                                                            =                                                                            =                                                                            =                                                                            =                                                                            =                                                                            =                                                                            =                                                                            =                                                                            =                                                                            =                                                                            =                                                                            =                                                                            =                                                                            =                                    * volume represents sell-side only *    =                                                                            =                                                                            =                                                                            =                                                                            =                                                                            =                                                                            =                                                                            =                                                                            =                                                                            =                                                                            =                                                                            =                                                                            =                                                                            =                                                                            =                                                                            =                                                                            =                                                                            =                                                                            =                                                                            =                                                                            =                                                                            =                                                                            =                                                                            =                                                                            =                                                                            =                                                                            =                                                                            =                           =20 Region     Hub=09High=09Low=09Wtd Avg Index=09Change ($)=09Vol (mmBtu)=09Hu= b Name=09  LOUISIANA =09=09=09=09=09=09=09     ANR SE=09          $2.1700=09          $1.4550=09          $1.6861=09- =    .4444=09         512,700=09American Natural Resources Pipeline Co. - SE =  Transmission Pool=09     Columbia Onshore=09          $2.2200=09          $1.3800=09          $1= .8182=09-    .3434=09         611,400=09Columbia Gulf Transmission Co. - On= shore Pool =09     Henry Hub=09          $2.2400=09          $1.4550=09          $1.7772= =09-    .4294=09       2,408,400=09Henry Hub tailgate - Louisiana =09     NGPL LA=09          $2.1850=09          $1.4450=09          $1.7880=09-=     .3628=09         857,400=09Natural Gas Pipeline Co. of America, Louisia= na Pool =09     Tenn 500L=09          $2.0500=09          $1.3600=09          $1.6897= =09-    .3909=09         439,200=09Tennessee Gas Pipeline Co.-Zone L, 500 L= eg Pool =09     Tenn 800L=09          $1.9600=09          $1.3600=09          $1.6404= =09-    .4569=09         642,600=09Tennessee Gas Pipeline Co.-Zone L, 800 L= eg Pool =09     TETCO ELA=09          $2.1200=09          $1.4050=09          $1.5377= =09-    .5804=09         758,400=09Texas Eastern - East LA =09     TETCO WLA=09          $2.1275=09          $1.4400=09          $1.6767= =09-    .4363=09         351,900=09Texas Eastern - West LA =09     Transco 65=09          $2.1500=09          $1.2625=09          $1.4422= =09-    .7026=09         667,200=09Transco - Station 65 =09     Trunkline ELA=09          $2.1200=09          $1.4600=09          $1.59= 63=09-    .5699=09         304,200=09Trunkline Gas Company - East Louisiana=  Pool =09     TxGas SL=09          $2.2350=09          $1.4500=09          $1.8697=09= -    .2844=09         388,800=09Texas Gas Transmission Corp.-Zone SL FT Poo= l =09  MIDCONTINENT =09=09=09=09=09=09=09     MichCon, citygate=09          $2.1950=09          $1.6500=09          $= 1.8548=09-    .5539=09         561,000=09Michigan Consolidated =09     NGPL Midcont=09          $2.0000=09          $1.3850=09          $1.676= 9=09-    .5471=09         443,700=09Natural Gas Pipeline Co. of America, Mi= d-Continent Pool =09     NGPL Nicor, citygate=09          $2.2800=09          $1.5300=09        =   $1.8238=09-    .5164=09       1,996,200=09Natural Gas Pipeline Co. of Ame= rica, Nicor Citygate=09     NGPL NIPSCO, citygate=09          $2.2500=09          $1.5700=09       =    $1.9588=09-    .3889=09         203,700=09Natural Gas Pipeline Co. of Am= erica, Nipsco Citygate=09     NNG Demarcation=09          $2.2500=09          $1.5500=09          $1.= 8897=09-    .4236=09         567,000=09Northern Natural Gas, Demarcation Po= ol =09  NORTHEAST =09=09=09=09=09=09=09     Columbia TCO=09          $2.3500=09          $1.5000=09          $1.959= 8=09-    .3519=09         939,000=09Columbia Gas Co. - TCO Pool =09     Dominion So.Point=09          $2.1500=09          $1.4500=09          $= 1.6484=09-    .5296=09         927,300=09Dominion - South Point =09     TETCO M3=09          $2.8000=09          $1.6400=09          $1.9320=09= -    .4320=09         766,500=09Texas Eastern - M3 Zone =09     Transco Z-6 (NY)=09          $2.5000=09          $1.7500=09          $2= .0432=09-    .5982=09         450,000=09Transcontinental Gas Pipe Line Corp= .\\n- Zone 6 (NY)=09  WEST =09=09=09=09=09=09=09     El Paso non-Bondad=09          $1.9000=09          $1.4000=09          = $1.5980=09-    .7579=09         351,000=09El Paso - San Juan Basin, Blanco = Pool=09     Huntingdon/Sumas=09          $2.2000=09          $1.9000=09          $2= .0241=09-    .5807=09         363,600=09Westcoast Energy & Northwest Pipeli= ne Corp.=09     Opal=09          $1.8500=09          $1.4500=09          $1.5756=09-   =  .5166=09         336,300=09Opal=09     PG?Citygate=09          $2.6600=09          $2.1200=09          $2.4220= =09-    .4127=09         375,000=09PG?- Citygate =09     SoCal Border=09          $2.6000=09          $1.9000=09          $2.148= 2=09-    .4160=09         249,000=09Southern California Border Points (Ehre= nberg,Topock,Needles)=09  WEST TEXAS =09=09=09=09=09=09=09     El Paso - Keystone=09          $2.2000=09          $1.6000=09          = $1.8572=09-    .4949=09       1,046,700=09El Paso - Keystone Pool=09     Waha=09          $2.1200=09          $1.5900=09          $1.8637=09-   =  .4536=09       1,185,000=09Waha Hub - West Texas =09                                                                              =                                                                            =                                                                            =                                                                            =                                                                            =                                                                            =                                                                            =                                                                            =                                                                            =                                                                            =                                                                            =                                                                            =                                                                            =                                                                            =                                                                            =                                                                            =                                                                            =                                                                            =                                    Includes all firm physical fixed price t= rades done from 7 AM to 11:30 AM Central Prevailing Time on the trade date = specified for natural gas delivered on the specified date(s).\\n=                                                                            =                                                                            =                                                                            =                                                                            =                                                                            =                                                                            =                                                                            =                                                                            =                                                                            =                                                                            =                                                                            =                                                                            =                                                                            =                                                                            =                                                                            =                                                                            =        =20                                                                            =                                                                            =                                                                            =                                                                            =                                                                            =                                                                            =                                                                            =                                                                            =                                                                            =                        IntercontinentalExchange is the world's most liquid = trading platform for over-the-counter energy and metals.\\nActive markets in= clude North American power and natural gas, global crude and refined oil pr= oducts, and precious metals.\\nTraded instruments include forwards, swaps, a= nd options.\\n=                                                                            =                                                                            =                                                                            =                                                                            =                             =20 In order to receive the proprietary information contained in this email, yo= u acknowledge and agree that you shall not further disseminate the Intercon= tinentalExchange Market Data contained herein to any person or entity witho= ut the express written consent of IntercontinentalExchange.\\nFurthermore,=  you acknowledge that (1) IntercontinentalExchange has exclusive and valuab= le property rights in this data; (2) IntercontinentalExchange's data is bei= ng made available to you only for your own business or personal activities;=  and (3) you cannot communicate the data, in any form, to any other person = or entity without the express written consent of IntercontinentalExchange.\\n=                =20 This data is provided to you free of charge.\\nIntercontinentalExchange rese= rves the right to cancel this service at any time for any reason or no reas= on at all.\\n=                                                                            =                                                                            =                                                                            =                                                                            =                                                                            =                                                                            =                =20 You agree that IntercontinentalExchange does not make any representations o= r warranties, express or implied, with respect to the data.\\n=                                                                            =                                                                            =                                                                            =                                                                            =                                                                            =                                                                            =                                                                            =                          =20 To become an Exchange Participant or inquire about the indices, please cont= act sales@intcx.com .\\n=                                                                            =                                                                            =                                                                            =                                                                            =                                                                            =                                                                            =                                                                 =20 To unsubscribe from this service, click here unsubscribe .\\n=                                                                            =                                                                            =                                                                            =                                                                            =                                                                            =                                                                            =                                                                            =                                                                            =                                                                            =                                                                            =                                                                            =                                                                            =                                                                            =                                                                            =                                                                            =                                                                            =                                                                          = =20                                                                            =                                                                            =                                                                            =                                                                            =                                                                            =                                                                            =                                                                            =                                                                            =                                                                            =                                                                            =                                                                            =                                                                            =                                                                            =                                                                            =                                                                            =                                                                            =                                                                            =                                                                            =                                ?Copyright IntercontinentalExchange, Inc. 20= 01, All Rights Reserved.\\n=                                                                            =                                                                            =                                                                            =                                                                            =                                                                            =                                                                            =                                                                            =                                                                            =                                                                            =                                                                            =                                                                            =                                                                            =                                                                            =                                                                            =                                                                            =                                                                            =\\n\"], b'Gas Indices'], [[b'Dear Jeff,  As I am back to the drawing board and start planning for the  Global Leadership Program 2002, I would like to ask for your continuous support.\\nThe visits this year to the  offices in London and Tokyo have received most favorable feedback and ENRON  was mentioned several times during our GLP symposium by both groups.\\nYour innovative ideas and global views has enriched their  MBA experience.\\nQuoting directly from one of the students this year:  \" ... a wonderful, life-altering program.\\nThe trip was truly an amazing experience, one that was both personally and academically rewarding.\\nHopefully, the GLP will remain an essential part of the Cox experience for many years to come.\"\\nI would really apprecite the opportunity for the incoming class to visit ENRON  in London and Tokyo during their GLP trip in May if possible.\\nAgain, thanks for everything and I look forward to hearing from you.\\nWarm Regards,\\n'], b'COX GLP 2002'], [[b'Attached is a redlined version of the Spot GTC (without credit) that shows  the changes that were made.\\nThe same changes were made to all of the other  GTCs.\\nHope this helps.\\nStacy\\n'], b'New GTC Version'], [[b\"Greetings Folks:  Any chance of finalizing the California tariff Monday morning (have a call,  say, 7:30/8:00 AM PDT)?\\nLet me know.\\nHope all's well with all.\\nBest,\\n\"], b'California Tariff'], [[b'Doug, can you tell me what the Gray County Interconnect capacity is set at in CAS now?\\nAlso, have you heard what the setting is to be after the additional equipment is installed?\\nThanks\\n'], b'Gray County Interconnect'], [[b'Mark  Although the Xcelerator has been moved to Corp, Jim Derrick asked that I continue to receive legal support from your group.\\nI and people in my group have worked some with Teresa Bushman and Angela Davis in Lance Schuler\\'s group.\\nWould you like me to consider Lance or someone in his group as my legal \"point person\", or is there someone else you\\'d prefer?\\nThanks\\n'], b'Quick question - Xcelerator legal \"point person\"'], [[b'Dear Jeff,  Been a while.\\nHope you are yours are doing OK after the tragedies in NY and DC.\\nUnfortunately, I lost a friend who was working at WTC.\\nBeen a bit hard to get back to the normal aspects of life.\\nWill update you on some of the more relatively mundane but exciting developments on my end soon.\\nCurrently just starting discussions for a potential CEO role at an enterprise software company.\\nHope things go well for you.\\nRegards,\\n'], b'You OK?'], [[b'Rod-  This is the AA memo they discussed with us last Friday.\\nI have prepared a package to respond to all the points.\\nI plan to send it to them tomorrow morning.\\nI have discussed the package and its contents with Rick and Rodney.\\nLet me know if you have any questions.\\n'], b'Wessex Vauation Review'], [[b'We are short at PGE system for Wednesday, 10/03/01.\\nHE7-22pdt, we are 25mw short (total of 400mw).\\nThis is due to a lending deal done by the NW Cash desk.\\nPlease supply Portland at their system in the most cost effective manner possible.\\nDeal #799806.1  Thanks,\\n'], b'Short due to lending at PGE System for Wednesday, 10/03.'], [[b'U.S. GEOLOGICAL SURVEY  NATIONAL EARTHQUAKE INFORMATION CENTER World Data Center for Seismology, Denver  Reply to: sedas@neis.cr.usgs.gov or neic@usgs.gov  The following is from the  United  States  Geological  Survey,  National Earthquake Information Center:  Preliminary hypocenter for earthquake of 2001 Jul 19, UTAH, about 25 miles (40 km) NNE of  Loa,  Utah:   latitude 38.7 degrees north, longitude 111.5 degrees west, origin time 20 15 34.0 utc, depth 3 km, magnitude 4.3.\\nThe  magnitude  and  location  may  be revised when additional data and further analysis results are available.\\nThere have been no reports of damage.\\nThe location  and  magnitude  for this  earthquake  were  furnished  by  the University of Utah, Salt Lake City.\\nStations used:  MSU eP 201544.3 MVU eP 201545.2 SRU eP 201550.5 PV10 P 201552.5 MPU eP 201557.9 DUG eP 201605.0 DAU eP 201605.2 ARUT eP 201606.5 NOQ eP 201608.3 CTU P 201609.0 PV01 P 201616.1 ELK P 201629.7 TPNV P 201639.8 BW06 P 201641.5 BMN P 201648.6 ISCO P 201648.9 HAYW P 201650.8 HLID eP 201654.8 ANMO eP 201658.3 LAZ P 201659.8 LENM P 201703.8 LPM P 201705.7 BNM P 201706.9 MCMT P 201709.3 JLDW P 201709.4 TUC qPn 201710.6 WVOR ePn 201713.7 BOZ eP 201718.7 CHMT P 201738.9 WALA eP 201808.8 WMOK eP 201814.0 MIAR eP 201908.8 ULM P 201920.8 SIUC P 201943.4 PWLA P 202001.5 LRAL P 202016.8 GOGA P 202043.8    EDIS-07-19-01 1443 PDT\\n'], b'[EDIS]  EQ MAG 4 3 UTAH [News: Statewide]'], [[b'Hey guys just thought I would let you know that Valero is going to be at the Job Fair this Friday at Enron Field from 1-4 and I will be one of the people attending it to represent us.\\nSo if you are going to be there make sure you come by and at least say hello.\\nPlus depending on when my flight back is going to be and how soon I can leave the Fair we plan on going somewhere and getting a couple of drinks.\\nSo come by drop off a resume and maybe we can get some drinks.\\nNote:  If you are interested in Valero there is a very good possibility that the Director of Mid-Office will be attending as well and it would be a good chance for an informal interview.\\nHope everybody is doing alright and pass the word on to anybody I may have missed.\\nKyle\\n'], b'Valero at Enron Job Fair on Friday'], [[b'This warning is sent automatically to inform you that your mailbox is approaching the maximum size limit.\\nYour mailbox size is currently 123538 KB.\\nMailbox size limits:  \\tWhen your mailbox reaches 115000 KB you will receive this message.To check the size of your mailbox:     Right-click the mailbox (Outlook Today),    Select Properties and click the Folder Size button.\\nThis method can be used on individual folders as well.\\nTo make more space available, delete any items that are no longer needed such as Sent Items and Journal entries.\\nYou must empty the Deleted Items folder after deleting items or the space will not be freed.\\nTo turn Journaling off,   click Tools | Options | Journaling Options and de-select all items.\\nSee client Help for more information.\\n'], b'WARNING:  Your mailbox is approaching the size limit'], [[b\"Tanya:  I just returned from vacation.\\nWhat happened with SITA?\\nDid we  execute a transaction (in the name of ECTRIC) on a Deemed ISDA (with or  without credit?).\\nI didn't see an entry in Lotus Notes.\\nSara\\n\"], b'SITA'], [[b'I have modified the letter slightly to try and shift the burden of being notified as to internal policy matters back to the counterparty.\\nLet me know if you think this approach works or if you have suggested improvements in the language.\\nThanks\\n'], b'Apparent Authority Letter'], [[b'Hi MARK!\\nThe pictures arrived today.\\nYour letter was dated April 6 so it took ten days.\\nTell Sukran Mother and I think she is beautiful.\\nWe sure enjoyed seeing them all.\\nI made copies for Sue and Tom and will mail them this afternoon.\\nThank you so much.\\nLOTS  of LOVE and KISSES to YOU and Sukran from MOTHER and I.\\nDAD\\n'], b'Pictures'], [[b\"To:\\tRybarski, Amanda; Moore, Kevin G.; Hogan, Irena D.; Bates, Kimberly; Villarreal, Alexandra; Presas, Jessica; Young, Becky; Vuittonet, Laura; Quezada, Daniel Cc:\\tHardy, Kimberly; Panos, Jason; Hernandez, Jesus A Subject:\\t  Please forward to your groups  There is only 1 week left before moving into the new building.\\nThere are two shredco containers located at EB3206E and in the freight elevator for documents that need shredding.\\nAlso there will be a couple of large trash containers located on the 32nd floor today 11/2/01 and next Friday 11/9/01.\\nPlease start the cleanup process.\\nRemember:  1.\\nYou can only move 6 boxes per person plus equipment 2.\\nTake home all IPAQ'S, Blackberry's, Palm Pilots and Laptops Friday 11/9/01 so that nothing is misplaced 3.\\nIf you have a cellular phone charger on your desk....don't forget to pack  4.\\nClean out all Voicemails by 5:00 PM on Friday 11/9/01 5.\\nThe new Enron Building will be closed to all until 5:00 AM on Monday Morning.\\nIf you try to come up here, you will not be allowed in the     \\tbuilding.\\n6.\\nPlease give your User ID and Password to your assistant so she/he can make sure that everything is up and running for you on Monday \\tmorning.\\n7.\\nIf you have a headset, please pack it.\\nThey will not be installed until Monday morning.\\n8.\\nSince there are no amtels moving, please be sure you have MSN messenger installed in your computer because this is what your assistant \\twill use to give you your       messages.\\nIf you do not have it, your assistant can help you install it.\\n9.\\nPlease label your PC, Boxes (on the ends), and cradles, scanners, etc.\\nYou will have a new mouse and keyboard in the new building and your \\tmonitors will have speakers on them so you don't have    If you have any other questions or concerns, please let me know.\\n\"], b'Move Information'], [[b'Attached is a draft press for Coburg Power regarding our decision not to renew our exclusivity agreement.\\nAny thoughts?\\nThey do not have a planned release date yet, but we expect it to be sometime this week or next once they have received approval from us.\\nEric\\n'], b'DRAFT PRESS RELEASE: Coburg Power'], [[b'John,  Credit appears to be a problem on this deal.\\nTherefore, please stand by for  further developments.\\nI appreciate your very quick response.\\nApparently, my client was satisified  with the service he received.\\nKay\\n'], b'Wheeling Pitt consignment'], [[b'Have you heard anything from John Williams re this matter?\\nWe have yet to  receive from them a new exeuction of the transactions under the new  agreement.\\nI have tried to get in touch with them.\\n'], b'Heartland'], [[b'To:          All Enron Houston Users   Subject:   New Dialing Instructions   Ref:   Tie Line Access Code Changes - Enron Building Phone System   Effective Saturday, August 18, the access code for remote locations will be modified within the Enron Building phone system to reflect a standard utilized by all Enron phone systems.\\nThe modification will change the first digit dialed when accessing the tie lines by using the Alternative Routing feature from 7 to 8.\\nAs all other Enron phone systems currently access the tie lines with the digit 8, the change from 7 to 8 will only affect users who reside in the Enron Building.\\nAll other Enron phone system users should note that several digits of the tie lines to London, Calgary, and Portland have changed.\\nWhat This Change Means To You   Effective Saturday, August 18, you must replace the first digit 7 with an 8 when accessing the tie lines.\\nAdditionally, several of the digits to the London, Calgary, and Portland tie lines have changed.\\nAll other digits of existing access codes will remain the same.\\nFor your reference, a list of the new dial strings for remote locations is identified at the bottom of this message.\\nPlease Note:  This change also means that any Auto-Dial buttons you use to call associates at remote locations will now have to be re-programmed.\\nSuch buttons may be programmed on conference room phones and FAX machines in your area.\\nTo re-program an Auto-Dial button:   ?\\nPress the Menu button on your soft keys ?\\nPress the Program button on your soft keys ?\\nPress the Auto-Dial button you wish to program ?\\nDial the new Dial String (as identified below) ?\\nPress the # key   REVISED DIAL STRINGS FOR ENRON TIE LINE NETWORK Users must dial 8 digits to call via Tie Lines\\n'], b'New Dialing Instructions'], [[b\"There's a rumor going around that you are signing up people for the pilot= =20 program.\\nIf true, I would love to volunteer, as I work at home frequently.\\nThanks,\\n\"], b'A Computer and Internet Connection for You and Your Family'], [[b'Tammi  DePaolis has requested a Master agreement for Carolina Power & Light  Co. for a 7 month firm deal for summer.\\nCurrently,  we have only a GISB in  place with CPL.\\nPlease forward a credit  worksheet.\\nMany thanks!\\n'], b'Carolina Power & Light'], [[b'Congratulations on your new responsibilities.\\nI look forward to working with  you on the Litigation Unit stuff (as Eric will advise you, a very pleasant  task!).\\nDF\\n'], b'Changes in Administrative Responsibilties'], [[b\"Please see the attached summary of the captioned session.\\nThe positions of the speakers, as well as those of the Commissioners, are summarized.\\nShould you require additional information on a specific topic, please don't hesitate to contact me.\\n\"], b'RTO Week- Session on Cost Recovery Issues'], [[b'Now that the celebrating has died down, lets decide whether to seek rehearing  or clarification of the order.\\nIf there is anything in it that disadvantages  us, we should consider rehearing, particularly since it is a nearly certain  that our friends at SoCal will file a nasty one.\\n(It might be good for Steve  H. or Bill or whoever has the best relationship with SoCal to make a high  level courtesy call to extend the olive branch and tell them that we\\'ll work  with them to minimize their concerns blah blah blah.\\nAt minimum, we\\'ll  probably learn if they do intend to seek rehearing)    I see two things that may be worth seeking rehearing on:  1.\\nThe requirement that we disclose our discount agreements in 15 days.\\nFERC really punted this issue.\\nThey say that \"since the expansion capacity  is fully subscribed we see no reason why Transwestern should not publicly  disclose the agreements.\\n.\\n.\\n. \"\\nThis is the first time I\\'ve heard of any  rule that if your project is fully subscribed you therefore lose your right  to confidential treatment of sensitive pricing info.\\nAt minimum, we could  argue that the requirement is arbitrary and capricious because FERC didn\\'t  even mention its normal regulations and procedures governing filing of  discount reports.\\nIt just cited the certificate regulation that requires an  applicant to \"file\" its rate information with the Commission (which we did)  and ignores the regulation (Sec.\\n284.7(c)(6)) that doesn\\'t require a pipeline  to publicly disclose its discounts until 15 days  after the close of the  billing period to which the discount pertained.\\nThe commercial people need  to decide if we care about this issue--i.e., how upset will the customers\\n'], b'Gallup Order: PRIVILEGED AND CONFIDENTIAL, ATTORNEY CLIENT  PRIVILEGE'], [[b\"We will set up a call-in number to relay to folks any actions the Commission  takes tomorrow.\\nThe Commission meeting starts at 10 AM PST, but it's unclear  when they will take up our issue.\\nSince the press will likely have the place  surrounded, they may decide to do that item first.\\nWe'll send out a notice  with a call-in # and time as soon as we have the information.\\nBest,\\n\"], b'Call to Discuss California PUC Action'], [[b\"Attached is the report I mentioned, in printed form it shows each discount for each path for each contract.\\nI will mention this to the TW team now, but go over the report in further detail on the first day of invoicing so each can see the discounts for their own shippers.\\nHopefully this will reduce future PPA's.\\nThanks,\\n\"], b'Negotiated Rates'], [[b\"As you may know by now, the media learned of the employee meeting that was planned for next Wednesday, January 23 at the Hyatt.\\nTo protect the privacy of our employees, we have chosen to cancel the meeting.\\nAs an alternative to the Hyatt, we are looking at space options within our building.\\nThis will require that we hold several, smaller group meetings, but will help to ensure our employees privacy and safety.\\nWe are currently working through logistics and hope to coordinate these meetings rather quickly.\\nWe are continuing to compile a presentation for the meetings.\\nIt would provide an overview of our current situation, including a timeline of the bankruptcy process and other major challenges we must overcome.\\nIt would further explain the NetCo agreement and its impact on Enron's ongoing business.\\nAnd finally, it would outline Enron's organizational structure and strategy going forward.\\nI will be back in touch soon with further details on the rescheduled meetings.\\nRegards,\\n\"], b'Employee Meeting'], [[b\"Chris, I'm sure there are some I missed.\\nI beleive some of these books have not  been used for quite some time.\\nLet me know what else you need from me.\\nThanks.\\n\"], b'Book List'], [[b\"MD Anderson has approximately 500 job openings, some of which may be suitable for former Enron employees.\\nThe jobs vary but include a number of IT and administrative positions.\\nMD Anderson's potential interest in employing laid off Enron employees came to our attention via Anne Marie Giltrop of MD Anderson who spoke with Angela Davis.\\nThis morning, I spoke with Ms. Giltrop.\\nIn light of our policy of only providing neutral references and other liability considerations, I stated that I did not believe we would provide MD Anderson a list of employees who were laid off, but that I would try to find an approved vehicle for getting information regarding job openings at MD Anderson to our former employees.\\nThe MD Anderson web site does not reflect all current open positions, so I suggested that, if approved on both ends, MD Anderson could provide a list of openings with job descriptions that could be made available to former Enron employees.\\nMs. Giltrop is attempting to obtain appropriate approval from MD Anderson.\\nShe later phoned to inform me that I should expect to hear more from Deborah Manning, Jim Dorn, or Martha Jones.\\nOn our end, I have contacted David Oxley who put me in touch with Cindy Olson.\\nSarah Davis will now handle coordinating relations with MD Anderson.\\nThis is an important opportunity for former employees, and for Enron and MD Anderson as good Houston citizens.\\nPlease let me know if I can be of any further assistance.\\n\"], b'MD Anderson'], [[b\"FYI  Lisa Finley just called me to let me know that Devon Operators need to take Beaver Creek down tomorrow for 8 hours.\\nThey apologize for the short notice, but said if they don't fix the cooler now it will bring the whole system down soon.\\nWe will be short by about 6,500 on the 005 contract for Gas Day 4 and I guess we'll have to work at paying it back.\\nThat's all I have to say .....about that.\\nTheresa\\n\"], b'Devon - Gas Day 4'], [[b'Sorry, but once again Tim has discovered a bug in the conversion of the Truequote data and has requested us to remain out of the files while they correct the program and rerun the job.\\nThis should be complete by 1, at which time I will spot check the data and give the ok as to whether we can use the files.\\nIn the meantime, if you could please try to update the progress reports with any data that you may have completed, it will be greatly appreciated.\\nThanks,\\n'], b'Curve Validation Templates'], [[b\"market_relations@nyiso.com writes to the NYISO_TECH_EXCHANGE Discussion List:  Dear Market Participants  1st Rochdale Cooperative.\\nLtd. is being removed from the NYISO-administered electric energy markets.\\nThe changeover of 1st Rochdale's customers to the provider of last resort, Consolidated Edison Company of New York, will take place on Friday, October 12 for the Saturday, October 13th market.\\n1st Rochdale had previously posted a sufficient amount of collateral to cover its obligations to the energy market and the NYISO anticipates, therefore, that no losses associated with this transition will be borne by the market.\\nRegards,\\n\"], b'NYISO Market Participant change - 1st Rochdale Cooperative, LTD'], [[b\"I have a phone number on a post it note on my cabinet, just to the right of  where my computer would be if I was there.\\nIt is a lawyers name (which of  course I can't remember), male, with a 212 or 202 phone number.\\nIt may be  David something or other.\\nCould you email me that name and number?\\nDo you know if there is a way for me to save my emails that I have in folders?\\nBet the weather is better than this in San Fran.\\nKay\\n\"], b'phone number'], [[b\"Hey Paul, I know you're busy, but can you let me know where to find the map detailing the Northeast transfers limits you included in the presentation you put together for Dana.\\nI'd like to include it in a presentation I'm putting together for John Llodra.\\nThanks,\\n\"], b'Northeast Transfers Map'], [[b\"Dear Mr. Derrick:  \\tThank you for including me in this venture.\\nIt promises to be fun and useful.\\nUnfortunately, in terms of the November 2nd meeting, a faculty candidate I'm primarily responsible for is coming through the law school the same day.\\nHe is giving a colloquium late morning/early afternoon and my wife and I are hosting the dinner for him and his wife that evening.\\nSo, especially given the post-9/11 logistics, it doesn't seem practical for me to come to Dallas for this meeting.\\nOne possibility might be for me to participate by phone for a portion of the afternoon meeting and I would be happy to do so.\\nBut given the nature and length of the meeting, this probably doesn't make sense - please let me know what you think.\\nBest regards.\\n\"], b'Nov. 2 Mtg of Exec Comm of Inst for Law & Tech'], [[b'The execution documents were sent over to Duke Energy yesterday.\\nI spoke to  them this morning and they we going to forward the documents internally for  signature.\\nI, or Marie upon her return from vacation, will keep you posted  on the progress of execution.\\n'], b'Duke Energy International'], [[b'Dear Greg,  As we discussed, I am attaching our proposed form of ISDA Schedule and Credit  Support Annex for your review.\\nIf you have any comments or questions, please  do not hesitate to call me at 713/853-3399.\\nWe look forward to hearing from  you.\\ncc:   Tom May  Ed Sacks, Credit  Bob Bruce, Senior Counsel\\n'], b'Draft ISDA-Ontario Power Generation, Inc.'], [[b'Sorry I have been hard to reach.\\nWe are in the midst of the CA Iso case depositions.\\nEnclosed are the invoice numbers.\\nPlease call if you want to discuss further.\\n- PNWBudget.doc\\n'], b'PNPINVOICE'], [[b\"My name is Terrie Sechrist and I am the Service Unit Cookie Manager for Bending Bayous this year.\\nI know that you were the cookie managers for your troop(s) last year.\\nI do not have confirmation as to who the cookie managers are for your troops this year.\\nWill you please respond to this email and let me know if you are a cookie manager for a troop this year?\\nIf you are not your troop's cookie manager, would you please (if you know) tell me who is this year's manager (please include the troop number(s) in your return email.\\nI have sent out three emails to the troop managers today and would like to get the information to your troop's manager as soon as possible.\\nThanks for your help!\\n\"], b'Cookie Sales 2002'], [[b'Hi guys,   When I was down several weeks ago, you guys indicated that a few more golf shirts would be helpful to building the team.\\nLet me know how many, what sizes, and black or white?\\nI can send some more your way.\\nThanks,\\n'], b'Adaytum Golf Shirts'], [[b\"Hi Jamey,  Would you please let us know when the database (ERMTP) will be back up?\\nIt's already 10AM.\\nVladi needs access to the database asap.\\nPlease let us know.\\nThanks\\n\"], b'ERMTP status'], [[b'Below is an update on the Adaytum Consolidated Model:  1) BU Basic Cubes\\' Training => last week (10/22 - 10/26), two training sessions were held - EEOS and EGAS.\\nProvided in the training sessions were User Documentation, which included screen prints of Manager screens, as well as a word document with additional user instructions and screen shots of the data cubes.\\nAlso included were the Adaytum excel add-in reports (both summary and financial statements).\\nAdditional training sessions are scheduled for the next two weeks.\\nIf you have not done so already, please let me know your availability.\\nThe sessions lasts approximately 4 hours, and is done \"on-site\".\\nNOTE: Most Enron computers have a minimum of 128K of RAM.\\nIn order for faster processing of data and accessing the cubes, we are recommending that everyone upgrade to an additional 128K of RAM (totalling 256K RAM).\\nThe cost of this upgrade is a nominal amount (under $25), and is well worth the investment.\\nTo check the amount of memory on your machine, please do the following commands:  Start | Settings | Control Panel | System (Look under Computer for the amount of RAM you have).\\n2) Next Adaytum User Group Meeting => we will not have a meeting this week due to accounting close.\\nHowever, I will schedule a meeting for next week (time and place to be determined).\\nPotential topics for discussion are: (a) 2002 Plan information input into Adaytum (timeline), (b) Training update, and (c) Integration of actual / plan data between Adaytum and the Data Warehouse.\\nPlease forward to me any additional topic you may want to discuss.\\nPlease call me if you have any comments or other items to discuss.\\nJoe\\n'], b'RE. Adaytum Update'], [[b\"Confidential Work Material - Attorney Client Privilege   Attached for review is a draft of the letter to be sent to Wildhorse  concerning the Gathering Agreement under which the Entrada and Dakota  production is committed.\\nPlease review and provide comments.\\nTo summarize activities to date concerning this Gathering Agreement:  1.\\nConducted a conference call with Brett Frie on Wednesday.\\nBrett also  forwarded some correspondence between Enogex and Wildhorse.\\nThe  correspondence contained a summary of meeting minutes for two meetings  conducted between Enogex and Wildhorse.\\nNo demands were made by Enogex and  no claims of unprofitability were made by Wildhorse.\\nBrett stated that the  Entrada and to some extent the Dakota gas were shut in or curtailed because  the downstream carriers starting enforcing their tighter gas specifications.\\nEnogex took Wildhorse's word for that and never checked with Northwest or  Questar.\\nI asked Brett why he thought Wildhorse would straight away release  the gas.\\nHe responded that he thought they would do so only if Crescendo  negotiated an alternative arrangement with Wildhorse.\\n2.\\nI received more correspondence on Friday from Ken Krisa.\\nNothing really  useful.\\nThere was a letter from Wildhorse to another producer in the area  called Lone Mountain Production Company which stated that Wildhorse thought  these assets were in a state of economic viability decline.\\nUnfortunately  this letter was not directed to Enogex.\\nHowever, the draft letter takes that  position with Wildhorse.\\n3.\\nI am securing local consul out of Denver.\\nI want someone intimately  familiar with Utah and Colorado law from a litigation and timing perspective  to be involved.\\nWe may need to seek a declaratory order.\\nWe have run into  to conflicts with law firm that have represented either KN or Tom Brown.\\nShould have this resolved on Monday.\\n4.\\nAgreed to language on Friday with Ken Krisa and Jim Osborne and the  declaration by Crescendo giving power to ENA to negotiate with Wildhorse.\\nThis draft does state our desire to pursue a release of the gas.\\nHowever, to  reiterate, based on the current facts we do not have a black and white right  to deem this gas as released under the Gathering Agreement.\\nThe fact that  the Entrada Gas is not in spec.\\nwith the downstream pipelines for inerts,  allows Wildhorse to suspend their receipt of this gas without being in  default.\\n\"], b'Wildhorse Letter'], [[b\"Hi Patrice,  I have an issue with Edison Mission and I saw your name on a deal (1094593) from October so I thought I could ask you about it.\\nIt looks like the deals are on a month to month basis.\\nThey paid us $5M back in February and each month we deduct their invoice from this balance.\\nThey called Max in Credit (x.58261) and want their money back.\\nSo, I am fully prepared to wire them their money back, I just want to make sure all the people involved are aware.\\nCredit is going to request an invoice from them stating what we owe them.\\nWhen that comes in someone in credit will sign off on this request.\\nI just want to make the front-end aware of what's going on.\\nDo you know who else does these deals?\\nThanks for your help  Have a GREAT Thanksgiving.....you may already be gone......if so, lucky you!!!\\n!\\n\"], b'Edison Mission Marketing & Trade'], [[b\"Hello family and friends,   I am in charge of collecting shoes for the needy  (C.C.S.C.)\\nvia Nicholas' class at River Oaks Baptist School.\\nThese shoes  can be children's, men's, women's.\\nThese shoes can be slippers, tennis  shoes, boots, dress shoes or good ole fashion walking shoes.\\nI am  more than happy to do a pick up so that you do not have to go out of your  way.\\nOne pair or many pairs, I'll take what I can get to help out people  that NEED shoes.\\nLet me know if you have any and when it is convenient for  me to pick them up.\\nThe annual shoe drive ends on October 4th so please  clean out your closets before then and give away what you are not going to  use.\\nThank you and God Bless,\\n\"], b'Shoes'], [[b'Kathleen,  There were three original assignment and assumption agreements:  One of CAED  I (GE) and two for CAED II (one for GE, one for ABB).\\nI only see two in my  packet, and only two are referenced in the transmittal letter.\\nHELP!!!!!!!!\\nThis is obviously urgent.\\nKay\\n'], b'CAED docs'], [[b\"Chris,  Per our conversation, I am attaching  a sample form of ISDA for both a  Canadian corporate and a Canadian governmental.\\nWith the governmental, the  proposed form of legal opinion attached to the ISDA Schedule would have to be  modified depending on your particular situtation (see footnotes in opinion).\\nAs I also mentioned, we are making some revisions to the guaranty we are  getting from Hydro-Quebec in response to comments from counsel, and we may  want to make some of the same changes to guarantees we receive from any  governmental guarantor.\\nIf you end up having a governmental guarantor, let  me know and I'll send you down the revisions.\\nBy copy of this email to Joe Hunter on the Confirmation Desk, I am asking him  to email you copies of the form of Omnibus Confirmation and Annex A thereto  for an ECC/Canadian Counterparty Deal.\\nI have to say that if you end up  transacting with a governmental entity, our form of confirmation will not  include the reps and warranties required to transact with such  counterparties, since we never trade financial with governmentals prior to  execution of a master.\\nIf you go down that road we may have to come up with  some kind of form, but the best route is to get the ISDA in place first.\\n\"], b'Canadian Sample forms of ISDA Agreements & Confirmations'], [[b'If you guys have been keeping up, you know Enron Europe is waving the white flag and shutting down.\\nOur email addresses (and our jobs!)\\nare being deactivated as of midday tomorrow, so you can reach us at:\\n'], b\"C'est la vie!\"], [[b'Willie: Thanks for your voice mail message.\\nAs I explained to Joe and David, on  all of the counterparties where we have \"EOL Issues\" I need to know what  those issues are and then I will call them.\\nCould you please advise Joe  and/or David about this and then I will follow up.\\nThe only issue that we  discussed was the issue that these counterparties are thinking that the  clicking requirement in the ETA applies to confirms which it doesn\\'t.\\nThanks\\n'], b'EOL Issues'], [[b'Joe: If we need to develop a form of confirm for this, are you the person that I  should work with or would someone else handle this?\\nRod, Since we are doing a separate GTC for this product, we will not be able to  \"net\" on any payment date what we owe the counterparty under this product  against what the counterparty may owe us under other derivative products.\\nAre you okay with this?\\nAlos, we have been assuming that there are no other  counterparty credit issues with this product since other than the upfront  premium, payments will be made from us to them.\\nAre we safe in assuming this?\\nCarol\\n'], b'Reliable Power Product Description and GTCs'], [[b'I called her twice but never heard back from her.\\nIf she is not calling you,  I say let sleeping dogs lie.\\nHave you heard anything?\\n'], b'Call Alisa Johnston at Dynegy 713-767-8686 re Debbie Chance'], [[b\"Hi Sarah -  The Enron attendees for tomorrow's meeting are:  Ken Lay, Marty Sunde and Bob  Williams.\\nTheir resumes are attached.\\nSarah, will you please e-mail me exactly where they should come once they get  through traffic.\\nThanks.\\n\"], b'Ken Lay visit with Chancelor Reed at 11:00 a.m. on 5/17/01'], [[b\"The annual pollution prevention plans were completed and submitted to the  State of Arizona.\\nThese plans are requried for the three large quantity  generators of hazardous waste in Arizona.\\nAnnual hazardous waste fees were paid and submitted to the State of New  Mexico for four facilities in New Mexico.\\nA conference call was held with Houston Legal and Environmetnal Affairs to  discuss the alleged NOV issued for the P-1 C/S which involved a turbine like  for like replacement activity.\\nData has begun to be collected to  substantiate Transwestern's position concerning the proposed action by the  State of New Mexico.\\nA field trip was made to the Air Quality Bureau to copy  all files relevant to the P-1 C/S and will be delivered to the contract  attorney who will be assisting Transwestern with this issue.\\nCopies of the New Mexico EOTT air permits were received.\\nComparisons will be  made with the nearly completed EOTT tank database spreadsheet to determine  status of permit compliance with each air permit.\\n\"], b'Weekly Environmental Acitivity Report Roswell ARea'], [[b\"The place (outside) is a mess and needs some clean-up (e.g., get all that old  wood out of the front yard, whack down the weeds).\\nPossible for you guys to  come up next Wednesday night and we can do a quick clean up on Thursday.\\nI'm  going to try to hire a hauling company to help us and haul it away.\\nIf  Cameron has to work are you available?\\nBest,\\n\"], b'Memorial Day'], [[b'Hey Tom, Rita Wynne just called and let me know that we need to make a payment to TXU on behalf of Tenaska.\\nSince TXU has terminated agreements with us, the Cash Management Committee will not make payments to TXU unless they understand the deal that is in place with Tenaska and we show that Tenaska has already paid us their part.\\nCould you please help Chip Schneider, of Enron Underwriting, and myself get up to speed on this as quickly as possible.\\nTXU is threatening to take action on Tenaska.\\nThanks for your help.\\nRegards,\\n'], b'Tenaska Service Agreement'], [[b'I can\\'t imagine the volume of fan mail on your exit, so I\\'ll be brief.\\nJust returned from an unplugged vacation to read the surprising/intriguing news.\\n3 comments:  1.\\nThe Times tells me you\\'re engaged.\\nA thousand blessings on your heads.\\n(I always wished I were Jewish but couldn\\'t qualify on taste or IQ).\\n2.\\nI\\'ve told people that  you are my business hero for several years now.\\nIt seems a little unfair that you would now vie for the \"personal life\" hero as well, so I\\'ll hold that title in abeyance for the moment.\\nIt goes without saying that if there were ever any way to work together, the firm (not that firm) and I would be honored.\\n3.\\nOn the trip back, I\\'ve been reading Katharine Graham\\'s autobiography.\\nApparently, she slept a lot with Adlai Stevenson, another wicked smart guy.\\nHis most widely used quote at \"retirement\": \"I\\'d just like to lie under a tree with a glass of wine and watch people dance.\"\\nThey say he was too smart to be President.\\nAll the best.\\n'], b'well....'], [[b'Do the LM facility agreements for DevCo turbines need to contemplate ENA as  an agent?\\nWill it specifically be ENA, or an ENA subsidiary?\\nThanks,\\n'], b\"Facility agreements for LM's/Agency arrangement\"], [[b\"FOOD ASSIGNMENTS:  Saturday Breakfast\\t- \\tSam, Paula Saturday Dinner\\t\\t- \\tKim, Phyllis Snacks\\t\\t\\t-\\tJudy, Lee Sunday Breakfast\\t\\t-\\tLisa, Cynthia Paper Products\\t\\t-\\tAmy      DIRECTIONS FROM LISA:  Hello Everyone-  Here are detailed directions to the beach cabin for the Nov. 30  girl's weekend.\\nDirections to the Polk Beach Cabin:  Go south on IH-45.\\nTake the Harborside Dr. exit when you get to Galveston and turn left under the highway (this is the first exit after crossing the causeway, so be watching for it).\\nTravel approx.\\n6 miles on Harborside Dr. to Ferry Rd.\\nTurn left on Ferry Rd., go to the end, and catch the ferry to Bolivar ( this is a free drive-on ferry operated by the Texas Hwy Dept.).\\nAfter exiting the ferry you will be on Bolivar Peninsula Hwy 87.\\nTravel approximately 11.5 miles to the Emerald II edition (the Crystal Beach water tower is a good land mark when you are getting close and the Emerald II edition is the first road after the post office).\\n\"], b\"Food assignments and directions for Girls' Weekend\"], [[b'Dear Ken:  This note builds on the earlier voice mail, and a memorandum I have sent to   you, following the Dave Dorman meeting.\\nGiven the initial ground work done by   our team at ATT leadership level, the meeting between Jeff and David Dorman,   we think did go as expected by us.\\nI am sure Dave and Stewart, along with   Jeff have shared their views of the meeting, and do feel positive about  the   process forward.\\nOur take on the meeting is as follows:  1.\\nDave Dorman is open and eager to explore ways ATT and Enron could   cooperate across the board.\\n2.\\nDave wants to move fast, but at a pace that will work within ATT, and is   strategically sound for both the organizations  3.\\nHe is now looking forward to specific value propositions from   Enron-Adventis team, which he is prepared to discuss with us.\\n4.\\nOn that basis I am sure he will guide us to the most appropriate guys   within ATT who will need to understand and act on the value propositions.\\nIn view of the above the real work begins now.\\nAs discussed with Dave and   Stewart, we will further reinforce our commitment to develop, and take the   basic proposals with ATT forward.\\nOur team is already on the job and will   meet with Stewart early this week.\\nI did indicate to both Dave and Stewart that we will like to take the next   steps in a most expeditious and matured fashion so that all the strategic   possibilities to create the new bandwidth dynamics between the two companies   could be achieved.\\nGiven that there were some hesitation within Enron on the out come of the   first meeting with ATT, we committed to the last 2.5 weeks of work with a   reduced fee structure.\\nNow that the first major step has been successfully   taken, we plan to work with you along our normal professional fee schedule.\\nAs we do want to move as fast as possible and if at any point indications are   that the desired out come will be difficult to achieve we could stop and   review progress.\\nAs a result, although not common, we are willing to work   with a weekly rate, adjusted to professional fees of $75,000/week and out of   pocket expenses.\\nIn addition of course for an engagement of this nature which   essentially leverages our firms professional credibility and trust in the   industry, our clients pay us on the basis of successful execution of the   alliance formation along preset milestones.\\nGiven the strategic nature of this engagement, and our commitment to assist   you with all the major Telcos, -- incumbents and new, we will welcome to\\n'], b'Moving forward: URGENT, URGENT.'], [[b\"It's the last day and only $135,000 more to go!\\nWe're at 95.35% of our $2.9M goal, 70% contribution rate, and 75% participation rate.\\nI've attached the latest report so you can see how your business unit or functional group is doing.\\nThe final push is on.\\nWouldn't it be great to get to $2.9M by 5:00 p.m. today!\\nPlease call if I can help you in any way today.\\nI know we can get there.\\nThanks for all of your help, Kathy\\n\"], b'Updated UW Reports'], [[b'This is to advise you that we are still working on your individual issues  regarding the lack of representation in your specific areas on the Associate  PRC Committee.\\nI will keep you posted on the outcome.\\nThanks,\\n'], b'ASSOCIATE PRC'], [[b'Pat,  I have reviewed this agreement and provided my comments under a separate  email.\\nI would appreciate your review of Section 4.14 in particular, given  your familiarity with the compensation plans and benefit plans.\\nIn terms of  timing, your comments probably can go into the next draft, but if you have a  chance to look at 4.14 today, it would be great!\\nThanks a lot!\\n'], b'Project Triple Lutz'], [[b\"Hi,  How's it going?\\nYou realize we missed our PLAYDAY for the kids this week.\\nWe need to make sure we get on schedule for next week.\\nSometimes the Tuesday  night choir rehearsal takes so much out of me and the boys, that sometimes we  spend Wednesday recuperating (i.e.\\ngetting the boys and myself to bed  early).\\nIt's always so much better when Todd is not working and he can keep  them.\\nGirl, what did you think of that Jon P. Kee song that Joe and that girl were  singing on Tuesday.\\nThe choir really wasn't into that one.\\nWe just could  not muster up a good sound!\\nAre you going to the groundbreaking ceremony?\\nIf so, let's see if some of us want to have lunch together before we head to  the tent!\\nI'm 75% sure that I will be attending.\\nTalk to you later.\\n\"], b'Playday!!'], [[b'Karen- Wanted to say thanks for the gifts you gave me the other day for xmas.\\nI know I often appear ungrateful but that\\'s what happens when you have 2  thousand things on your mind.\\nThe pen and leather \"thing\" for notes are  great- I\\'ll use both in my annual attempt to get organised.\\nRick\\n'], b'Thank You Note'], [[b'Kal: As we discussed, enclosed is a draft of the letter.\\nPlease review and make  sure that I have accurately described what will take place and if you find  acceptable, please forward on.\\nIf any changes need to be made please call me  at 33989. carol\\n'], b'Letter'], [[b'CONFIDENTIAL ATTORNEY/CLIENT INFORMATION NOT DISCOVERABLE  Two years after PCA\\'s bankruptcy, we received a demand letter from PCA.\\nPCA  claims that EPMI owes PCA $15,126,445.16 for damages resulting from EPMI\\'s  wrongful termination of transactions in June 1998.\\nThis amount appears to be  based on PCA\\'s calculation of the forward values of the terminated trades,  and certain \"preference payments\" that PCA claims were made to EPMI.\\nThis  claim is in its preliminary stages.\\nI will update you with further  information as soon as we get a handle on what the Trustee is really  seeking.\\nAs you will remember, we currently have a proof of claim pending  against PCA for over $5 million dollars representing our unpaid receivable  amount.\\nBill  In connection with this matter, it would be very helpful if you could have  someone gather the following information:  1.\\nDate and amount of last payment made by PCA, splitting the relative net  amounts owed to and from EPMI (I would assume that payment for April  deliveries was made - accordingly, I would assume that the last payment we  received from PCA would have been around May 20th).\\n2.\\nTotal amount of MWH delivered to PCA but for which PCA never paid for.\\n3.\\nThe details of how you calculated the net MTM exposure of the terminated  transactions (pursuant to an email to me dated July 27, 1998 you had  calculated the MTM as of July 7, 1998 at $3,772,939)  As always, thanks for your help.\\n'], b'PCA Demand Letter'], [[b'I am getting ready to send out an all holders update.\\nPlease let me know if you need paper copies of the updated sheets.\\nDue to the number of filings involved, I will not be able to send these out email.\\nZelda\\n'], b'Updated Tariff Sheets'], [[b\"Mr. Lay,  Even though this will in all probability never even be read, I would still like you to know I am proud to have at least been part of Enron.\\nI am a foreigner and came to work for you a year ago exactly.\\nI can clearly remember how all I knew here said how lucky a <beep> I was to work for the most safe and good company in all of Texas and probably way beyond it.\\nI am from the Netherlands and what I call 'imaging', was unknown to me.\\nStill, here I am, now fully cooperating by being very proud to work for my company, Enron.\\nThese are trying times for all of us.\\nIt is hard to even smile back at people that make cheerful little jokes about the situation we are in.\\nWhen something negative is being said, I'll be there jumping the barricades defending what I know Enron to be.\\nUnfortunately, in the wee hours when there is nothing left to fight and all you can do is wonder about what the heck is going on, I become upset.\\nUpset with myself for defending Enron while I have no idea what I am talking about.\\nAll we all know is what we read online, see on the news and read in the paper.\\nUsually people outside know more than we right here at that, according to your emails, powerful pumping and beating heart committed to get us out of the predicament we are in.\\nNow, I ask you, is there anyway you can give us a little more of that Enron feeling?\\nWe all know that we have to prepare for the worst, but nobody knows anything so to say.\\nEven if we stay loyal and try and not update that resume and not look for jobs, we don't know what is the least that we can expect at the end of the day.\\nSure, it must be possible for us to go and find out online what the little rules are and guess what we can expect.\\nInstead how about doing that 'imaging' again.\\nUs being proud that even if we end up being let go, that we were informed and knew what was coming.\\nBestow on us that what you gave us the first day we came in: Our Values.\\nWith kind regards,  Guido Govers Enron Networks 5-4704\\n\"], b'Our Values'], [[b\"Ken:  It is my understanding that we must get approval from the Office of the  Chairman to utilize the company aircraft for personal use.\\nMy family is holding a Holiday Reunion in Atlanta December 18-23.\\nDebbie and  I would like to fly to Atlanta and back on Friday, December 22, with our  children.\\nThe twins, Jason and Jessica, are a little bit too young yet to  try the commercial airlines, which is why I am requesting to use a company  aircraft.\\nOf course, we would only secure a plane if it is NOT needed for business  purposes that particular day and would be subject to company policy on all  charges.\\nNo problem if this doesn't work!\\nStan\\n\"], b'PERSONAL USE OF COMPANY AIRCRAFT'], [[b\"I checked on the status of this today...\\nMine shipped on the 9th of November...\\nHowever, its not trackable...\\nI'm thinking it might have made it to my house today?\\nThat, or its lost.\\nDid you get yours yet?\\nT\\n\"], b'Battleground Galactica'], [[b'Listed below is the general schedule of events for the Enron EWS Legal Conference being held at The Woodlands Resort & Conference Center on October 11-12, 2001.\\nIf you are traveling into Houston from outside locations, please plan your itinerary accordingly.\\nENRON EWS LEGAL CONFERENCE The Woodlands Resort & Conference Center - The Woodlands, Texas October 11-12, 2001  SCHEDULE OF EVENTS  THURSDAY, OCTOBER 11 12:00 pm - 1:00 pm\\tRegister at the Enron desk located adjacent to the resort main lobby 1:00 pm - 5:15 pm\\tGeneral Session I 6:30 pm - 7:00 pm\\tCocktail reception on the Forest Deck at the resort 7:00 pm - 9:00 pm\\tBuffet dinner on the Forest Deck at the resort 9:00 pm - 12:00 pm\\tPool and foosball contest in the Grand Ballroom at the resort  FRIDAY, OCTOBER 12 6:00 am - 8:30 am\\tBreakfast buffet in the resort dining room 8:30 am - 12:00 pm\\tGeneral Session II 12:00 pm - 1:00 pm\\tLunch buffet in the resort dining room 1:00 pm - 6:00 pm\\tActivities - golf, tennis, spa or hiking/biking  A detailed agenda and map with be distributed in the near future.\\nPlease contact me if you have any questions.\\nThanks.\\n'], b'LEGAL CONFERENCE AGENDA'], [[b\"COLUMBIA GULF TRANSMISSION COMPANY                                                             NOTICE TO ALL INTERESTED PARTIES                                   JUNE 24, 2002  Notice ID: 3845 5 - NO RESPONSE REQUIRED                            Columbia Gulf Transmission is auctioning 47,395 dth/d of onshore firm capacity  from Venice to Rayne, Louisiana at CGT's maximum onshore FTS-2 transportation  rate.\\nThis capacity will be available July 1, 2002, with bids due by 2:00 p.m.  (Central Time) on June 24, 2002.\\nDetails of this capacity auction may be found in the Columbia NAVIGATOR system  under the capacity release folder, offer number 36798.\\nFor additional information please contact Janice Felton at (713) 267-4210 or  Martha Blake at (713) 267-4213 or Brian Lamb at (713) 267-4251.\\nColumbia Gulf Transmission is auctioning 47,395 dth/d of onshore firm capacity  from Venice to Rayne, Louisiana at CGT's maximum onshore FTS-2 transportation  rate.\\nThis capacity will be available July 1, 2002, with bids due by 2:00 p.m.  (Central Time) on June 24, 2002.\\nDetails of this capacity auction may be found in the Columbia NAVIGATOR system  under the capacity release folder, offer number 36798.\\nFor additional information please contact Janice Felton at (713) 267-4210 or  Martha Blake at (713) 267-4213 or Brian Lamb at (713) 267-4251.\\n\"], b'CGT - FTS-2 Capacity Auction'], [[b'I take it you signed off on this new product.\\nIt is pretty common that we  just copy the profile for a similar product for the existing 1500-2000  counterparties.\\nLet me know if you think this is a problem.\\n'], b'US Bandwidth STM-1'], [[b'There seems to be some confusion around the calculation of books on 11/30/2001.\\nAll books were run properly in the gas and power area on 11/30, as that was the last day prior to the bankruptcy declaration.\\nPlease let myself or Sally Beck know if you have any questions regarding this.\\nThanks\\n'], b'11/30 Books'], [[b'Just to give you a heads up, the Tom James of Houston office will be moving to a new location on February 1, 2002.\\nWe have bought a building, and our beautiful new office will be located in the Brookhollow area, close to 610 and 290.\\nOur new information:\\n'], b'Moving'], [[b\"I will be in Enron's BA office from September 14 - September 17 (Tuesday -  Friday).\\nI would like to schedule some time to review the ISDA Schedule  previously sent to you for comment.\\nOther than the morning and early  afternoon of Sept. 15 (Wed.), I am free to schedule an appointment with you.\\nIf you have comments to the Schedule, please send them to me in Houston.\\nI  will be in the Houston office until Monday afternoon.\\nAlso, does the Marval firm have an English speaking tax lawyer who could  assist Enron Houston tax on Argentine trading issues?\\nPlease let me know as  soon as possible.\\nI look forward to hearing from you.\\nRegards.\\nSara\\n\"], b'Review of Enron ISDA Schedule'], [[b'Lippman Consulting, Inc. is pleased to announce that it has just completed  the 2nd quarterly of 2001 gas production report for the state of California.\\nThis report contains text and graphs depicting various historical statistics.\\nThe total California production volumes are separated by associated and  non-associated volumes.\\nThe report also separates production by state and  federal areas as well as onshore and offshore volumes.\\nFor the onshore  volumes, we detail the production down to the district level while for the  offshore volumes, we detail those down to the field level.\\nIn addition to  showing historical production volumes in various categories, the report also  provides the reader with monthly net gas storage injection and withdrawal  volumes along with the total gas volumes in storage for the state.\\nWorking  gas as well as cushion gas levels are also reported.\\nCalifornia is a major  consuming district and the level of production contained within the state has  a direct bearing on the amount of gas imports that will be needed to satisfy  demand.\\n'], b'CALIFORNIA 2nd QUARTER PRODUCTION REPORT'], [[b\"John/John/Frank  As we are approaching the November 1st Trading Track interview dates, we need to finalize the reminder of the external candidate's initial screen.\\nCan you please provide me with your feedback/status.\\nIf we need to re-assign your candidates to other traders please let me know by return.\\nThanks,\\n\"], b'Trading Track Interviews'], [[b'Your review and approval of the following product types in the EOL Data man= ager is needed (for directions on approval, please see steps for approval a= t the bottom of this e-mail).\\nIf you have any questions please call me at e= xt.\\n39555 or Chris Walker at ext.\\n37533  =20 **** DO NOT APPROVE PRODUCT TYPES BETWEEN THE HOURS OF 6AM - 11AM****  Lawyer:  Leslie Hansen (Mark, Leslie already approved Long Description) Product Type(s):  US East Power Phy Spread (LD) (2201) Description(s):  A US Power Spread Transaction (as defined below) with Enro= n Power Marketing, Inc. under which the Seller (the \"Spread Seller\") and th= e Buyer (the \"Spread Buyer\") shall enter into two physical power transactio= ns, under which either (A) for the case in which Counterparty submits an of= fer to buy from Enron, Counterparty shall buy the First Product and sell th= e Second Product, each in respect of the quantity of Firm (LD) energy equal=  to the Hourly Quantity at the Contract Price in accordance with the terms = of the \"Firm (LD)\" definition in Schedule P of the Edison Electric Institut= e Master Power Purchase and Sale Agreement Version 2.1 (modified 4/25/00), = including, without limitation, any defined terms contained therein, notwith= standing anything to the contrary in the master agreement, if any, that gov= erns these Transactions (\"Firm (LD) Energy\"); or (B) for the case in which = Counterparty submits an offer to sell to Enron, Counterparty shall sell the=  First Product and buy the Second Product, each in respect of the quantity = of Firm (LD) energy equal to the Hourly Quantity at the Contract Price.\\nTrader(s):   Doug Gilbert-Smith  GTC:  =20 =3D=3D=3D=3D=3D=3D=3D=3D=3D=3D=3D=3D=3D=3D=3D=3D=3D=3D=3D=3D=3D=3D=3D=3D=3D= =3D=3D=3D=3D=3D=3D=3D=3D=3D=3D=3D=3D=3D=3D=3D=3D=3D=3D=3D=3D=3D=3D=3D=3D=3D= =3D=3D=3D=3D=3D=3D=3D=3D=3D=3D=3D=3D=3D=3D=3D=3D=3D=3D=3D=3D=3D=3D=3D=3D=3D= =3D=3D=3D  STEPS FOR APPROVAL:  click the =09START button=20 select =09PROGRAMS select =09TEST APPLICATIONS select=09ENRONONLINE CLUSTER(PROD) =09PROCEED WITH USUAL LOGIN/PASSWORD=20 click the=09Enron Online Production Cluster \"START\" button =20 select=09EnronOnline (this is the EOL Datamanager) =09PROCEED WITH EOL LOGIN/PASSWORD click on the \"+\" for EnronOnline click on the \"+\" for Product Types click on the \"+\" for \"Partially Approved\" select the product requiring review as stated in e-mail above Right \"mouse\" click on \"properties\" to view product set-up=20 TO APPROVE:  Right mouse click on \"Approved\"   Kevin Meredith\\n'], b'Product Type - Please approve'], [[b\"This is likely the last opportunity we will have for comments, so if anybody  has any additional comments, please let me know no later than the end of the  day on Wed, Oct 13th, and I will forward all comments to Caroline on Thursday.\\nThanks for everybody's assistance on this effort.\\nElizabeth\\n\"], b'EEI - Revised Standard Contract'], [[b'Cathy:  slight wording change from Rick Causey:  add words at beginning of  third sentence in italics and drop the phrase \"on accounting issues and  reporting earnings\" at the end of that third sentence.\\nThanks.\\nClear as  mud?\\n--Sally\\n'], b'Incorporating comments from Rick Causey'], [[b\"Mike (Smith): Since things will move pretty quickly from this point forward, we want to  have a quick meeting to explore our legal options and how best to preserve  them.\\nWe'd like to have a kickoff call after the daily 10 AM (CST ) call  that Wanda Curry handles.\\nAre you available after Wanda's call?\\nSay 11 AM  CST?\\nThanks.\\nBest,\\n\"], b'Meeting to Discuss Legal Issues'], [[b'Tracy:  Hope you had a great day yesterday!\\nBelow is what I have prepared for Steve.\\nAudrey will fax this to him.\\nLet me know if you are OK with everything.\\nI went ahead and told him about the OBA re-evaluations because it is reflected in the YTD numbers on the Weeklys.\\nJan   X53858\\n'], b'Weekly Information for Steve'], [[b'We have two positions open for Trading Assistants with UBSW Energy.\\nOne will work for Jeff Richter and Chris Mallory on the Cash Trading desk and one will work for me and Mike Swerzbin on the Term Trading desk.\\nIn short, the Trading Assistant helps the traders run EOL markets, provides analytical support, prepares daily market summaries, reviews trade press for pertinent information, performs checkouts with brokers and counterparties, assists in pricing new deals.\\nPlease send an e-mail to Amy Fitzpatrick by noon on Tuesday expressing your interest.\\nThis position is open to both Enron and UBSW employees.\\nTim Belden\\n'], b'Assistant Trader Position Open'], [[b\"A few of you have been notified by accounting that you have been or will be removed from direct pay for American Express.\\nFor those who haven't, you will be taken off immediately, per Eric Gonzales.\\nTo see if you have already been removed from direct pay, please call Cheryl Slone (68347).\\nIf you have already been removed, you may need to pay the last American Express bill.\\nPlease let me know if you have any questions.\\nThanks,\\n\"], b'American Express Direct Pay'], [[b'All, \\tAttached is an overview of our progress and next steps - FYI.\\nOur goal remains to be able to participate in the market no later than the end of the year.\\nThanks for your continued efforts and assistance.\\n'], b'Ammonia/Urea Update Overview'], [[b\"Despite the postponement of company presentations this week by PWC-FAS, Goldman Sachs, and Wells Fargo, all three companies as of today still plan to conduct their on-campus interviews as scheduled.\\nThus, to ensure that they receive your resumes with time to prepare their interview lists, the resume drop deadline for these companies, as well as Citigroup, will remain Friday, September 14th, at 11:59 p.m.  We are currently working with the companies to reschedule their presentations as soon as possible.\\nPlease don't hesitate to contact me if you have any questions or concerns.\\nMark Friedfeld Account Manager MBA & MFE Recruiting Haas School of Business University of California, Berkeley\\n\"], b'CSO-Finance Presentation & Resume Drop Update'], [[b'Darron,  I am forwarding you 3 positions open at CMS Energy.\\nRichard says that they are looking.\\nI thought that you might know some EES people that were cut who were looking for jobs.\\nI know that you have been here for a while.\\nLet me know what you think.\\n1. gulf coast wholesale gas originator to create structured long term deals with LDCs, large industrials and municipals off the interstate pipes  \\t2.\\nRetail commercial / industrial power marketing manager/director to lead the charge into the Michigan and possibly other profitable retail electric \\t\\tmarkets \\t3.\\nRetail power analyst to assess tariffs and cost/risk models ro support retail power sales\\n'], b'power positions'], [[b'The following is a redline version of the execution version (so we hope)  versus the last draft you saw.\\nPlease advise if there are any  problems/comments.\\nKay\\n'], b'ABB - Comparision of Rev 10 vs. 12(final)'], [[b\"there is a book request form in Netco\\\\controls\\\\Book request form.xls.\\nI put in the west desk books already.\\nSusan is checking to see if we can use those portfolio and book codes, if not we'll change them.\\nKK\\n\"], b'book request'], [[b'I forgot to email myself the brief to track changes, but here are my changes  in writing:  p. 1:  Para starting \"focusing on the latter,\" that sentence, change \"get  creative\" to be innavotaive in its approach.\"\\np. 2:  1st full Paragraph, Second sentence, change \"uniting\" to \"common\" and  there is a typo on line5, reduction n consumption.\\nShould be \"of\"  page 6:  We need the RR for PG&E.\\nUnder Part VII, Rate Design, can we insert a sentence that our proposal,  unlike the others, does not arbitrarily allocate costs to peak period.\\nWe  told Scott we wuold insert the arbitrariness of other proposals several times  in the brief.\\nWe also need ro insert discussion about relation of peak to offpeak prices,  as a 3:2 ratio, which is not what other parties have proposed.\\npage 8:  2.\\nDerivation of Threshold Usage:, first sentence, delete \"between\"  in first sentence.\\npage 9:  Second full paragraph, begining \"Again, the UDS\\'s, \"  Second  sentence, sited should be \"cited\"  p. 12:  First full paragraph beginning \"A primary component,\"  Insert a  sentence after the second sentence to mention, again, the arbitrariness of  proposals allocatin costs between peak and offpeak.\\nSecond full parag, beginning, \"Enron\\'s proposal, can stick a sentence about  arbitrariness in there too.\\nAnd change \"more necessary goal\" in 4th sentence  to \"more critical goal\"  I don\\'t have the email I sent out about what we agreed to insert with Scott,  so if you have a chance, check it to make sure we did everything we agreed to.\\nI am going to try to come into the office very early tomorrow and will check  email again, but my son has an appointment with the neurologist here in  Houston at 9:20 am tomorrow, and that is where I will be when you have the  9:30 call (we made this appointment months ago).\\nBut I will communicate with  Harry and everyone else before then.\\nThanks.\\n'], b'Some comments on the brief'], [[b'I will send these as I find them.\\nThis is the detail I sent to Jeff for the  April 2000 manual invoice.\\nIt looks like the only deals that should have  been suspended are the citygate CGAS sales.\\nLine 7 under the \"Manual Invoice\" tab applies to deal 268094, volume of  615600 at $3.1279, sale to CES for Proxy storage injections.\\nLine 6 applies to deals 227081 and 227113, sales to CES at the citygate.\\nLine 8 shows the incremental transport expense ENA incurred to allow CES to  swing.\\nToday I would take this expense and add it to the sales price on  deals 227081 and 227113.\\nLine 9????\\nI still can\\'t figure out what I did here.\\nI think everything else is sorta clear.\\n'], b'Support for the manual invoice for April 2000'], [[b\"Barry,  I would like to focus our deal flow on Apr-Oct or 1 yr San Juan and Rockies  supply.\\nOur fundamental investment is mainly in the rockies for 2001.\\nLet's  get together with Mark Whitt, Paul Lucci, and others to set our supply goals  for the mainly the apr-oct period.\\nI would like to work on buying every  mmbtu of Opal, and all points included in the IF NW Rockies index.\\nOur goal  should be to purchase at least 400,000/d of rockies supply and 500,000/d of  San Juan Blanco and Bondad.\\nwe have been buying these phys index points at  +.01 in the rockies and +.005 in the San Juan.\\nYou may need to coordinate  with Fred Lagrosta's group initially to get all of their producer contacts.\\nThanks,\\n\"], b'West Desk Supply'], [[b\"In order to get you phone service here, the phone people want your passport  number since you don't have a social security number.\\nCan you provide it to  Joyce Dorsey, an assistant here in Legal.\\nShe's working with Sylvia to get  your office set up.\\nThanks!\\n\"], b'Your Phone'], [[b\"Due to the President's Day Holiday on next Monday, February 18, Steve will hold his staff meeting on Tuesday, February 19, same time, same location.\\nAs a courtesy to all attendees, Steve is asking, once again, that all participants arrive by 2:30 pm allowing for a prompt start time and for discussions to flow in an effective manner.\\nYour contributions to the discussions are crucial and deserve to be heard by all concerned.\\nAchieving this objective is why we ask your cooperation.\\nBecause our attendee list has grown significantly in the past few months, arrangements have been made with facilities to have a standing order of chairs available for your convenience.\\nPlease call if you have any concerns or questions.\\nadr\\n\"], b\"Steve's Staff Meeting - Holiday Change\"], [[b\"Hi there,  Could one of you send me one email with the final (well, we hope) forms of  both of the two change orders we are working on for the BD turbine sets?\\nI  want to make sure I'm looking at the right stuff.\\nThanks,\\n\"], b'Blue Dog change orders'], [[b\"As part of the ongoing effort to enhance the iPayit AP process and software, a committee will be created whose purpose will be to manage future iPayit process/product changes.\\nThe iPayit enhancement review committee will be made up of Enron representatives from multiple business units who will act as the primary voice of their respective organizations.\\nPlease provide me with the names of 1-2 possible candidates from your organization who may be a good fit for the team.\\nOnce the team has been identified, a kick-off meeting will be held.\\nBelow are some specifics regarding duties of the committee and team member characteristics.\\nListed below are the primary responsibilities of this committee.\\nMeet quarterly Identify potential iPayit process/software enhancements Help with prioritizing the list of suggestions Help functionally designing the enhancements  Act as conduit between their organization and the overall iPayit process Facilitate better communications regarding Enron's AP process  List of characteristics of a successful committee member:  Knowledge of the iPayit AP process Knowledge of the iPayit software Knowledge of the accounts payable issues associated with that business unit Ability to make decisions representing their business area Willing to help make iPayit successful at Enron  The goal of this committee is to drive continuous process and product improvements with iPayit.\\nThe ultimate goal of the team is to create and manage the enhancement plan and give all Enron users a representative responsible for looking out for their interests in the process.\\nIt also provides an avenue for sharing information and hints across business units and with SourceNet.\\nIf you have any questions, please call me at (713) 646-6222.\\nThank You\\n\"], b'iPayit Enhancement Review Committee'], [[b\"Kathy,  Here is the detail and position for IM Canada yesterday.\\nIt seems that the  price txt file didn't get run last night (our fault).\\nI'll make sure that  gets done tonight.\\nLet me know if you need anything else.\\n\"], b'0822 IM Positions'], [[b'Trena,  I have received your message.\\nPlease, send the model for review to Zimin Lu.\\nMaureen Raymond and myself will work with Zimin to review the model.\\nVince\\n'], b'Model Validation'], [[b'The U.S.\\nCircuit Court of Appeals, DC Circuit, issued a ruling today on the EPA Section 126 Rule.\\n(As brief background, the 126 Rule would have required compliance with more stringent summer-season NOx caps starting in May 2003 in several northeast and Midwest states)  The Order states:    \"It is Ordered that EPA\\'s Section 126 Rule is remanded as to all cogenerators, but vacated only as to those cogenerators classified as electric generating units (\"EGUs\") under the rule that supply equal to or less than one third of their potential capacity or equal to or less than 25 MW to the grid for sale per year.\"\\nTranslation:  This part of the order appears to \"vacate\" or completely throw out the 126 rule for small cogen units (under 25 MW) or cogen units selling less than 1/3 into the grid.\\nFor all other cogenerators, the court remands the rule to EPA for re-working, consistent with some of the court\\'s earlier objections about EPA\\'s handling of cogens.\\nImpact:  EPA will need to go back and formulate rules for cogens altogether, so there is currently no NOx compliance schedule in place for cogen units.\\nEPA will need to start from scratch for smaller cogens.\\n\"It is Further ordered that as of May 15, 2001, the date of this court\\'s decision, the three-year compliance period for emissions limitations applicable to EGUs under the Section 126 Rule is tolled, pending EPA\\'s resolution of the remand of EGU growth factors ordered by this court.\"\\nTranslation:  This more significant part of the order \"tolls\" -- or puts on hold -- compliance with the 126 Rule for ALL ELECTRIC GENERATING UNITS (EGUs) until EPA resolves EGU growth factor issues that the court identified in its May 15, 2001 ruling.\\n'], b'Court Decision on NOx - EPA Section 126 Rule'], [[b\"In September, ENA agreed to purchase capacity from New Power on Transco.\\nThe total demand charge should have been $9,000.00 on contract 4.0159.\\nNew Power released the capacity volumetrically and I didn't catch it.\\nThe actual demand charge billed was $270,000.00.\\nNew Power agreed to reimburse ENA for the difference of $261,000.00.\\nENA will pay the pipeline the billed demand charge of $270,000.00 and bill New Power $261,000.00 on deal 1110019.\\n\"], b'Trco/New Power capacity for Sept 2001'], [[b\"I am wondering if you know which moving company Enron uses to move people to  Houston.\\nDespite the fact that I haven't seen the formal offer I think I  should book a  mover so I don't get stuck.\\nLet me know if you know or if  there is someone in Houston I should talk to (Jennifer?).\\nThanx,\\n\"], b'Houston Move'], [[b\"Just thought you'd like to know that Roger Ebert gave the movie 3 stars.\\nHe  had many of the same comments to make about the film and Dallas as you.\\nTalk to you soon, Susan\\n\"], b'Good news about Dr. T and the Women'], [[b'Hey Sam, that has to be one of the \"cheeriest\" cards I\\'ve ever received.\\nPlease thank Leica for her birthday wishes (and how is the old girl doing?).\\nDo you remember my 39th at Andrea\\'s with Pat and Dee (I think) and Ron and  his wife (I\\'ve forgotten her name but I remember what she looks like)?\\nI  remember your 40th with Beverly and Helen and the walker (you probably  remember the stripper).\\nI need your MAILING address so that Phoebe, Chloe  and I can send you a holiday card.\\nAre you a bi-city resident?\\nDo you still  own Corky\\'s?\\nDo you have a different venture(s)?\\nHow is Mr. Casey?\\nHow are  Helen and Beverly?\\nDo you see them often?\\nDo you love Atlanta?\\nYou know  that at my age (it\\'s actually been any my ages) I write in stream of  consciousness.\\nI hope this makes sense.\\nSara  P.S.\\nAin\\'t life grand?\\n'], b\"You'd better not squeal!\"], [[b\"Leslie Sara, and Brent:  Could I get an update on were we are with the top 20 customer amendments.\\nLast week we got 5 amendments for power physical but we still haven't received any amendments for financial.\\nEntergy-Koch is very interested in ConfirmLogic and have asked for the amendments.\\nWhen can we get the amendments for Entergy-Koch completed?\\nThanks,\\n\"], b'Amendments Status'], [[b'Please read the attached.\\nThis is one of my friends from the  \"B\" group.\\nShe is a free-lance writer for several magazines.\\nDo you know of anyone she  could interview?\\nWhat not you?\\n'], b'Help!'], [[b\"The Dow Jones report is compiled of data sent from many different  counterparties.\\nThe lovely people at Dow Jones painstakingly analyze the data  to ensure its accuracy.\\nAveraged together, these prices become the Dow Jones  daily index price.\\nAnd that's the long and short of it.\\nThe process, as you've guessed by now, is a little more complicated than  that.\\nFor one thing, Dow Jones looks at each counterparty's sales to reach an  average of all the prices.\\nIt would be redundant for each counterparty to  ALSO report their purchases from each other.\\nTherefore, when calculating the  Dow Jones data, we only include purchases from counterparties who ARE NOT  participants in the Dow Jones survey.\\nFollowing is a simple example:  Participant List  NP-15 Purchases  NP-15 Sales  Reported NP-15 Purchases  Reported NP-15 Sales Sempra  Sempra - $250   Sempra - $250  Avista - $270   Sempra - $250 Duke   Duke - $260   Duke - $260      Duke - $260 Enron   Avista - $270   Avista - $270      Avista - $270  Now that's simple!\\nFollowing is the participant list for Dow Jones' survey of trading at NP-15  and SP-15 delivery points.\\nDeals with these counterparty names need to be  excluded from the calculation of PURCHASES at NP-15 and SP-15 delivery points.\\nAmerican Electric Power - Amerelecpo Avista Energy - Avistaene Duke Energy Trading and Marketing - Dukeenetra El Paso Merchant Energy Enron Power Marketing, Inc. - EPMI Idaho Power Company - Idacorpene PacifiCorp - PACE Pacific Gas & Electric Company - PG&E Powerex Corp. - PWX Puget Sound Energy, Inc. - PSPL Mirant Americas Energy Marketing (formerly Southern Company Energy Marketing)  - SCEM TransAlta Energy Marketing (US) Inc. - Transalt  So I've probably succeeded in confusing you even more, but please feel free  to come bug me with questions.\\nGood luck!\\nKate\\n\"], b'Dow Jones Report'], [[b'The above transaction was presented to the Board on 1-29-2001.\\nThere was  considerable discussion which I have summarized below.\\nReturns: were the returns sufficient to syndicate the risk.\\nI answered  positively, which is what the capital price addresses.\\nThe dash return is a  blended debt and equity return.(?)\\nWas the $19 million excess proceeds enough to allow the company to operate.\\nI  answered yes since 85% of reserves are producing and little capital will be  needed to develop pdnp and pud reserves.\\nIs management capable of operating or will they be in chapter 11 again soon.\\nI answered that the bankruptcy was a result of overpaying for Wyoming deal  and low commodity prices last two years which resulted in a bb decrease below  outstanding.\\nWe will have to watch this issue carefully.\\nAre banks reluctant to support KCS and could this cause a liquidity problem?\\nAnswered that all creditors were made whole and likely that someone will come  into credit but it was a risk, although for the time being they had enough  cash to operate.\\nThis feedback is just for fyi but it does indicate that board is active and  not a rubber stamp.\\nRick\\n'], b'Board Review of KCS'], [[b'Critical Migration Information:  1.\\nYour scheduled Outlook Migration Date is THE EVENING OF : May 17th 2.\\nYou need to press the \"Save My Data\" button (only once) to send us your pre-migration information.\\n3.\\nYou must be connected to the network before you press the button.\\n4.\\nIf a POP-UP BOX appears, prompting you to \"ABORT, CANCEL OR TRUST SIGNER\" please  select TRUST SIGNER.\\n5.\\nAny information you Add to your Personal Address Book, Journal or calendar after you click on the button will need to be manually re-added into Outlook after you have been migrated.\\n6.\\nClicking this button does not complete your migration to Outlook.\\nYour migration will be completed  the evening of your migration date.\\nFailure to click on the button means you WILL NOT get your Calendar, Contacts, Journal and ToDo information imported into Outlook the day of your migration and could result in up to a 2 week delay to restore this information.\\nIf you encounter any errors please contact the resolution center @ 713-853-1411\\n'], b'3 - URGENT - TO PREVENT LOSS OF INFORMATION'], [[b'6/8/2001 Fri  Notice: If any clients or potential clients that are getting duplicate e-mails just reply to this, and let us know and we will remove the extra recaps.\\nIf anyone feels that they may be receiving these in error please kindly reply to have you removed from the list and we are sorry for any trouble we caused you.\\nIF ANYONE WHO DID NOT GET THE \"PDF\" FILE ATTACHMENT SHOWING THE THREE YEAR LONG TERM NUMBERS AND FULL CFTC DISCLOSURE DOCUMENT PLEASE E-MAIL OR CALL TOLL FREE (800) 773-1713 AND WE WILL RESEND IT RIGHT AWAY   Here were todays trades  \"Swing\" S/P full size  B 1278.50 open trade 6/7 s  1271.50 close trade 6/8\\n'], b'trades for Fri 6/8'], [[b'it is on thurs night for def leppard.\\nbass said that there is a tortuca near  the dome where we can eat and drink some ritas before hand.\\ni think we  should meet around 630-7.  let me know by tomorrow so we can figure it out.\\n'], b'def leppard'], [[b'Maria Pavlou has graciously agreed to give the TW Commercial Group a brief review of the Global Settlement on Thursday, November 1 from 10 - 11:30 am in 49C2.\\nPlease mark your calendars if you are interested in attending.\\nLorraine\\n'], b'TW Global Settlement'], [[b'Lorie -  Attached for your review is a first draft of a proposed LOI for Chisholm.\\nI have added provisions that mirror the items laid out in the product description information as these are the types of things that will be addressed in the final definitive agreements.\\nPlease review at your convenience and let me know your thoughts.\\nMark\\n'], b'Robert Chisholm LOI'], [[b\"Please mark your calendar for the following weekly meeting:  Mid Market/Trader Mtg.\\nThursday's room 3125b 3 - 3:30pm  Please let me know if you have schedule conflicts.\\nThanks\\n\"], b'Mid Market/Trader Mtg. w/Regions'], [[b'Good Morning,  There are now spaces available in the Allen Center garage for the subsidized price of $94 per month, payroll deduction.\\nIf you are interested in acquiring one of these spaces, please reply via e-mail on or before Oct 31st.\\nYou will be notified via e-mail on the status of your request.\\nThank you,\\n'], b'Allen Center Availability'], [[b\"The Republicans are currently on the Senate floor arguing (noisily,  repeatedly and passionately) that California (and the Senate in particular)  is being hypocritical and intellectually dishonest in attacking and  investigating private companies and ignoring munis.\\nOne Senator specifically identified prices charged by LADWP and SMUD and  compared those prices to Enron's (1/3 to 1/2 less than LADWP and SMUD  charged).\\nBest,\\n\"], b'Senate Debating Unfairness of Singling Out Private-sector Sellers  for Investigation'], [[b'David:  In the midst of leaving my voice mail, I think I realized my error.\\nI believe that a guarantor can be a \"corporation,....entity\" having total  asssts exceeding $10million.\\nHowever, that subpart (I) guarantor cannot be  one that falls into the subpart (III) category (which is different from the  prior law).\\n'], b'Eligible Contract Participant'], [[b'I will need to be at my home today and tomorrow at 4 pm for repair  estimates.\\nI will coordinate my schedule with Kaye.\\nSara\\n'], b'Repair estimates'], [[b'I am going to Portland next Tuesday for a meeting on this PGT project.\\nCan we discuss Monday to see if you have any issues/objections.\\nThanks,\\n'], b'WASH LAT PA 7/10'], [[b\"HA market HE's 0700-1100 GMM's and TMM's have been re-published.\\nYou may now view the GMM's and TMM's for the HA market,  2/5/02, HE's 0700-1100.\\nSent by Market Operations, inquiries please call the Hour Ahead Desk.\\n\"], b\"HA market HE's 0700-1100 GMM's and TMM's re-published\"], [[b'Ken  Just wanted to thank you for the call yesterday and for staying in touch during this tumultuous period.\\nMy remaining time at Enron is limited but I wanted to personally tell you what an honor it has to work with and learn from you during my seven plus years with the firm.\\nYou created something very special and most of us who were there know that the benefits to the economy and to people\\'s lives will surely outweigh the negatives of recent times.\\nBut the most important think I have learned from you is \"grace under fire\".\\nYou always kept your calm; you always were there to take problems on one at a time, and you never stopped giving your best.\\nThanks for the important lesson!\\n'], b'Thanks for the call yesterday!'], [[b'I tried to send this to your juno address and it came back.\\nJust in case you  are home, I also received the following from the PR department a few minutes  ago: Be sure to watch Chairman and CEO Ken Lay on Fox News today.\\nHe will appear  on \"Our World\" with Neil Cavuto at 4:30 p.m. CST to discuss Enron\\'s year-end  financial and operating highlights.\\n'], b'Photos'], [[b\"I have attached the referenced spreadsheet, changing my product approvals to  add the new product list that Stephanie sent me (instead of th eold list  Credit sent me).\\nOne of the new products appears to be Austrian physical  power.\\nLike the other European based physical power products, it should not  be opened for the US based credit counterparties to trade, so I will not be  marking it out on a going forward basis, I will just expect it to be shut  down for the US based counerparties (unless I tell you otherwise on a  particular one).\\nIs that OK with you.\\nAlso, for Sempra, they will be coming by again on the 7/21 list (Credit  opened them up for all financial power).\\nI had already opened them up for  all financial products except weather, so it shouldn't affect my approval.\\n\"], b'Counterparty Approval List for 7/18/00'], [[b'Jim - The option number was previously understated - should have been $252,010, for a total avg.\\ncomp.\\npackage of $384,000 in 2000.\\nSeparately, I will forward document you may send externally.\\n'], b'REVISED'], [[b'Celebrate the Topping Out of Enron Center South on Monday, April 23rd in Antioch Park.\\nAt 4pm,  the last beam will be hoisted to the 40th floor of the new building.\\nThe Building Guy will present a clear explanation of the Topping Out Tradition celebrated by construction crews everywhere.\\nIn celebration of Arbor Day, tree saplings will be handed out to all participants.\\nThe last beam can be viewed this week in The Plaza near Starbucks.\\nSign your name on the beam and be a part of Enron history.\\nMind\\'s Eye Madness - A Celebration of Innovation!\\nIntroducing an on-site \"Celebration of Innovation\" in true Enron-style from April 24th to April 27th!!!\\n\"Mind\\'s Eye Madness\" is a week-long celebration brought to you by Employee Involvement & Events and supported by Vince Kaminski.\\nWith a view to highlight advancements in technology, new businesses at Enron and the importance of being yourself, check out the lobby each day during lunch - more details will follow!\\nTuesday, April 24th \\tImagine the Future Wednesday, April 25th \\tLaser-Focused Business Thursday, April 26th \\tThe Power of Perspicuity Friday, April 27th \\tFreaky Friday & Big E Cafe  Mind\\'s Eye Madness Afternoon Workshops \"Images of Enron in 2020\" on April 24th Join Amy Oberg with EES and Dr. Peter Bishop, Chair & Professor of the University of Houston\\'s Future Program, on Tuesday, April 24th, from 1:30pm to 3:30pm to imagine Enron in the year 2020!!\\n\"Futures tools\" will be utilized in this two-hour participatory session where participants will develop alternate scenarios of what Enron might be like in 2020.\\nThis will include developing a snapshot, including Enron\\'s characteristics, culture, businesses and the current business and world environment, looking at the past and present and moving on to the exploring how the future might play out and what Enron might be like at that time.\\nSpace is limited to 40 participants for this afternoon workshop - please contact Jessica at x31918 to reserve your seat.\\nThe results of the session will be shared with Mr. Skilling\\'s office.\\nLocation TBD.\\n\"The Painting Experience\" on April 26th What is it?\\nAn opportunity to break down barriers and rules that limit your creativity on Thursday, April 26th.\\nThis afternoon workshop from 3:30pm to 5:30pm is an experiential creativity program designed especially for the workplace.\\nThe expressive arts offer exciting possibilities for taking creative risks professionally as well as providing valuable insights about how we can come from a place of greater possibility at work.\\nSpace is limited!\\nPlease contact Jessica at x31918 to reserve your seat.\\nLocation TBD.\\nSwing out with the Sparacino & Company Dancers\\' rousing performance of  SWING KIDS!\\nat the Miller Outdoor Theatre in Hermann Park.\\nEnron Night will be Friday,  April 20 at 8:30pm and the performance is free of charge to the public.\\nAlthough reservations are not required, you may secure a VIP seat by calling 713.520.9070 or e-mailing dancer@neosoft.com.\\nThe evening is compliments of Sparacino & Company Dancers.\\nWe know there are plenty of aspiring (and frustrated) nature photographers out there, so come join us for a Brown Bag!\\nKathy Adams Clark, a local professional photographer and teacher of photography will be giving loads of suggestions on how to improve your nature photos.\\nHer photos have appeared in Texas Parks and Wildlife, Texas Highways, Bird Watcher\\'s Digest, Birds & Bloom, Birder\\'s World, Ducks Unlimited, and many more magazines and books.\\nHer photos appear every Friday in the Chronicle\\'s \"Wonders of Nature\" column written by her husband, Gary Clark.\\nBring your camera!!\\nWhen:  Tuesday, April 24th, 11:30 AM to 12:30 PM Where:  EB 5C2   The official count is in and Team Enron finished on top in the corporate race to field the largest team for the upcoming BP MS 150.\\nTeam Enron has 475 riders, which is up from last year\\'s top number of 380 and we will have the honor of heading out first on April 21 when the MS 150 gets underway at 7 a.m. at Tully Stadium.\\nPutting the pressure on Enron was MS 150 sponsor BP, with a close second of 460 riders - up from 130 last year.\\nIn third and fourth places are Anadarko with 375 and Halliburton with 275.\\nThe MS150 benefits the National Multiple Sclerosis Society and Team Enron will focus on beating last year\\'s phenomenal fundraising efforts of over $537,000!!!\\nPlease pledge your favorite rider or contact Heather Choate at x33278 if you would like to volunteer for the ride.\\nGo Team Enron!!!\\nIf you didn\\'t make it to Opening Day at Enron Field but would like to get some of those great-looking hats that were handed out, we have them on sale for $10 through the company store.\\nTo order, go to enronsigshop.com and click on the Enron Field category.\\nThe Enron Volleyball Association will be sponsoring it\\'s annual Spring Fever Volleyball Tournament to be held at Third Coast Volleyball Club.\\nFor the first time, we will have a separate bracket for teams of four.\\nFood and drinks will be provided and cash prizes will be awarded to the top three teams from each bracket.\\nFor more information, contact Traci Nguyen (713.853.9032).\\nRecycle Your Cell Phone!!!\\nDid you forget to bring in your discarded cell phones last week?\\nIf so, please send them to Gavin Dillingham at 3AC1526b by April 30th.\\nBy bringing your old phones, bag phones, batteries, adapters, charging units and other cell phone related items, you will support Enron\\'s effort to benefit the Houston Chapter of CARE.\\nCARE is on the world\\'s largest international relief and development organizations with funds going directly to develop sustainable agricultural and economic systems including medical and educational programs in Latin America, Asia, Africa, Europe and the Caribbean.\\nAll collected cell phones will be recycled back into use or disposed of in an environmentally responsible manner and you will receive an acknowledgement letter from CARE for this donation.\\nWalkAmerica, taking place April 29, is the March of Dimes biggest fund-raiser.\\nMoney raised from the WalkAmerica supports pioneering research and innovative programs that save babies born prematurely or with birth defects.\\nSince its beginning in 1970, WalkAmerica has raised more than $1 billion to help give babies a fighting chance.\\nEvery dollar raised will be matched by Enron.\\nYou can read more about the March of Dimes at www.modimes.org.\\nFor more information, please contact Kimberly Nelson (ext.\\n33580) or Gina Taylor (ext.\\n37681).\\nEnron Mind\\'s Eye Motorcade Needs Volunteers on Friday, April 27th In conjunction with Mind\\'s Eye Madness, the Enron Mind\\'s Eye Motorcade will take place in the community on Friday, April 27th from 9:00am until Noon.\\nThis art car convoy is sponsored by Enron and is the pre-parade associated with the official Art Car Parade to be held on Saturday, April 28th.\\nEnron volunteers are needed to accompany the convoy which will be visiting our adopted schools, non-profits where we have executives on boards and medical center facilities dedicated to treating children.\\nVolunteers will interact with children about the importance of being innovative and pass out keepsake coloring books.\\nContact Jessica at x31918 to sign up!!!!\\nThe 9th annual Summer Stroll will be held Saturday, May 19th at Terry Hershey Park in west Houston.\\nJoin Debra Duncan from Channel 13 and Dan Riley of the Houston Texans to run, walk, ride, and roll along a 2 mile tree-shaded, paved course.\\nPlan to bring your family and friends as we will have clowns, caricature artists, and face painting.\\nTo sign-up or learn more about the Epilepsy Foundation, stop by the registration table located in the Enron Plaza on Wednesday, April 18th and Thursday, April 19th from 11:00 am to 1:00 pm.\\nTeam leaders and walkers are needed.\\nPrizes will be awarded to the team with the highest amount raised and largest teams.\\nThere will be a drawing for two (2) Continental Airline tickets to anywhere Continental flies.\\nTeam leaders will also be treated to lunch on Wednesday, April 25.\\nFor more information about the Stroll, please call Clare Regalado at 713-853-7776.\\nSupport TEAM ENRON and Jeff Skilling by participating in the MS150 from Houston to Austin on April 21st and April 22nd.\\nAll-purpose volunteers are needed to handle various logistical duties including serving meals to the Team, playing music, directing riders to the Enron Tent, setting-up and tearing-down, making massage appointments... to name just a few!\\nCan\\'t commit to the whole weekend?\\nParticipate where you can!\\nMain sites include Bellville (Saturday lunch), LaGrange (overnight stop), Bastrop (Sunday lunch) and Austin (the FINISH LINE!).\\nWhile everyone will be responsible for their own transportation & lodging, our volunteers are welcome to camp out with the Team in the Enron Tent in LaGrange.\\nYou may also investigate the possibility of staying at lodging establishments in the area.\\nAll volunteers will receive a free Enron Cycling Club tee-shirt, free meals and a priceless experience.\\nFeel free to bring along your friends and family to volunteer, too!\\nTake this opportunity to be a hero for our riders who take on this cycling adventure to benefit the National Multiple Sclerosis Society supporting the Houston, Dallas, San Antonio, Austin, and Corpus Christi areas.\\nPlease contact Heather Choate via e-mail or at x33278 for more information!\\nVOLUNTEERS NEEDED FOR 15TH  ANNUAL HOUSTON HOOP-IT-UP MAY 5-6!\\nThe best way to get yourself jump-started for a full year of Hoops.\\nBecome a part of this jammin\\'hoops scene with over 1,200 teams & 4,800 players.\\nJoin us at Greenspoint Mall for a basketball-crazed atmosphere.\\nGames and special events being played simultaneously on 110 courts so the basketballs will be flying HOOP-IT-UP is where you play for FUN.\\nEVENT BENEFITS THE \"ESCAPE FAMILY RESOURCE CENTER\"\\n'], b'Enron In Action 04.16.01'], [[b\"Hi,  Got your voice mail, and it reminded me to sent this out.\\nI don't know what  is up with Jeff, so why wait to send this?\\nNext comes Finance/M&A (Lance and Travis).\\nI'm having lunch with Dan today - want to join us?\\nWe are going to Fox Diner.\\nKay\\n\"], b'Opportunities at ENA'], [[b\"Hi Greg,  I just wanted to mention that if we are going to bust the percentage rule on  the option payment, there is no incremental damage in having the option  payment credited to the purchase price of the land.\\nAs for officers of the development company, I would use Dave Duran.\\nBen  holds a power of attorney, but isn't an officer.\\nHope you get email!\\nKay\\n\"], b'Options'], [[b'FYI.\\nThis close date is of large significance to GPG as we are going to be  asking management to wait an extra week for monthly info that ties out to the  financials.\\nThis variance from what we thought was a \"Common Design\" is a  huge deal, in fact the agreed upon close timing was a major consideration in  getting agreement within GPG to go forward as it was an improvement that we  could see had value.\\nI agreed to and \"stacked hands\" with all on the  \"Common Design\", yet somehow there has been a failure to deliver the \"Common  Design\".\\nI just want to make sure that the two of you are aware of my  position on this issue.\\n'], b'Risk Document Information'], [[b\"Barbara,  I called Vlady Gorny and explained that the presentation by Jorion is not  offered under the umbrella of the  seminar sponsored by Enron and that it is a  closed meeting for the School faculty.\\nI don't think that Enron would open its job interviews to Rice observers who expressed interest and I made this comment to Vlady.\\nHe is OK with this.\\nYou can let his program director know that I have explained   to Vlady that it is a meeting for limited audience and that he does not expect to be  invited.\\nPlease, let me know the details of the dinners.\\nVince\\n\"], b'Vlady Gorny'], [[b\"Steve:  FYI.\\nDon't worry about the conference call, but thought it might b= e=20 useful to review the proposals prior to Monday's meeting.\\nSee you Monday.\\nHappy Thanksgiving to all.\\nBest,\\n\"], b\"Options the Governor's Considering\"], [[b\"Friday's Contents: 1.18.02 Daily News Update and Stock Performance Calpine Restructuring Lead to New Future   As stated in our November 16 issue of The Prometheus File, Reed Wasden Research will be sending our daily publication and morning notes for a 45-day trial period.\\nIncluded is our daily update and notes on companies that RWR follows.\\nFor those who do not wish to receive the daily updates, please reply with WEEKLY ONLY as the subject.\\nPlease allow at least one day for your request to be processed.\\nBest regards,\\n\"], b'Reed Wasden Research - Daily Update 1/18/02'], [[b\"It's rough, but Paul and I concluded that, since I'll be in Houston, best  that I send out whatever I have by COB today.\\nI will be working on this more  on the plane on my way to Houston.\\nNow we have Sandi's, Paul's and this, all  of which I think are headed in the same direction and complement one  another.\\nWe'll need to meld them.\\nPlease look at all 3 at the same time.\\nMight be useful to begin an email conversation now with folks comments.\\nI'm  reachable and will be back in the office on Thursday.\\nBest,\\n\"], b'DRAFTStrategy'], [[b\"OK, I haven't done this in a while.\\nThe unofficialized book list has been revised to include the 19th's data, not the 20th's.\\nSorry for any inconvenience.\\n\"], b'12/19/01 Unofficialized book list - Revised'], [[b\"Please pass this onto the individuals in your groups:  Tomorrow's simulation and Friday's desk to desk trading will provide an excellent opportunity for us to double check the online deals in tagg and sitara.\\nPlease pay special attention to these deals and let me know of any bridging issues.\\nEven though we have been testing and having various people check the deals in the underlying systems, I am afraid of any logic that may be hardcoded in the bridge.\\nNotify me immediately of any deals that are bridging incorrectly and I will try to resolve as soon as possible.\\nI will also be watching the bridge to research any failed deals.\\nThanks for your help.\\nLet's hope for a smooth transition!\\nDawn 3-9353\\n\"], b'Bridge logic'], [[b'Dear all,  Attached is the final copy of the speaking points for the CEO Diversity Roundtable.\\nThank you for your immediate and quick response.\\nay\\n'], b'CEO Diversity Rountable Speaking Points for Ken Lay'], [[b\"Cheryl:  We'll email the draft ISDA Schedule and CSA to you and Chuck.\\nPlease email  me back with address, phone, email, etc.\\ninformation as to how you would like  the drafts sent.\\nThanks.\\n\"], b'ING Barings (U.S.) Capital Markets LLC'], [[b\"In an effort to conserve space in the refrigerator for tomorrow's Thanksgiving luncheon, please take your old or unwanted items out of the refrigerator this afternoon.\\nAlso, if you are bringing a dish, please remember to bring a serving spoon.\\nThanks!!\\n!\\n\"], b'Thanksgiving Luncheon'], [[b\"You are invited to attend a meeting to discuss Transwestern on July 31st from 2:00 - 4:00 p.m.\\nIt will be held in 49C2 (video conference room - Houston) and  in 7C2 (video conference room - Omaha)   Attendees - Houston:              Attendees - Omaha:            Attendees - Washington D.C. via phone:   Stan Horton                            Greg Porter                            Charles Moore - Akin, Gump Rod Hayslett                           Mary Kay Miller                      Robin Nuschler - Akin, Gump Danny McCarty                       Steve Kirk                              Frank Kelly - Gallagher, Borland Steve Harris                            Maria Pavlou                          Steve Stojic - Gallagher, Borland Kim Watson                                                                        Joe Hartsoe - Enron Shelley Corman Drew Fossum Teb Lokey Tracy Geaccone       Tracy, Rod Hayslett requested that you attend this meeting also.\\nI'm sorry, I didn't add your name to the list.\\n\"], b'Transwestern Meeting 2:00 - 4:00 p.m.'], [[b'Michael -  I have attached below a revised version of the Channel Marketing Agreement with Deloitte.\\nThis document is the most current form of agreement that needs to be used for these deals and also reflects my comments.\\nThese comments are based upon the comments submitted by Deloitte.\\nI have incorporated those that we discussed and made some additional comments.\\nYou will note that in the \"Fee Payment\" section, I have included the present value concept that you requested.\\nI have not, however, defined this concept, but would assert that it should be defined in the agreement.\\nAccordingly, please let me know how you want to define it.\\nAs I indicated above, this is a bit of a different form than the one you submitted to Deloitte for review.\\nSo that we can ensure that accurate documents are distributed, please allow us to prepare the drafts for distribution to potential channel marketing partners.\\nLike the preparation of NDA\\'s, this will enable the Legal Dept.\\nto keep track of the agreement and ensure the right version is used.\\nPlease let me know if you should need anything further.\\nMark\\n'], b'Deloitte Agreement'], [[b'Hello Greg--A belated congrats on the new post at Enron--We had, as you probably read, a sort of pool going about who would get tagged for the big desk-- Most of the emails we received offering their thoughts on the question seems to favor you--most were also fmr Enron traders and the like.\\nI had to chuckle about the stories that ran about you in the past few weeks--you must be tired of the tanker reference by now.\\nI seem to recall the last time we traded emails and calls was around the time you took over the wholesale group--most of the stories at that time were equally clever--\"he should know about volitility, he used to drive a tank in germany...blah blah blah.\\nAnyhow, hope all is well chief, would like to do an interview at some point, for either The Desk or The Risk Desk.\\nYour call.\\nBy the way, who is the nominal head of the bandwidth desk these days--hawthorne?\\n'], b'congrats'], [[b\"The next session to discuss papers on models for setting the bid-ask spread will be  Friday, June 15 2:00-3:00PM in 19C2  If you want copies of the papers Jinbaek will present ahead of time, let me know and I will provide a copy.\\nA summary of yesterday's session is attached.\\nBob Lee\\n\"], b'Market Maker Discussion'], [[b\"NorskeCanada announced today plans for additional curtailment for the first quarter of 2002 at its B.C.\\npaper operations, as weak economic conditions have reduced demand for the company's products.\\nNorske is planning to shutdown 2 paper machines until market conditions improve.\\nNo.\\n3 paper machine at Port Alberni and No.\\n1 paper machine at Elk Falls are currently scheduled for shutdown in the 1Q02.\\nA third paper machine, No.\\n1 at Crofton, is also planned for shutdown during the month of January.\\nThis translates into about 34,000 MT for 1Q02 at Elk Falls (since Port Alberni produces mostly directory) and about 12,000 MT at the Crofton mill for January.\\nGiven the uncertain economic climate, the company will review curtailment plans monthly so it can be quick to respond to any upturn in market conditions.\\nPlease find the Downtime database for 2002 attached below.\\nAyesha\\n\"], b'Norske Downtime for 1Q02'], [[b\"A Conference call to discuss any comments we may want to make on the CPUC's Proposed Decision in the GIR Proceeding has been scheduled for Wednesday, Oct. 17, 2001 at 11:00 AM Houston/Omaha time and 9:00 AM California time.\\nThe dial-in # is 1-877-795-3687 code: 350955.\\nIn Houston, Conf.\\nRm.\\n1336 has been reserved for the call.\\n\"], b'GIR Conf. Call'], [[b'Russell: Based on my review of the 6/23 draft of ISDA Schedule here are my credit  questions:  1.\\nThere is no Credit Support Provider for Equitable.\\nShould there be?\\n2.\\nWhat should the cross default thresholds be and who should they apply to?\\n3.\\nAre you satisfied with the Additional Termination Event?\\nI\\'m assuming  that in clause (i) of the definition of Debt Coverage Amount, it makes sense  to take \"future\" revenues from the preceding year and subtract from it asset  sales made during the current year?\\nHow will we know what assets sales are  made?\\nWill the future net revenue calculation be shown on the reserve report  that we receive annually?\\nWhen will this calculation be done?\\nAre you  satisfied with their definition of Internal and External debt?\\n4.\\nIn Part 3(a), looks like we would only receive an annual reserve report.\\nIs that sufficient?\\nWhen should we get it?\\nAlos, whose financials do you  want to receive?\\n5.\\nIn Part 5(c) - Setoff, I\\'ll just note that this only applies to amounts  due and owing between the parties and does not include \"affiliates\".\\n6.\\nIn Part 5(f)- Assignment,  we need to decide what conditions precedent we  want to apply to the limited partnership entity that they assign it to given  the fact that once assigned, we will have no recourse to the partners, even  the GP.\\nFor example, should the LP have a minimum asset value at the time of  the transfer?\\nIt is not clear to me what assets this LP would own at the  time of the transfer and I\\'m assuming that we would want it to meet some  minimum credit criteria prior to such transfer.\\nIn addition, are you  satisfied with the debt and asset sale limitations?\\nOn asset sales, I think  that they need an annual limit as it is not clear to me how the $2,000,000  limit currently works.\\nAlos, I think that all of these limitations in  Section (f) should either be additional Events of Default or Additional  termination Events.\\nPlease call when ready to discuss.\\nCarol\\n'], b'Equitable Credit Issues'], [[b\"Please respond to Sivy on Stocks SIVY ON STOCKS from money.com April 25, 2001  Construction project  The need for aggressive oil exploration and new electrical power plants should be a bonanza for firms like Fluor that can manage such projects on a global basis.\\nBy Michael Sivy  It may seem hard to believe today, but back in the 1970s, one of the hottest stock groups was Construction and Engineering.\\nThese C&E firms managed mega-projects, including oil refineries and pipelines in the Middle East, and were minting money because of the oil shortage.\\nBut during the past decade, the energy crisis seemed like only a distant memory.\\nAnd even the best C&E firms, such as Fluor [FLR], ran into trouble.\\nFor most of the late 1990s, Fluor's earnings were stagnant.\\nThe company over-expanded in 1994 and subsequently began missing its growth targets.\\nAs the problems got worse, the stock fell from a high of $75 a share in 1997 to less than $23 early last year.\\nTo fix these problems, Fluor decided it would be smart to split the company in half, separating its C&E businesses from its coal-mining operations, which now trade as Massey Energy [MEE].\\nSince the split late last year, Flour has been doing well and appears poised for even better times to come.\\nBut this improved performance has gone unnoticed by many investors because the division of the company and the shift of its reporting schedule from a fiscal to a calendar year have made earnings comparisons difficult.\\nIn fact, some research sources have stopped following the stock altogether.\\nThat's a pity because the outlook for energy is better than it's been in a decade.\\nThe scare of higher crude prices should greatly improve prospects for oil projects, while electricity shortages in California -- and possibly\\n\"], b'Sivy on Stocks: Construction project'], [[b'Hi baby!\\nI did pick up your check today .\\nI hope to see you guys tomorrow at  church.\\nGive Natalie and Baby Alex a big hug and kiss for me.\\nI love you !\\nByeeeee!\\nMOM.\\n'], b'My check'], [[b\"Hi Kent,  These are some requested changes to the Salmon a/k/a Delta break out  agreement.\\nI'm not comfortable that Lee has reviewed these, as the comments  were previously forwarded in another email.\\nIn any event, we are looking for  GE's blessings on this addition.\\nIt seems to me that we are approaching time to gather GE's signatures on the  various docs.\\nI will forward separately the email I received from our  outside counsel with the final forms of everything but the break out  contract, the assignment and assumption agreement and the GE parent guaranty.\\nThanks for your assistance.\\n\"], b'Delta requested language'], [[b'I will be out of the office starting late this afternoon and will not be back in the office until Monday January 7th.\\nI will be out of town on starting the 1st of January and will be returning to town on January 5th.\\nMy contact information is below in blue.\\nI will be checking voice mail regularly and will be carrying the Blackberry.\\nI may not have email access other than the Blackberry.\\nA list of people to contact for certain matters is below:  Tracy Geaccone (X37372)\\tEGS Cash, Planning, or Forecasting and Coordination of same with Corporate Morris Brassfield (X67006)\\tETS Operations Support Jim Saunders (X33532) \\t\\tETS Accounting Pam Daily (X36135)\\t\\tEGS Space Planning, Move Coordination  Have a very Happy, Safe and Prosperous New Year!\\n'], b'Out of the Office'], [[b'Hi Sally,  I hope this message finds you well.\\nJust a short note to let you know that I have settled into my workspace at EB 3089F.\\nI am very excited about my summer internship with Enron, and when you have a free moment, let me know; I would like to stop by and say \"hi\".\\nFeel free to contact me at (713) 853-4750 or at michelle.yee@enron.com with any questions.\\nI look forward to hearing from you soon.\\nHave a great day,  Michelle\\n'], b'Summer Contact Information for M. Yee'], [[b'Jeff, attached is an expanded 1st draft of the memo.\\nI would like to keep  this expanded format to show the progress that we have made in the group.\\nPlease make any changes and send back for the next round.\\nAfter we both look  at it 1 more time, we will circulate to the heads of the group for  commentary.\\nI would like to have them feel part of the memo.\\nMike\\n'], b'reorg draft'], [[b'Staff & Budget Meeting has been cancelled.\\nPlease make a note on your  calendars.\\nA new committee has been formed \"ENA Management Committee\".\\nA memo will be  going out with the attendees and with the times.\\nIf you have any questions, please feel free to call me.\\nThanks,\\n'], b'Friday afternoon Staff & Budget Meeting'], [[b'Dear Ken:  I have encouraged all my academic executive friends to each purchase 1,000 shares of Enron.\\nI have just done so, and expect others to follow suit.\\nGo Enron  Malcolm\\n'], b'Enron Stock'], [[b'Dale,  To follow up on our conversation, our only problem is in the short  description.\\nWe would like to make in simpler.\\nPossibly  reading  \" Gas Daily Index\" as the product type  Also it seems that the long description in product manager  that we approve  while  copying  a product does not match the long description after the  product is created ???\\nPete\\n'], b'gas daily index'], [[b\"Please respond to feedbackDear Peter, At Travelocity, we love to travel.\\nWe enjoy seeing new sights,  meeting new people, and trying new restaurants.\\nThere's just one  thing we don't like about traveling: the cost (we're guessing you  know what we're talking about!).\\nBut we've come up with something  that can help.\\nThe Travelocity Preferred Traveler Program offers a unique package of  discounts, upgrades, and special perks to help make your travel,  shopping, and dining experiences less expensive--and more enjoyable.\\n\"], b'Introducing Exclusive Savings on Travel & Dining Out'], [[b\"Tom, I was talking to Tony Honings with Central Illinois Light this morning about doing some trades on EOL.\\nHe said he calls you to do some of his physical deals and said he just likes talking to the traders.\\nHe did say he needed to start doing some online trades.\\nHe's close so next time you talk to him, see if you can give him a shove.\\nThanks.\\n\"], b'Central Illinois'], [[b'Michelle/Kimberly, I was looking at the economics for Park-N-Rides (on the TW Mainline Leg) thought you might be interested in this: According to Gary Choquette, it costs us in fuel 1420 Mscf/d for storage of 42,502 Mscf of gas.\\nAssuming a BTU factor of 1.00 and at a gas cost of $3.00 per MMBTU--fuel costs amount to $4260/day.\\nAdding O&M to this (assuming 1/3 fuel cost), the total cost of this storage to us is ~13 cents.\\n'], b'Park-N-Ride Economics'], [[b'Maria and Drew, this is a long-winded e-mail but please bear with me...\\nThe problem:  As you probably remember, several months ago several of us met to discuss the  following language in the ROFR portion of Transwestern\\'s tariff: \"if the rate  bid exceeds the maximum tariff rate, then the rate will be considered to be  the maximum tariff rate,\" and the additional frustrating language \"[a]ll  available capacity shall be allocated under these procedures .\\n.\\n..\"  At our  last meeting, we concluded that probably the best way to ensure that TW could  capture the true value of the capacity would be to link the negotiated rate  to index prices.\\nHowever, since this usually involves an unacceptable amount  of risk to both the shipper and TW, the marketers haven\\'t done any  index-based rates and have no current plans to enter into any such deals.\\nI  have been asked by the Commercial Group to revisit this issue and to think of  other ways we could increase our ability to charge more than the maximum  rate.\\nIdeally they would like to eliminate the language I\\'ve quoted above.\\nHowever, my research has indicated that absent our 1) bringing about radical  change in the way FERC thinks about recourse rates or 2) showing that TW  lacks market power, we are probably stuck with this language.\\nWhy the problem exists (you may already know):  Steve Stojic and I did some looking into why the language is in our tariff in  the first place.\\nIn the Alternative Rates Policy Statement (RM95-6-000), the  Commission explained that it is willing to entertain individual requests for  negotiated rates, but only where customers retain the ability to choose a  cost-of-service based tariff rates.\\n\"[T]he availability of a recourse  service would prevent pipelines from exercising market power by assuring that  the customer can fall back to cost-based, traditional service if the pipeline  unilaterally demands excessive prices or withholds service.\\nThus, the  recourse rate mitigates market power.\"\\nThe Commission went on to confirmed that under ROFR provisions the highest  rate that an existing shipper must match if it wishes to continue its  transportation arrangement is the maximum tariff rate.\\nThis policy is clearly  not limited to ROFR situations:  when capacity is constrained, a shipper  willing to pay only the recourse rate cannot lose access to capacity merely  because someone else is willing to pay a negotiated rate.\\n\"When there are  more requests for capacity than there is capacity available, then the  pipeline must allocate capacity among those shippers willing to pay either  the negotiated rate or the maximum recourse rate, for example on a pro rata  basis if required by its tariff.\"\\nThe example cited by the Commission:  If a  pipeline has 100 Dth/d available and two shippers request that capacity, one  who is willing to pay no more than the recourse rate of $5 and another a  negotiated rate of $6, then each would be allocated 50 Dth/d on a pro rata  basis (assuming the tariff provided for pro rata allocation and not some  other allocation method such as lottery).\\nWhen TW filed for authority to charge negotiated rates, it voluntarily added  the statement that \"if the rate bid exceeds the maximum tariff rate, then the  rate will be considered to be the maximum tariff rate.\"\\nPresumably we had  concluded that we needed to add this recourse rate related provision in order  to receive negotiated rate authority.\\nSolutions??\\nI would like to know whether you concur that changing our tariff language  outright is probably out of the question.\\nI feel as if I\\'ve really been  chasing my tail here.\\nI have owed Lindy an answer for some time now.\\nBut I  keep coming back to our having to prove lack of market power (which, Drew, is  where I believe you were headed when we talked about this in mid-October).\\nSteve Harris has asked whether we can just start small and remove the  recourse rate cap as to only a portion of our system.\\nI think we would still  have to show lack of market power in order to do this.\\nDo you agree?\\nStojic  warns that proving lack of market power is a lengthy and expensive  proposition.\\nMight be worth it to us, though.\\nAnother idea is to somehow provide shippers with an incentive to pay more  than max rate.\\nAfter all, we do have authority to charge negotiated rates.\\nWe\\'ve seen one instance in which one of our marketers was able to get more  than max rates for IT space based on good customer relations alone.\\nHowever,  despite our wonderful relationships with most of our customers, it\\'s unlikely  we can pull this off with any consistency.\\nWe wondered whether we might be  able to get more than max rates in the context of an auction procedure.\\nBut  I just am not convinced we could get around the Commission\\'s requirement that  recourse rates be available.\\nThat requirement has not changed.\\nHave either  of you seen anything to the contrary?\\nI would like to meet with you two, plus several others I have in mind, to  discuss this, preferably early this week (Tues. or Wed.), but would like to  discuss briefly with you first.\\nPlease call me so we can talk for a few  minutes.\\nThanks.\\n'], b'Recourse rate dilemma: the sequel'], [[b\"Hi!\\nI just got back from Germany!\\nIt was a pleasant trip but things in Frankfurt are just so expensive.\\nI went there for a distributor's meeting, and had the opportunity to meet the people that we are having correspondence with over fax and e-mail in the past.\\nOur account officer is a pretty girl and she is only 23 years old.\\nThe downside is that she is married for one year already.\\nOh well, life's tough.\\nI think one of the other distributors noticed me flirting with this girl.\\nWell, a quarter of the way around the world should be fair game.\\nAnyway, I was surprised that Frankfurt wasn't that big of a city.\\nYou can walk from the main parts of the city in a few minutes.\\nMostly, they only have Churches (every five blocks there seems to be one), slaughterhouses, and castles.\\nIn fact, they have been preserving so many allegedly historical buildings.\\nThese are ugly ass buildings that have no apparent architectural appeal.\\nDue to this, the new European Central Bank buildings has to be built at the back of one of these alleged historical sites.\\nThe building is long and takes up too much prime space with no apparent purpose whatsoever.\\nThis seems to be a prevalent site in most of Frankfurt.\\nA pleasant surprise during my trip was that the company paid for my hotel room.\\nI was prepared to pay for it, but I wasn't charged when I checked-out.\\nOur meeting lasted from Monday to Thursday, which left Friday and Saturday free for me before my flight on Sunday.\\nI decided to join a city tour by bus to Rothenburg.\\nWell, I was initially set on going to Heidelberg but I met this American Chinese girl who was travelling alone and I decided to just accompany her to Rothenburg.\\nShe works in Santa Clara for some upstart IT company.\\nI told my girlfriend about it because nothing really happened aside from us spending the whole of Friday and Saturday together.\\nThen again, I am not sure what I would have told her if something did happen ;-)  I'm seriously thinking of taking my Masters in Finance here in the University of the Philippines.\\nHowever, the application forms would only be available every May and the exam would be in August.\\nIt would be a one-year course starting September, which would time my graduation right about when Claudine finishes her local board exams.\\nI guess I don't see a bright future here in the Philippines, and I may just follow her when she specializes in the States or Canada.\\nUnless something drastic happens and our country just progresses rapidly, or my stars change, I think that this would be the plan that I would take.\\nI guess her petitioning me for a Canadian citizenship would help a lot in getting a job in Canada or the US.\\nI'm pretty sure that the US economy would pick-up after two years.\\nYou guys never stay down!\\nMy country is sinking because of the ever-divided people.\\nThere is no unity and I would suggest for us to just divide the goddamn country - one for the Muslims, one for the Chinese, and one for the Spanish people - then we call it the Divided States of the Philippines!!!\\nOh well, I'm just ranting right now.\\nJust write when you have the time.\\nHave you spoken to Khan lately?\\nTell his ass to write me!\\nI haven't heard from him for quite some time now.\\nI hope he is okay.\\nSend him my regards.\\nCliff\\n\"], b'Hi!'], [[b'I will be in Tokyo next week working on the start-up of energy trading in  Japan for Enron.\\nI would like to book time on your respective schedules to  meet on Wednesday afternoon.\\nI have some flexibility in my schedule if that  does not work for you.\\nI will be in Tokyo on Thursday and Friday too.\\nLook  foward to hearing from you.\\nMark Haedicke\\n'], b'Meetings in Tokyo on Wednesday, February 23, 2000'], [[b'The Weather Derivatives audit, executed by Andersen, has been completed.\\nThe attached Final Report has been reviewed with key process owners and issues were discussed with appropriate personnel, both during the audit and at the closing meeting.\\nFinal Reports will also be reviewed in detail with Wes and Sally on a periodic basis.\\nEAS will follow up with you regarding implementation of corrective action for High Priority Items  If you have any questions, please contact me at ext.\\n5-4554.\\nThank you.\\nMechelle Atwood Director, Enron Assurance Services Enron Wholesale Services\\n'], b'Weather Derivatives Audit Report'], [[b'Jay:  We sent this master for execution on May 1, 2001 and the counterparty just  responded to John with some comments.\\nOnly one comment is credit related:   LPC does not want to pay default interest as per the ISDA agreement.\\nLPC  does not want interest compounded daily.\\nWhat is your position?\\nI have made all other changes or given LPC an explanation.\\n'], b'Louisiana-Pacific Corporation (\"LPC\")'], [[b\"In a conference call today with Alcoa on the Services business we are pursuing, the following issues with regard to credit were mentioned:   1.\\nAlcoa has revoked a $10MM credit line they had open with Enron.\\n2.\\nAlcoa was uncomfortable taking on more Enron exposure given the recent press.\\nIn addition to the power/gas exposure, there is metals exposure.\\n3.\\nFuture deals will need to be closely reviewed by Alcoa's credit group.\\nBy copy of this e-mail, I am requesting that Ed Sacks contact Mike Fry of Alcoa's credit group in Atlanta.\\nPlease advise if you need his phone number.\\nAlso, we want to move ahead with getting the EEI in place as Alcoa's represents one of our strongest prospects for the new Services business.\\nWe will need to get Alcoa comfortable with our credit issues.\\nIn addition, we are talking to Alcoa on various other pieces of business at their various smelters in PJM and TVA as well as rainfall hedges for their hydro operations.\\nOscar Dalton\\n\"], b'Alcoa'], [[b'Troy,  Please review the attached to see if it conforms with your agreement.\\nIf it  does, please forward it to National.\\nCall me if you have any further  questions.\\n'], b'National Steel Corporation termination agreement'], [[b'WOuld you double check my NYMX position.\\nI bought another 10,000 day of June  at 4.255 after 4:00 PM yesterday.\\nThat purchase does not show up in this  mornings report.j\\n'], b'NYMX'], [[b'Janet,  This is the last correspondance I had regarding that confidentiality  agreement.\\nNot sure if Bobby Gaspard has seen the draft yet or not.\\nLet me  know what you need.\\nThanks.\\n'], b'Trunkline CA'], [[b'Carolina Power & Light Company and Florida Power Corporation, on July 16, 2001, filed revisions to their Open Access Transmission Tariffs.\\nThe modification provides that the Tariffs Generator Interconnection Procedures, Attachment O, apply only in the CP&L zone.\\nThe companies state that the purpose of the filing is to correct an April 26, 2001 filing that  inadvertently did not limit the applicability of the Attachment.\\nIf you would like more information on this filing, please let me know.\\n'], b'CP&L/FPL tariff filing (ER01-2599-000)'], [[b'Dear Perspective Employers,   Please review the professional resume of a seasoned pilot  we are currently representing seeking new career  opportunities.\\nHe is available immediately for full-time  employment globally.\\nOver 12,000+ hrs TT, 11,000+hrs PIC,   8,800 hrs turbine and extensive international experience make him  an attractive candidate.\\nType rated in G-V, G-1159, DA-20, Lear Jet  20/30 and CE-525.\\nFeel free to  contact me directly so we  may address any questions you may have as well as set up a phone  conversation at your convenience.\\nLook forward to hearing from  you.\\nThank you,\\n'], b'Available Pilot'], [[b'Paul,  If you are coming to Houston for bidweek would you give my group a quick  presentation on future rockies expansions?\\nPlease let me know and I will set  up a conference room if you can do it.\\nThanks\\n'], b'Rockies Expansion'], [[b'This warning is sent automatically to inform you that your mailbox is approaching the maximum size limit.\\nYour mailbox size is currently 75287 KB.\\nMailbox size limits:  \\tWhen your mailbox reaches 75000 KB you will receive this message.To check the size of your mailbox:     Right-click the mailbox (Outlook Today),    Select Properties and click the Folder Size button.\\nThis method can be used on individual folders as well.\\nTo make more space available, delete any items that are no longer needed such as Sent Items and Journal entries.\\nYou must empty the Deleted Items folder after deleting items or the space will not be freed.\\nTo turn Journaling off,   click Tools | Options | Journaling Options and de-select all items.\\nSee client Help for more information.\\n'], b'WARNING:  Your mailbox is approaching the size limit'], [[b\"Hello Tornado Parents,  Attached, is the Game schedule for our U-7 Tornados team.\\nAs you an  see most of our games are on Friday pm and I think three of them are  on Sat mornings.\\nFor the games, try to mark your calenders so you arrive at least 15  min.\\nbefore the start of the game.\\nThe kids have been great and we are really going to have some fun.\\nThanks for signing them up for soccer.\\nI'm really looking forward to  a good season.\\n\"], b\"Tornado's Game Schedule\"], [[b\"Larry left me a voice mail.\\nWould you mind calling him and telling him that  I am tied up on a conference call that is likely to last until 500, so I  can't call him until after then.\\nI would really appreciate it!!!!!!!!\\nXXXXXOOOOOO  CKM\\n\"], b'Larry'], [[b'DCongel@nyiso.com writes to the NYISO_TECH_EXCHANGE Discussion List:  Market Participants:  In the early evening hours on 8/8/2001 the NYISO inadvertently ran a billing job for 7/16/2001.\\nThis created a version 5 of the bills for this billing date.\\nVersion 5 is not valid, all customers should use version 4 when reconciling their advisory statements to their invoice.\\n'], b'July 16 2001 Advisory Statements'], [[b'The below listed Delaware limited partnerships that were formed but never utilized are being considered for dissolution.\\nPlease let me know by Wednesday, December 5, 2001, if there is any reason not to terminate.\\nIf I receive no responses, we will proceed with dissolution.\\nEGC 1999 Holding Company, L.P. EGC 2000 Holding Company, L.P.\\n'], b'Proposed dissolutions'], [[b'Afternoon, \\tEnclosed is an amended worksheet for Ineos Acrylics Inc.  We sent a draft under a different name a couple of months ago.\\nThis entity will be guaranteed by the ultimate parent as described in the worksheet.\\nPlease prepare this draft and forward to Eric and Graham at Ineos, with a copy to me.\\nGive me a call with any questions.\\nThanks,\\n'], b'Ineos Acrylics'], [[b'Commodity logic is the process of updating the look and feel of their products.\\nThey need two personal from settlements, confirms, and logistics.\\nThe group CL has engages will be here on Tuesday and Wednesday of next week.\\nThe meetings will be for one hour (they promise).\\nThey would also like to have a demo with the management team.\\n(also Tuesday or Wedesday)  Please provide the names of the reps to me plus with best times on Tuesday and Wednesday.\\nAlso, CL is looking for one more person to add to their team.\\nThey are looking for someone with mid and back-office experiences to help with marketing.\\nIf you have any one that maybe interested please let me know.\\nAlso, The CL module managers will be calling on you to help coordinate the gathering of contact information for various counter parties.\\nJust to give you a heads up.\\nLet me know.\\nthanks\\n'], b'commodity logic request'], [[b\"I had a little bird put a word in my ear.\\nIs there any possibility for Ben  Raimer to be Bush's secretary of HHS?\\nJust curious about that infamous UTMB  rumor mill.\\nHope things are well, happy holidays.\\nPL\\n\"], b'New President'], [[b\"Please ensure the following is done each day:  1.\\nAll East calcs are calc'd Official Ad-Hoc Desk and then Officialized  2.\\nNymex calc of three remaining gas books is calc'd and Officialized  3.\\nEast Bankruptcy calc is calc'd Official Ad-Hoc Full Book but NOT Officialized  4.\\nSend an e-mail with the bankruptcy calc post id to:  Debbie Brackett, Stephanie McGinnis and John Powell  Thanks!\\n\"], b'Daily Must Dos'], [[b'Hi Rick.\\nHope your holding up.\\nWe are going to have all of the \"on-going concern\" activities here in the old building on the 30-31-32 floors.\\nWe will be splitting the estate infrastructure into two functions: on-going activities (contracts/assets we will continue to serve and perform under) and wind-up/liquidation activities.\\nJim Fallon will be managing the latter function and I believe he is staying in the new building for now.\\nWe need to ensure that we have the appropriate folks from RAC engaged in the on-going concern function.\\nI\\'d prefer that we continue to have them located near our floors vs. move to another location (as I hear through the grapevine).\\nCould you suggest the folks that would be available to focus exclusively on on-going concern activities, and do you want them to stay on the 28th floor or move onto 31 with us?\\nThanks.\\n'], b'People'], [[b'Lawrence G. Whaley Vice President Enron Gas Services P. O.\\nBox 1188 Houston, TX  77251-1188 November 12, 2001   Dear Lawrence: \\t\\t We are so pleased that Steve Kean will be speaking at our conference on Winning Globally:  Organizing for Global Growth on January 23, 2002.\\nAs you may know, Steve will be speaking on a panel on \"Maintaining Gold-Standard Ethics in a Global Era.\"\\nWe hope that you will be able to join us at the conference.\\nWe would also like to invite you or a company representative to participate in the 2002 International Career Fair at Stanford Graduate School of Business, which will be held on the previous evening, Tuesday, January 22, 5:00pm - 8:00pm.\\nThe goal of the International Career Fair is to facilitate interaction between leading global companies and our talented MBAs looking for positions of international scope.\\nThe International Career Fair is strategically timed to coincide with our second -year students\\' full time job searches and\\n'], b'Invitation to the Stanford Graduate School of Business  International Career Fair, Tuesday, January 22, 2002'], [[b\"Mary Nell:  Congrats on the promotion!\\nI know that it is well deserved and couldn't have  happened to a more qualified person.\\nLook forward to seeing you soon.\\nSara\\n\"], b'Congratulations!'], [[b\"FYI -  We will be paying back line losses to APS tomorrow @ 4C - 1 mw @ HE 6, 1 mw @ HE 11.\\nI've gone ahead and prescheduled this payback to ensure that it gets tagged.\\nAll you have to do is make sure this makes it into the El Paso model (EPE is the source).\\nFollowing are the deal and tag numbers, just in case.....  Deals - 800427/800467 Tag - 34307  Again, no need to do anything for this.\\nJust put in in the model.\\nAnd let me know if you have questions.\\n\"], b'APS Line Loss Payback'], [[b'I must apologize regarding the lateness of this e-mail.\\nI sent the Excel file with crude oil data as an e-mail attachment earlier this afternoon, and when I checked my mail just now, I discovered that it had been rejected because of its size.\\nI have reduced the amount of data somewhat by using the following limitations: WTI Crude Oil swap transactions only, starting from January 1, 2001, with delivery in the USA.\\nThis allowed me to get rid of some unnecessary fields.\\nPlease note that there are no calendar spread options or basis options included in the data, and, as this is from Clayton\\'s database, it does not include failed trades or limit-order trades.\\nThe Excel file (\"Crude Data\") can be found in:  O:\\\\_Dropbox\\\\Tom Barkley  I have started looking at the data already, but it does not seem possible to plot all 24000+ points in one Excel chart.\\nI hope this helps.\\nTom\\n'], b'EOL Crude Oil Data'], [[b'The Envision System will be down beginning Friday, October 26th at 5:00pm and will remain unavailable for use until Sunday, October 28th, 2001 at 8:00 am  This is being done to comply with the scheduled building power outage performed by TrizecHahn Office Properties.\\nThe Three Allen Center Building, where the Envision equipment is located, has scheduled their annual building electrical shutdown on October 27, 2001.\\nThe shutdown is required to perform preventive maintenance on the main switchgear and any necessary repairs to electrical panels, bus ducts, equipment, etc.\\nAccess to the building will not be allowed during this power outage.\\nEnvision/EnCompass Support Team Document Mgmt and Process Automation 713/853-1511 Opt 1\\n'], b'FILENET SYSTEM OUTAGE'], [[b\"We have a highly negotiated Annex B and B-1 which Samantha has just revised.\\nShe will send it to you.\\nIt is not to be used ever again (unless we agree  once again).\\nI can't remember where we left off on the confirm format.\\n\"], b'Con Edison - trade done'], [[b'I am attaching a revised draft notice of intent to exercise the purchase  option for the equipment for the CA transactions.\\nWe need two separate  notices - one for CA I and one for CA II.\\nBen/Fred/Rebecca, could you please  prepare a draft of the two exhibits?\\nLisa/Catherine/Rose, I revised the form of notice to make it track the  participation agreement and the development and construction management  agreement.\\nI\\'ve tentatively dated the notice as of this Friday.\\nBy my calculations,  Monday is our drop dead date since a waiver of the 5 day period is not an  option, and the deal dies if not closed by the 15th.\\nBen mentioned that I should be drafting a \"release letter\" for the banks  and/or DevCo.\\nIt would be a big help if someone could point me to the section  in the documents which set forth the requirements of the release, since I\\'m  still wading through it all and haven\\'t found the relevant language yet.\\nAlso, please advise of the results of the conference call which you had with  the lenders (?)\\nand/or their lawyers regarding the issue.\\nI am working on the assignment and assumption agreement.\\nThanks,\\n'], b'CA Development I and II notice of exercise of purchase option'], [[b'Dear Kenneth:  The best possible candidates are not visible to most EXECUTIVE JOB OPENINGS because they are not seeking a new position!\\nFirst-rate executives are progressively hard to find, and the competition to attract and keep them are intense.\\nUncovering these results driven individuals requires a full-time and dedicated commitment.\\nGent & Associates, Inc. search has been finding top-notch talent for firms nationwide since 1992.\\nOur combination of being a third party that offers proprietary recruiting techniques and research, allow us to identify and present a wide variety of desirable, candidates confidentially.\\nHere some top achievers that we are representing.\\nCONTROLLER / CFO # E7.8356 Senior executive with extensive general and financial management experience that includes full P&L responsibility, strategic planning, operations, start-ups, turnarounds, mergers, and IPO experience.\\nDelivered strong and sustainable revenue and income gains through expertise in cost reduction, process reengineering, cost analysis and performance measurement.\\nBackground includes CPA and Big 5 consulting experience.\\nDIRECTOR / VP OF SALES  # e7.4717 Dynamic sales and sales management career encompassing 16+ years of success providing vision, cross-functional, hands-on leadership and strategic direction to achieve extraordinary top and bottom-line results.\\nTop tier MBA with particular experience in exceeding all quotas and objectives; Met or exceeded all MBO expectations through two compensation cycles.\\nOverachieved on both individual and team revenue quotas in 2000 and is on track to beat targets by 40% in 2001.\\nDIRECTOR OF OPERATIONS  # K7.2251 Accountable for all management and administrative functions for a $2M sales and service subsidiary of a multinational manufacturer of radiation detection and measurement instrumentation; Responsibilities include engineering, program management, product line management, manufacturing operations, tactical sales, strategic marketing and marketing communications, and general administrative management with full P & L responsibility.\\nEducation includes an MBA and a BS in Electrical Engineering.\\nDIRECTOR / VP OF MIS # A7.3782 Results oriented strong leader of people that is responsible for all the Information Services.\\nRecognized for motivating, fair management style resulting in high levels of team productivity.\\nReorganized information delivery system by improving sales force automation, customer reference database, order processing, and development of leading Intranet/Extranet Web commerce.\\nSkilled in managing the complete Life Cycle of business critical system solutions with knowledge of multiple Industries;  If you would like additional information about one of these candidates or for a free no-obligation consultation, which will include salary and hiring data for a specific title, please respond to this e-mail (gentjobs@pacbell.net) or call me direct at 650-813-1260.\\nLet us put you in touch with the right candidates today.\\nThank you for your time.\\nRegards,\\n'], b'Available Executives!'], [[b\"Assuming we keep Arthur Anderson on board this afternoon and assuming Enron  is still in the business of doing asset monetizations like this one (which  better be the case since its in the TW 4th Q plan @$2.5 mm), the following  things need to happen on roughly the following timetable:  1.\\nMike talks to Hanover and we negotiate the price, specific contract  language, etc.\\n(hopefully within 2-3 weeks of turning Mike loose?)\\n2.\\nRegulatory (assisted by Maria and me) flanges up the FERC abandonment  filing and tees it up to file the minute Mike finalizes the deal with  Hanover.\\nWe haven't talked about this for a while, but the story we tell   FERC has to acknowledge that the monthly O&M cost will be higher under our  outsourcing deal than it currently is, if load factor and other operating  assumptions remain constant.\\nThat may be the key to our story line--we\\n\"], b'TW Compressor Monetization'], [[b'The FT-NEAST-WH books were set up in the Agg-Gas II portfolio, but never  added to the AGG-GAS III or AGG-GAS IV portfolios.\\nPlease add these books  under the J_Mrha porfolio in AGG-GAS III and AGG-GAS IV.\\nThanks,\\n'], b'FT-NEAST-WH Books'], [[b\"Attached please find the UPDATED responsibilities for the Global Contracts and Global Facilities teams.\\nDue to restructuring within our group, we have lost three team members (Anthony Campos, Cyndie Balfour-Flanagan, and Ryan Sheeren) to the physical gas confirmation group.\\nOur team members' individual responsibilities have changed as a result.\\nPlease forward the attached information to your staff and coworkers.\\nPlease call me at x30569 if you should have any questions.\\nThanks,\\n\"], b'Global Contracts/Facilities new responsibilities'], [[b\"Attached is the working file for responding to the data request received on January 11, 2002.\\nFGT's response needs to be sent out on January 25 for filing on the 28th, therefore, responses will need to be in by January 23rd.\\nResponsibility is identified on each question, but in recap here is what you will be responsible for:  \\tLevelized Depreciation - Question 1 \\t\\t Teb Lokey and Blair Lichtenwalter \\tAFUDC - Question 1\\t\\t\\t\\t Mike Smith or Dave Rosenberg \\tEscalation - Question 1\\t\\t\\t\\t Mike Smith or Dave Rosenberg \\tCost of Removal - Question 1\\t\\t\\t Steve Veatch & Tim Bayles \\tCost of Removal - Question 2\\t\\t\\t Jon Lohmann \\tGeneral - Question 1\\t\\t\\t\\t John Keiser\\n\"], b'Data Request on Phase VI - Non Environmental'], [[b'To confirm our conversation, can you add \"Credit Derivatives\" as a new  products to my database.\\nWe will need the same drop downs as the other  produsts (gas trading, financial trading, etc.).\\nThanks!\\n'], b'EOL Legal Database'], [[b\"FYI - Mike Ettringer from Portland called to follow up on this ISDA.\\nNot to  worry, I'll let him know it's in the works.\\nSS\\n\"], b'Deseret Generation etc.'], [[b\"Mr. Lay,    I am a current holder of Enron common stock.\\nI would like your opinion.\\nI am 61 years old.\\nMy first stock purchase was of my Enron stock earlier this year.\\n($38.65) I am not in the market for the short term.\\nI am not spending money that will affect my standard of living.\\nI am considering buying a couple of hundred shares of Enron stock.\\nDo you think this purchase would be an investment that will grow in the long term or would it be a donation to Enron's creditors.\\nThank You.\\n\"], b'Investing advice'], [[b'Ken,  I wanted to send you a brief note letting you know that all of the agreements with the schools in connection with the Lay Foundation grants have been fully executed.\\nAt this point, the programs are being successfully implemented on all three campuses.\\nI also wanted to let you know that Christie Patrick was a tremendous help with getting these contracts signed.\\nHer persistence and focus was wonderful.\\nThank you for suggesting we work with her.\\nI also wanted you to know that Mike Kateman was a great help to us at University of Missouri.\\nOnce again, thanks for all of your assistance and guidance with these\\n'], b'Questia Programs'], [[b'Here is a brief memo prepared by Dan Watkiss relating to the relationship  between TVA transmission and marketing.\\nN   I will call you later to discuss TVA letter.\\nKevin does not want to make  offer to sell at market based rates.\\nAlso want to discuss if there is any  way we can challenge TVA on the hourly tag problems of last week.\\nTalk to you soon.\\nThanks\\n'], b'FYI - memo about TVA'], [[b'Here are materials I recieved from EEI in anticipation of the EEI product  description meeting on Wed.\\nI would guess that the bulk of the meeting   will be spent on the \"Into\" definition, which draft was prepared by David and  myself, but we will also need to provide requested alterations to the other  product definitions (unit firm and system firm).\\nIf you have any  questions/thoughts about the Into definiton, please call either David or me.\\n'], b'EEI Meeting on Dec. 15 Meeting - Product Definitions'], [[b'The Word of the Day for April 6 is:=20                    ambrosia =01=07 \\\\am-BRO-zhuh\\\\ =01=07 (noun)=20                   1 a : the food of the Greek and Roman gods b : the ointme= nt                   or perfume of the gods=20                   *2 : something extremely pleasing to taste or smell=20                   3 : a dessert made of oranges and shredded coconut=20                    Example sentence:                   \"We feasted that evening as on nectar and ambrosia; and n= ot                   the least delight of the entertainment was the smile of                   gratification with which our hostess regarded us, as we= =20 satisfied                   our famished appetites on the delicate fare she liberally                   supplied.\"\\n(Charlotte Bronte, Jane Eyre)=20                    Did you know?\\n\"Ambrosia\" literally means \"immortality\" in Greek; it is = a                   derivative of the Greek word \"ambrotos,\" meaning \"immorta= l,\"                   which combines the prefix \"a-\" (meaning \"not\") with=20 \"-mbrotos\"                   (meaning \"mortal\").\\nIn Greek and Roman mythology, only                   immortals -- gods and goddesses -- could eat ambrosia.\\nTh=\\n'], b\"Webster's Word of the Day\"], [[b'The cancer journey is sometimes lonely and frustrating for both those suffering with the disease and those providing care.\\nBut it can also be a time of friendship, personal growth, humor, and fulfillment.\\nPlease join Marlene Lockey, Sr. Social Work Counselor at MD Anderson Cancer Center on Wednesday, August 15, 2001 at 11:30 a.m. in the Forum in 2AC (12th floor) for a Brown Bag session on \"Caring for the Caregiver.\"\\nMarlene has many stories to share, as well as many ways to cope with the challenges of living with cancer.\\nThe presentation will be followed by an audience discussion, so please bring your questions and experiences.\\nContact Laura Herrera -laura.herrera@enron.com  - if you would like to attend.\\n'], b'\"Caring for the Caregiver\" - MD Anderson Brown Bag\"'], [[b\"John,  I made an adjustment in Enpower for Friday.\\nWhen balancing the books, I noticed that we were 100mw's long into the pool for HE21 & HE22, but in the portal it only shows 50mw for each hour.\\n(A 16hour block of 50mw was already in the portal.)\\nSo I adjusted HE21 & HE22 from 50mw to 0 mw, so that it matched the portal.\\nPlease notify me  if my adjustment was incorrect.\\nI made a note in the comment field for enpower #871228.\\nJoe\\n\"], b'Ercot Balancing for Friday'], [[b'If you do not have access yet to the Financial Trading Agreement Database,  this link should get you access.\\nHopefully when you open up your computer  tomorrow you will now have an icon to get in.\\nCredit people, if you do not  have edit capability let me know and I will get you access.\\nLink -->\\n'], b'Financial Trading Agreement Database Link'], [[b\"=                                                                            =                                                                            =                                                                            =                                                                            =                                                                            =                                                                            =                                                                            =                                                                            =                                                                            =                                                                            =                                                                            =                                                                            =                                                                            =                                                                            =                                                                            =                                                                            =                                                                            =                                                                            =                                                                            =                                                                            =                                                                            =                                                                            =                                                                            =                                                                            =                                                                            =                                    IntercontinentalExchange                =                                                                            =                                                                            =                                                                            =                                                                            =                                                                            =                                                                            =                                                                            =                                                                            =                                                                            =                                                                            =                                                                            =                                                                            =                                                             =20                                                                            =                                                                            =                                                                            =                                                                            =                                                                            =                                                                            =                                                                            =                                                                            =                                                                            =                                                                            =                                                                            =                                                                            =                                                                            =                    Firm Power Price Bulletin                               =                                                                            =                                                                            =                                                                            =                                                                            =                                                                            =                                                                            =                                                                            =                                                                            =                                                                            =                                                                            =                                                                            =                                                                            =                                             =20                                                                            =                                                                            =                                                                            =                                                                            =                                                                            =                                                                            =                                                                            =                                                                            =                                                                            =                                                                            =                                                                            =                                                                            =                                                                            =                    For Power Delivered on Monday, December  03, 2001       =                                                                            =                                                                            =                                                                            =                                                                            =                                                                            =                                                                            =                                                                            =                                                                            =                                                                            =                                                                            =                                                                            =                                                                            =                                                                            =                                                                            =                                                                            =                                                                            =                                                                            =                                                                            =                                                                            =                                                                            =                                                                            =                                                                            =                                                                            =                                                                            =                                                                            =                                                                   =20                                                                            =                                                                            =                                                                            =                                                                            =                                                                            =                                                                            =                                                                            =                                                                            =                                                                            =                                                                            =                                                                            =                                                                            =                                                                            =                                                                            =                                                                            =                                                                            =                                                                            =                                                                            =                                                                            =                                                                            =                                                                            =                                                                            =                                                                            =                                                                            =                                                                            =                                                                            =                                    (Trade Date of Friday, November  30, 200= 1)                                                                         =                                                                            =                                                                            =                                                                            =                                                                            =                                                                            =                                                                            =                                                                            =                                                                            =                                                                            =                                                                            =                                                                            =                                                                            =                                                                            =                                                                            =                                                                            =                                                                            =                                                                            =                                                                            =                                                                            =                                                                            =                                                                            =                                                                            =                                                                            =                                                                            =                                                                            =                                                                            =                                                                            =                                                                            =                                                                            =                                                                            =                                                                            =                                                                            =                                                                            =                                                                            =                                                                            =                                                                            =                                                                            =                                                                            =                           =20 Click here to access index history .\\n=                                                                            =                                                                            =                                                                            =                                                                            =                                                                            =                                                                            =                                                                            =                                                                            =                                                                            =                                                                            =                                                                   =20                                                                            =                                                                            =                                                                            =                                                                            =                                                                            =                                                                            =                                                                            =                                                                            =                                                                            =                                                                            =                                                                            =                                                                            =                                                                            =                                                                            =                                                                            =                                                                            =                                                                            =                                                                            =                                                                            =                                                                            =                                                                            =                                                                            =                                                                            =                                                                            =                                                                            =                                                                            =                                    * volume represents sell-side only *    =                                                                            =                                                                            =                                                                            =                                                                            =                                                                            =                                                                            =                                                                            =                                                                            =                                                                            =                                                                            =                                                                            =                                                                            =                                                                            =                                                                            =                                                                            =                                                                            =                                                                            =                                                                            =                                                                            =                                                                            =                                                                            =                                                                            =                                                                            =                                                                            =                                                                            =                                                                            =                                                                            =                                                                            =                                                                            =                                                                            =                                                                            =                                                                            =                                                                            =                                                                            =                                                                            =                                                                            =                                                                            =                                                                            =                                                                            =                           =20 Hub=09High=09Low=09Wtd Avg Index=09Change ($)=09Vol (Mwh)=09 Cinergy=09         $20.00=09         $15.75=09         $17.75=09-   1.06=09=           95,200=09 Comed=09         $18.50=09         $17.50=09         $17.85=09-   1.55=09  =          4,000=09 Entergy=09         $17.50=09         $14.00=09         $16.20=09-   3.09=09=           24,000=09 Nepool=09         $30.75=09         $28.75=09         $29.63=09+   1.46=09 =           5,600=09 Palo Verde=09         $31.75=09         $28.25=09         $29.88=09+    .19= =09          10,800=09 PJM-West=09         $25.00=09         $24.25=09         $24.57=09+   1.64= =09          44,800=09 SP-15=09         $32.50=09         $30.00=09         $30.86=09-    .03=09  =          6,400=09 TVA=09         $18.50=09         $17.25=09         $17.86=09-   1.34=09    =       22,400=09                                                                              =                                                                            =                                                                            =                                                                            =                                                                            =                                                                            =                                                                            =                                                                            =                                                                            =                                                                            =                                                                            =                                                                            =                                                                            =                                                                            =                                                                            =                                                                            =                                                                            =                                                                            =                                                                            =                                                                            =                                                                            =                                                                            =                                                                            =                                                                            =                                                                            =                                                                            =                                    Includes all trades done from 6 AM to 11=  AM Central Prevailing Time on the trade date specified for financially fir= m power delivered during the on-peak hours (6 AM - 10 PM CPT for Eastern hu= bs / 6 AM - 10 PM Pacific Prevailing Time for Western hubs) on the delivery=  date(s) specified.\\n=                                                                            =                                                                            =                                                                            =                                                                            =                                                                            =                                                                            =                                                                            =                                                                            =                                                                            =                                                                            =                                                                            =                                                                            =                                                                            =                                                                            =                                                                            =                                                                            =                                                                            =                                                                            =                                                                            =                                                                            =                                                                            =                                                                            =        =20                                                                            =                                                                            =                                                                            =                                                                            =                                                                            =                                                                            =                                                                            =                                                                            =                                                                            =                                                                            =                                                                            =                                                                            =                                                                            =                        IntercontinentalExchange is the world's most liquid = trading platform for over-the-counter energy and metals.\\nActive markets in= clude North American power and natural gas, global crude and refined oil pr= oducts, and precious metals.\\nTraded instruments include forwards, swaps, a= nd options.\\n=                                                                            =                                                                            =                                                                            =                                                                            =                                                                            =                                                                            =                                                                            =                                                                            =                             =20 In order to receive the proprietary information contained in this email, yo= u acknowledge and agree that you shall not further disseminate the Intercon= tinentalExchange Market Data contained herein to any person or entity witho= ut the express written consent of IntercontinentalExchange.\\nFurthermore,=  you acknowledge that (1) IntercontinentalExchange has exclusive and valuab= le property rights in this data; (2) IntercontinentalExchange's data is bei= ng made available to you only for your own business or personal activities;=  and (3) you cannot communicate the data, in any form, to any other person = or entity without the express written consent of IntercontinentalExchange.\\n=                                                                            =                                                                            =                                                                            =                                                                            =                =20 This data is provided to you free of charge.\\nIntercontinentalExchange rese= rves the right to cancel this service at any time for any reason or no reas= on at all.\\n=                                                                            =                                                                            =                                                                            =                                                                            =                                                                            =                                                                            =                                                                            =                                                                            =                                                                            =                                                                            =                =20 You agree that IntercontinentalExchange does not make any representations o= r warranties, express or implied, with respect to the data.\\n=                                                                            =                                                                            =                                                                            =                                                                            =                                                                            =                                                                            =                                                                            =                                                                            =                                                                            =                                                                            =                                                                            =                          =20 To become an Exchange Participant or inquire about the indices, please cont= act sales@intcx.com .\\n=                                                                            =                                                                            =                                                                            =                                                                            =                                                                            =                                                                            =                                                                            =                                                                            =                                                                            =                                                                            =                                                                 =20 To unsubscribe from this service, click here unsubscribe .\\n=                                                                            =                                                                            =                                                                            =                                                                            =                                                                            =                                                                            =                                                                            =                                                                            =                                                                            =                                                                            =                                                                            =                                                                            =                                                                            =                                                                            =                                                                            =                                                                            =                                                                            =                                                                            =                                                                            =                                                                            =                                                                            =                                                                            =                                                                            =                                                                            =                                                                          = =20                                                                            =                                                                            =                                                                            =                                                                            =                                                                            =                                                                            =                                                                            =                                                                            =                                                                            =                                                                            =                                                                            =                                                                            =                                                                            =                                                                            =                                                                            =                                                                            =                                                                            =                                                                            =                                                                            =                                                                            =                                                                            =                                                                            =                                                                            =                                                                            =                                                                            =                                                                            =                                ?Copyright IntercontinentalExchange, Inc. 20= 01, All Rights Reserved.\\n=                                                                            =                                                                            =                                                                            =                                                                            =                                                                            =                                                                            =                                                                            =                                                                            =                                                                            =                                                                            =                                                                            =                                                                            =                                                                            =                                                                            =                                                                            =                                                                            =                                                                            =                                                                            =                                                                            =                                                                            =                                                                            =                                                                            =                                                                            =                                                                            =\\n\"], b'Power Indices'], [[b'Attached is a draft of the Agreement for Recruiting or Contract Personnel  Services.\\nThis draft combines the Master Services Agreement, the Agreement  for Project Services, and the Staffing Services Agreement into a single,  comprehensive document.\\nAttached to this, as applicable, will be a Project Work Description (\"PWD\")  and/or a Staffing Services Description (\"SSD\").\\nI understand that HR is  working on a revised PWD.\\nI will circulate the SSD in the near future.\\nIt will contain a more specific  description of staffing services (e.g.\\nretained/contingency) as well as pay  rates.\\nPlease review this draft to determine if it fits your needs.\\nFeel free to  throw darts!\\nLet me know by return email if you have comments or questions.\\nI will resolve as many as possible based upon your comments as well as those  of others in Legal, and circulate a revised draft based upon those comments.\\nThank you.\\n'], b'Recruiting/Contract Personnel Services Agreement'], [[b\"Dear General Counsels:  On Monday, May 21, 2001, our two summer associates, Chike Okpara and Reginald Sewell will begin their summer rotation program with Enron.\\nAs you know, both of these gentlemen have just completed their first year of law school at the University of Texas School of Law.\\nOur summer program is for twelve-thirteen weeks beginning on May 21, 2001 and ending on August 17, 2001.\\nSince school begins on August 20, 2001, I anticipate that each student may wish to end his rotation during the week of August 13, 2001, thus leaving time for a brief vacation to be taken before school starts.\\nMr. Okpara's rotations are:  \\tMay 21, 2001 through June 15, 2001\\t\\tCorp. Legal/ETS Legal Dept.\\nJune 18, 2001 through July 13, 2001\\t\\tEnron Global Finance Legal Dept.\\nJuly 16, 2001 through August 17, 2001\\t\\tEnron Wholesale Services Legal Dept.\\nMr. Sewell's rotations are:  \\tMay 21, 2001 through June 15, 2001\\t\\tEnron Global Finance Legal Dept.\\nJune 18, 2001 through July 13, 2001\\t\\tEnron Broadband Services Legal Dept.\\nJuly 16, 2001 through August 17, 2001\\t\\tEnron Energy Services Legal Dept.\\nMr. Okpara and Mr. Sewell will attend New Hire Orientation on Monday, May 21, 2001.\\nI will be at New Hire Orientation to meet and greet them.\\nI will also present the Enron Code of Ethics.\\nNew Hire Orientation ends at noon.\\nFollowing New Hire Orientation, I will take Mr. Okpara and Mr. Sewell to lunch.\\nI anticipate introducing them to their first respective rotations at 2:00 pm on Monday, May 21, 2001.\\nI have sent their resumes to you under separate cover.\\n\"], b'Summer Associates from UT School of Law'], [[b\"They're here .\\n.\\n.\\n.\\n.\\nthe Nutcracker Market tickets are in!!!!!\\nPlease come by EB1756 anytime to pick yours up.\\nOn the back of each ticket is a table number.\\nThe  attached roster will let you know the  hostess and other tax guests  you will be sitting with.\\nWith regards to transportation,  you might want to  see if anyone is interested in carpooling or you can  drive yourself.\\nI understand things get really busy  - so plan to be there early.\\n9:00\\tPriority Shopping for Brunch guests only (that's you) 10:15\\tSeating ( please be prompt) 10:30\\tFashion Show 11:15\\tBrunch  Following  brunch,  shop 'til you drop and ENJOY the day!\\nShelly\\n\"], b'Nutcracker Market Tickets'], [[b\"Can you call him about this?\\nI wouldn't worry too much about the tone of this  letter or stepping on his toes.\\nJim overreacts at times.\\n\"], b'DPC - Privileged and Confidential'], [[b\"Harry:    Seems like a good idea for you to participate to ensure that EES is in the  loop.\\nAssemblyman Rod Wright's trying to find a solution that the whole  industry can embrace, which he'd then foist on the Governor.\\nSandi, Parquet  and Day attended the first meeting last week.\\nI'll forward to you Parquet's  notes from the meeting.\\nWe'll be setting up a call in number first thing  Monday morning.\\nBest,\\n\"], b'MEETING VERIFICATION re: Discussion of Rod Wright Meeting in LA'], [[b'I spoke with John Weiss (630-836-5687) @ BP Exploration & Oil Inc. (cpid #668) and he informed me that effective October 1, 2001 they will be changing the name of the company.\\nThe new entity is going to be BP Products North America Inc.   We will need to coordinate BP Products coming on EOL and BP Exploration being shut down.\\nFrom the legal standpoint, we have a master with BP Exploration & Oil Inc. and need to know how that will follow the new company.\\ntm\\n'], b'BP Name Change'], [[b'All I have to say is, I hope you purchased a box or bushel of the SISSI   chocolates.\\nThat was one of the finest pieces of chocolate I have ever had!\\nIt  was milk chocolate w/raspberry liquor filling.\\nI am now about to embark  on Mozart !!\\nThanks a bunch!!!\\n!\\n'], b'Sissi'], [[b\"Mary, Do you have an Enron North America Corp. bank account I can use for Goldman Sachs.\\nThe hedge book is in a grouping of accounts under ENA.\\nIn the past, we have wired to ECT Investments Inc.'s Citibank account but this is probably not a good idea at this time.\\nThe amount is $985,614.39.\\nPlease advise.\\nSheila\\n\"], b'ENA Wire instructions'], [[b'Geynille,  I understand you are in charge of recruiting at the UofH.\\nI am forwarding to  you the resume  of one of the students  of the University of Houston.\\nShe is involved with the international organization called AIESEC and I was  most impressed by her organizational skills and professional attitude.\\nI used to work as a volunteer for this organization many years ago and I am still helping their local chapter.\\nAs far as I know, she signed up for an interview with Enron.\\nVince Kaminski\\n'], b\"Biliana's resume\"], [[b'Paul:  I need to get some hard evidence (paperwork) that subtantiates the gain collected by Eco Holdings on the LPG hedging contracts for the year 2000.\\nI do have copies of the contracts, but for audit purposes we need to have probably the worksheet where we signed off with Enron as to the amounts collected.\\nWho can I talk to to get this?\\n'], b'Year 2000 Hedging Gains'], [[b\"Copy of order to follow.\\nHere's a quick summary.\\nDoes not look great for  the utilities.\\nMore to follow.\\none cent/kwh charge for all customers--equals 9% for rez, 7% for small biz,\\n\"], b'PUC DRAFT Decision'], [[b'We have received the executed First Amendment to ISDA Master Agreement dated  as of December 1, 1999.\\nThis amendment adds the British Columbia Securities  Act representation to the master.\\nCopies will be distributed.\\nConfirmation Desk:  you can stop adding the rep to the confirms now.\\n'], b'BC Gas Utility Ltd./ECC'], [[b\"Robert,   There are three buy back tickets in Sitara for Equistar at mtr 1373.\\nTwo for  HPL and one under ENA.\\nShouldn't we have only one buyback for each company?\\nAlso, how do you have the meter set up to allocate between the ENA contract  and HPL contract?\\nD\\n\"], b'Equistar Buybacks'], [[b'Barry, et al:  FYI.\\nSome initial info I got from our outside council regarding utility  authority to engage in financial risk management tools.\\nMore info to follow  as we get it.\\nIf you have quesitons, comments, or suggestions for additional  research needed, just holler.\\nPlease forward to others who might need it.\\nBest,\\n'], b'Utility authority to engage in derivative transactions'], [[b'We received their payment today.\\nIt included Dec01 through Mar02 invoices, some of which were new due ENA, other net due BG&E, with the sum of all amounts being owed to ENA.\\nIt appears that they netted accordingly.\\nWe can discuss whether they is allowable or not.\\n(This is the same scenario as with Merced.)\\nSusan: Please note in the DLL that payment was received 3/21/02 and that they netted post-petition invoices.\\nThanks\\n'], b'Baltimore Gas & Electric'], [[b'With all the ongoing changes that have been taking place around here and the known fact that some of us will be going our separate ways, it is my hope that we can all keep in touch in the future.\\nI would like to put something together for the group, so please provide me with your contact information, so I can prepare the \"Let\\'s Keep in Touch\" contact list for Government Affairs.\\nBelow is the contact information that I would like to receive from each of you.\\nOnce I have put the list together, I will forward it to everyone.\\nName: Home Address: Home Phone#: Home E:mail address:  New Place of Employment (if available): Work Address: Work Phone Number: Work E:mail address:  Cell #:  Other Family Contact Information: Please provide current (or future if known) address and phone number.\\nThanks to all!!!\\n!\\n'], b'\"Let\\'s Keep in Touch\" Contact List'], [[b'We have received the originally signed copy (via fax) of the Termination  Agreement dated 3/15/01 with respect to EnronOnlineTransactions Nos.\\n10000172  and 1000173.\\nCopies will be distributed.\\n'], b'Hess Energy Trading Company LLC'], [[b'Brant: Let me know what you think about this.\\nI am enclosing the section out of our  comments that he wants to replace with his language.\\nCarol\\n'], b'ISDA Discussions'], [[b'All,  The below is the final list  of candidates that I have recieved to interivew for the Origination Track.\\nAll names have either been recommended or approved by their manger.\\nEach candidate will be contacted tomorrow and we will proceed with a late November interview date.\\nYou, as the managment team will be expected to interivew candidates.\\nIf there are any final additions you would like to make to the below, please let me know asap.\\nKind regards,\\n'], b'Origination Track (ENA)'], [[b'Tana, If at all possible, could you please approve Sabic Americas this morning.\\nI am trying to get this customer an ID by this evening as I will be meeting with him at a conference tommorow.\\nThanks,\\n'], b'URGENT Sabic Americas'], [[b'Please see below from ISDA.\\nDo we ever want to go to using the ISDA for  physical and financial deals?\\nShould this be a long range plan?\\nMark\\n'], b'Single Master Agreement'], [[b'Ellen,  I believe these are the deals that needed the PTR language.\\nThe customer has been requesting a confirmation.\\nCan you please get with Gerald to get them prepared as soon as possible?\\nThanks,\\n'], b'Confirmation on Riceland/Ralaco - 969604 & 939536'], [[b\"Paul Bieniawski's phone number is 713-345-8641.\\nGo ahead and give him a call  just as a courtesy  to let him what you guys are looking at at Bushton and  let him know I put you up to it.\\nIf he has some useful off the cuff  insights, great.\\nIf not, that's fine also.\\nI don't expect you to send him  any material or get him deeply involved--just give him a heads up.\\nDF\\n\"], b'Paul B'], [[b'Attached is a unilateral form of Confidentiality Agreement where Counterparty  is the protected party.\\nThis form needs a little tweaking since it is more  directed for a financing transaction.\\nPeter can find it, as well as other  forms, in the attorney forms bank.\\nCall me, or have Peter call me, if I can  be of further help.\\n'], b'Confidentiality Agreement'], [[b\"Tracy:  Attached is the revised 4th Qtr Forecast Summary.\\nAlso, attached is the expense analysis I did.\\nPlease note, I did not include UAF.\\nI have compared our actual numbers with James' spreadsheet and Steve Kleb's earnings model.\\nOnce I made that adjustment for the $244 reserve in August on James' spreadsheet, we are all in agreement that the YTD actuals for TW commercial is $162.7.\\nI have also verified that number with Robert Miller and he agrees that is the number reflected on the Income Statement.\\nThe $244 reserve reversal was made in September and reflected in the transport margins revenues.\\nJan  X53858\\n\"], b'4th Qtr Forecast, Expense Analysis, $224 Reserve'], [[b'sara, as discussed attached is a cleaned up redlined version of the schedule.\\nas you know, there are still several open issues, but hopefully, it will be easier to work from this document.\\nin the meantime, i will work on redlining the csa and reviewing some of the open issues in the schedule that are in my court.\\nthanks for your help and have a great weekend!\\n<<enron isda 8-29.doc>>   - enron isda 8-29.doc\\n'], b'cecony-enron redlined isda schedule'], [[b\"Hey guys,   I just wanted to give you a friendly reminder to please have someone go through all your books to look for any deals with ECC and a third counterparty for October and November 2001 production.\\nI'll try to find as many as I can, but I'm not as familiar with all of your books as you are, and I don't want any deals to be missed.\\nIf you come across any deals can you please flip them to the FT-US/CAND-ERMS book as soon as possible as there are only a couple more days left this month, and settlements needs to get started on invoicing.\\nPlease let me know if you have any questions on this.\\nThanks\\n\"], b'ECC deals in Houston books to be flipped'], [[b'I have taken a stab at a Legal & Privacy Statement for the Broker version of  EnronOnline.\\nPlease take a look and let me know what you think.\\nJustin - I  don\\'t know if or when they expect to launch something like this in Europe but  I expect it won\\'t be long.\\nMark G. has been working on the Broker version of  the ETA (the \"BETA\") and a Fee Agreement which we can send along.\\n'], b'Broker Legal & Privacy Statement'], [[b'EFFECTIVE 12/1/01 - RB Robertson & Sons is canceling his contract with Enron for approx 1,000/day metered production.\\nReason:  With fixed prices in the $3.50-$3.70 range, Roc and his investors want to lock -in for a period greater than one year.\\nHe will sign a contract with Dominion Field Services.\\n'], b'RB Robertson & Sons'], [[b\"In this issue:   - Feature: Here Come Super RTOs to Save the Day  - California's regulators postponed votes once again on proposed rate increases, threatening the state's US$12.5 bond sale   - All the news, commentary, and earnings reports, plus price performance and valuation charts *As a special addition to this week's Prometheus File we have included a note on Calpine and news affecting the company over the past week.\\nPlease see the separate attachment below.\\n<<prometheus010907.pdf>>  <<Calpine Note 09-06-01 95.doc>>  Best regards,\\n\"], b'The Prometheus File - Energy Technology Weekly 09/07/01'], [[b\"One thing I forgot to mention this afternoon.\\nI have recently gone on the board of Kimberly Clark (Kleenex, etc).\\nThey are a heavy user of both power and gas in their manufacturing operations, and it hurt their 1Q results.\\nI have been telling then that they should start a conversation with Enron relative to outsourcing the management of this.\\nAs it happens, they have a pulp plant they want to sell, and your guys have an interest to help their trading operation.\\nIn the discussions on the pulp plant, don't overlook the opportunity to bundle together a proposal on outsourcing the energy management.\\nLet me know if I can help.\\nThanks for your attention to our problem.\\n\"], b'One other thing.'], [[b\"Folks.\\nI'm working on it, but it's going to require quite a bit of work.\\nPlease chk your emails later this evening for the next draft.\\nI'll page  folks--those with pagers, that is--to notify when I've emailed it.\\nScott,\\n\"], b'Dunne Letter'], [[b'The below listed Delaware limited partnerships that were formed but never utilized are being considered for dissolution.\\nPlease let me know by Wednesday, December 5, 2001, if there is any reason not to terminate.\\nIf I receive no responses, we will proceed with dissolution.\\nEGC 1999 Holding Company, L.P. EGC 2000 Holding Company, L.P.\\n'], b'Proposed dissolutions'], [[b\"The invoices for November 1999 settlement adjustments will be posted by 23:00 today, Monday, September 17, 2001.\\nThe NYISO apologizes for any inconvenience resulting in the delay in posting these invoices.\\nTransmission  Customers  will  observe adjustments to their settlements to: (1)  recover  costs  related  to  adjustments  made  outside of the billing process;  and  (2)  adjust  the  NYISO clearing account balance to zero for November 1999 settlements.\\nWith  regard  to the adjustments made outside of the billing process, these adjustments  could not have been corrected by a billing code or determinant data fix.\\nAs a result, the mechanism of paying and funding the adjustments is  done  through  adjustments  outside  of the billing process.\\nThe total adjustment of $14,178.39 was allocated across 5,059,790 MWh.\\nCustomers may validate  their  respective  adjustments by computing their ratio shares of the  $14,178.39  using 5,059,790 MWh as the denominator in their respective ratios of their November 1999 load.\\nCustomers will observe a difference in the  denominators  used  in  the  ratio share allocation of this adjustment versus  adjustment  #2.\\nThis  is  due  to  the  fact  that  the costs for adjustment  #1 are not allocated to those that received payment through the adjustment, which would defeat the purpose of the adjustment.\\nPrior  to  October 2000, the NYISO recovered or refunded differences in the revenue   received  from  Schedule  1  charges,  which  were  comprised  of forecasted  uplift  & residual adjustments, and the costs actually incurred by  adjusting  subsequent month's Schedule 1 rates accordingly.\\nIn October 2000,  the NYISO implemented a change in the tariffed Schedule 1 provisions that  allowed the recovery and refund of these costs as they were incurred.\\nIn  order  to  allow  any  changes in uplift and residual adjustments to be settled  through the settlement adjustment process, the code implemented in October 2000 was used to report these costs to the market.\\nThis results in an  over-collection  which  is  being  returned  to  Customers  through  an adjustment  to  their  monthly  balances.\\nThis  billing treatment for the November  1999  settlement  adjustments  resulted  in credits to the market totaling  $5,583,559.78  allocated  across  5,074,229 MWh.\\nCustomers where allocated  their  portion  of  this  adjustment based upon their respective ratio  shares of the 5,074,229 MWh of NYISO transmission service billed for the month.\\nNovember  1999  settlement adjustment settlement dates have been changed to address  the  delay  in  invoicing.\\nPayments due to the NYISO for November 1999  settlement  adjustments  are due to be received in the NYISO clearing account on Monday, September 24, 2001.\\nPayments due to market participants will  be  made  on  Thursday,  September  27,  2001.\\nPlease  refer to the attachment below for banking instructions.\\nThe  NYISO anticipates that the 2nd settlement adjustment for December 1999 settlements  will  be  invoiced tomorrow, Tuesday, September 2001 by 23:00.\\nSettlements  dates will be adjusted to accomodate the invoice date changes.\\nGiven  the aforementioned schedules, payments due to the NYISO for December 1999  settlement  adjustments  will  be  due  to  be  received in the NYISO clearing  account  on  Tuesday, September 25, 2001.\\nPayments due to market participants  will  be  made on Friday, September 28, 2001.\\nThe NYISO will confirm the invoicing schedule for December 1999 settlements tomorrow.\\nRegards,\\n\"], b'November 1999 Settlement Adjustment Invoices'], [[b'Ben,  Please find attached the tentative meeting schedule along with the proposed travel itinerary.\\nPlease let me know if you have any suggested changes to the travel itinerary.\\nI will be out on vacation, but will be checking email.\\nFeel free to leave me a voicemail too.\\nWe can make any necessary changes prior to your trip.\\nThanks!\\n'], b'Meeting Schedule/Travel Itinerary - 1/3'], [[b'RE: Notice letter.\\nWe sent out a notice letter to GE last Friday regarding closing of a  financing.\\nCould you print me a hard copy so I can show you what changes  need to be made?\\nWe need to send out another letter this week.\\nKay\\n'], b\"HELP I'm drowning....\"], [[b'Ladies and Gentlemen:  Attached is a letter from Bill Harper, NESA/HEA President, on behalf of the Board of Directors, asking you to vote on amending the name of the Association from NESA/HEA to NESA.\\nPlease read the letter and cast your e-ballot by November 8, 2001 by replying to this message either \"FOR\" or \"AGAINST\".\\nSincerely,\\n'], b'Your Vote is Required by November 8th!'], [[b\"Group: Mark has okay'ed having a going away lunch for Rod.\\nLooks like the week of  June 26th works best for Rod.\\nPlease e-mail Suzanne Adams by Monday of next  week any days that week that do not work for you so we can pick a date.\\nThanks.\\n\"], b'Lunch For Rod Nelson'], [[b\"Mr. Brown: At Laird's request, I am forwarding to you a draft if the ISDA and CSA  Schedules.\\nWe need more information from you concerning our counterparty  such as exact legal name, type of entity, state/country of incorporation  etc.\\nas apparently we could not tell from the financials what type of entity  it is.\\nThis may require some changes to the enclosed drafts, but nothing  major.\\nWe look forward to hearing from you after you have had a chance to  review the enclosed drafts.\\n\"], b'ISDA and CSA Schedules'], [[b\"Though many of you already know, today is my last day here at Enron.\\nI am leaving to pursue my culinary interests full time and have accepted a baking/pastry apprenticeship with the Deer Valley Resort in Park City, Utah for the winter season.\\nI am happy to have spent the past 3 years working with such a fun and intelligent group of people.\\nI sincerely wish all of you the best in your future endeavors.\\nPlease don't hesitate to look me up if you are in the Park City area, vacation planning, or considering some radical career change like this...ha.\\nIt would be great to see old friends up there.\\nForwarding info is below:\\n\"], b'Park City Bound'], [[b\"The technical difficulties with the SAP Security email box have been resolved.\\nYou may once again follow the normal submission process as noted in the instructions for the SAP Security Request Form and the IBuyit eProcurement Request Form.\\nIf you submitted a request for security during the week of  July 16-20 and have NOT received a notification of it's receipt, please resubmit the form.\\nWe can not be certain that all mail directed to the box during this period was actually received.\\nWe apologize for any inconvenience that this may have caused you.\\n\"], b'SAP Security Mailbox functional again'], [[b'Mr. Lay-  I am a long-term Enron employee and have shared your vision of building Enron for over 10 years.\\nIt has been exciting being a part of building the World\\'s Largest Energy Company.\\nI am concerned about the short term turn of events at Enron but still feel loyal and committed to Enron and your vision.\\nUnfortunately, my passion to follow your vision has led me to keep the many stock options I have accumulated over the years instead of \"cashing out\".\\nI am now faced with options that not only are \"under water\" but also some will expire as soon as January 2002.\\nI know it is not possible to reset the option price.\\nHowever, is it possible to extend the option expiration date on these options a few years?\\nI believe Enron will eventually rebound and I still believe in your vision but I also believe it will be a while before we can recapture the confidence of the markets.\\nThanks and keep the faith.\\n'], b'Option Expiration'], [[b'Gerald,  I wanted to follow up on our on Monday regarding the GTC Point Specific confirmation for Torch Energy.\\nAre you getting close to having something ready for us to send to them?\\nWe need to send them something to start reviewing today if at all possible.\\nIf you could let me know as soon as possible, I would appreciate it.\\nThanks,\\n'], b'Torch Energy GTC Point Specific'], [[b'NNG had EDI problems this morning,  Evidently TMS ran out of disc space cau= sing all of the files to get hung up in the HUB for the Final cycle and the=  ID1 cycle.\\nThe help desk was paged at 7:35 a.m. to report the problem , To= by responded, but was having trouble reaching the on call TMS.\\nWe did not g= et a response until 8:55 a.m. from TMS , the EDI files were in the HUB for = over two hours.\\nMary Draemer was very helpful and made follow up calls so w= e could relay an estimated time frame to our customers when this problem wo= uld be resolved.\\nMonday 12/31/2001 we also experienced printer problems , w= e were told that a print server was down, the Solution Center was redirecti= ng print servers on an individual basis at our work stations.\\nKathy Washing= ton could not print this morning and had tried to contact someone at the So= lution Center, and did not receive a response back for quite a while, we we= nt through the Help desk (Toby) and either he contacted Glen or Glen respon= ded to the earlier page, We had several technical problems to work through = this morning, but the most critical problem was trying to reach our support=  people.\\nNew Years Morning Crew, Kathy Washington Chris Greaney\\n'], b'New Years Day'], [[b'While it has been discouraging to see an endless stream of negative news coverage about Enron, we want you to know about some positive news that is starting to emerge.\\nABC News was at Enron today because they want to do a story about Enron\\'s future, our business going forward and the tremendous work being performed by the remaining 20,000 employees worldwide.\\nThe segment is scheduled to appear on both Good Morning America and on ABC World News Tonight with Peter Jennings on Wednesday, Feb. 20.\\nThe Good Morning America piece will be kicked off with a live feed from the Enron Building tomorrow morning at 7 a.m. CST.\\nCheck local listings for the air time of World News Tonight.\\nWhile there is no guarantee that these stories will be glowing pieces about Enron, the interest by ABC in running a positive story is encouraging.\\nWe wanted to let you know about these stories before they air.\\nAdditionally, two articles featuring interviews with Interim CEO Steve Cooper ran yesterday in USA Today and the Los Angeles Times.\\nWe are forwarding them to you for your information.\\nThank you for your support as we work to turn the tide of media coverage and public perception of Enron and its employees.\\nMONEY New Enron CEO turns company focus to future ; While workers cope with loss and uncertainty Noelle Knox  02/18/2002 USA Today FINAL B.03 (Copyright 2002)  HOUSTON -- Inside Enron headquarters, employees walk by stacks of moving boxes as they scrounge for pens and Post-it Notes from the empty desks of their laid-off co-workers.\\nOn one desk, an employee finds a note that reads: \"I\\'m not gone, don\\'t take my stuff!\"\\n'], b'Media Coverage of Enron'], [[b\"I have put all of the liquidations for GD Central in the Fred Liquidations  file.\\nThere is a variance of ($13,950) on the gas daily between what we  flashed and what detail we now have.\\nWe will have to take this adjustment to  the P&L(wil be expense).\\nI do not have detail for Basis Capacity Hedges or  LT Transport.\\nI am under the impression that these numbers are given to you  each month by Cernosek's group.\\nFor Basis Capacity Hedges, we flashed  ($31,074) and for LT Transport we flashed ($130,735).\\nThe detail in this  file plus these three numbers should tie out.\\nIf not, please let me know.\\nShout with any questions.\\nThanks for your help.\\nPL\\n\"], b'GD CEntral Fin Liq 0800'], [[b\"In order to bring better legal coordination and standardization to Enron's Risk Assessment and Control (RAC) group, we have formed a new legal group, which will initially include Lisa Mellencamp (Finance), Marcus Nettelton (Power Trading), Carol St. Clair (Broadband/Power Trading), Mary Cook (Financial Swaps), Peter Keohane (Canada), Ed Essandoh (Retail), Paul Darmitzel (Retail) and Elizabeth Sager (Power Trading) (Team Leader).\\nThis group will focus on, among other things, managing Enron's exposures with bankrupt counterparties, working out credit solutions with distressed counterparties and standardizing our overall credit practices.\\nThe initial members in this group have been drawn from Enron's numerous legal groups in order to gain a broader perspective.\\nEach of these members will provide support to this new group in addition to their current responsibilities.\\nWithin RAC, Michael Tribolet will focus on distressed counterparties, in conjunction with Bill Bradford, who continues to manage the Credit Risk Management group.\\nPlease join us in supporting the efforts of this new group.\\n\"], b'New Legal Team to Assist RAC'], [[b\"Hi Gaye,  We are looking forward to seeing you and Earl this weekend.\\nWe will have 9  for dinner, not counting the 6 year old who will have eaten (although he will  eat a piece of bread, if offered).\\nI just hate to pay for a real dinner for  him when I know he won't be interested in grown up food.\\nIf it isn't too much trouble, could you email me the menu?\\nWe will be bringing beer and wine.\\nSee you soon (just not soon enough),\\n\"], b'This weekend'], [[b\"OUTLOOK EMAIL NOTIFICATION  Your Date of Migration is: May 17th  YOU WILL BE UNABLE TO SEND E-MAIL unless you take the following action: Please go through your Notes email and clean out as many old/un-needed email items as possible BEFORE your date of migration.\\nAfter you are migrated to Outlook you will only be allocated 100MB of total Mailbox space.\\nIf more than this amount of data is migrated to Outlook YOU WILL NOT BE ABLE TO SEND E-MAIL until it is below the 100MB limit.\\nCleaning up your Notes email now will prevent this from happening to YOU.\\nEnron's messaging platform is migrating from Lotus Notes to Microsoft Outlook 2000 worldwide.\\nYou will be accessing Outlook for all of your email functions.\\nWHY IS ENRON MIGRATING TO OUTLOOK 2000?\\nMany factors contributed to the decision to migrate from Lotus Notes to Microsoft Exchange/Outlook.\\nThe most prominent factors were:  ?\\nSignificant advantages to moving to a product that is more integrated with current Enron apps (Windows 2000, Office and Internet Explorer) ?\\nMore efficient Shared PC and Roaming User features ?\\nImproved support and integration for Palm/CE devices ?\\nInstant Messaging capabilities  WHAT IS BEING MIGRATED TO OUTLOOK 2000?\\n?\\nEmail Messages.\\nFrom the date of your scheduled migration, the last (30) thirty days of your Email will be converted for use in Outlook.\\n?\\nAll your folders in Notes you use to store email messages in.\\n?\\nTo Do Items ?\\nJournal Items ?\\nCalendar Entries dating from (1) one year in the past to (10) ten years in the future will be converted.\\n?\\nAddress Books, but NOT your Distribution Lists that you created.\\nYou will need to re-create these in Outlook.\\nThank you,\\n\"], b'1-URGENT - Outlook Email Notification (new)'], [[b'Do you want to go to Austin tonight?\\nI have an extra ticket to the game  tomorrow.\\nWe will be back to Houston by 5 tomorrow.\\nLet me know.\\nEric\\n'], b'Austin'], [[b'This is the data that we will use to build our Socal growth estimates.\\nTake  a look at the file and then we can discuss how to combine this with current  pipeline capacity and future expansions.\\nMike\\n'], b'New Generation as of Oct 24th'], [[b'market_relations@nyiso.com writes to the NYISO_TECH_EXCHANGE Discussion List:  Dear Market Participants:  On the November 1999 & December 1999 Transmission Customer Monthly Statements many customers have noted under the \"Energy Settlement\" section for \"Forward Energy\" a change in MW-Hrs with no associated change in dollar amounts.\\nThis is because of a correction in the sign convention for the MW-Hrs related to external generation transactions (transactions from a proxy bus to the NYISO reference bus).\\nFor all other types of transactions the NYISO charges customers the appropriate TUC or LBMP  based on the MWs that flowed, but for external generation transactions, customers receive payments from the NYISO, and therefore these types of transactions have an opposite sign convention.\\nThe dollars associated with the external generation transactions have always had the proper sign convention, but the MW-Hrs have not.\\nOn 01/17/2000 this sign convention was corrected for all billing months going forward resulting in the correct MW-Hr values being reported from February 2000 to date.\\nHowever, November 1999 - January 2000 did not have the proper MW-Hrs reported on the Transmission Customer Monthly Statements.\\nWith the latest settlement adjustments posted the MW-Hrs are being corrected with the proper sign convention.\\nTransmission Customers will see similar changes in their forward energy MW-Hrs for January 2000\\'s settlement adjustment.\\n'], b'November & December 1999 Settlement Adjustments'], [[b\"Per our conversation.\\n1.\\nReplace front outdoor light fixture.\\n2.\\nAdd door numbers to bottom of front door (1920 Banks).\\n3.\\nAdd door knocker to middle of front  door (cute kitty door knocker!).\\n4.\\nReplace light in front sunroom with new light.\\n5.\\nFix window in back sunroom so it locks or closes (I'm afraid it would be  easy to pry open, and we have had recent robberies in neighborhood).\\n\"], b\"Tana's List\"], [[b'1.\\nWe have received an executed Second Amendment to Master Agreement dated as of September 27, 2001 by and between Barclays Bank PLC and Enron North America Corp., which amends (a) certain provisions in the Master Agreement with regards to Payments on Early Termination and (b) certain credit provisions for both parties.\\n2.\\nWe have received an executed Third Amendment to Master Agreement dated as of November 6, 2001 by and between Barclays Bank PLC and Enron North America Corp., which amends certain provisions in the ISDA Master Agreement dated as of January 13, 1994.\\nCopies of both Amendments will be distributed.\\n'], b'Amendments - Barclays Bank PLC'], [[b\"Hi Nancy,  It seems we may be scheduling a meeting with VEPCO to discuss the PPA.\\nJuly  20th is the current date being discussed.\\nI don't know how we want to staff  the meeting yet, but I do want to check your availability.\\nHow does that date  look for you?\\nThanks,\\n\"], b'VEPCO'], [[b\"Nancy,  I've made a list of the transactions I see in the VEPCO deal.\\nPerhaps you  can think of more.\\nI would appreciate your suggestions for B & P lawyers to  assist with these various aspects of the deal, with local counsel input as  necessary.\\nAdditionally, I would like to have someone in the Houston office  involved for backup.\\nlast minute meetings, etc.\\nThanks for your help.\\n\"], b'VEPCO \"to do\" list'], [[b'Craig,  Did you ever follow up with Kim Ward and the desk on the contract language  for the deal or deals you did with CA endusers?\\nWe need to make certian that  the customers are signed to the correct contract for balancing, etc.\\nPlease  get with me to discuss.\\nMike Grigsby\\n'], b'CA endusers'], [[b'On September 14, 2001, the Commission accepted tariff sheets filed by NEPOOL, effective July 1, 2001.\\nThe tariff sheets conform the existing mitigation price screen provisions of Market Rule 17 applicable to resources that run out of economic merit order to the revised bidding and compensation regime of three-part bidding and Net Commitment Period Compensation.\\nNEPOOL explained that the proposed differences in percentages applicable to the Energy Block Price were appropriate since they apply to different base values depending on whether the resource is regularly or seldom run in economic merit order.\\nThe price percentages applicable to Startup and No-Load bids are the same for both resources as both resources use the same base value.\\nIf you need further information, please let me know.\\nSusan Lindberg x30596\\n'], b'NEPOOL mitigation price screen (ER01-2836)'], [[b'There has been a move scheduled for you on Tues., Oct. 2nd.\\nPlease let me know if you have any questions or concerns.\\nYour new location is as follows:  David Forster  - 3121d  Susan Lindberg - 3129a  Eric Saibi - 3111d  Smith Day - 3120b  Ed Baughman - 3110e  Reagan Mathews - 3122d  Thank you,\\n'], b'Move Scheduled'], [[b'PVRC\\'S WORKSHOP ON TIGHTNESS-BASED BOLTED FLANGE  GASKET CONSTANTS AND DESIGN RULES  February 6 & 7, 2002, Safety Harbor Florida   REGISTER NOW AND WATCH FOR FUTURE ANNOUNCEMENTS ON PVRC\\'S WEBSITE AT WWW.FORENGINEERS.ORG  Description  You must attend this workshop to help keep your job knowledge useful by understanding the new design rules for bolted flanged joints!\\nAre you ready for the New Tightness-Based Gasket constants and flange design changes that are about to replace the traditional constants and rules?\\nThis workshop will get you ready with focus on three critical areas that apply to both ASME Section VIII flanges and standard B16 Joints.\\nThe New Tightness-Based Rules Gasket Qualification and Selection Latest On Analysis and Assembly of Bolted Joints  This Two-Day Workshop is a \"must\" for those needing  advance information and know-how about applying the recently developed gasket constants and flange design rules.\\nThe tightness-based rules accommodate levels of permissible joint leakage, representing a new basis for design criteria and opening additional choices and decisions for users and designers.\\nAttendees will gain detailed knowledge about several topics focussing on the new gasket constants and design rules and particularly on issues relating to leakage criteria and associated choices.\\nThe tightness concept is also extended to elevated temperature gasket qualification and selection, and know-how for efficient joint assembly and making zero leakage plant operation a realistic goal is presented.\\nSeveral industry experts will lead workshop sessions including: Bob Mikitka, Jim Payne, Michel Derenne, Yves Birembaut, Ron winter, Jerry Waterland, Rod Mueller, Anita Bausman, Jim Frew Hildegarde Zeres, Warren Brown, Ed Hayman, Bill Koves, and David Reeves.\\nAttendees will receive a bound collection of the presentations and guidelines and recommendations.\\nFor additional information contact Welding Research  Council at 212-591-7956 or www.forengineers.org/pvrc\\n'], b'PVRC Workshop'], [[b\"Sandi,   Do you have a complete contract for the Apache purchase under the Tenaska IV  deal?\\nApache is billing us a rate that is $.11 below the commodity rate  stated on page 22 in the original contract.\\nIn the documents I have, I can't  find a reason for the adjustment.\\nI may be missing an amendment or  something.\\nI thought that you may have a complete set of documents and could  help me out.\\nDaren\\n\"], b'Tenaska IV'], [[b'Barry,  I have spoken to my insurance agent.\\nPlease take the car in for an estimate and let me know what they say.\\nAfter that I can work with the insurance company to get them to do the rest of the coordination.\\nThank you.\\nI am sorry for the inconvenience and for the whole incident.\\n'], b'Car Repair'], [[b'Dear Power Outage Database Customer,  Attached you will find an excel document.\\nThe outage contained within is a forced outage.\\nYour daily delivery will still contain this outage.\\nAny questions please let me know.\\nThanks.\\n'], b'ERCOT (S. Texas) Forced Outages'], [[b\"Gentlemen,  The ESA docs are being reviewed internally for financing and accounting  issues.\\nThanks for turning the docs in such a timely manner.\\nCOA is on stand by, due to our need to focus on ESA and two new, identical  contracts (remember, we have a lot of turbines!)\\nThe next two up are the ones previously destined for CAL ISO - I believe  units 17 & 18.\\nThese units also have the dual fuel options included, so the  base prices of each will be increased appropriately.\\nWe will pay 75% of the  price prior to signing the facility agreement, and the January payment will  be increased by 25% of the cost of the dual fuel option.\\nThe turbines will be assigned to two sister Delaware LLCS:  CA Energy  Development I, LLC  and CA Energy Development II, LLC.\\nUse Ben Jacoby at  1400 Smith, Houston, 77002 for notices and invoices for purposes of the draft.\\nWe don't have any of the specifics on the site conditions, so we will have to  work with generics.\\nWe would like to have a draft yesterday, but seeing as that is impossible,  please advise when you think it can be ready.\\nThanks again and again,\\n\"], b'Next to tee up'], [[b'This is a notice to inform you that the server where your Outlook mailbox resides is scheduled for an outage tonight.\\nYour mailbox will be temporarily unavailable starting anytime after 11pm and may continue to be unavailable until 1 a.m., when all server maintenance work have been completed.\\nOutlook Web Access (OWA) will also be unavailable during this time.\\nBlackberry users:  Message delivery may be delayed for a few minutes.\\nIf you have any questions, please call the Resolution Center at x31411.\\n'], b'CORRECTION:  Outlook Outage - Friday, December 28, 2001']]\n"
          ],
          "name": "stdout"
        }
      ]
    },
    {
      "cell_type": "code",
      "metadata": {
        "id": "U8xWjKOFrwBG",
        "colab_type": "code",
        "colab": {}
      },
      "source": [
        "tr.to_csv(\"/content/drive/My Drive/Summarization/data.train.tsv\",sep=\"\\t\",index=False,header=False)\n",
        "dev.to_csv(\"/content/drive/My Drive/Summarization/data.dev.tsv\",sep=\"\\t\",index=False,header=False)\n",
        "test.to_csv(\"/content/drive/My Drive/Summarization/data.test.tsv\",sep=\"\\t\",index=False,header=False)"
      ],
      "execution_count": null,
      "outputs": []
    },
    {
      "cell_type": "code",
      "metadata": {
        "id": "tNDdllIA54CI",
        "colab_type": "code",
        "colab": {}
      },
      "source": [
        "!cp  ./outputs/ \"/content/drive/My Drive/Summarization/outputs\""
      ],
      "execution_count": null,
      "outputs": []
    },
    {
      "cell_type": "code",
      "metadata": {
        "id": "Ju52w2re2JuQ",
        "colab_type": "code",
        "colab": {
          "base_uri": "https://localhost:8080/",
          "height": 107
        },
        "outputId": "226e6bf4-d413-48eb-a895-931433032b67"
      },
      "source": [
        "em_bodies = []\n",
        "sub_lines = []\n",
        "for example in ds1:  # example is `{'image': tf.Tensor, 'label': tf.Tensor}`\n",
        "  print(list(example.keys()))\n",
        "  em_body = example[\"email_body\"]\n",
        "  em_bodies.append(em_body)\n",
        "  sub_line = example[\"subject_line\"]\n",
        "  sub_lines.append(sub_line)\n",
        "print(em_bodies[1])\n",
        "print(sub_lines)"
      ],
      "execution_count": null,
      "outputs": [
        {
          "output_type": "stream",
          "text": [
            "['email_body', 'subject_line']\n",
            "['email_body', 'subject_line']\n",
            "tf.Tensor(b\"Please note the change in location for tomorrow's meeting.\\nEB4102 is undergoing construction for several months.\\nOps Committee Meeting \\t\\tFriday, 10/5 \\t\\t1:30 - 2:30 PM \\t\\tEB30C2 - OMA 3C1  Thanks.\\n\", shape=(), dtype=string)\n",
            "[<tf.Tensor: shape=(), dtype=string, numpy=b'Enron Business Article'>, <tf.Tensor: shape=(), dtype=string, numpy=b'CMS/CRS Ops Committee Mtg, 10/5'>]\n"
          ],
          "name": "stdout"
        }
      ]
    },
    {
      "cell_type": "code",
      "metadata": {
        "id": "Eo1BiGGqrdsd",
        "colab_type": "code",
        "colab": {
          "base_uri": "https://localhost:8080/",
          "height": 589
        },
        "outputId": "c5b6cce9-02c3-445e-d422-55d52c92c766"
      },
      "source": [
        "builder = tfds.builder('aeslc')\n",
        "info = builder.info\n",
        "\n",
        "print(info)"
      ],
      "execution_count": null,
      "outputs": [
        {
          "output_type": "stream",
          "text": [
            "tfds.core.DatasetInfo(\n",
            "    name='aeslc',\n",
            "    version=1.0.0,\n",
            "    description='\n",
            "A collection of email messages of employees in the Enron Corporation.\n",
            "\n",
            "There are two features:\n",
            "  - email_body: email body text.\n",
            "  - subject_line: email subject text.\n",
            "',\n",
            "    homepage='https://github.com/ryanzhumich/AESLC',\n",
            "    features=FeaturesDict({\n",
            "        'email_body': Text(shape=(), dtype=tf.string),\n",
            "        'subject_line': Text(shape=(), dtype=tf.string),\n",
            "    }),\n",
            "    total_num_examples=18302,\n",
            "    splits={\n",
            "        'test': 1906,\n",
            "        'train': 14436,\n",
            "        'validation': 1960,\n",
            "    },\n",
            "    supervised_keys=('email_body', 'subject_line'),\n",
            "    citation=\"\"\"@misc{zhang2019email,\n",
            "        title={This Email Could Save Your Life: Introducing the Task of Email Subject Line Generation},\n",
            "        author={Rui Zhang and Joel Tetreault},\n",
            "        year={2019},\n",
            "        eprint={1906.03497},\n",
            "        archivePrefix={arXiv},\n",
            "        primaryClass={cs.CL}\n",
            "    }\"\"\",\n",
            "    redistribution_info=,\n",
            ")\n",
            "\n"
          ],
          "name": "stdout"
        }
      ]
    },
    {
      "cell_type": "code",
      "metadata": {
        "id": "sz5qzzpp1n6b",
        "colab_type": "code",
        "colab": {
          "base_uri": "https://localhost:8080/",
          "height": 166
        },
        "outputId": "af973979-6fa1-4e8f-c7fc-dbe1e6b71e38"
      },
      "source": [
        "df = tfds.as_dataframe(ds.take(4), info)"
      ],
      "execution_count": null,
      "outputs": [
        {
          "output_type": "error",
          "ename": "AttributeError",
          "evalue": "ignored",
          "traceback": [
            "\u001b[0;31m---------------------------------------------------------------------------\u001b[0m",
            "\u001b[0;31mAttributeError\u001b[0m                            Traceback (most recent call last)",
            "\u001b[0;32m<ipython-input-10-efe6bcb19784>\u001b[0m in \u001b[0;36m<module>\u001b[0;34m()\u001b[0m\n\u001b[0;32m----> 1\u001b[0;31m \u001b[0mdf\u001b[0m \u001b[0;34m=\u001b[0m \u001b[0mtfds\u001b[0m\u001b[0;34m.\u001b[0m\u001b[0mas_dataframe\u001b[0m\u001b[0;34m(\u001b[0m\u001b[0mds\u001b[0m\u001b[0;34m.\u001b[0m\u001b[0mtake\u001b[0m\u001b[0;34m(\u001b[0m\u001b[0;36m4\u001b[0m\u001b[0;34m)\u001b[0m\u001b[0;34m,\u001b[0m \u001b[0minfo\u001b[0m\u001b[0;34m)\u001b[0m\u001b[0;34m\u001b[0m\u001b[0;34m\u001b[0m\u001b[0m\n\u001b[0m",
            "\u001b[0;31mAttributeError\u001b[0m: module 'tensorflow_datasets' has no attribute 'as_dataframe'"
          ]
        }
      ]
    },
    {
      "cell_type": "markdown",
      "metadata": {
        "id": "z_YAVmmnMciC",
        "colab_type": "text"
      },
      "source": [
        "BERT which is used in this model requires tensorflow.contrib which is not there in tensorflow 2.0 it requires tensor flow 1.x"
      ]
    },
    {
      "cell_type": "code",
      "metadata": {
        "id": "70mD8wvAMbFO",
        "colab_type": "code",
        "colab": {
          "base_uri": "https://localhost:8080/",
          "height": 34
        },
        "outputId": "c14606ff-c1b5-421c-852d-e71291f4554a"
      },
      "source": [
        "%tensorflow_version 1.x"
      ],
      "execution_count": null,
      "outputs": [
        {
          "output_type": "stream",
          "text": [
            "TensorFlow 1.x selected.\n"
          ],
          "name": "stdout"
        }
      ]
    },
    {
      "cell_type": "markdown",
      "metadata": {
        "id": "HOgzp_l0LTxo",
        "colab_type": "text"
      },
      "source": [
        "Install Texar library which is required for this model"
      ]
    },
    {
      "cell_type": "code",
      "metadata": {
        "id": "seUPlnroLZRz",
        "colab_type": "code",
        "colab": {
          "base_uri": "https://localhost:8080/",
          "height": 710
        },
        "outputId": "eebef2fa-c2c8-4652-d3ce-c50b0ab05127"
      },
      "source": [
        "!pip install texar"
      ],
      "execution_count": null,
      "outputs": [
        {
          "output_type": "stream",
          "text": [
            "Collecting texar\n",
            "\u001b[?25l  Downloading https://files.pythonhosted.org/packages/ec/57/1b8af36cca480965e3d50ec218017f1c3c8732e07aa8d8d802ef4ecd9561/texar-0.2.4.tar.gz (290kB)\n",
            "\r\u001b[K     |█▏                              | 10kB 26.1MB/s eta 0:00:01\r\u001b[K     |██▎                             | 20kB 2.8MB/s eta 0:00:01\r\u001b[K     |███▍                            | 30kB 3.6MB/s eta 0:00:01\r\u001b[K     |████▌                           | 40kB 4.1MB/s eta 0:00:01\r\u001b[K     |█████▋                          | 51kB 3.4MB/s eta 0:00:01\r\u001b[K     |██████▊                         | 61kB 3.7MB/s eta 0:00:01\r\u001b[K     |███████▉                        | 71kB 4.1MB/s eta 0:00:01\r\u001b[K     |█████████                       | 81kB 4.4MB/s eta 0:00:01\r\u001b[K     |██████████▏                     | 92kB 4.8MB/s eta 0:00:01\r\u001b[K     |███████████▎                    | 102kB 4.5MB/s eta 0:00:01\r\u001b[K     |████████████▍                   | 112kB 4.5MB/s eta 0:00:01\r\u001b[K     |█████████████▌                  | 122kB 4.5MB/s eta 0:00:01\r\u001b[K     |██████████████▋                 | 133kB 4.5MB/s eta 0:00:01\r\u001b[K     |███████████████▊                | 143kB 4.5MB/s eta 0:00:01\r\u001b[K     |█████████████████               | 153kB 4.5MB/s eta 0:00:01\r\u001b[K     |██████████████████              | 163kB 4.5MB/s eta 0:00:01\r\u001b[K     |███████████████████▏            | 174kB 4.5MB/s eta 0:00:01\r\u001b[K     |████████████████████▎           | 184kB 4.5MB/s eta 0:00:01\r\u001b[K     |█████████████████████▍          | 194kB 4.5MB/s eta 0:00:01\r\u001b[K     |██████████████████████▌         | 204kB 4.5MB/s eta 0:00:01\r\u001b[K     |███████████████████████▋        | 215kB 4.5MB/s eta 0:00:01\r\u001b[K     |████████████████████████▊       | 225kB 4.5MB/s eta 0:00:01\r\u001b[K     |██████████████████████████      | 235kB 4.5MB/s eta 0:00:01\r\u001b[K     |███████████████████████████     | 245kB 4.5MB/s eta 0:00:01\r\u001b[K     |████████████████████████████▏   | 256kB 4.5MB/s eta 0:00:01\r\u001b[K     |█████████████████████████████▎  | 266kB 4.5MB/s eta 0:00:01\r\u001b[K     |██████████████████████████████▍ | 276kB 4.5MB/s eta 0:00:01\r\u001b[K     |███████████████████████████████▌| 286kB 4.5MB/s eta 0:00:01\r\u001b[K     |████████████████████████████████| 296kB 4.5MB/s \n",
            "\u001b[?25hRequirement already satisfied: regex>=2018.01.10 in /usr/local/lib/python3.6/dist-packages (from texar) (2019.12.20)\n",
            "Collecting numpy<1.17.0\n",
            "\u001b[?25l  Downloading https://files.pythonhosted.org/packages/90/b1/ba7e59da253c58aaf874ea790ae71d6870255a5243010d94688c41618678/numpy-1.16.6-cp36-cp36m-manylinux1_x86_64.whl (17.4MB)\n",
            "\u001b[K     |████████████████████████████████| 17.4MB 202kB/s \n",
            "\u001b[?25hRequirement already satisfied: pathlib>=1.0 in /usr/local/lib/python3.6/dist-packages (from texar) (1.0.1)\n",
            "Requirement already satisfied: pyyaml in /usr/local/lib/python3.6/dist-packages (from texar) (3.13)\n",
            "Requirement already satisfied: requests in /usr/local/lib/python3.6/dist-packages (from texar) (2.23.0)\n",
            "Collecting funcsigs>=1.0.2\n",
            "  Downloading https://files.pythonhosted.org/packages/69/cb/f5be453359271714c01b9bd06126eaf2e368f1fddfff30818754b5ac2328/funcsigs-1.0.2-py2.py3-none-any.whl\n",
            "Collecting sentencepiece>=0.1.8\n",
            "\u001b[?25l  Downloading https://files.pythonhosted.org/packages/d4/a4/d0a884c4300004a78cca907a6ff9a5e9fe4f090f5d95ab341c53d28cbc58/sentencepiece-0.1.91-cp36-cp36m-manylinux1_x86_64.whl (1.1MB)\n",
            "\u001b[K     |████████████████████████████████| 1.1MB 53.8MB/s \n",
            "\u001b[?25hRequirement already satisfied: packaging in /usr/local/lib/python3.6/dist-packages (from texar) (20.4)\n",
            "Requirement already satisfied: chardet<4,>=3.0.2 in /usr/local/lib/python3.6/dist-packages (from requests->texar) (3.0.4)\n",
            "Requirement already satisfied: urllib3!=1.25.0,!=1.25.1,<1.26,>=1.21.1 in /usr/local/lib/python3.6/dist-packages (from requests->texar) (1.24.3)\n",
            "Requirement already satisfied: certifi>=2017.4.17 in /usr/local/lib/python3.6/dist-packages (from requests->texar) (2020.6.20)\n",
            "Requirement already satisfied: idna<3,>=2.5 in /usr/local/lib/python3.6/dist-packages (from requests->texar) (2.10)\n",
            "Requirement already satisfied: pyparsing>=2.0.2 in /usr/local/lib/python3.6/dist-packages (from packaging->texar) (2.4.7)\n",
            "Requirement already satisfied: six in /usr/local/lib/python3.6/dist-packages (from packaging->texar) (1.15.0)\n",
            "Building wheels for collected packages: texar\n",
            "  Building wheel for texar (setup.py) ... \u001b[?25l\u001b[?25hdone\n",
            "  Created wheel for texar: filename=texar-0.2.4-cp36-none-any.whl size=444369 sha256=7c59d139732730710425faeecf894c66e02fda1ba3f72ffcaa68ff0f64b527ef\n",
            "  Stored in directory: /root/.cache/pip/wheels/d3/10/64/40ab4b8563fe393750ada8484c27da019b15b0ff51ffcbaf95\n",
            "Successfully built texar\n",
            "\u001b[31mERROR: umap-learn 0.4.6 has requirement numpy>=1.17, but you'll have numpy 1.16.6 which is incompatible.\u001b[0m\n",
            "\u001b[31mERROR: datascience 0.10.6 has requirement folium==0.2.1, but you'll have folium 0.8.3 which is incompatible.\u001b[0m\n",
            "\u001b[31mERROR: albumentations 0.1.12 has requirement imgaug<0.2.7,>=0.2.5, but you'll have imgaug 0.2.9 which is incompatible.\u001b[0m\n",
            "Installing collected packages: numpy, funcsigs, sentencepiece, texar\n",
            "  Found existing installation: numpy 1.18.5\n",
            "    Uninstalling numpy-1.18.5:\n",
            "      Successfully uninstalled numpy-1.18.5\n",
            "Successfully installed funcsigs-1.0.2 numpy-1.16.6 sentencepiece-0.1.91 texar-0.2.4\n"
          ],
          "name": "stdout"
        },
        {
          "output_type": "display_data",
          "data": {
            "application/vnd.colab-display-data+json": {
              "pip_warning": {
                "packages": [
                  "numpy"
                ]
              }
            }
          },
          "metadata": {
            "tags": []
          }
        }
      ]
    },
    {
      "cell_type": "code",
      "metadata": {
        "id": "VdWOJZNGacdA",
        "colab_type": "code",
        "colab": {
          "base_uri": "https://localhost:8080/",
          "height": 104
        },
        "outputId": "cce0ac92-8ba6-469b-fc22-8fbfc6142552"
      },
      "source": [
        "!pip install rouge==0.3.2"
      ],
      "execution_count": null,
      "outputs": [
        {
          "output_type": "stream",
          "text": [
            "Collecting rouge==0.3.2\n",
            "  Downloading https://files.pythonhosted.org/packages/63/ac/b93411318529980ab7f41e59ed64ec3ffed08ead32389e29eb78585dd55d/rouge-0.3.2-py3-none-any.whl\n",
            "Installing collected packages: rouge\n",
            "Successfully installed rouge-0.3.2\n"
          ],
          "name": "stdout"
        }
      ]
    },
    {
      "cell_type": "markdown",
      "metadata": {
        "id": "GRhnV29ZuQ51",
        "colab_type": "text"
      },
      "source": [
        "This part is just put here to extrace the code"
      ]
    },
    {
      "cell_type": "code",
      "metadata": {
        "id": "kxidFxOQFp_0",
        "colab_type": "code",
        "colab": {}
      },
      "source": [
        "Sum_model_path = \"/content/drive/My Drive/Summarization/\""
      ],
      "execution_count": null,
      "outputs": []
    },
    {
      "cell_type": "code",
      "metadata": {
        "id": "18km2_bsF6mb",
        "colab_type": "code",
        "colab": {}
      },
      "source": [
        "from zipfile import ZipFile\n",
        "with ZipFile(Sum_model_path+'Abstractive-Summarization-of-Meetings-master.zip', 'r') as z:\n",
        "  z.extractall()\n",
        "  #/content/drive/My Drive/Summarization/Abstractive-Summarization-of-Meetings-master.zip"
      ],
      "execution_count": null,
      "outputs": []
    },
    {
      "cell_type": "code",
      "metadata": {
        "id": "MkmEQIPgcVvx",
        "colab_type": "code",
        "colab": {
          "base_uri": "https://localhost:8080/",
          "height": 34
        },
        "outputId": "2deec89e-ec8d-4e0c-eab3-5b6a36ff5436"
      },
      "source": [
        "!ls"
      ],
      "execution_count": null,
      "outputs": [
        {
          "output_type": "stream",
          "text": [
            "drive  sample_data\n"
          ],
          "name": "stdout"
        }
      ]
    },
    {
      "cell_type": "markdown",
      "metadata": {
        "id": "gygDzb-WuP4z",
        "colab_type": "text"
      },
      "source": [
        "Preparation of data\n",
        "/content/drive/My Drive/Summarization/Abstractive-Summarization-of-Meetings-master"
      ]
    },
    {
      "cell_type": "code",
      "metadata": {
        "id": "M7rJtcxhu20H",
        "colab_type": "code",
        "colab": {}
      },
      "source": [
        "import sys\n",
        "sys.path.insert(1, \"/content/drive/My Drive/Summarization/Abstractive-Summarization-of-Meetings-master/\")"
      ],
      "execution_count": null,
      "outputs": []
    },
    {
      "cell_type": "code",
      "metadata": {
        "id": "kvItF1VEwHeP",
        "colab_type": "code",
        "colab": {
          "base_uri": "https://localhost:8080/",
          "height": 87
        },
        "outputId": "e99a80dc-db34-49ee-8241-db42f742af6b"
      },
      "source": [
        "! echo $PYTHONPATH\n",
        "import os\n",
        "os.environ['PYTHONPATH'] += \":/content/drive/My Drive/Summarization/Abstractive-Summarization-of-Meetings-master\"\n",
        "! echo $PYTHONPATH\n",
        "%set_env PYTHONPATH=/content/drive/My Drive/Summarization/Abstractive-Summarization-of-Meetings-master:/env/python"
      ],
      "execution_count": null,
      "outputs": [
        {
          "output_type": "stream",
          "text": [
            "/env/python:/content/drive/My Drive/Summarization/Abstractive-Summarization-of-Meetings-master\n",
            "/env/python:/content/drive/My Drive/Summarization/Abstractive-Summarization-of-Meetings-master:/content/drive/My Drive/Summarization/Abstractive-Summarization-of-Meetings-master\n",
            "env: PYTHONPATH=/content/drive/My Drive/Summarization/Abstractive-Summarization-of-Meetings-master:/env/python\n"
          ],
          "name": "stdout"
        }
      ]
    },
    {
      "cell_type": "code",
      "metadata": {
        "id": "1AlXY1WSfVzC",
        "colab_type": "code",
        "colab": {
          "base_uri": "https://localhost:8080/",
          "height": 195
        },
        "outputId": "7b88d8b4-8733-4bd9-a10b-d4cfb1a058f0"
      },
      "source": [
        "import os\n",
        "os.mkdir(\"./data\")\n",
        "!ls"
      ],
      "execution_count": null,
      "outputs": [
        {
          "output_type": "error",
          "ename": "FileExistsError",
          "evalue": "ignored",
          "traceback": [
            "\u001b[0;31m---------------------------------------------------------------------------\u001b[0m",
            "\u001b[0;31mFileExistsError\u001b[0m                           Traceback (most recent call last)",
            "\u001b[0;32m<ipython-input-7-3c602e9d50ea>\u001b[0m in \u001b[0;36m<module>\u001b[0;34m()\u001b[0m\n\u001b[1;32m      1\u001b[0m \u001b[0;32mimport\u001b[0m \u001b[0mos\u001b[0m\u001b[0;34m\u001b[0m\u001b[0;34m\u001b[0m\u001b[0m\n\u001b[0;32m----> 2\u001b[0;31m \u001b[0mos\u001b[0m\u001b[0;34m.\u001b[0m\u001b[0mmkdir\u001b[0m\u001b[0;34m(\u001b[0m\u001b[0;34m\"./data\"\u001b[0m\u001b[0;34m)\u001b[0m\u001b[0;34m\u001b[0m\u001b[0;34m\u001b[0m\u001b[0m\n\u001b[0m\u001b[1;32m      3\u001b[0m \u001b[0mget_ipython\u001b[0m\u001b[0;34m(\u001b[0m\u001b[0;34m)\u001b[0m\u001b[0;34m.\u001b[0m\u001b[0msystem\u001b[0m\u001b[0;34m(\u001b[0m\u001b[0;34m'ls'\u001b[0m\u001b[0;34m)\u001b[0m\u001b[0;34m\u001b[0m\u001b[0;34m\u001b[0m\u001b[0m\n",
            "\u001b[0;31mFileExistsError\u001b[0m: [Errno 17] File exists: './data'"
          ]
        }
      ]
    },
    {
      "cell_type": "code",
      "metadata": {
        "id": "FZ7lI-xlXcEA",
        "colab_type": "code",
        "colab": {}
      },
      "source": [
        ""
      ],
      "execution_count": null,
      "outputs": []
    },
    {
      "cell_type": "code",
      "metadata": {
        "id": "wvjIcUw5fyWR",
        "colab_type": "code",
        "colab": {}
      },
      "source": [
        "!cp -r \"/content/drive/My Drive/Summarization/Abstractive-Summarization-of-Meetings-master/data\" \"./\"\n"
      ],
      "execution_count": null,
      "outputs": []
    },
    {
      "cell_type": "code",
      "metadata": {
        "id": "H-HCuHkQhtOX",
        "colab_type": "code",
        "colab": {}
      },
      "source": [
        "!cp \"/content/drive/My Drive/Summarization/Abstractive-Summarization-of-Meetings-master/config_data.py\" \"./\""
      ],
      "execution_count": null,
      "outputs": []
    },
    {
      "cell_type": "code",
      "metadata": {
        "id": "4wzmOD1D68gg",
        "colab_type": "code",
        "colab": {}
      },
      "source": [
        "!cp \"/content/drive/My Drive/Summarization/data.train.tsv\" \"/content/drive/My Drive/Summarization/Abstractive-Summarization-of-Meetings-master/data/data.train.tsv\"\n",
        "!cp \"/content/drive/My Drive/Summarization/data.dev.tsv\" \"/content/drive/My Drive/Summarization/Abstractive-Summarization-of-Meetings-master/data/data.dev.tsv\"\n",
        "!cp \"/content/drive/My Drive/Summarization/data.test.tsv\" \"/content/drive/My Drive/Summarization/Abstractive-Summarization-of-Meetings-master/data/data.test.tsv\""
      ],
      "execution_count": null,
      "outputs": []
    },
    {
      "cell_type": "code",
      "metadata": {
        "id": "KQzdOhn9_5Wv",
        "colab_type": "code",
        "colab": {}
      },
      "source": [
        "!cp \"/content/drive/My Drive/Summarization/data.train.tsv\" \"./data/data.train.tsv\"\n",
        "!cp \"/content/drive/My Drive/Summarization/data.dev.tsv\" \"./data/data.dev.tsv\"\n",
        "!cp \"/content/drive/My Drive/Summarization/data.test.tsv\" \"./data/data.test.tsv\""
      ],
      "execution_count": null,
      "outputs": []
    },
    {
      "cell_type": "code",
      "metadata": {
        "id": "HxSPpX0C8lPg",
        "colab_type": "code",
        "colab": {
          "base_uri": "https://localhost:8080/",
          "height": 50
        },
        "outputId": "3a0c87b9-d392-4f3b-9529-958f2e7717c1"
      },
      "source": [
        "!cp \"./outputs/predict.txt\" \"./outputs/predict.org\"\n",
        "!cp \"./outputs/test.txt\" \"./outputs/predict.txt\""
      ],
      "execution_count": null,
      "outputs": [
        {
          "output_type": "stream",
          "text": [
            "cp: cannot stat './outputs/predict.txt': No such file or directory\n",
            "cp: cannot stat './outputs/test.txt': No such file or directory\n"
          ],
          "name": "stdout"
        }
      ]
    },
    {
      "cell_type": "code",
      "metadata": {
        "id": "fBN1QDRGvhGM",
        "colab_type": "code",
        "colab": {}
      },
      "source": [
        "!cp \"/content/drive/My Drive/Summarization/test.story\" \"./data/predict.txt\""
      ],
      "execution_count": null,
      "outputs": []
    },
    {
      "cell_type": "code",
      "metadata": {
        "id": "SxFnzZVX7kci",
        "colab_type": "code",
        "colab": {}
      },
      "source": [
        "!cp -r \"/content/drive/My Drive/Summarization/outputs/outputs\" \"./\""
      ],
      "execution_count": null,
      "outputs": []
    },
    {
      "cell_type": "code",
      "metadata": {
        "id": "8XgXTIJHXezt",
        "colab_type": "code",
        "colab": {
          "base_uri": "https://localhost:8080/",
          "height": 34
        },
        "outputId": "eff619c0-dfc0-4080-aa76-a8fe306c370f"
      },
      "source": [
        "!ls"
      ],
      "execution_count": null,
      "outputs": [
        {
          "output_type": "stream",
          "text": [
            "config_data.py\tdata  drive  sample_data\n"
          ],
          "name": "stdout"
        }
      ]
    },
    {
      "cell_type": "code",
      "metadata": {
        "id": "Zp1JlFrMuaT1",
        "colab_type": "code",
        "colab": {
          "base_uri": "https://localhost:8080/",
          "height": 390
        },
        "outputId": "815a55cd-0d5e-48ba-88f7-192adc332da6"
      },
      "source": [
        "!python \"/content/drive/My Drive/Summarization/Abstractive-Summarization-of-Meetings-master/prepare_data.py\"\n"
      ],
      "execution_count": null,
      "outputs": [
        {
          "output_type": "stream",
          "text": [
            "Loading data\n",
            "num_train_data:300\n",
            "Using cached pre-trained BERT checkpoint from /root/texar_data/BERT/bert-base-uncased.\n",
            "Traceback (most recent call last):\n",
            "  File \"/content/drive/My Drive/Summarization/Abstractive-Summarization-of-Meetings-master/prepare_data.py\", line 100, in <module>\n",
            "    main()\n",
            "  File \"/content/drive/My Drive/Summarization/Abstractive-Summarization-of-Meetings-master/prepare_data.py\", line 94, in main\n",
            "    output_dir=tfrecord_output_dir)\n",
            "  File \"/content/drive/My Drive/Summarization/Abstractive-Summarization-of-Meetings-master/utils/data_utils.py\", line 201, in prepare_TFRecord_data\n",
            "    convert_examples_to_features_and_output_to_files(train_examples, max_seq_length, tokenizer, train_file)\n",
            "  File \"/content/drive/My Drive/Summarization/Abstractive-Summarization-of-Meetings-master/utils/data_utils.py\", line 172, in convert_examples_to_features_and_output_to_files\n",
            "    feature = convert_single_example(ex_index, example, max_seq_length, tokenizer)\n",
            "  File \"/content/drive/My Drive/Summarization/Abstractive-Summarization-of-Meetings-master/utils/data_utils.py\", line 139, in convert_single_example\n",
            "    src_input_ids, src_segment_ids, _ = tokenizer.encode_text(text_a=example.src_text, max_seq_length=max_seq_length)\n",
            "  File \"/usr/local/lib/python3.6/dist-packages/texar/tf/data/tokenizers/bert_tokenizer.py\", line 197, in encode_text\n",
            "    token_ids_a = self.map_text_to_id(text_a)\n",
            "  File \"/usr/local/lib/python3.6/dist-packages/texar/tf/data/tokenizers/tokenizer_base.py\", line 410, in map_text_to_id\n",
            "    return self.map_token_to_id(self.map_text_to_token(text))\n",
            "  File \"/usr/local/lib/python3.6/dist-packages/texar/tf/data/tokenizers/tokenizer_base.py\", line 386, in map_token_to_id\n",
            "    \"errors\".format(len(ids), self.max_len))\n",
            "ValueError: Token indices sequence length is longer than the specified maximum sequence length for this model (739 > 512). Running this sequence through the model will result in indexing errors\n"
          ],
          "name": "stdout"
        }
      ]
    },
    {
      "cell_type": "code",
      "metadata": {
        "id": "tdfVeGKQB_w6",
        "colab_type": "code",
        "colab": {
          "base_uri": "https://localhost:8080/",
          "height": 34
        },
        "outputId": "fac43754-4e50-4de8-9d0e-26a7658aae73"
      },
      "source": [
        "import numpy as np\n",
        "\n",
        "MAX_SEQ_LENGTH = np.iinfo(np.int32).max\n",
        "print(MAX_SEQ_LENGTH)"
      ],
      "execution_count": null,
      "outputs": [
        {
          "output_type": "stream",
          "text": [
            "2147483647\n"
          ],
          "name": "stdout"
        }
      ]
    },
    {
      "cell_type": "code",
      "metadata": {
        "id": "kbnp9diGZWNJ",
        "colab_type": "code",
        "colab": {
          "base_uri": "https://localhost:8080/",
          "height": 1000
        },
        "outputId": "ac2e4c7b-65c5-49cd-f5f6-93c635b6639d"
      },
      "source": [
        "!python \"/content/drive/My Drive/Summarization/Abstractive-Summarization-of-Meetings-master/main.py\" --run_mode=train_and_evaluate"
      ],
      "execution_count": null,
      "outputs": [
        {
          "output_type": "stream",
          "text": [
            "Using cached pre-trained BERT checkpoint from /root/texar_data/BERT/bert-base-uncased.\n",
            "Using cached pre-trained BERT checkpoint from /root/texar_data/BERT/bert-base-uncased.\n",
            "2020-09-04 13:51:58.231192: I tensorflow/stream_executor/platform/default/dso_loader.cc:44] Successfully opened dynamic library libcuda.so.1\n",
            "2020-09-04 13:51:58.294771: I tensorflow/stream_executor/cuda/cuda_gpu_executor.cc:983] successful NUMA node read from SysFS had negative value (-1), but there must be at least one NUMA node, so returning NUMA node zero\n",
            "2020-09-04 13:51:58.295357: I tensorflow/core/common_runtime/gpu/gpu_device.cc:1639] Found device 0 with properties: \n",
            "name: Tesla T4 major: 7 minor: 5 memoryClockRate(GHz): 1.59\n",
            "pciBusID: 0000:00:04.0\n",
            "2020-09-04 13:51:58.295664: I tensorflow/stream_executor/platform/default/dso_loader.cc:44] Successfully opened dynamic library libcudart.so.10.1\n",
            "2020-09-04 13:51:58.493942: I tensorflow/stream_executor/platform/default/dso_loader.cc:44] Successfully opened dynamic library libcublas.so.10\n",
            "2020-09-04 13:51:58.643320: I tensorflow/stream_executor/platform/default/dso_loader.cc:44] Successfully opened dynamic library libcufft.so.10\n",
            "2020-09-04 13:51:58.663025: I tensorflow/stream_executor/platform/default/dso_loader.cc:44] Successfully opened dynamic library libcurand.so.10\n",
            "2020-09-04 13:51:58.948659: I tensorflow/stream_executor/platform/default/dso_loader.cc:44] Successfully opened dynamic library libcusolver.so.10\n",
            "2020-09-04 13:51:58.977179: I tensorflow/stream_executor/platform/default/dso_loader.cc:44] Successfully opened dynamic library libcusparse.so.10\n",
            "2020-09-04 13:51:59.504122: I tensorflow/stream_executor/platform/default/dso_loader.cc:44] Successfully opened dynamic library libcudnn.so.7\n",
            "2020-09-04 13:51:59.504316: I tensorflow/stream_executor/cuda/cuda_gpu_executor.cc:983] successful NUMA node read from SysFS had negative value (-1), but there must be at least one NUMA node, so returning NUMA node zero\n",
            "2020-09-04 13:51:59.504990: I tensorflow/stream_executor/cuda/cuda_gpu_executor.cc:983] successful NUMA node read from SysFS had negative value (-1), but there must be at least one NUMA node, so returning NUMA node zero\n",
            "2020-09-04 13:51:59.505487: I tensorflow/core/common_runtime/gpu/gpu_device.cc:1767] Adding visible gpu devices: 0\n",
            "2020-09-04 13:51:59.544815: I tensorflow/core/platform/profile_utils/cpu_utils.cc:94] CPU Frequency: 2200000000 Hz\n",
            "2020-09-04 13:51:59.545015: I tensorflow/compiler/xla/service/service.cc:168] XLA service 0x1467100 initialized for platform Host (this does not guarantee that XLA will be used). Devices:\n",
            "2020-09-04 13:51:59.545042: I tensorflow/compiler/xla/service/service.cc:176]   StreamExecutor device (0): Host, Default Version\n",
            "2020-09-04 13:51:59.686374: I tensorflow/stream_executor/cuda/cuda_gpu_executor.cc:983] successful NUMA node read from SysFS had negative value (-1), but there must be at least one NUMA node, so returning NUMA node zero\n",
            "2020-09-04 13:51:59.687062: I tensorflow/compiler/xla/service/service.cc:168] XLA service 0x1466f40 initialized for platform CUDA (this does not guarantee that XLA will be used). Devices:\n",
            "2020-09-04 13:51:59.687092: I tensorflow/compiler/xla/service/service.cc:176]   StreamExecutor device (0): Tesla T4, Compute Capability 7.5\n",
            "2020-09-04 13:51:59.688176: I tensorflow/stream_executor/cuda/cuda_gpu_executor.cc:983] successful NUMA node read from SysFS had negative value (-1), but there must be at least one NUMA node, so returning NUMA node zero\n",
            "2020-09-04 13:51:59.688793: I tensorflow/core/common_runtime/gpu/gpu_device.cc:1639] Found device 0 with properties: \n",
            "name: Tesla T4 major: 7 minor: 5 memoryClockRate(GHz): 1.59\n",
            "pciBusID: 0000:00:04.0\n",
            "2020-09-04 13:51:59.688871: I tensorflow/stream_executor/platform/default/dso_loader.cc:44] Successfully opened dynamic library libcudart.so.10.1\n",
            "2020-09-04 13:51:59.688894: I tensorflow/stream_executor/platform/default/dso_loader.cc:44] Successfully opened dynamic library libcublas.so.10\n",
            "2020-09-04 13:51:59.688914: I tensorflow/stream_executor/platform/default/dso_loader.cc:44] Successfully opened dynamic library libcufft.so.10\n",
            "2020-09-04 13:51:59.688931: I tensorflow/stream_executor/platform/default/dso_loader.cc:44] Successfully opened dynamic library libcurand.so.10\n",
            "2020-09-04 13:51:59.688953: I tensorflow/stream_executor/platform/default/dso_loader.cc:44] Successfully opened dynamic library libcusolver.so.10\n",
            "2020-09-04 13:51:59.688984: I tensorflow/stream_executor/platform/default/dso_loader.cc:44] Successfully opened dynamic library libcusparse.so.10\n",
            "2020-09-04 13:51:59.689004: I tensorflow/stream_executor/platform/default/dso_loader.cc:44] Successfully opened dynamic library libcudnn.so.7\n",
            "2020-09-04 13:51:59.689082: I tensorflow/stream_executor/cuda/cuda_gpu_executor.cc:983] successful NUMA node read from SysFS had negative value (-1), but there must be at least one NUMA node, so returning NUMA node zero\n",
            "2020-09-04 13:51:59.689615: I tensorflow/stream_executor/cuda/cuda_gpu_executor.cc:983] successful NUMA node read from SysFS had negative value (-1), but there must be at least one NUMA node, so returning NUMA node zero\n",
            "2020-09-04 13:51:59.690114: I tensorflow/core/common_runtime/gpu/gpu_device.cc:1767] Adding visible gpu devices: 0\n",
            "2020-09-04 13:51:59.693163: I tensorflow/stream_executor/platform/default/dso_loader.cc:44] Successfully opened dynamic library libcudart.so.10.1\n",
            "2020-09-04 13:51:59.694577: I tensorflow/core/common_runtime/gpu/gpu_device.cc:1180] Device interconnect StreamExecutor with strength 1 edge matrix:\n",
            "2020-09-04 13:51:59.694606: I tensorflow/core/common_runtime/gpu/gpu_device.cc:1186]      0 \n",
            "2020-09-04 13:51:59.694617: I tensorflow/core/common_runtime/gpu/gpu_device.cc:1199] 0:   N \n",
            "2020-09-04 13:51:59.695522: I tensorflow/stream_executor/cuda/cuda_gpu_executor.cc:983] successful NUMA node read from SysFS had negative value (-1), but there must be at least one NUMA node, so returning NUMA node zero\n",
            "2020-09-04 13:51:59.696122: I tensorflow/stream_executor/cuda/cuda_gpu_executor.cc:983] successful NUMA node read from SysFS had negative value (-1), but there must be at least one NUMA node, so returning NUMA node zero\n",
            "2020-09-04 13:51:59.696620: W tensorflow/core/common_runtime/gpu/gpu_bfc_allocator.cc:39] Overriding allow_growth setting because the TF_FORCE_GPU_ALLOW_GROWTH environment variable is set. Original config value was 0.\n",
            "2020-09-04 13:51:59.696660: I tensorflow/core/common_runtime/gpu/gpu_device.cc:1325] Created TensorFlow device (/job:localhost/replica:0/task:0/device:GPU:0 with 14221 MB memory) -> physical GPU (device: 0, name: Tesla T4, pci bus id: 0000:00:04.0, compute capability: 7.5)\n",
            "Begin running with train_and_evaluate mode\n",
            "Start epoch 0\n",
            "2020-09-04 13:52:28.637726: I tensorflow/stream_executor/platform/default/dso_loader.cc:44] Successfully opened dynamic library libcublas.so.10\n",
            "[2020-09-04 13:52:31] step: 0, loss: 11.5071\n",
            "[2020-09-04 13:52:40] step: 10, loss: 11.4696\n",
            "[2020-09-04 13:52:49] step: 20, loss: 11.2731\n",
            "[2020-09-04 13:52:58] step: 30, loss: 10.7167\n",
            "[2020-09-04 13:53:08] step: 40, loss: 10.6269\n",
            "[2020-09-04 13:53:17] step: 50, loss: 10.2092\n",
            "[2020-09-04 13:53:27] step: 60, loss: 9.6969\n",
            "Start epoch 1\n",
            "[2020-09-04 13:53:36] step: 70, loss: 9.4155\n",
            "Starting eval\n",
            "┌─────────┬────────┬────────┬────────┐\n",
            "│ Metric  │ Pre    │ Rec    │ F      │\n",
            "├─────────┼────────┼────────┼────────┤\n",
            "│ ROUGE-1 │ 0.0000 │ 0.0000 │ 0.0000 │\n",
            "│ ROUGE-2 │ 0.0000 │ 0.0000 │ 0.0000 │\n",
            "│ ROUGE-L │ 0.0000 │ 0.0000 │ 0.0000 │\n",
            "└─────────┴────────┴────────┴────────┘\n",
            "epoch: 1, bleu_score 0.0000\n",
            "saving model to ./outputs/best-model.ckpt\n",
            "[2020-09-04 13:55:37] step: 80, loss: 9.2700\n",
            "[2020-09-04 13:55:47] step: 90, loss: 8.8712\n",
            "[2020-09-04 13:55:57] step: 100, loss: 8.6389\n",
            "[2020-09-04 13:56:07] step: 110, loss: 8.4712\n",
            "[2020-09-04 13:56:17] step: 120, loss: 8.2293\n",
            "Start epoch 2\n",
            "[2020-09-04 13:56:27] step: 130, loss: 8.0189\n",
            "[2020-09-04 13:56:38] step: 140, loss: 7.9253\n",
            "[2020-09-04 13:56:48] step: 150, loss: 7.7367\n",
            "Starting eval\n",
            "┌─────────┬────────┬────────┬────────┐\n",
            "│ Metric  │ Pre    │ Rec    │ F      │\n",
            "├─────────┼────────┼────────┼────────┤\n",
            "│ ROUGE-1 │ 0.8429 │ 0.0878 │ 0.1547 │\n",
            "│ ROUGE-2 │ 0.0086 │ 0.0010 │ 0.0018 │\n",
            "│ ROUGE-L │ 0.8114 │ 0.0837 │ 0.0854 │\n",
            "└─────────┴────────┴────────┴────────┘\n",
            "epoch: 2, bleu_score 0.0002\n",
            "saving model to ./outputs/best-model.ckpt\n",
            "[2020-09-04 13:58:47] step: 160, loss: 7.6747\n",
            "[2020-09-04 13:58:57] step: 170, loss: 7.6153\n",
            "[2020-09-04 13:59:08] step: 180, loss: 7.6469\n",
            "Start epoch 3\n",
            "[2020-09-04 13:59:19] step: 190, loss: 7.3692\n",
            "[2020-09-04 13:59:29] step: 200, loss: 7.4739\n",
            "[2020-09-04 13:59:39] step: 210, loss: 7.2594\n",
            "[2020-09-04 13:59:50] step: 220, loss: 7.2211\n",
            "Starting eval\n",
            "┌─────────┬────────┬────────┬────────┐\n",
            "│ Metric  │ Pre    │ Rec    │ F      │\n",
            "├─────────┼────────┼────────┼────────┤\n",
            "│ ROUGE-1 │ 0.3957 │ 0.0294 │ 0.0539 │\n",
            "│ ROUGE-2 │ 0.0000 │ 0.0000 │ 0.0000 │\n",
            "│ ROUGE-L │ 0.3957 │ 0.0294 │ 0.0297 │\n",
            "└─────────┴────────┴────────┴────────┘\n",
            "epoch: 3, bleu_score 0.0000\n",
            "[2020-09-04 14:01:22] step: 230, loss: 7.1040\n",
            "[2020-09-04 14:01:32] step: 240, loss: 7.2100\n",
            "Start epoch 4\n",
            "[2020-09-04 14:01:43] step: 250, loss: 6.7283\n",
            "[2020-09-04 14:01:53] step: 260, loss: 6.9123\n",
            "[2020-09-04 14:02:03] step: 270, loss: 7.0820\n",
            "[2020-09-04 14:02:14] step: 280, loss: 6.8412\n",
            "[2020-09-04 14:02:24] step: 290, loss: 6.6185\n",
            "[2020-09-04 14:02:35] step: 300, loss: 6.8720\n",
            "Starting eval\n",
            "┌─────────┬────────┬────────┬────────┐\n",
            "│ Metric  │ Pre    │ Rec    │ F      │\n",
            "├─────────┼────────┼────────┼────────┤\n",
            "│ ROUGE-1 │ 0.5938 │ 0.1136 │ 0.1831 │\n",
            "│ ROUGE-2 │ 0.1253 │ 0.0297 │ 0.0441 │\n",
            "│ ROUGE-L │ 0.5902 │ 0.1127 │ 0.1181 │\n",
            "└─────────┴────────┴────────┴────────┘\n",
            "epoch: 4, bleu_score 0.0008\n",
            "saving model to ./outputs/best-model.ckpt\n",
            "Start epoch 5\n",
            "[2020-09-04 14:04:35] step: 310, loss: 6.3332\n",
            "[2020-09-04 14:04:45] step: 320, loss: 6.6537\n",
            "[2020-09-04 14:04:56] step: 330, loss: 6.6335\n",
            "[2020-09-04 14:05:06] step: 340, loss: 6.2866\n",
            "[2020-09-04 14:05:17] step: 350, loss: 6.3337\n",
            "[2020-09-04 14:05:27] step: 360, loss: 6.6352\n",
            "Start epoch 6\n",
            "[2020-09-04 14:05:37] step: 370, loss: 6.2460\n",
            "Starting eval\n",
            "┌─────────┬────────┬────────┬────────┐\n",
            "│ Metric  │ Pre    │ Rec    │ F      │\n",
            "├─────────┼────────┼────────┼────────┤\n",
            "│ ROUGE-1 │ 0.5467 │ 0.1509 │ 0.2235 │\n",
            "│ ROUGE-2 │ 0.1247 │ 0.0498 │ 0.0647 │\n",
            "│ ROUGE-L │ 0.5193 │ 0.1448 │ 0.1552 │\n",
            "└─────────┴────────┴────────┴────────┘\n",
            "epoch: 6, bleu_score 0.0019\n",
            "saving model to ./outputs/best-model.ckpt\n",
            "[2020-09-04 14:07:38] step: 380, loss: 6.1104\n",
            "[2020-09-04 14:07:48] step: 390, loss: 6.1278\n",
            "[2020-09-04 14:07:59] step: 400, loss: 6.2654\n",
            "[2020-09-04 14:08:10] step: 410, loss: 5.8459\n",
            "[2020-09-04 14:08:20] step: 420, loss: 6.0474\n",
            "Start epoch 7\n",
            "[2020-09-04 14:08:31] step: 430, loss: 6.0591\n",
            "[2020-09-04 14:08:41] step: 440, loss: 5.7745\n",
            "[2020-09-04 14:08:51] step: 450, loss: 5.6241\n",
            "Starting eval\n",
            "┌─────────┬────────┬────────┬────────┐\n",
            "│ Metric  │ Pre    │ Rec    │ F      │\n",
            "├─────────┼────────┼────────┼────────┤\n",
            "│ ROUGE-1 │ 0.4902 │ 0.1593 │ 0.2292 │\n",
            "│ ROUGE-2 │ 0.1754 │ 0.0607 │ 0.0847 │\n",
            "│ ROUGE-L │ 0.4828 │ 0.1566 │ 0.1686 │\n",
            "└─────────┴────────┴────────┴────────┘\n",
            "epoch: 7, bleu_score 0.0152\n",
            "saving model to ./outputs/best-model.ckpt\n",
            "[2020-09-04 14:10:50] step: 460, loss: 5.7404\n",
            "[2020-09-04 14:11:00] step: 470, loss: 5.6046\n",
            "[2020-09-04 14:11:11] step: 480, loss: 5.8851\n",
            "Start epoch 8\n",
            "[2020-09-04 14:11:22] step: 490, loss: 5.4958\n",
            "[2020-09-04 14:11:32] step: 500, loss: 5.4963\n",
            "[2020-09-04 14:11:42] step: 510, loss: 5.5583\n",
            "[2020-09-04 14:11:53] step: 520, loss: 5.3936\n",
            "Starting eval\n",
            "┌─────────┬────────┬────────┬────────┐\n",
            "│ Metric  │ Pre    │ Rec    │ F      │\n",
            "├─────────┼────────┼────────┼────────┤\n",
            "│ ROUGE-1 │ 0.4366 │ 0.1990 │ 0.2614 │\n",
            "│ ROUGE-2 │ 0.1795 │ 0.0801 │ 0.1050 │\n",
            "│ ROUGE-L │ 0.4176 │ 0.1899 │ 0.2055 │\n",
            "└─────────┴────────┴────────┴────────┘\n",
            "epoch: 8, bleu_score 0.0312\n",
            "saving model to ./outputs/best-model.ckpt\n",
            "[2020-09-04 14:12:50] step: 530, loss: 5.5952\n",
            "[2020-09-04 14:13:00] step: 540, loss: 5.4309\n",
            "Start epoch 9\n",
            "[2020-09-04 14:13:11] step: 550, loss: 5.1457\n",
            "[2020-09-04 14:13:22] step: 560, loss: 4.9888\n",
            "[2020-09-04 14:13:32] step: 570, loss: 5.4091\n",
            "[2020-09-04 14:13:42] step: 580, loss: 4.9882\n",
            "[2020-09-04 14:13:53] step: 590, loss: 5.1694\n",
            "[2020-09-04 14:14:03] step: 600, loss: 5.7291\n",
            "Starting eval\n",
            "┌─────────┬────────┬────────┬────────┐\n",
            "│ Metric  │ Pre    │ Rec    │ F      │\n",
            "├─────────┼────────┼────────┼────────┤\n",
            "│ ROUGE-1 │ 0.4514 │ 0.2005 │ 0.2665 │\n",
            "│ ROUGE-2 │ 0.2151 │ 0.0936 │ 0.1242 │\n",
            "│ ROUGE-L │ 0.4345 │ 0.1935 │ 0.2097 │\n",
            "└─────────┴────────┴────────┴────────┘\n",
            "epoch: 9, bleu_score 0.0353\n",
            "saving model to ./outputs/best-model.ckpt\n",
            "Start epoch 10\n",
            "[2020-09-04 14:14:57] step: 610, loss: 4.8517\n",
            "[2020-09-04 14:15:07] step: 620, loss: 5.1178\n",
            "[2020-09-04 14:15:18] step: 630, loss: 5.1321\n",
            "[2020-09-04 14:15:29] step: 640, loss: 4.9587\n",
            "[2020-09-04 14:15:39] step: 650, loss: 5.1911\n",
            "[2020-09-04 14:15:49] step: 660, loss: 5.4006\n",
            "[2020-09-04 14:16:00] step: 670, loss: 5.2632\n",
            "Start epoch 11\n",
            "Starting eval\n",
            "┌─────────┬────────┬────────┬────────┐\n",
            "│ Metric  │ Pre    │ Rec    │ F      │\n",
            "├─────────┼────────┼────────┼────────┤\n",
            "│ ROUGE-1 │ 0.3802 │ 0.2072 │ 0.2563 │\n",
            "│ ROUGE-2 │ 0.1733 │ 0.0888 │ 0.1108 │\n",
            "│ ROUGE-L │ 0.3667 │ 0.1991 │ 0.2124 │\n",
            "└─────────┴────────┴────────┴────────┘\n",
            "epoch: 11, bleu_score 0.0415\n",
            "saving model to ./outputs/best-model.ckpt\n",
            "[2020-09-04 14:16:57] step: 680, loss: 4.6542\n",
            "[2020-09-04 14:17:07] step: 690, loss: 4.9154\n",
            "[2020-09-04 14:17:18] step: 700, loss: 4.8441\n",
            "[2020-09-04 14:17:29] step: 710, loss: 4.6891\n",
            "[2020-09-04 14:17:39] step: 720, loss: 4.8974\n",
            "[2020-09-04 14:17:50] step: 730, loss: 5.2386\n",
            "Start epoch 12\n",
            "[2020-09-04 14:18:00] step: 740, loss: 4.3315\n",
            "[2020-09-04 14:18:10] step: 750, loss: 4.7870\n",
            "Starting eval\n",
            "┌─────────┬────────┬────────┬────────┐\n",
            "│ Metric  │ Pre    │ Rec    │ F      │\n",
            "├─────────┼────────┼────────┼────────┤\n",
            "│ ROUGE-1 │ 0.4092 │ 0.2221 │ 0.2754 │\n",
            "│ ROUGE-2 │ 0.1859 │ 0.0960 │ 0.1198 │\n",
            "│ ROUGE-L │ 0.3908 │ 0.2121 │ 0.2266 │\n",
            "└─────────┴────────┴────────┴────────┘\n",
            "epoch: 12, bleu_score 0.0473\n",
            "saving model to ./outputs/best-model.ckpt\n",
            "[2020-09-04 14:19:12] step: 760, loss: 4.6133\n",
            "[2020-09-04 14:19:22] step: 770, loss: 4.8075\n",
            "[2020-09-04 14:19:33] step: 780, loss: 4.7338\n",
            "[2020-09-04 14:19:44] step: 790, loss: 4.9362\n",
            "Start epoch 13\n",
            "[2020-09-04 14:19:54] step: 800, loss: 4.3879\n",
            "[2020-09-04 14:20:04] step: 810, loss: 4.2550\n",
            "[2020-09-04 14:20:15] step: 820, loss: 4.8576\n",
            "Starting eval\n",
            "┌─────────┬────────┬────────┬────────┐\n",
            "│ Metric  │ Pre    │ Rec    │ F      │\n",
            "├─────────┼────────┼────────┼────────┤\n",
            "│ ROUGE-1 │ 0.4188 │ 0.2354 │ 0.2879 │\n",
            "│ ROUGE-2 │ 0.2028 │ 0.1113 │ 0.1359 │\n",
            "│ ROUGE-L │ 0.3997 │ 0.2246 │ 0.2390 │\n",
            "└─────────┴────────┴────────┴────────┘\n",
            "epoch: 13, bleu_score 0.0558\n",
            "saving model to ./outputs/best-model.ckpt\n",
            "[2020-09-04 14:21:23] step: 830, loss: 4.3719\n",
            "[2020-09-04 14:21:33] step: 840, loss: 4.3853\n",
            "[2020-09-04 14:21:44] step: 850, loss: 4.6514\n",
            "Start epoch 14\n",
            "[2020-09-04 14:21:55] step: 860, loss: 4.0257\n",
            "[2020-09-04 14:22:05] step: 870, loss: 4.3229\n",
            "[2020-09-04 14:22:15] step: 880, loss: 4.4606\n",
            "[2020-09-04 14:22:26] step: 890, loss: 4.3334\n",
            "[2020-09-04 14:22:36] step: 900, loss: 4.1257\n",
            "Starting eval\n",
            "┌─────────┬────────┬────────┬────────┐\n",
            "│ Metric  │ Pre    │ Rec    │ F      │\n",
            "├─────────┼────────┼────────┼────────┤\n",
            "│ ROUGE-1 │ 0.4254 │ 0.2438 │ 0.2960 │\n",
            "│ ROUGE-2 │ 0.2051 │ 0.1175 │ 0.1411 │\n",
            "│ ROUGE-L │ 0.4038 │ 0.2318 │ 0.2457 │\n",
            "└─────────┴────────┴────────┴────────┘\n",
            "epoch: 14, bleu_score 0.0564\n",
            "saving model to ./outputs/best-model.ckpt\n",
            "[2020-09-04 14:23:44] step: 910, loss: 4.7966\n",
            "Start epoch 15\n",
            "[2020-09-04 14:23:54] step: 920, loss: 4.2994\n",
            "[2020-09-04 14:24:05] step: 930, loss: 4.1029\n",
            "[2020-09-04 14:24:16] step: 940, loss: 4.2216\n",
            "[2020-09-04 14:24:26] step: 950, loss: 4.4353\n",
            "[2020-09-04 14:24:36] step: 960, loss: 3.9841\n",
            "[2020-09-04 14:24:47] step: 970, loss: 4.4330\n",
            "Starting eval\n",
            "┌─────────┬────────┬────────┬────────┐\n",
            "│ Metric  │ Pre    │ Rec    │ F      │\n",
            "├─────────┼────────┼────────┼────────┤\n",
            "│ ROUGE-1 │ 0.4234 │ 0.2692 │ 0.3140 │\n",
            "│ ROUGE-2 │ 0.1995 │ 0.1262 │ 0.1458 │\n",
            "│ ROUGE-L │ 0.4014 │ 0.2560 │ 0.2665 │\n",
            "└─────────┴────────┴────────┴────────┘\n",
            "epoch: 15, bleu_score 0.0701\n",
            "saving model to ./outputs/best-model.ckpt\n",
            "Start epoch 16\n",
            "[2020-09-04 14:26:00] step: 980, loss: 3.8312\n",
            "[2020-09-04 14:26:10] step: 990, loss: 4.0602\n",
            "[2020-09-04 14:26:21] step: 1000, loss: 4.1513\n",
            "[2020-09-04 14:26:31] step: 1010, loss: 4.4380\n",
            "[2020-09-04 14:26:42] step: 1020, loss: 3.8606\n",
            "[2020-09-04 14:26:52] step: 1030, loss: 4.2232\n",
            "Start epoch 17\n",
            "[2020-09-04 14:27:02] step: 1040, loss: 3.8605\n",
            "[2020-09-04 14:27:13] step: 1050, loss: 4.1245\n",
            "Starting eval\n",
            "┌─────────┬────────┬────────┬────────┐\n",
            "│ Metric  │ Pre    │ Rec    │ F      │\n",
            "├─────────┼────────┼────────┼────────┤\n",
            "│ ROUGE-1 │ 0.4305 │ 0.2721 │ 0.3184 │\n",
            "│ ROUGE-2 │ 0.2007 │ 0.1244 │ 0.1448 │\n",
            "│ ROUGE-L │ 0.4037 │ 0.2566 │ 0.2669 │\n",
            "└─────────┴────────┴────────┴────────┘\n",
            "epoch: 17, bleu_score 0.0676\n",
            "[2020-09-04 14:27:56] step: 1060, loss: 3.7890\n",
            "[2020-09-04 14:28:07] step: 1070, loss: 3.9653\n",
            "[2020-09-04 14:28:17] step: 1080, loss: 3.9535\n",
            "[2020-09-04 14:28:27] step: 1090, loss: 4.3076\n",
            "Start epoch 18\n",
            "[2020-09-04 14:28:38] step: 1100, loss: 3.9614\n",
            "[2020-09-04 14:28:48] step: 1110, loss: 3.8842\n",
            "[2020-09-04 14:28:59] step: 1120, loss: 3.6112\n",
            "Starting eval\n",
            "┌─────────┬────────┬────────┬────────┐\n",
            "│ Metric  │ Pre    │ Rec    │ F      │\n",
            "├─────────┼────────┼────────┼────────┤\n",
            "│ ROUGE-1 │ 0.4214 │ 0.2645 │ 0.3099 │\n",
            "│ ROUGE-2 │ 0.1953 │ 0.1229 │ 0.1419 │\n",
            "│ ROUGE-L │ 0.3975 │ 0.2512 │ 0.2615 │\n",
            "└─────────┴────────┴────────┴────────┘\n",
            "epoch: 18, bleu_score 0.0601\n",
            "[2020-09-04 14:29:32] step: 1130, loss: 3.7433\n",
            "[2020-09-04 14:29:43] step: 1140, loss: 3.9831\n",
            "[2020-09-04 14:29:53] step: 1150, loss: 4.1283\n",
            "Start epoch 19\n",
            "[2020-09-04 14:30:03] step: 1160, loss: 3.9381\n",
            "[2020-09-04 14:30:14] step: 1170, loss: 3.6775\n",
            "[2020-09-04 14:30:24] step: 1180, loss: 3.6705\n",
            "[2020-09-04 14:30:34] step: 1190, loss: 3.4509\n",
            "[2020-09-04 14:30:45] step: 1200, loss: 3.8229\n",
            "Starting eval\n",
            "┌─────────┬────────┬────────┬────────┐\n",
            "│ Metric  │ Pre    │ Rec    │ F      │\n",
            "├─────────┼────────┼────────┼────────┤\n",
            "│ ROUGE-1 │ 0.4250 │ 0.2787 │ 0.3205 │\n",
            "│ ROUGE-2 │ 0.1967 │ 0.1306 │ 0.1486 │\n",
            "│ ROUGE-L │ 0.4031 │ 0.2665 │ 0.2747 │\n",
            "└─────────┴────────┴────────┴────────┘\n",
            "epoch: 19, bleu_score 0.0685\n",
            "[2020-09-04 14:31:17] step: 1210, loss: 3.8939\n",
            "Start epoch 20\n",
            "[2020-09-04 14:31:27] step: 1220, loss: 3.6990\n",
            "[2020-09-04 14:31:38] step: 1230, loss: 3.5914\n",
            "[2020-09-04 14:31:48] step: 1240, loss: 3.8663\n",
            "[2020-09-04 14:31:58] step: 1250, loss: 3.3669\n",
            "[2020-09-04 14:32:09] step: 1260, loss: 3.7194\n",
            "[2020-09-04 14:32:19] step: 1270, loss: 3.7750\n",
            "Starting eval\n",
            "┌─────────┬────────┬────────┬────────┐\n",
            "│ Metric  │ Pre    │ Rec    │ F      │\n",
            "├─────────┼────────┼────────┼────────┤\n",
            "│ ROUGE-1 │ 0.4228 │ 0.2845 │ 0.3227 │\n",
            "│ ROUGE-2 │ 0.2034 │ 0.1360 │ 0.1530 │\n",
            "│ ROUGE-L │ 0.3952 │ 0.2671 │ 0.2719 │\n",
            "└─────────┴────────┴────────┴────────┘\n",
            "epoch: 20, bleu_score 0.0701\n",
            "[2020-09-04 14:32:56] step: 1280, loss: 3.8593\n",
            "Start epoch 21\n",
            "[2020-09-04 14:33:06] step: 1290, loss: 3.0798\n",
            "[2020-09-04 14:33:17] step: 1300, loss: 3.3203\n",
            "[2020-09-04 14:33:27] step: 1310, loss: 3.5735\n",
            "[2020-09-04 14:33:37] step: 1320, loss: 3.4483\n",
            "[2020-09-04 14:33:48] step: 1330, loss: 3.5609\n",
            "[2020-09-04 14:33:58] step: 1340, loss: 3.7862\n",
            "Start epoch 22\n",
            "[2020-09-04 14:34:08] step: 1350, loss: 3.1127\n",
            "Starting eval\n",
            "┌─────────┬────────┬────────┬────────┐\n",
            "│ Metric  │ Pre    │ Rec    │ F      │\n",
            "├─────────┼────────┼────────┼────────┤\n",
            "│ ROUGE-1 │ 0.4190 │ 0.2894 │ 0.3260 │\n",
            "│ ROUGE-2 │ 0.1978 │ 0.1368 │ 0.1521 │\n",
            "│ ROUGE-L │ 0.3919 │ 0.2722 │ 0.2778 │\n",
            "└─────────┴────────┴────────┴────────┘\n",
            "epoch: 22, bleu_score 0.0690\n",
            "[2020-09-04 14:34:37] step: 1360, loss: 3.3754\n",
            "[2020-09-04 14:34:48] step: 1370, loss: 3.6721\n",
            "[2020-09-04 14:34:58] step: 1380, loss: 3.3405\n",
            "[2020-09-04 14:35:08] step: 1390, loss: 3.1730\n",
            "[2020-09-04 14:35:19] step: 1400, loss: 3.7815\n",
            "Start epoch 23\n",
            "[2020-09-04 14:35:29] step: 1410, loss: 3.0496\n",
            "[2020-09-04 14:35:39] step: 1420, loss: 3.2666\n",
            "Starting eval\n",
            "┌─────────┬────────┬────────┬────────┐\n",
            "│ Metric  │ Pre    │ Rec    │ F      │\n",
            "├─────────┼────────┼────────┼────────┤\n",
            "│ ROUGE-1 │ 0.3995 │ 0.2821 │ 0.3135 │\n",
            "│ ROUGE-2 │ 0.1901 │ 0.1352 │ 0.1482 │\n",
            "│ ROUGE-L │ 0.3708 │ 0.2646 │ 0.2661 │\n",
            "└─────────┴────────┴────────┴────────┘\n",
            "epoch: 23, bleu_score 0.0662\n",
            "[2020-09-04 14:36:13] step: 1430, loss: 3.4526\n",
            "[2020-09-04 14:36:24] step: 1440, loss: 3.2440\n",
            "[2020-09-04 14:36:34] step: 1450, loss: 3.0862\n",
            "[2020-09-04 14:36:44] step: 1460, loss: 3.5811\n",
            "Start epoch 24\n",
            "[2020-09-04 14:36:55] step: 1470, loss: 2.9786\n",
            "[2020-09-04 14:37:05] step: 1480, loss: 3.0327\n",
            "[2020-09-04 14:37:15] step: 1490, loss: 3.2354\n",
            "[2020-09-04 14:37:26] step: 1500, loss: 3.0013\n",
            "Starting eval\n",
            "┌─────────┬────────┬────────┬────────┐\n",
            "│ Metric  │ Pre    │ Rec    │ F      │\n",
            "├─────────┼────────┼────────┼────────┤\n",
            "│ ROUGE-1 │ 0.4176 │ 0.2926 │ 0.3277 │\n",
            "│ ROUGE-2 │ 0.2056 │ 0.1455 │ 0.1604 │\n",
            "│ ROUGE-L │ 0.3920 │ 0.2776 │ 0.2814 │\n",
            "└─────────┴────────┴────────┴────────┘\n",
            "epoch: 24, bleu_score 0.0764\n",
            "saving model to ./outputs/best-model.ckpt\n",
            "[2020-09-04 14:38:21] step: 1510, loss: 2.9609\n",
            "[2020-09-04 14:38:32] step: 1520, loss: 3.4822\n",
            "Start epoch 25\n",
            "[2020-09-04 14:38:43] step: 1530, loss: 2.9517\n",
            "[2020-09-04 14:38:53] step: 1540, loss: 3.2108\n",
            "[2020-09-04 14:39:04] step: 1550, loss: 3.0654\n",
            "[2020-09-04 14:39:14] step: 1560, loss: 3.1756\n",
            "[2020-09-04 14:39:24] step: 1570, loss: 2.8955\n",
            "Starting eval\n",
            "┌─────────┬────────┬────────┬────────┐\n",
            "│ Metric  │ Pre    │ Rec    │ F      │\n",
            "├─────────┼────────┼────────┼────────┤\n",
            "│ ROUGE-1 │ 0.4009 │ 0.2967 │ 0.3249 │\n",
            "│ ROUGE-2 │ 0.1891 │ 0.1416 │ 0.1528 │\n",
            "│ ROUGE-L │ 0.3736 │ 0.2772 │ 0.2781 │\n",
            "└─────────┴────────┴────────┴────────┘\n",
            "epoch: 25, bleu_score 0.0736\n",
            "[2020-09-04 14:39:58] step: 1580, loss: 3.3400\n",
            "Start epoch 26\n",
            "[2020-09-04 14:40:08] step: 1590, loss: 2.9393\n",
            "[2020-09-04 14:40:19] step: 1600, loss: 3.0269\n",
            "[2020-09-04 14:40:29] step: 1610, loss: 2.9229\n",
            "[2020-09-04 14:40:40] step: 1620, loss: 3.2798\n",
            "[2020-09-04 14:40:50] step: 1630, loss: 3.1133\n",
            "[2020-09-04 14:41:00] step: 1640, loss: 3.2839\n",
            "Start epoch 27\n",
            "[2020-09-04 14:41:11] step: 1650, loss: 2.8539\n",
            "Starting eval\n",
            "┌─────────┬────────┬────────┬────────┐\n",
            "│ Metric  │ Pre    │ Rec    │ F      │\n",
            "├─────────┼────────┼────────┼────────┤\n",
            "│ ROUGE-1 │ 0.3972 │ 0.2994 │ 0.3242 │\n",
            "│ ROUGE-2 │ 0.1822 │ 0.1399 │ 0.1497 │\n",
            "│ ROUGE-L │ 0.3686 │ 0.2785 │ 0.2762 │\n",
            "└─────────┴────────┴────────┴────────┘\n",
            "epoch: 27, bleu_score 0.0774\n",
            "saving model to ./outputs/best-model.ckpt\n",
            "[2020-09-04 14:42:11] step: 1660, loss: 3.0319\n",
            "[2020-09-04 14:42:21] step: 1670, loss: 2.6099\n",
            "[2020-09-04 14:42:32] step: 1680, loss: 3.1136\n",
            "[2020-09-04 14:42:43] step: 1690, loss: 2.9405\n",
            "[2020-09-04 14:42:53] step: 1700, loss: 2.9926\n",
            "Start epoch 28\n",
            "[2020-09-04 14:43:03] step: 1710, loss: 2.7787\n",
            "[2020-09-04 14:43:14] step: 1720, loss: 2.7939\n",
            "Starting eval\n",
            "┌─────────┬────────┬────────┬────────┐\n",
            "│ Metric  │ Pre    │ Rec    │ F      │\n",
            "├─────────┼────────┼────────┼────────┤\n",
            "│ ROUGE-1 │ 0.3875 │ 0.3012 │ 0.3230 │\n",
            "│ ROUGE-2 │ 0.1788 │ 0.1439 │ 0.1509 │\n",
            "│ ROUGE-L │ 0.3584 │ 0.2797 │ 0.2766 │\n",
            "└─────────┴────────┴────────┴────────┘\n",
            "epoch: 28, bleu_score 0.0791\n",
            "saving model to ./outputs/best-model.ckpt\n",
            "[2020-09-04 14:44:19] step: 1730, loss: 2.5479\n",
            "[2020-09-04 14:44:30] step: 1740, loss: 2.6945\n",
            "[2020-09-04 14:44:40] step: 1750, loss: 2.7485\n",
            "[2020-09-04 14:44:51] step: 1760, loss: 2.9320\n",
            "Start epoch 29\n",
            "[2020-09-04 14:45:02] step: 1770, loss: 2.6330\n",
            "[2020-09-04 14:45:12] step: 1780, loss: 2.5644\n",
            "[2020-09-04 14:45:22] step: 1790, loss: 2.6193\n",
            "[2020-09-04 14:45:33] step: 1800, loss: 2.6478\n",
            "Starting eval\n",
            "┌─────────┬────────┬────────┬────────┐\n",
            "│ Metric  │ Pre    │ Rec    │ F      │\n",
            "├─────────┼────────┼────────┼────────┤\n",
            "│ ROUGE-1 │ 0.3991 │ 0.3113 │ 0.3342 │\n",
            "│ ROUGE-2 │ 0.1849 │ 0.1464 │ 0.1553 │\n",
            "│ ROUGE-L │ 0.3666 │ 0.2874 │ 0.2849 │\n",
            "└─────────┴────────┴────────┴────────┘\n",
            "epoch: 29, bleu_score 0.0800\n",
            "saving model to ./outputs/best-model.ckpt\n",
            "[2020-09-04 14:46:31] step: 1810, loss: 2.8211\n",
            "[2020-09-04 14:46:42] step: 1820, loss: 2.7760\n",
            "Start epoch 30\n",
            "[2020-09-04 14:46:52] step: 1830, loss: 2.4227\n",
            "[2020-09-04 14:47:03] step: 1840, loss: 2.4881\n",
            "[2020-09-04 14:47:14] step: 1850, loss: 2.6506\n",
            "[2020-09-04 14:47:24] step: 1860, loss: 2.5574\n",
            "[2020-09-04 14:47:34] step: 1870, loss: 2.8807\n",
            "Starting eval\n",
            "┌─────────┬────────┬────────┬────────┐\n",
            "│ Metric  │ Pre    │ Rec    │ F      │\n",
            "├─────────┼────────┼────────┼────────┤\n",
            "│ ROUGE-1 │ 0.4038 │ 0.3018 │ 0.3293 │\n",
            "│ ROUGE-2 │ 0.1927 │ 0.1420 │ 0.1546 │\n",
            "│ ROUGE-L │ 0.3726 │ 0.2798 │ 0.2793 │\n",
            "└─────────┴────────┴────────┴────────┘\n",
            "epoch: 30, bleu_score 0.0785\n",
            "[2020-09-04 14:48:06] step: 1880, loss: 2.8687\n",
            "[2020-09-04 14:48:17] step: 1890, loss: 2.7545\n",
            "Start epoch 31\n",
            "[2020-09-04 14:48:27] step: 1900, loss: 2.4073\n",
            "[2020-09-04 14:48:37] step: 1910, loss: 2.5130\n",
            "[2020-09-04 14:48:48] step: 1920, loss: 2.4343\n",
            "[2020-09-04 14:48:58] step: 1930, loss: 2.6921\n",
            "[2020-09-04 14:49:09] step: 1940, loss: 2.7690\n",
            "[2020-09-04 14:49:19] step: 1950, loss: 2.7356\n",
            "Starting eval\n",
            "┌─────────┬────────┬────────┬────────┐\n",
            "│ Metric  │ Pre    │ Rec    │ F      │\n",
            "├─────────┼────────┼────────┼────────┤\n",
            "│ ROUGE-1 │ 0.3973 │ 0.3026 │ 0.3281 │\n",
            "│ ROUGE-2 │ 0.1910 │ 0.1501 │ 0.1597 │\n",
            "│ ROUGE-L │ 0.3682 │ 0.2819 │ 0.2814 │\n",
            "└─────────┴────────┴────────┴────────┘\n",
            "epoch: 31, bleu_score 0.0808\n",
            "saving model to ./outputs/best-model.ckpt\n",
            "Start epoch 32\n",
            "[2020-09-04 14:50:20] step: 1960, loss: 2.3311\n",
            "[2020-09-04 14:50:30] step: 1970, loss: 2.4140\n",
            "[2020-09-04 14:50:41] step: 1980, loss: 2.4797\n",
            "[2020-09-04 14:50:51] step: 1990, loss: 2.5663\n",
            "[2020-09-04 14:51:02] step: 2000, loss: 2.3021\n",
            "[2020-09-04 14:51:12] step: 2010, loss: 2.9419\n",
            "Start epoch 33\n",
            "[2020-09-04 14:51:22] step: 2020, loss: 2.2121\n",
            "Starting eval\n",
            "┌─────────┬────────┬────────┬────────┐\n",
            "│ Metric  │ Pre    │ Rec    │ F      │\n",
            "├─────────┼────────┼────────┼────────┤\n",
            "│ ROUGE-1 │ 0.3875 │ 0.3108 │ 0.3309 │\n",
            "│ ROUGE-2 │ 0.1780 │ 0.1452 │ 0.1525 │\n",
            "│ ROUGE-L │ 0.3545 │ 0.2875 │ 0.2842 │\n",
            "└─────────┴────────┴────────┴────────┘\n",
            "epoch: 33, bleu_score 0.0815\n",
            "saving model to ./outputs/best-model.ckpt\n",
            "[2020-09-04 14:52:22] step: 2030, loss: 2.3349\n",
            "[2020-09-04 14:52:32] step: 2040, loss: 2.5249\n",
            "[2020-09-04 14:52:43] step: 2050, loss: 2.2955\n",
            "[2020-09-04 14:52:53] step: 2060, loss: 2.4432\n",
            "[2020-09-04 14:53:04] step: 2070, loss: 2.6720\n",
            "Start epoch 34\n",
            "[2020-09-04 14:53:14] step: 2080, loss: 2.2489\n",
            "[2020-09-04 14:53:25] step: 2090, loss: 2.3424\n",
            "[2020-09-04 14:53:35] step: 2100, loss: 2.3437\n",
            "Starting eval\n",
            "┌─────────┬────────┬────────┬────────┐\n",
            "│ Metric  │ Pre    │ Rec    │ F      │\n",
            "├─────────┼────────┼────────┼────────┤\n",
            "│ ROUGE-1 │ 0.3844 │ 0.3222 │ 0.3337 │\n",
            "│ ROUGE-2 │ 0.1765 │ 0.1492 │ 0.1532 │\n",
            "│ ROUGE-L │ 0.3528 │ 0.2964 │ 0.2856 │\n",
            "└─────────┴────────┴────────┴────────┘\n",
            "epoch: 34, bleu_score 0.0854\n",
            "saving model to ./outputs/best-model.ckpt\n",
            "[2020-09-04 14:54:37] step: 2110, loss: 2.2440\n",
            "[2020-09-04 14:54:48] step: 2120, loss: 2.4358\n",
            "[2020-09-04 14:54:58] step: 2130, loss: 2.4664\n",
            "Start epoch 35\n",
            "[2020-09-04 14:55:09] step: 2140, loss: 2.1851\n",
            "[2020-09-04 14:55:19] step: 2150, loss: 2.2681\n",
            "[2020-09-04 14:55:30] step: 2160, loss: 2.3295\n",
            "[2020-09-04 14:55:40] step: 2170, loss: 2.3012\n",
            "Starting eval\n",
            "┌─────────┬────────┬────────┬────────┐\n",
            "│ Metric  │ Pre    │ Rec    │ F      │\n",
            "├─────────┼────────┼────────┼────────┤\n",
            "│ ROUGE-1 │ 0.3995 │ 0.3263 │ 0.3436 │\n",
            "│ ROUGE-2 │ 0.1942 │ 0.1611 │ 0.1680 │\n",
            "│ ROUGE-L │ 0.3696 │ 0.3029 │ 0.2970 │\n",
            "└─────────┴────────┴────────┴────────┘\n",
            "epoch: 35, bleu_score 0.0935\n",
            "saving model to ./outputs/best-model.ckpt\n",
            "[2020-09-04 14:56:46] step: 2180, loss: 2.0870\n",
            "[2020-09-04 14:56:56] step: 2190, loss: 2.4513\n",
            "Start epoch 36\n",
            "[2020-09-04 14:57:07] step: 2200, loss: 2.3543\n",
            "[2020-09-04 14:57:18] step: 2210, loss: 2.3187\n",
            "[2020-09-04 14:57:28] step: 2220, loss: 2.1962\n",
            "[2020-09-04 14:57:39] step: 2230, loss: 2.3452\n",
            "[2020-09-04 14:57:49] step: 2240, loss: 1.9759\n",
            "[2020-09-04 14:57:59] step: 2250, loss: 2.3709\n",
            "Starting eval\n",
            "┌─────────┬────────┬────────┬────────┐\n",
            "│ Metric  │ Pre    │ Rec    │ F      │\n",
            "├─────────┼────────┼────────┼────────┤\n",
            "│ ROUGE-1 │ 0.3906 │ 0.3366 │ 0.3450 │\n",
            "│ ROUGE-2 │ 0.1861 │ 0.1614 │ 0.1640 │\n",
            "│ ROUGE-L │ 0.3562 │ 0.3081 │ 0.2949 │\n",
            "└─────────┴────────┴────────┴────────┘\n",
            "epoch: 36, bleu_score 0.0955\n",
            "saving model to ./outputs/best-model.ckpt\n",
            "Start epoch 37\n",
            "[2020-09-04 14:59:04] step: 2260, loss: 2.1828\n",
            "[2020-09-04 14:59:14] step: 2270, loss: 2.0580\n",
            "[2020-09-04 14:59:25] step: 2280, loss: 2.0369\n",
            "[2020-09-04 14:59:36] step: 2290, loss: 2.1724\n",
            "[2020-09-04 14:59:46] step: 2300, loss: 2.1406\n",
            "[2020-09-04 14:59:57] step: 2310, loss: 2.1270\n",
            "Start epoch 38\n",
            "[2020-09-04 15:00:07] step: 2320, loss: 2.0753\n",
            "Starting eval\n",
            "┌─────────┬────────┬────────┬────────┐\n",
            "│ Metric  │ Pre    │ Rec    │ F      │\n",
            "├─────────┼────────┼────────┼────────┤\n",
            "│ ROUGE-1 │ 0.3793 │ 0.3090 │ 0.3256 │\n",
            "│ ROUGE-2 │ 0.1699 │ 0.1426 │ 0.1475 │\n",
            "│ ROUGE-L │ 0.3468 │ 0.2837 │ 0.2770 │\n",
            "└─────────┴────────┴────────┴────────┘\n",
            "epoch: 38, bleu_score 0.0788\n",
            "[2020-09-04 15:00:40] step: 2330, loss: 2.0696\n",
            "[2020-09-04 15:00:50] step: 2340, loss: 2.0274\n",
            "[2020-09-04 15:01:01] step: 2350, loss: 2.0778\n",
            "[2020-09-04 15:01:11] step: 2360, loss: 2.1261\n",
            "[2020-09-04 15:01:22] step: 2370, loss: 2.1280\n",
            "Start epoch 39\n",
            "[2020-09-04 15:01:32] step: 2380, loss: 1.9922\n",
            "[2020-09-04 15:01:42] step: 2390, loss: 1.9727\n",
            "[2020-09-04 15:01:53] step: 2400, loss: 1.8972\n",
            "Starting eval\n",
            "┌─────────┬────────┬────────┬────────┐\n",
            "│ Metric  │ Pre    │ Rec    │ F      │\n",
            "├─────────┼────────┼────────┼────────┤\n",
            "│ ROUGE-1 │ 0.3915 │ 0.3148 │ 0.3310 │\n",
            "│ ROUGE-2 │ 0.1829 │ 0.1499 │ 0.1558 │\n",
            "│ ROUGE-L │ 0.3580 │ 0.2912 │ 0.2822 │\n",
            "└─────────┴────────┴────────┴────────┘\n",
            "epoch: 39, bleu_score 0.0856\n",
            "[2020-09-04 15:02:29] step: 2410, loss: 2.0011\n",
            "[2020-09-04 15:02:39] step: 2420, loss: 1.9948\n",
            "[2020-09-04 15:02:50] step: 2430, loss: 2.1948\n",
            "Start epoch 40\n",
            "[2020-09-04 15:03:00] step: 2440, loss: 2.0101\n",
            "[2020-09-04 15:03:10] step: 2450, loss: 1.9515\n",
            "[2020-09-04 15:03:21] step: 2460, loss: 1.9262\n",
            "[2020-09-04 15:03:31] step: 2470, loss: 2.0100\n",
            "Starting eval\n",
            "┌─────────┬────────┬────────┬────────┐\n",
            "│ Metric  │ Pre    │ Rec    │ F      │\n",
            "├─────────┼────────┼────────┼────────┤\n",
            "│ ROUGE-1 │ 0.3901 │ 0.3197 │ 0.3351 │\n",
            "│ ROUGE-2 │ 0.1858 │ 0.1523 │ 0.1591 │\n",
            "│ ROUGE-L │ 0.3586 │ 0.2948 │ 0.2871 │\n",
            "└─────────┴────────┴────────┴────────┘\n",
            "epoch: 40, bleu_score 0.0865\n",
            "[2020-09-04 15:04:06] step: 2480, loss: 1.9987\n",
            "[2020-09-04 15:04:16] step: 2490, loss: 2.1360\n",
            "[2020-09-04 15:04:26] step: 2500, loss: 2.0871\n",
            "Start epoch 41\n",
            "[2020-09-04 15:04:37] step: 2510, loss: 1.8946\n",
            "[2020-09-04 15:04:47] step: 2520, loss: 1.9583\n",
            "[2020-09-04 15:04:57] step: 2530, loss: 1.9947\n",
            "[2020-09-04 15:05:08] step: 2540, loss: 1.9190\n",
            "[2020-09-04 15:05:18] step: 2550, loss: 2.0418\n",
            "Starting eval\n",
            "┌─────────┬────────┬────────┬────────┐\n",
            "│ Metric  │ Pre    │ Rec    │ F      │\n",
            "├─────────┼────────┼────────┼────────┤\n",
            "│ ROUGE-1 │ 0.3888 │ 0.3337 │ 0.3433 │\n",
            "│ ROUGE-2 │ 0.1872 │ 0.1608 │ 0.1649 │\n",
            "│ ROUGE-L │ 0.3541 │ 0.3056 │ 0.2934 │\n",
            "└─────────┴────────┴────────┴────────┘\n",
            "epoch: 41, bleu_score 0.0936\n",
            "[2020-09-04 15:05:58] step: 2560, loss: 2.1185\n",
            "Start epoch 42\n",
            "[2020-09-04 15:06:08] step: 2570, loss: 1.8037\n",
            "[2020-09-04 15:06:19] step: 2580, loss: 1.8310\n",
            "[2020-09-04 15:06:29] step: 2590, loss: 1.9325\n",
            "[2020-09-04 15:06:39] step: 2600, loss: 1.8733\n",
            "[2020-09-04 15:06:50] step: 2610, loss: 1.8772\n",
            "[2020-09-04 15:07:00] step: 2620, loss: 1.9980\n",
            "Start epoch 43\n",
            "Starting eval\n",
            "┌─────────┬────────┬────────┬────────┐\n",
            "│ Metric  │ Pre    │ Rec    │ F      │\n",
            "├─────────┼────────┼────────┼────────┤\n",
            "│ ROUGE-1 │ 0.3865 │ 0.3226 │ 0.3354 │\n",
            "│ ROUGE-2 │ 0.1811 │ 0.1586 │ 0.1596 │\n",
            "│ ROUGE-L │ 0.3564 │ 0.2980 │ 0.2879 │\n",
            "└─────────┴────────┴────────┴────────┘\n",
            "epoch: 43, bleu_score 0.0898\n",
            "[2020-09-04 15:07:38] step: 2630, loss: 1.8045\n",
            "[2020-09-04 15:07:48] step: 2640, loss: 1.8139\n",
            "[2020-09-04 15:07:59] step: 2650, loss: 1.8951\n",
            "[2020-09-04 15:08:09] step: 2660, loss: 1.9145\n",
            "[2020-09-04 15:08:19] step: 2670, loss: 1.7331\n",
            "[2020-09-04 15:08:30] step: 2680, loss: 1.9824\n",
            "Start epoch 44\n",
            "[2020-09-04 15:08:40] step: 2690, loss: 1.7392\n",
            "[2020-09-04 15:08:50] step: 2700, loss: 1.7727\n",
            "Starting eval\n",
            "┌─────────┬────────┬────────┬────────┐\n",
            "│ Metric  │ Pre    │ Rec    │ F      │\n",
            "├─────────┼────────┼────────┼────────┤\n",
            "│ ROUGE-1 │ 0.3908 │ 0.3237 │ 0.3391 │\n",
            "│ ROUGE-2 │ 0.1823 │ 0.1517 │ 0.1577 │\n",
            "│ ROUGE-L │ 0.3550 │ 0.2962 │ 0.2892 │\n",
            "└─────────┴────────┴────────┴────────┘\n",
            "epoch: 44, bleu_score 0.0913\n",
            "[2020-09-04 15:09:27] step: 2710, loss: 1.8135\n",
            "[2020-09-04 15:09:38] step: 2720, loss: 1.7870\n",
            "[2020-09-04 15:09:48] step: 2730, loss: 1.7245\n",
            "[2020-09-04 15:09:58] step: 2740, loss: 1.9593\n",
            "Start epoch 45\n",
            "[2020-09-04 15:10:09] step: 2750, loss: 1.7072\n",
            "[2020-09-04 15:10:19] step: 2760, loss: 1.7440\n",
            "[2020-09-04 15:10:29] step: 2770, loss: 1.8040\n",
            "Starting eval\n",
            "┌─────────┬────────┬────────┬────────┐\n",
            "│ Metric  │ Pre    │ Rec    │ F      │\n",
            "├─────────┼────────┼────────┼────────┤\n",
            "│ ROUGE-1 │ 0.3808 │ 0.3188 │ 0.3313 │\n",
            "│ ROUGE-2 │ 0.1757 │ 0.1522 │ 0.1553 │\n",
            "│ ROUGE-L │ 0.3513 │ 0.2942 │ 0.2845 │\n",
            "└─────────┴────────┴────────┴────────┘\n",
            "epoch: 45, bleu_score 0.0865\n",
            "[2020-09-04 15:11:05] step: 2780, loss: 1.8213\n",
            "[2020-09-04 15:11:16] step: 2790, loss: 1.7238\n",
            "[2020-09-04 15:11:26] step: 2800, loss: 1.8843\n",
            "Start epoch 46\n",
            "[2020-09-04 15:11:36] step: 2810, loss: 1.7194\n",
            "[2020-09-04 15:11:47] step: 2820, loss: 1.7396\n",
            "[2020-09-04 15:11:57] step: 2830, loss: 1.7088\n",
            "[2020-09-04 15:12:07] step: 2840, loss: 1.8649\n",
            "[2020-09-04 15:12:18] step: 2850, loss: 1.7205\n",
            "Starting eval\n",
            "┌─────────┬────────┬────────┬────────┐\n",
            "│ Metric  │ Pre    │ Rec    │ F      │\n",
            "├─────────┼────────┼────────┼────────┤\n",
            "│ ROUGE-1 │ 0.3895 │ 0.3272 │ 0.3398 │\n",
            "│ ROUGE-2 │ 0.1898 │ 0.1570 │ 0.1641 │\n",
            "│ ROUGE-L │ 0.3567 │ 0.3009 │ 0.2918 │\n",
            "└─────────┴────────┴────────┴────────┘\n",
            "epoch: 46, bleu_score 0.0946\n",
            "[2020-09-04 15:12:55] step: 2860, loss: 1.8317\n",
            "Start epoch 47\n",
            "[2020-09-04 15:13:06] step: 2870, loss: 1.7197\n",
            "[2020-09-04 15:13:16] step: 2880, loss: 1.7041\n",
            "[2020-09-04 15:13:26] step: 2890, loss: 1.6794\n",
            "[2020-09-04 15:13:37] step: 2900, loss: 1.7410\n",
            "[2020-09-04 15:13:47] step: 2910, loss: 1.7735\n",
            "[2020-09-04 15:13:58] step: 2920, loss: 1.8072\n",
            "Starting eval\n",
            "┌─────────┬────────┬────────┬────────┐\n",
            "│ Metric  │ Pre    │ Rec    │ F      │\n",
            "├─────────┼────────┼────────┼────────┤\n",
            "│ ROUGE-1 │ 0.3860 │ 0.3099 │ 0.3266 │\n",
            "│ ROUGE-2 │ 0.1813 │ 0.1486 │ 0.1539 │\n",
            "│ ROUGE-L │ 0.3574 │ 0.2882 │ 0.2809 │\n",
            "└─────────┴────────┴────────┴────────┘\n",
            "epoch: 47, bleu_score 0.0848\n",
            "Start epoch 48\n",
            "[2020-09-04 15:14:35] step: 2930, loss: 1.6507\n",
            "[2020-09-04 15:14:46] step: 2940, loss: 1.7627\n",
            "[2020-09-04 15:14:56] step: 2950, loss: 1.6612\n",
            "[2020-09-04 15:15:06] step: 2960, loss: 1.7295\n",
            "[2020-09-04 15:15:17] step: 2970, loss: 1.7264\n",
            "[2020-09-04 15:15:27] step: 2980, loss: 1.7533\n",
            "Start epoch 49\n",
            "[2020-09-04 15:15:37] step: 2990, loss: 1.6700\n",
            "[2020-09-04 15:15:48] step: 3000, loss: 1.6732\n",
            "Starting eval\n",
            "┌─────────┬────────┬────────┬────────┐\n",
            "│ Metric  │ Pre    │ Rec    │ F      │\n",
            "├─────────┼────────┼────────┼────────┤\n",
            "│ ROUGE-1 │ 0.3703 │ 0.3194 │ 0.3271 │\n",
            "│ ROUGE-2 │ 0.1671 │ 0.1451 │ 0.1473 │\n",
            "│ ROUGE-L │ 0.3368 │ 0.2917 │ 0.2789 │\n",
            "└─────────┴────────┴────────┴────────┘\n",
            "epoch: 49, bleu_score 0.0816\n",
            "[2020-09-04 15:16:26] step: 3010, loss: 1.6781\n",
            "[2020-09-04 15:16:36] step: 3020, loss: 1.6910\n",
            "[2020-09-04 15:16:46] step: 3030, loss: 1.7902\n",
            "[2020-09-04 15:16:57] step: 3040, loss: 1.7431\n",
            "Start epoch 50\n",
            "[2020-09-04 15:17:07] step: 3050, loss: 1.7031\n",
            "[2020-09-04 15:17:18] step: 3060, loss: 1.7080\n",
            "[2020-09-04 15:17:28] step: 3070, loss: 1.6168\n",
            "Starting eval\n",
            "┌─────────┬────────┬────────┬────────┐\n",
            "│ Metric  │ Pre    │ Rec    │ F      │\n",
            "├─────────┼────────┼────────┼────────┤\n",
            "│ ROUGE-1 │ 0.3763 │ 0.3308 │ 0.3353 │\n",
            "│ ROUGE-2 │ 0.1794 │ 0.1611 │ 0.1611 │\n",
            "│ ROUGE-L │ 0.3451 │ 0.3047 │ 0.2889 │\n",
            "└─────────┴────────┴────────┴────────┘\n",
            "epoch: 50, bleu_score 0.0908\n",
            "[2020-09-04 15:18:10] step: 3080, loss: 1.6779\n",
            "[2020-09-04 15:18:20] step: 3090, loss: 1.6358\n",
            "[2020-09-04 15:18:30] step: 3100, loss: 1.6609\n",
            "[2020-09-04 15:18:41] step: 3110, loss: 1.7118\n",
            "Start epoch 51\n",
            "[2020-09-04 15:18:51] step: 3120, loss: 1.6690\n",
            "[2020-09-04 15:19:02] step: 3130, loss: 1.6064\n",
            "[2020-09-04 15:19:12] step: 3140, loss: 1.6045\n",
            "[2020-09-04 15:19:22] step: 3150, loss: 1.6392\n",
            "Starting eval\n",
            "┌─────────┬────────┬────────┬────────┐\n",
            "│ Metric  │ Pre    │ Rec    │ F      │\n",
            "├─────────┼────────┼────────┼────────┤\n",
            "│ ROUGE-1 │ 0.3663 │ 0.3108 │ 0.3206 │\n",
            "│ ROUGE-2 │ 0.1711 │ 0.1503 │ 0.1522 │\n",
            "│ ROUGE-L │ 0.3329 │ 0.2852 │ 0.2737 │\n",
            "└─────────┴────────┴────────┴────────┘\n",
            "epoch: 51, bleu_score 0.0874\n",
            "[2020-09-04 15:20:00] step: 3160, loss: 1.6299\n",
            "[2020-09-04 15:20:11] step: 3170, loss: 1.7128\n",
            "Start epoch 52\n",
            "[2020-09-04 15:20:21] step: 3180, loss: 1.6664\n",
            "[2020-09-04 15:20:31] step: 3190, loss: 1.6249\n",
            "[2020-09-04 15:20:42] step: 3200, loss: 1.6211\n",
            "[2020-09-04 15:20:52] step: 3210, loss: 1.6642\n",
            "[2020-09-04 15:21:02] step: 3220, loss: 1.6415\n",
            "Starting eval\n",
            "┌─────────┬────────┬────────┬────────┐\n",
            "│ Metric  │ Pre    │ Rec    │ F      │\n",
            "├─────────┼────────┼────────┼────────┤\n",
            "│ ROUGE-1 │ 0.3702 │ 0.3192 │ 0.3274 │\n",
            "│ ROUGE-2 │ 0.1738 │ 0.1517 │ 0.1535 │\n",
            "│ ROUGE-L │ 0.3355 │ 0.2909 │ 0.2780 │\n",
            "└─────────┴────────┴────────┴────────┘\n",
            "epoch: 52, bleu_score 0.0891\n",
            "[2020-09-04 15:21:42] step: 3230, loss: 1.7478\n",
            "Start epoch 53\n",
            "[2020-09-04 15:21:52] step: 3240, loss: 1.6130\n",
            "[2020-09-04 15:22:02] step: 3250, loss: 1.6079\n",
            "[2020-09-04 15:22:13] step: 3260, loss: 1.6243\n",
            "[2020-09-04 15:22:23] step: 3270, loss: 1.5495\n",
            "[2020-09-04 15:22:33] step: 3280, loss: 1.5802\n",
            "[2020-09-04 15:22:44] step: 3290, loss: 1.6321\n",
            "Start epoch 54\n",
            "[2020-09-04 15:22:54] step: 3300, loss: 1.6195\n",
            "Starting eval\n",
            "┌─────────┬────────┬────────┬────────┐\n",
            "│ Metric  │ Pre    │ Rec    │ F      │\n",
            "├─────────┼────────┼────────┼────────┤\n",
            "│ ROUGE-1 │ 0.3802 │ 0.3244 │ 0.3353 │\n",
            "│ ROUGE-2 │ 0.1849 │ 0.1568 │ 0.1620 │\n",
            "│ ROUGE-L │ 0.3480 │ 0.2989 │ 0.2880 │\n",
            "└─────────┴────────┴────────┴────────┘\n",
            "epoch: 54, bleu_score 0.0918\n",
            "[2020-09-04 15:23:33] step: 3310, loss: 1.6248\n",
            "[2020-09-04 15:23:43] step: 3320, loss: 1.6253\n",
            "[2020-09-04 15:23:54] step: 3330, loss: 1.5965\n",
            "[2020-09-04 15:24:04] step: 3340, loss: 1.5734\n",
            "[2020-09-04 15:24:14] step: 3350, loss: 1.6988\n",
            "Start epoch 55\n",
            "[2020-09-04 15:24:25] step: 3360, loss: 1.6287\n",
            "[2020-09-04 15:24:35] step: 3370, loss: 1.5896\n",
            "Starting eval\n",
            "┌─────────┬────────┬────────┬────────┐\n",
            "│ Metric  │ Pre    │ Rec    │ F      │\n",
            "├─────────┼────────┼────────┼────────┤\n",
            "│ ROUGE-1 │ 0.3957 │ 0.3132 │ 0.3355 │\n",
            "│ ROUGE-2 │ 0.1932 │ 0.1585 │ 0.1667 │\n",
            "│ ROUGE-L │ 0.3618 │ 0.2905 │ 0.2881 │\n",
            "└─────────┴────────┴────────┴────────┘\n",
            "epoch: 55, bleu_score 0.0894\n",
            "[2020-09-04 15:25:11] step: 3380, loss: 1.5709\n",
            "[2020-09-04 15:25:21] step: 3390, loss: 1.5954\n",
            "[2020-09-04 15:25:32] step: 3400, loss: 1.6111\n",
            "[2020-09-04 15:25:42] step: 3410, loss: 1.7191\n",
            "Start epoch 56\n",
            "[2020-09-04 15:25:52] step: 3420, loss: 1.6045\n",
            "[2020-09-04 15:26:03] step: 3430, loss: 1.6395\n",
            "[2020-09-04 15:26:13] step: 3440, loss: 1.5742\n",
            "[2020-09-04 15:26:24] step: 3450, loss: 1.5921\n",
            "Starting eval\n",
            "┌─────────┬────────┬────────┬────────┐\n",
            "│ Metric  │ Pre    │ Rec    │ F      │\n",
            "├─────────┼────────┼────────┼────────┤\n",
            "│ ROUGE-1 │ 0.3686 │ 0.3185 │ 0.3261 │\n",
            "│ ROUGE-2 │ 0.1742 │ 0.1495 │ 0.1534 │\n",
            "│ ROUGE-L │ 0.3386 │ 0.2937 │ 0.2814 │\n",
            "└─────────┴────────┴────────┴────────┘\n",
            "epoch: 56, bleu_score 0.0865\n",
            "[2020-09-04 15:27:04] step: 3460, loss: 1.5485\n",
            "[2020-09-04 15:27:15] step: 3470, loss: 1.6523\n",
            "Start epoch 57\n",
            "[2020-09-04 15:27:25] step: 3480, loss: 1.6143\n",
            "[2020-09-04 15:27:35] step: 3490, loss: 1.5757\n",
            "[2020-09-04 15:27:45] step: 3500, loss: 1.5868\n",
            "[2020-09-04 15:27:56] step: 3510, loss: 1.5796\n",
            "[2020-09-04 15:28:06] step: 3520, loss: 1.5619\n",
            "Starting eval\n",
            "┌─────────┬────────┬────────┬────────┐\n",
            "│ Metric  │ Pre    │ Rec    │ F      │\n",
            "├─────────┼────────┼────────┼────────┤\n",
            "│ ROUGE-1 │ 0.3762 │ 0.3363 │ 0.3399 │\n",
            "│ ROUGE-2 │ 0.1805 │ 0.1593 │ 0.1608 │\n",
            "│ ROUGE-L │ 0.3449 │ 0.3091 │ 0.2930 │\n",
            "└─────────┴────────┴────────┴────────┘\n",
            "epoch: 57, bleu_score 0.0903\n",
            "[2020-09-04 15:28:46] step: 3530, loss: 1.5905\n",
            "Start epoch 58\n",
            "[2020-09-04 15:28:56] step: 3540, loss: 1.5824\n",
            "[2020-09-04 15:29:07] step: 3550, loss: 1.5596\n",
            "[2020-09-04 15:29:17] step: 3560, loss: 1.5583\n",
            "[2020-09-04 15:29:28] step: 3570, loss: 1.5911\n",
            "[2020-09-04 15:29:38] step: 3580, loss: 1.5899\n",
            "[2020-09-04 15:29:48] step: 3590, loss: 1.5838\n",
            "Start epoch 59\n",
            "[2020-09-04 15:29:59] step: 3600, loss: 1.5557\n",
            "Starting eval\n",
            "┌─────────┬────────┬────────┬────────┐\n",
            "│ Metric  │ Pre    │ Rec    │ F      │\n",
            "├─────────┼────────┼────────┼────────┤\n",
            "│ ROUGE-1 │ 0.3794 │ 0.3115 │ 0.3280 │\n",
            "│ ROUGE-2 │ 0.1776 │ 0.1460 │ 0.1523 │\n",
            "│ ROUGE-L │ 0.3509 │ 0.2892 │ 0.2836 │\n",
            "└─────────┴────────┴────────┴────────┘\n",
            "epoch: 59, bleu_score 0.0812\n",
            "[2020-09-04 15:30:39] step: 3610, loss: 1.5714\n",
            "[2020-09-04 15:30:50] step: 3620, loss: 1.5539\n",
            "[2020-09-04 15:31:00] step: 3630, loss: 1.5713\n",
            "[2020-09-04 15:31:10] step: 3640, loss: 1.5509\n",
            "[2020-09-04 15:31:21] step: 3650, loss: 1.6108\n",
            "Start epoch 60\n",
            "[2020-09-04 15:31:31] step: 3660, loss: 1.5774\n",
            "[2020-09-04 15:31:41] step: 3670, loss: 1.5613\n",
            "Starting eval\n",
            "┌─────────┬────────┬────────┬────────┐\n",
            "│ Metric  │ Pre    │ Rec    │ F      │\n",
            "├─────────┼────────┼────────┼────────┤\n",
            "│ ROUGE-1 │ 0.3801 │ 0.3277 │ 0.3374 │\n",
            "│ ROUGE-2 │ 0.1845 │ 0.1608 │ 0.1635 │\n",
            "│ ROUGE-L │ 0.3476 │ 0.2994 │ 0.2892 │\n",
            "└─────────┴────────┴────────┴────────┘\n",
            "epoch: 60, bleu_score 0.0922\n",
            "[2020-09-04 15:32:22] step: 3680, loss: 1.5616\n",
            "[2020-09-04 15:32:32] step: 3690, loss: 1.5642\n",
            "[2020-09-04 15:32:43] step: 3700, loss: 1.5745\n",
            "[2020-09-04 15:32:53] step: 3710, loss: 1.6038\n",
            "[2020-09-04 15:33:03] step: 3720, loss: 1.5849\n",
            "Start epoch 61\n",
            "[2020-09-04 15:33:14] step: 3730, loss: 1.5568\n",
            "[2020-09-04 15:33:24] step: 3740, loss: 1.5454\n",
            "[2020-09-04 15:33:34] step: 3750, loss: 1.5143\n",
            "Starting eval\n",
            "┌─────────┬────────┬────────┬────────┐\n",
            "│ Metric  │ Pre    │ Rec    │ F      │\n",
            "├─────────┼────────┼────────┼────────┤\n",
            "│ ROUGE-1 │ 0.3749 │ 0.3207 │ 0.3297 │\n",
            "│ ROUGE-2 │ 0.1679 │ 0.1485 │ 0.1496 │\n",
            "│ ROUGE-L │ 0.3387 │ 0.2939 │ 0.2803 │\n",
            "└─────────┴────────┴────────┴────────┘\n",
            "epoch: 61, bleu_score 0.0850\n",
            "[2020-09-04 15:34:14] step: 3760, loss: 1.5464\n",
            "[2020-09-04 15:34:24] step: 3770, loss: 1.6201\n",
            "[2020-09-04 15:34:35] step: 3780, loss: 1.5616\n",
            "Start epoch 62\n",
            "[2020-09-04 15:34:45] step: 3790, loss: 1.5769\n",
            "[2020-09-04 15:34:56] step: 3800, loss: 1.5941\n",
            "[2020-09-04 15:35:06] step: 3810, loss: 1.5399\n",
            "[2020-09-04 15:35:16] step: 3820, loss: 1.5448\n",
            "Starting eval\n",
            "┌─────────┬────────┬────────┬────────┐\n",
            "│ Metric  │ Pre    │ Rec    │ F      │\n",
            "├─────────┼────────┼────────┼────────┤\n",
            "│ ROUGE-1 │ 0.3911 │ 0.3331 │ 0.3424 │\n",
            "│ ROUGE-2 │ 0.1884 │ 0.1617 │ 0.1651 │\n",
            "│ ROUGE-L │ 0.3573 │ 0.3059 │ 0.2930 │\n",
            "└─────────┴────────┴────────┴────────┘\n",
            "epoch: 62, bleu_score 0.0918\n",
            "[2020-09-04 15:36:00] step: 3830, loss: 1.5397\n",
            "[2020-09-04 15:36:10] step: 3840, loss: 1.5486\n",
            "Start epoch 63\n",
            "[2020-09-04 15:36:20] step: 3850, loss: 1.5211\n",
            "[2020-09-04 15:36:31] step: 3860, loss: 1.5450\n",
            "[2020-09-04 15:36:41] step: 3870, loss: 1.5177\n",
            "[2020-09-04 15:36:51] step: 3880, loss: 1.5978\n",
            "[2020-09-04 15:37:02] step: 3890, loss: 1.5636\n",
            "[2020-09-04 15:37:12] step: 3900, loss: 1.5393\n",
            "Starting eval\n",
            "┌─────────┬────────┬────────┬────────┐\n",
            "│ Metric  │ Pre    │ Rec    │ F      │\n",
            "├─────────┼────────┼────────┼────────┤\n",
            "│ ROUGE-1 │ 0.3453 │ 0.3011 │ 0.3073 │\n",
            "│ ROUGE-2 │ 0.1595 │ 0.1403 │ 0.1417 │\n",
            "│ ROUGE-L │ 0.3185 │ 0.2793 │ 0.2666 │\n",
            "└─────────┴────────┴────────┴────────┘\n",
            "epoch: 63, bleu_score 0.0846\n",
            "Start epoch 64\n",
            "[2020-09-04 15:37:59] step: 3910, loss: 1.5310\n",
            "[2020-09-04 15:38:09] step: 3920, loss: 1.5789\n",
            "[2020-09-04 15:38:20] step: 3930, loss: 1.5070\n",
            "[2020-09-04 15:38:30] step: 3940, loss: 1.5370\n",
            "[2020-09-04 15:38:40] step: 3950, loss: 1.5525\n",
            "[2020-09-04 15:38:51] step: 3960, loss: 1.5512\n",
            "Start epoch 65\n",
            "[2020-09-04 15:39:01] step: 3970, loss: 1.5096\n",
            "Starting eval\n",
            "┌─────────┬────────┬────────┬────────┐\n",
            "│ Metric  │ Pre    │ Rec    │ F      │\n",
            "├─────────┼────────┼────────┼────────┤\n",
            "│ ROUGE-1 │ 0.3536 │ 0.3156 │ 0.3184 │\n",
            "│ ROUGE-2 │ 0.1583 │ 0.1430 │ 0.1429 │\n",
            "│ ROUGE-L │ 0.3174 │ 0.2850 │ 0.2688 │\n",
            "└─────────┴────────┴────────┴────────┘\n",
            "epoch: 65, bleu_score 0.0849\n",
            "[2020-09-04 15:39:46] step: 3980, loss: 1.5465\n",
            "[2020-09-04 15:39:56] step: 3990, loss: 1.5348\n",
            "[2020-09-04 15:40:06] step: 4000, loss: 1.5666\n",
            "[2020-09-04 15:40:17] step: 4010, loss: 1.5662\n",
            "[2020-09-04 15:40:27] step: 4020, loss: 1.5099\n",
            "Start epoch 66\n",
            "[2020-09-04 15:40:37] step: 4030, loss: 1.5403\n",
            "[2020-09-04 15:40:48] step: 4040, loss: 1.5327\n",
            "[2020-09-04 15:40:58] step: 4050, loss: 1.5186\n",
            "Starting eval\n",
            "┌─────────┬────────┬────────┬────────┐\n",
            "│ Metric  │ Pre    │ Rec    │ F      │\n",
            "├─────────┼────────┼────────┼────────┤\n",
            "│ ROUGE-1 │ 0.3759 │ 0.3281 │ 0.3348 │\n",
            "│ ROUGE-2 │ 0.1722 │ 0.1520 │ 0.1537 │\n",
            "│ ROUGE-L │ 0.3429 │ 0.2997 │ 0.2869 │\n",
            "└─────────┴────────┴────────┴────────┘\n",
            "epoch: 66, bleu_score 0.0868\n",
            "[2020-09-04 15:41:37] step: 4060, loss: 1.5162\n",
            "[2020-09-04 15:41:47] step: 4070, loss: 1.5407\n",
            "[2020-09-04 15:41:58] step: 4080, loss: 1.5375\n",
            "Start epoch 67\n",
            "[2020-09-04 15:42:08] step: 4090, loss: 1.4999\n",
            "[2020-09-04 15:42:19] step: 4100, loss: 1.4917\n",
            "[2020-09-04 15:42:29] step: 4110, loss: 1.5196\n",
            "[2020-09-04 15:42:39] step: 4120, loss: 1.5635\n",
            "Starting eval\n",
            "┌─────────┬────────┬────────┬────────┐\n",
            "│ Metric  │ Pre    │ Rec    │ F      │\n",
            "├─────────┼────────┼────────┼────────┤\n",
            "│ ROUGE-1 │ 0.3693 │ 0.3119 │ 0.3227 │\n",
            "│ ROUGE-2 │ 0.1708 │ 0.1457 │ 0.1493 │\n",
            "│ ROUGE-L │ 0.3355 │ 0.2850 │ 0.2743 │\n",
            "└─────────┴────────┴────────┴────────┘\n",
            "epoch: 67, bleu_score 0.0839\n",
            "[2020-09-04 15:43:22] step: 4130, loss: 1.5138\n",
            "[2020-09-04 15:43:32] step: 4140, loss: 1.5527\n",
            "Start epoch 68\n",
            "[2020-09-04 15:43:42] step: 4150, loss: 1.5439\n",
            "[2020-09-04 15:43:53] step: 4160, loss: 1.5587\n",
            "[2020-09-04 15:44:03] step: 4170, loss: 1.5476\n",
            "[2020-09-04 15:44:13] step: 4180, loss: 1.5377\n",
            "[2020-09-04 15:44:24] step: 4190, loss: 1.5207\n",
            "[2020-09-04 15:44:34] step: 4200, loss: 1.5052\n",
            "Starting eval\n",
            "┌─────────┬────────┬────────┬────────┐\n",
            "│ Metric  │ Pre    │ Rec    │ F      │\n",
            "├─────────┼────────┼────────┼────────┤\n",
            "│ ROUGE-1 │ 0.3793 │ 0.3356 │ 0.3403 │\n",
            "│ ROUGE-2 │ 0.1870 │ 0.1623 │ 0.1649 │\n",
            "│ ROUGE-L │ 0.3463 │ 0.3069 │ 0.2911 │\n",
            "└─────────┴────────┴────────┴────────┘\n",
            "epoch: 68, bleu_score 0.0943\n",
            "Start epoch 69\n",
            "[2020-09-04 15:45:18] step: 4210, loss: 1.5075\n",
            "[2020-09-04 15:45:28] step: 4220, loss: 1.5128\n",
            "[2020-09-04 15:45:38] step: 4230, loss: 1.5279\n",
            "[2020-09-04 15:45:49] step: 4240, loss: 1.5045\n",
            "[2020-09-04 15:45:59] step: 4250, loss: 1.5042\n",
            "[2020-09-04 15:46:09] step: 4260, loss: 1.5037\n",
            "Start epoch 70\n",
            "[2020-09-04 15:46:20] step: 4270, loss: 1.4863\n",
            "Starting eval\n",
            "┌─────────┬────────┬────────┬────────┐\n",
            "│ Metric  │ Pre    │ Rec    │ F      │\n",
            "├─────────┼────────┼────────┼────────┤\n",
            "│ ROUGE-1 │ 0.3674 │ 0.3140 │ 0.3228 │\n",
            "│ ROUGE-2 │ 0.1707 │ 0.1478 │ 0.1500 │\n",
            "│ ROUGE-L │ 0.3359 │ 0.2876 │ 0.2763 │\n",
            "└─────────┴────────┴────────┴────────┘\n",
            "epoch: 70, bleu_score 0.0830\n",
            "[2020-09-04 15:47:03] step: 4280, loss: 1.5108\n",
            "[2020-09-04 15:47:13] step: 4290, loss: 1.5104\n",
            "[2020-09-04 15:47:24] step: 4300, loss: 1.4870\n",
            "[2020-09-04 15:47:34] step: 4310, loss: 1.5023\n",
            "[2020-09-04 15:47:44] step: 4320, loss: 1.4871\n",
            "[2020-09-04 15:47:55] step: 4330, loss: 1.5001\n",
            "Start epoch 71\n",
            "[2020-09-04 15:48:05] step: 4340, loss: 1.4936\n",
            "[2020-09-04 15:48:15] step: 4350, loss: 1.5143\n",
            "Starting eval\n",
            "┌─────────┬────────┬────────┬────────┐\n",
            "│ Metric  │ Pre    │ Rec    │ F      │\n",
            "├─────────┼────────┼────────┼────────┤\n",
            "│ ROUGE-1 │ 0.3565 │ 0.3037 │ 0.3129 │\n",
            "│ ROUGE-2 │ 0.1654 │ 0.1465 │ 0.1470 │\n",
            "│ ROUGE-L │ 0.3261 │ 0.2801 │ 0.2688 │\n",
            "└─────────┴────────┴────────┴────────┘\n",
            "epoch: 71, bleu_score 0.0827\n",
            "[2020-09-04 15:48:57] step: 4360, loss: 1.4875\n",
            "[2020-09-04 15:49:07] step: 4370, loss: 1.4687\n",
            "[2020-09-04 15:49:17] step: 4380, loss: 1.4916\n",
            "[2020-09-04 15:49:28] step: 4390, loss: 1.5179\n",
            "Start epoch 72\n",
            "[2020-09-04 15:49:38] step: 4400, loss: 1.5183\n",
            "[2020-09-04 15:49:49] step: 4410, loss: 1.4704\n",
            "[2020-09-04 15:49:59] step: 4420, loss: 1.4999\n",
            "Starting eval\n",
            "┌─────────┬────────┬────────┬────────┐\n",
            "│ Metric  │ Pre    │ Rec    │ F      │\n",
            "├─────────┼────────┼────────┼────────┤\n",
            "│ ROUGE-1 │ 0.3605 │ 0.3232 │ 0.3248 │\n",
            "│ ROUGE-2 │ 0.1709 │ 0.1552 │ 0.1538 │\n",
            "│ ROUGE-L │ 0.3293 │ 0.2979 │ 0.2795 │\n",
            "└─────────┴────────┴────────┴────────┘\n",
            "epoch: 72, bleu_score 0.0928\n",
            "[2020-09-04 15:50:41] step: 4430, loss: 1.4824\n",
            "[2020-09-04 15:50:51] step: 4440, loss: 1.5207\n",
            "[2020-09-04 15:51:01] step: 4450, loss: 1.4840\n",
            "Start epoch 73\n",
            "[2020-09-04 15:51:12] step: 4460, loss: 1.4900\n",
            "[2020-09-04 15:51:22] step: 4470, loss: 1.4821\n",
            "[2020-09-04 15:51:32] step: 4480, loss: 1.4731\n",
            "[2020-09-04 15:51:43] step: 4490, loss: 1.4630\n",
            "[2020-09-04 15:51:53] step: 4500, loss: 1.4982\n",
            "Starting eval\n",
            "┌─────────┬────────┬────────┬────────┐\n",
            "│ Metric  │ Pre    │ Rec    │ F      │\n",
            "├─────────┼────────┼────────┼────────┤\n",
            "│ ROUGE-1 │ 0.3759 │ 0.3309 │ 0.3367 │\n",
            "│ ROUGE-2 │ 0.1774 │ 0.1587 │ 0.1598 │\n",
            "│ ROUGE-L │ 0.3433 │ 0.3040 │ 0.2893 │\n",
            "└─────────┴────────┴────────┴────────┘\n",
            "epoch: 73, bleu_score 0.0894\n",
            "[2020-09-04 15:52:37] step: 4510, loss: 1.4836\n",
            "Start epoch 74\n",
            "[2020-09-04 15:52:47] step: 4520, loss: 1.4592\n",
            "[2020-09-04 15:52:58] step: 4530, loss: 1.4738\n",
            "[2020-09-04 15:53:08] step: 4540, loss: 1.4654\n",
            "[2020-09-04 15:53:18] step: 4550, loss: 1.4745\n",
            "[2020-09-04 15:53:29] step: 4560, loss: 1.4840\n",
            "[2020-09-04 15:53:39] step: 4570, loss: 1.5030\n",
            "Start epoch 75\n",
            "Starting eval\n",
            "┌─────────┬────────┬────────┬────────┐\n",
            "│ Metric  │ Pre    │ Rec    │ F      │\n",
            "├─────────┼────────┼────────┼────────┤\n",
            "│ ROUGE-1 │ 0.3653 │ 0.3209 │ 0.3255 │\n",
            "│ ROUGE-2 │ 0.1724 │ 0.1516 │ 0.1529 │\n",
            "│ ROUGE-L │ 0.3355 │ 0.2961 │ 0.2808 │\n",
            "└─────────┴────────┴────────┴────────┘\n",
            "epoch: 75, bleu_score 0.0866\n",
            "[2020-09-04 15:54:27] step: 4580, loss: 1.4795\n",
            "[2020-09-04 15:54:37] step: 4590, loss: 1.4771\n",
            "[2020-09-04 15:54:47] step: 4600, loss: 1.4618\n",
            "[2020-09-04 15:54:58] step: 4610, loss: 1.4890\n",
            "[2020-09-04 15:55:08] step: 4620, loss: 1.4781\n",
            "[2020-09-04 15:55:18] step: 4630, loss: 1.4776\n",
            "Start epoch 76\n",
            "[2020-09-04 15:55:29] step: 4640, loss: 1.4654\n",
            "[2020-09-04 15:55:39] step: 4650, loss: 1.4724\n",
            "Starting eval\n",
            "┌─────────┬────────┬────────┬────────┐\n",
            "│ Metric  │ Pre    │ Rec    │ F      │\n",
            "├─────────┼────────┼────────┼────────┤\n",
            "│ ROUGE-1 │ 0.3726 │ 0.3159 │ 0.3259 │\n",
            "│ ROUGE-2 │ 0.1714 │ 0.1470 │ 0.1500 │\n",
            "│ ROUGE-L │ 0.3437 │ 0.2928 │ 0.2814 │\n",
            "└─────────┴────────┴────────┴────────┘\n",
            "epoch: 76, bleu_score 0.0833\n",
            "[2020-09-04 15:56:25] step: 4660, loss: 1.4651\n",
            "[2020-09-04 15:56:36] step: 4670, loss: 1.4927\n",
            "[2020-09-04 15:56:46] step: 4680, loss: 1.4628\n",
            "[2020-09-04 15:56:56] step: 4690, loss: 1.4589\n",
            "Start epoch 77\n",
            "[2020-09-04 15:57:07] step: 4700, loss: 1.4787\n",
            "[2020-09-04 15:57:17] step: 4710, loss: 1.4721\n",
            "[2020-09-04 15:57:27] step: 4720, loss: 1.4867\n",
            "Starting eval\n",
            "┌─────────┬────────┬────────┬────────┐\n",
            "│ Metric  │ Pre    │ Rec    │ F      │\n",
            "├─────────┼────────┼────────┼────────┤\n",
            "│ ROUGE-1 │ 0.3637 │ 0.3202 │ 0.3250 │\n",
            "│ ROUGE-2 │ 0.1660 │ 0.1515 │ 0.1513 │\n",
            "│ ROUGE-L │ 0.3271 │ 0.2914 │ 0.2764 │\n",
            "└─────────┴────────┴────────┴────────┘\n",
            "epoch: 77, bleu_score 0.0883\n",
            "[2020-09-04 15:58:13] step: 4730, loss: 1.4779\n",
            "[2020-09-04 15:58:23] step: 4740, loss: 1.4824\n",
            "[2020-09-04 15:58:33] step: 4750, loss: 1.4744\n",
            "Start epoch 78\n",
            "[2020-09-04 15:58:44] step: 4760, loss: 1.4700\n",
            "[2020-09-04 15:58:54] step: 4770, loss: 1.4733\n",
            "[2020-09-04 15:59:05] step: 4780, loss: 1.4514\n",
            "[2020-09-04 15:59:15] step: 4790, loss: 1.4638\n",
            "[2020-09-04 15:59:25] step: 4800, loss: 1.4608\n",
            "Starting eval\n",
            "┌─────────┬────────┬────────┬────────┐\n",
            "│ Metric  │ Pre    │ Rec    │ F      │\n",
            "├─────────┼────────┼────────┼────────┤\n",
            "│ ROUGE-1 │ 0.3876 │ 0.3201 │ 0.3361 │\n",
            "│ ROUGE-2 │ 0.1894 │ 0.1582 │ 0.1646 │\n",
            "│ ROUGE-L │ 0.3573 │ 0.2979 │ 0.2918 │\n",
            "└─────────┴────────┴────────┴────────┘\n",
            "epoch: 78, bleu_score 0.0908\n",
            "[2020-09-04 16:00:07] step: 4810, loss: 1.4580\n",
            "Start epoch 79\n",
            "[2020-09-04 16:00:18] step: 4820, loss: 1.4509\n",
            "[2020-09-04 16:00:28] step: 4830, loss: 1.4486\n",
            "[2020-09-04 16:00:38] step: 4840, loss: 1.4601\n",
            "[2020-09-04 16:00:49] step: 4850, loss: 1.4601\n",
            "[2020-09-04 16:00:59] step: 4860, loss: 1.4508\n",
            "[2020-09-04 16:01:09] step: 4870, loss: 1.4560\n",
            "Starting eval\n",
            "┌─────────┬────────┬────────┬────────┐\n",
            "│ Metric  │ Pre    │ Rec    │ F      │\n",
            "├─────────┼────────┼────────┼────────┤\n",
            "│ ROUGE-1 │ 0.3618 │ 0.3333 │ 0.3316 │\n",
            "│ ROUGE-2 │ 0.1737 │ 0.1629 │ 0.1597 │\n",
            "│ ROUGE-L │ 0.3320 │ 0.3072 │ 0.2866 │\n",
            "└─────────┴────────┴────────┴────────┘\n",
            "epoch: 79, bleu_score 0.0978\n",
            "saving model to ./outputs/best-model.ckpt\n",
            "Start epoch 80\n",
            "[2020-09-04 16:02:20] step: 4880, loss: 1.4648\n",
            "[2020-09-04 16:02:30] step: 4890, loss: 1.4721\n",
            "[2020-09-04 16:02:41] step: 4900, loss: 1.4528\n",
            "[2020-09-04 16:02:51] step: 4910, loss: 1.4531\n",
            "[2020-09-04 16:03:02] step: 4920, loss: 1.4659\n",
            "[2020-09-04 16:03:12] step: 4930, loss: 1.4726\n",
            "[2020-09-04 16:03:22] step: 4940, loss: 1.4611\n",
            "Start epoch 81\n",
            "[2020-09-04 16:03:33] step: 4950, loss: 1.4638\n",
            "Starting eval\n",
            "┌─────────┬────────┬────────┬────────┐\n",
            "│ Metric  │ Pre    │ Rec    │ F      │\n",
            "├─────────┼────────┼────────┼────────┤\n",
            "│ ROUGE-1 │ 0.3574 │ 0.3233 │ 0.3229 │\n",
            "│ ROUGE-2 │ 0.1626 │ 0.1514 │ 0.1489 │\n",
            "│ ROUGE-L │ 0.3248 │ 0.2957 │ 0.2762 │\n",
            "└─────────┴────────┴────────┴────────┘\n",
            "epoch: 81, bleu_score 0.0854\n",
            "[2020-09-04 16:04:19] step: 4960, loss: 1.4705\n",
            "[2020-09-04 16:04:29] step: 4970, loss: 1.4573\n",
            "[2020-09-04 16:04:40] step: 4980, loss: 1.4717\n",
            "[2020-09-04 16:04:50] step: 4990, loss: 1.4650\n",
            "[2020-09-04 16:05:00] step: 5000, loss: 1.4727\n",
            "Start epoch 82\n",
            "[2020-09-04 16:05:11] step: 5010, loss: 1.4551\n",
            "[2020-09-04 16:05:21] step: 5020, loss: 1.4539\n",
            "Starting eval\n",
            "┌─────────┬────────┬────────┬────────┐\n",
            "│ Metric  │ Pre    │ Rec    │ F      │\n",
            "├─────────┼────────┼────────┼────────┤\n",
            "│ ROUGE-1 │ 0.3525 │ 0.3029 │ 0.3114 │\n",
            "│ ROUGE-2 │ 0.1550 │ 0.1371 │ 0.1391 │\n",
            "│ ROUGE-L │ 0.3213 │ 0.2786 │ 0.2671 │\n",
            "└─────────┴────────┴────────┴────────┘\n",
            "epoch: 82, bleu_score 0.0782\n",
            "[2020-09-04 16:06:04] step: 5030, loss: 1.4489\n",
            "[2020-09-04 16:06:14] step: 5040, loss: 1.4572\n",
            "[2020-09-04 16:06:25] step: 5050, loss: 1.4737\n",
            "[2020-09-04 16:06:35] step: 5060, loss: 1.4888\n",
            "Start epoch 83\n",
            "[2020-09-04 16:06:45] step: 5070, loss: 1.4502\n",
            "[2020-09-04 16:06:56] step: 5080, loss: 1.4646\n",
            "[2020-09-04 16:07:06] step: 5090, loss: 1.4681\n",
            "[2020-09-04 16:07:17] step: 5100, loss: 1.4504\n",
            "Starting eval\n",
            "┌─────────┬────────┬────────┬────────┐\n",
            "│ Metric  │ Pre    │ Rec    │ F      │\n",
            "├─────────┼────────┼────────┼────────┤\n",
            "│ ROUGE-1 │ 0.3791 │ 0.3227 │ 0.3325 │\n",
            "│ ROUGE-2 │ 0.1848 │ 0.1582 │ 0.1622 │\n",
            "│ ROUGE-L │ 0.3495 │ 0.2990 │ 0.2869 │\n",
            "└─────────┴────────┴────────┴────────┘\n",
            "epoch: 83, bleu_score 0.0886\n",
            "[2020-09-04 16:07:59] step: 5110, loss: 1.4543\n",
            "[2020-09-04 16:08:09] step: 5120, loss: 1.4918\n",
            "Start epoch 84\n",
            "[2020-09-04 16:08:20] step: 5130, loss: 1.4370\n",
            "[2020-09-04 16:08:30] step: 5140, loss: 1.4514\n",
            "[2020-09-04 16:08:40] step: 5150, loss: 1.4508\n",
            "[2020-09-04 16:08:51] step: 5160, loss: 1.4477\n",
            "[2020-09-04 16:09:01] step: 5170, loss: 1.4642\n",
            "Starting eval\n",
            "┌─────────┬────────┬────────┬────────┐\n",
            "│ Metric  │ Pre    │ Rec    │ F      │\n",
            "├─────────┼────────┼────────┼────────┤\n",
            "│ ROUGE-1 │ 0.3589 │ 0.3261 │ 0.3260 │\n",
            "│ ROUGE-2 │ 0.1740 │ 0.1580 │ 0.1577 │\n",
            "│ ROUGE-L │ 0.3298 │ 0.3010 │ 0.2815 │\n",
            "└─────────┴────────┴────────┴────────┘\n",
            "epoch: 84, bleu_score 0.0949\n",
            "[2020-09-04 16:09:48] step: 5180, loss: 1.4532\n",
            "Start epoch 85\n",
            "[2020-09-04 16:09:58] step: 5190, loss: 1.4522\n",
            "[2020-09-04 16:10:08] step: 5200, loss: 1.4522\n",
            "[2020-09-04 16:10:19] step: 5210, loss: 1.4512\n",
            "[2020-09-04 16:10:29] step: 5220, loss: 1.4494\n",
            "[2020-09-04 16:10:40] step: 5230, loss: 1.4596\n",
            "[2020-09-04 16:10:50] step: 5240, loss: 1.4540\n",
            "Start epoch 86\n",
            "[2020-09-04 16:11:00] step: 5250, loss: 1.4564\n",
            "Starting eval\n",
            "┌─────────┬────────┬────────┬────────┐\n",
            "│ Metric  │ Pre    │ Rec    │ F      │\n",
            "├─────────┼────────┼────────┼────────┤\n",
            "│ ROUGE-1 │ 0.3592 │ 0.3147 │ 0.3180 │\n",
            "│ ROUGE-2 │ 0.1670 │ 0.1527 │ 0.1507 │\n",
            "│ ROUGE-L │ 0.3281 │ 0.2903 │ 0.2720 │\n",
            "└─────────┴────────┴────────┴────────┘\n",
            "epoch: 86, bleu_score 0.0874\n",
            "[2020-09-04 16:11:49] step: 5260, loss: 1.4537\n",
            "[2020-09-04 16:12:00] step: 5270, loss: 1.4614\n",
            "[2020-09-04 16:12:10] step: 5280, loss: 1.4522\n",
            "[2020-09-04 16:12:20] step: 5290, loss: 1.4505\n",
            "[2020-09-04 16:12:31] step: 5300, loss: 1.4646\n",
            "Start epoch 87\n",
            "[2020-09-04 16:12:41] step: 5310, loss: 1.4722\n",
            "[2020-09-04 16:12:51] step: 5320, loss: 1.4592\n",
            "Starting eval\n",
            "┌─────────┬────────┬────────┬────────┐\n",
            "│ Metric  │ Pre    │ Rec    │ F      │\n",
            "├─────────┼────────┼────────┼────────┤\n",
            "│ ROUGE-1 │ 0.3550 │ 0.3128 │ 0.3181 │\n",
            "│ ROUGE-2 │ 0.1640 │ 0.1452 │ 0.1474 │\n",
            "│ ROUGE-L │ 0.3276 │ 0.2893 │ 0.2758 │\n",
            "└─────────┴────────┴────────┴────────┘\n",
            "epoch: 87, bleu_score 0.0821\n",
            "[2020-09-04 16:13:37] step: 5330, loss: 1.4565\n",
            "[2020-09-04 16:13:47] step: 5340, loss: 1.4271\n",
            "[2020-09-04 16:13:58] step: 5350, loss: 1.4368\n",
            "[2020-09-04 16:14:08] step: 5360, loss: 1.4407\n",
            "Start epoch 88\n",
            "[2020-09-04 16:14:18] step: 5370, loss: 1.4551\n",
            "[2020-09-04 16:14:29] step: 5380, loss: 1.4514\n",
            "[2020-09-04 16:14:39] step: 5390, loss: 1.4323\n",
            "[2020-09-04 16:14:49] step: 5400, loss: 1.4498\n",
            "Starting eval\n",
            "┌─────────┬────────┬────────┬────────┐\n",
            "│ Metric  │ Pre    │ Rec    │ F      │\n",
            "├─────────┼────────┼────────┼────────┤\n",
            "│ ROUGE-1 │ 0.3634 │ 0.3298 │ 0.3297 │\n",
            "│ ROUGE-2 │ 0.1708 │ 0.1582 │ 0.1558 │\n",
            "│ ROUGE-L │ 0.3324 │ 0.3045 │ 0.2843 │\n",
            "└─────────┴────────┴────────┴────────┘\n",
            "epoch: 88, bleu_score 0.0915\n",
            "[2020-09-04 16:15:35] step: 5410, loss: 1.4441\n",
            "[2020-09-04 16:15:45] step: 5420, loss: 1.4669\n",
            "Start epoch 89\n",
            "[2020-09-04 16:15:56] step: 5430, loss: 1.4556\n",
            "[2020-09-04 16:16:06] step: 5440, loss: 1.4536\n",
            "[2020-09-04 16:16:16] step: 5450, loss: 1.4653\n",
            "[2020-09-04 16:16:27] step: 5460, loss: 1.4384\n",
            "[2020-09-04 16:16:37] step: 5470, loss: 1.4525\n",
            "Starting eval\n",
            "┌─────────┬────────┬────────┬────────┐\n",
            "│ Metric  │ Pre    │ Rec    │ F      │\n",
            "├─────────┼────────┼────────┼────────┤\n",
            "│ ROUGE-1 │ 0.3683 │ 0.3172 │ 0.3237 │\n",
            "│ ROUGE-2 │ 0.1718 │ 0.1504 │ 0.1519 │\n",
            "│ ROUGE-L │ 0.3380 │ 0.2922 │ 0.2771 │\n",
            "└─────────┴────────┴────────┴────────┘\n",
            "epoch: 89, bleu_score 0.0835\n",
            "[2020-09-04 16:17:22] step: 5480, loss: 1.4692\n",
            "Start epoch 90\n",
            "[2020-09-04 16:17:32] step: 5490, loss: 1.4555\n",
            "[2020-09-04 16:17:42] step: 5500, loss: 1.4487\n",
            "[2020-09-04 16:17:53] step: 5510, loss: 1.4290\n",
            "[2020-09-04 16:18:03] step: 5520, loss: 1.4392\n",
            "[2020-09-04 16:18:13] step: 5530, loss: 1.4350\n",
            "[2020-09-04 16:18:24] step: 5540, loss: 1.4550\n",
            "[2020-09-04 16:18:34] step: 5550, loss: 1.4539\n",
            "Starting eval\n",
            "┌─────────┬────────┬────────┬────────┐\n",
            "│ Metric  │ Pre    │ Rec    │ F      │\n",
            "├─────────┼────────┼────────┼────────┤\n",
            "│ ROUGE-1 │ 0.3503 │ 0.3305 │ 0.3237 │\n",
            "│ ROUGE-2 │ 0.1609 │ 0.1563 │ 0.1497 │\n",
            "│ ROUGE-L │ 0.3170 │ 0.3004 │ 0.2747 │\n",
            "└─────────┴────────┴────────┴────────┘\n",
            "epoch: 90, bleu_score 0.0913\n",
            "Start epoch 91\n",
            "[2020-09-04 16:19:23] step: 5560, loss: 1.4398\n",
            "[2020-09-04 16:19:33] step: 5570, loss: 1.4366\n",
            "[2020-09-04 16:19:44] step: 5580, loss: 1.4390\n",
            "[2020-09-04 16:19:54] step: 5590, loss: 1.4525\n",
            "[2020-09-04 16:20:04] step: 5600, loss: 1.4387\n",
            "[2020-09-04 16:20:15] step: 5610, loss: 1.4462\n",
            "Start epoch 92\n",
            "[2020-09-04 16:20:25] step: 5620, loss: 1.4395\n",
            "Starting eval\n",
            "┌─────────┬────────┬────────┬────────┐\n",
            "│ Metric  │ Pre    │ Rec    │ F      │\n",
            "├─────────┼────────┼────────┼────────┤\n",
            "│ ROUGE-1 │ 0.3882 │ 0.3228 │ 0.3356 │\n",
            "│ ROUGE-2 │ 0.1821 │ 0.1538 │ 0.1577 │\n",
            "│ ROUGE-L │ 0.3611 │ 0.3023 │ 0.2917 │\n",
            "└─────────┴────────┴────────┴────────┘\n",
            "epoch: 92, bleu_score 0.0839\n",
            "[2020-09-04 16:21:09] step: 5630, loss: 1.4303\n",
            "[2020-09-04 16:21:19] step: 5640, loss: 1.4318\n",
            "[2020-09-04 16:21:29] step: 5650, loss: 1.4245\n",
            "[2020-09-04 16:21:40] step: 5660, loss: 1.4461\n",
            "[2020-09-04 16:21:50] step: 5670, loss: 1.4556\n",
            "Start epoch 93\n",
            "[2020-09-04 16:22:00] step: 5680, loss: 1.4422\n",
            "[2020-09-04 16:22:11] step: 5690, loss: 1.4392\n",
            "[2020-09-04 16:22:21] step: 5700, loss: 1.4324\n",
            "Starting eval\n",
            "┌─────────┬────────┬────────┬────────┐\n",
            "│ Metric  │ Pre    │ Rec    │ F      │\n",
            "├─────────┼────────┼────────┼────────┤\n",
            "│ ROUGE-1 │ 0.3809 │ 0.3316 │ 0.3372 │\n",
            "│ ROUGE-2 │ 0.1879 │ 0.1638 │ 0.1660 │\n",
            "│ ROUGE-L │ 0.3458 │ 0.3037 │ 0.2870 │\n",
            "└─────────┴────────┴────────┴────────┘\n",
            "epoch: 93, bleu_score 0.0958\n",
            "[2020-09-04 16:23:07] step: 5710, loss: 1.4265\n",
            "[2020-09-04 16:23:17] step: 5720, loss: 1.4291\n",
            "[2020-09-04 16:23:27] step: 5730, loss: 1.4387\n",
            "Start epoch 94\n",
            "[2020-09-04 16:23:38] step: 5740, loss: 1.4464\n",
            "[2020-09-04 16:23:48] step: 5750, loss: 1.4597\n",
            "[2020-09-04 16:23:58] step: 5760, loss: 1.4263\n",
            "[2020-09-04 16:24:09] step: 5770, loss: 1.4245\n",
            "Starting eval\n",
            "┌─────────┬────────┬────────┬────────┐\n",
            "│ Metric  │ Pre    │ Rec    │ F      │\n",
            "├─────────┼────────┼────────┼────────┤\n",
            "│ ROUGE-1 │ 0.3686 │ 0.3274 │ 0.3319 │\n",
            "│ ROUGE-2 │ 0.1805 │ 0.1639 │ 0.1638 │\n",
            "│ ROUGE-L │ 0.3369 │ 0.3005 │ 0.2853 │\n",
            "└─────────┴────────┴────────┴────────┘\n",
            "epoch: 94, bleu_score 0.0982\n",
            "saving model to ./outputs/best-model.ckpt\n",
            "[2020-09-04 16:25:21] step: 5780, loss: 1.4611\n",
            "[2020-09-04 16:25:31] step: 5790, loss: 1.4358\n",
            "Start epoch 95\n",
            "[2020-09-04 16:25:42] step: 5800, loss: 1.4246\n",
            "[2020-09-04 16:25:53] step: 5810, loss: 1.4333\n",
            "[2020-09-04 16:26:03] step: 5820, loss: 1.4247\n",
            "[2020-09-04 16:26:14] step: 5830, loss: 1.4400\n",
            "[2020-09-04 16:26:24] step: 5840, loss: 1.4304\n",
            "[2020-09-04 16:26:34] step: 5850, loss: 1.4412\n",
            "Starting eval\n",
            "┌─────────┬────────┬────────┬────────┐\n",
            "│ Metric  │ Pre    │ Rec    │ F      │\n",
            "├─────────┼────────┼────────┼────────┤\n",
            "│ ROUGE-1 │ 0.3922 │ 0.3398 │ 0.3473 │\n",
            "│ ROUGE-2 │ 0.1936 │ 0.1700 │ 0.1719 │\n",
            "│ ROUGE-L │ 0.3594 │ 0.3146 │ 0.2992 │\n",
            "└─────────┴────────┴────────┴────────┘\n",
            "epoch: 95, bleu_score 0.0960\n",
            "Start epoch 96\n",
            "[2020-09-04 16:27:20] step: 5860, loss: 1.4313\n",
            "[2020-09-04 16:27:30] step: 5870, loss: 1.4321\n",
            "[2020-09-04 16:27:41] step: 5880, loss: 1.4313\n",
            "[2020-09-04 16:27:51] step: 5890, loss: 1.4166\n",
            "[2020-09-04 16:28:01] step: 5900, loss: 1.4285\n",
            "[2020-09-04 16:28:12] step: 5910, loss: 1.4247\n",
            "Start epoch 97\n",
            "[2020-09-04 16:28:22] step: 5920, loss: 1.4361\n",
            "Starting eval\n",
            "┌─────────┬────────┬────────┬────────┐\n",
            "│ Metric  │ Pre    │ Rec    │ F      │\n",
            "├─────────┼────────┼────────┼────────┤\n",
            "│ ROUGE-1 │ 0.3833 │ 0.3324 │ 0.3408 │\n",
            "│ ROUGE-2 │ 0.1837 │ 0.1651 │ 0.1661 │\n",
            "│ ROUGE-L │ 0.3484 │ 0.3049 │ 0.2923 │\n",
            "└─────────┴────────┴────────┴────────┘\n",
            "epoch: 97, bleu_score 0.0957\n",
            "[2020-09-04 16:29:09] step: 5930, loss: 1.4290\n",
            "[2020-09-04 16:29:19] step: 5940, loss: 1.4153\n",
            "[2020-09-04 16:29:29] step: 5950, loss: 1.4313\n",
            "[2020-09-04 16:29:40] step: 5960, loss: 1.4350\n",
            "[2020-09-04 16:29:50] step: 5970, loss: 1.4346\n",
            "Start epoch 98\n",
            "[2020-09-04 16:30:00] step: 5980, loss: 1.4367\n",
            "[2020-09-04 16:30:11] step: 5990, loss: 1.4350\n",
            "[2020-09-04 16:30:21] step: 6000, loss: 1.4192\n",
            "Starting eval\n",
            "┌─────────┬────────┬────────┬────────┐\n",
            "│ Metric  │ Pre    │ Rec    │ F      │\n",
            "├─────────┼────────┼────────┼────────┤\n",
            "│ ROUGE-1 │ 0.3669 │ 0.3161 │ 0.3247 │\n",
            "│ ROUGE-2 │ 0.1686 │ 0.1474 │ 0.1496 │\n",
            "│ ROUGE-L │ 0.3285 │ 0.2877 │ 0.2749 │\n",
            "└─────────┴────────┴────────┴────────┘\n",
            "epoch: 98, bleu_score 0.0849\n",
            "[2020-09-04 16:31:08] step: 6010, loss: 1.4295\n",
            "[2020-09-04 16:31:18] step: 6020, loss: 1.4262\n",
            "[2020-09-04 16:31:28] step: 6030, loss: 1.4244\n",
            "Start epoch 99\n",
            "[2020-09-04 16:31:39] step: 6040, loss: 1.4284\n",
            "[2020-09-04 16:31:49] step: 6050, loss: 1.4323\n",
            "[2020-09-04 16:32:00] step: 6060, loss: 1.4315\n",
            "[2020-09-04 16:32:10] step: 6070, loss: 1.4207\n",
            "Starting eval\n",
            "┌─────────┬────────┬────────┬────────┐\n",
            "│ Metric  │ Pre    │ Rec    │ F      │\n",
            "├─────────┼────────┼────────┼────────┤\n",
            "│ ROUGE-1 │ 0.3733 │ 0.3221 │ 0.3300 │\n",
            "│ ROUGE-2 │ 0.1794 │ 0.1560 │ 0.1591 │\n",
            "│ ROUGE-L │ 0.3438 │ 0.2985 │ 0.2852 │\n",
            "└─────────┴────────┴────────┴────────┘\n",
            "epoch: 99, bleu_score 0.0903\n",
            "[2020-09-04 16:32:52] step: 6080, loss: 1.4239\n",
            "[2020-09-04 16:33:02] step: 6090, loss: 1.4315\n"
          ],
          "name": "stdout"
        }
      ]
    },
    {
      "cell_type": "code",
      "metadata": {
        "id": "vT5L_4tU4mvP",
        "colab_type": "code",
        "colab": {
          "base_uri": "https://localhost:8080/",
          "height": 843
        },
        "outputId": "2bffaa43-25de-44a7-fb84-252bb5695b71"
      },
      "source": [
        "!python \"/content/drive/My Drive/Summarization/Abstractive-Summarization-of-Meetings-master/main.py\" --run_mode=predict"
      ],
      "execution_count": null,
      "outputs": [
        {
          "output_type": "stream",
          "text": [
            "Using cached pre-trained BERT checkpoint from /root/texar_data/BERT/bert-base-uncased.\n",
            "Using cached pre-trained BERT checkpoint from /root/texar_data/BERT/bert-base-uncased.\n",
            "2020-09-06 10:35:07.472835: I tensorflow/stream_executor/platform/default/dso_loader.cc:44] Successfully opened dynamic library libcuda.so.1\n",
            "2020-09-06 10:35:07.500398: I tensorflow/stream_executor/cuda/cuda_gpu_executor.cc:983] successful NUMA node read from SysFS had negative value (-1), but there must be at least one NUMA node, so returning NUMA node zero\n",
            "2020-09-06 10:35:07.501009: I tensorflow/core/common_runtime/gpu/gpu_device.cc:1639] Found device 0 with properties: \n",
            "name: Tesla P4 major: 6 minor: 1 memoryClockRate(GHz): 1.1135\n",
            "pciBusID: 0000:00:04.0\n",
            "2020-09-06 10:35:07.501451: I tensorflow/stream_executor/platform/default/dso_loader.cc:44] Successfully opened dynamic library libcudart.so.10.1\n",
            "2020-09-06 10:35:07.503741: I tensorflow/stream_executor/platform/default/dso_loader.cc:44] Successfully opened dynamic library libcublas.so.10\n",
            "2020-09-06 10:35:07.512354: I tensorflow/stream_executor/platform/default/dso_loader.cc:44] Successfully opened dynamic library libcufft.so.10\n",
            "2020-09-06 10:35:07.513062: I tensorflow/stream_executor/platform/default/dso_loader.cc:44] Successfully opened dynamic library libcurand.so.10\n",
            "2020-09-06 10:35:07.515589: I tensorflow/stream_executor/platform/default/dso_loader.cc:44] Successfully opened dynamic library libcusolver.so.10\n",
            "2020-09-06 10:35:07.516681: I tensorflow/stream_executor/platform/default/dso_loader.cc:44] Successfully opened dynamic library libcusparse.so.10\n",
            "2020-09-06 10:35:07.521483: I tensorflow/stream_executor/platform/default/dso_loader.cc:44] Successfully opened dynamic library libcudnn.so.7\n",
            "2020-09-06 10:35:07.521660: I tensorflow/stream_executor/cuda/cuda_gpu_executor.cc:983] successful NUMA node read from SysFS had negative value (-1), but there must be at least one NUMA node, so returning NUMA node zero\n",
            "2020-09-06 10:35:07.522360: I tensorflow/stream_executor/cuda/cuda_gpu_executor.cc:983] successful NUMA node read from SysFS had negative value (-1), but there must be at least one NUMA node, so returning NUMA node zero\n",
            "2020-09-06 10:35:07.522998: I tensorflow/core/common_runtime/gpu/gpu_device.cc:1767] Adding visible gpu devices: 0\n",
            "2020-09-06 10:35:07.528752: I tensorflow/core/platform/profile_utils/cpu_utils.cc:94] CPU Frequency: 2300000000 Hz\n",
            "2020-09-06 10:35:07.528951: I tensorflow/compiler/xla/service/service.cc:168] XLA service 0x2181100 initialized for platform Host (this does not guarantee that XLA will be used). Devices:\n",
            "2020-09-06 10:35:07.528980: I tensorflow/compiler/xla/service/service.cc:176]   StreamExecutor device (0): Host, Default Version\n",
            "2020-09-06 10:35:07.628333: I tensorflow/stream_executor/cuda/cuda_gpu_executor.cc:983] successful NUMA node read from SysFS had negative value (-1), but there must be at least one NUMA node, so returning NUMA node zero\n",
            "2020-09-06 10:35:07.628932: I tensorflow/compiler/xla/service/service.cc:168] XLA service 0x2180f40 initialized for platform CUDA (this does not guarantee that XLA will be used). Devices:\n",
            "2020-09-06 10:35:07.628965: I tensorflow/compiler/xla/service/service.cc:176]   StreamExecutor device (0): Tesla P4, Compute Capability 6.1\n",
            "2020-09-06 10:35:07.629157: I tensorflow/stream_executor/cuda/cuda_gpu_executor.cc:983] successful NUMA node read from SysFS had negative value (-1), but there must be at least one NUMA node, so returning NUMA node zero\n",
            "2020-09-06 10:35:07.629524: I tensorflow/core/common_runtime/gpu/gpu_device.cc:1639] Found device 0 with properties: \n",
            "name: Tesla P4 major: 6 minor: 1 memoryClockRate(GHz): 1.1135\n",
            "pciBusID: 0000:00:04.0\n",
            "2020-09-06 10:35:07.629625: I tensorflow/stream_executor/platform/default/dso_loader.cc:44] Successfully opened dynamic library libcudart.so.10.1\n",
            "2020-09-06 10:35:07.629650: I tensorflow/stream_executor/platform/default/dso_loader.cc:44] Successfully opened dynamic library libcublas.so.10\n",
            "2020-09-06 10:35:07.629675: I tensorflow/stream_executor/platform/default/dso_loader.cc:44] Successfully opened dynamic library libcufft.so.10\n",
            "2020-09-06 10:35:07.629695: I tensorflow/stream_executor/platform/default/dso_loader.cc:44] Successfully opened dynamic library libcurand.so.10\n",
            "2020-09-06 10:35:07.629714: I tensorflow/stream_executor/platform/default/dso_loader.cc:44] Successfully opened dynamic library libcusolver.so.10\n",
            "2020-09-06 10:35:07.629736: I tensorflow/stream_executor/platform/default/dso_loader.cc:44] Successfully opened dynamic library libcusparse.so.10\n",
            "2020-09-06 10:35:07.629759: I tensorflow/stream_executor/platform/default/dso_loader.cc:44] Successfully opened dynamic library libcudnn.so.7\n",
            "2020-09-06 10:35:07.629852: I tensorflow/stream_executor/cuda/cuda_gpu_executor.cc:983] successful NUMA node read from SysFS had negative value (-1), but there must be at least one NUMA node, so returning NUMA node zero\n",
            "2020-09-06 10:35:07.630296: I tensorflow/stream_executor/cuda/cuda_gpu_executor.cc:983] successful NUMA node read from SysFS had negative value (-1), but there must be at least one NUMA node, so returning NUMA node zero\n",
            "2020-09-06 10:35:07.630699: I tensorflow/core/common_runtime/gpu/gpu_device.cc:1767] Adding visible gpu devices: 0\n",
            "2020-09-06 10:35:07.630773: I tensorflow/stream_executor/platform/default/dso_loader.cc:44] Successfully opened dynamic library libcudart.so.10.1\n",
            "2020-09-06 10:35:07.631786: I tensorflow/core/common_runtime/gpu/gpu_device.cc:1180] Device interconnect StreamExecutor with strength 1 edge matrix:\n",
            "2020-09-06 10:35:07.631812: I tensorflow/core/common_runtime/gpu/gpu_device.cc:1186]      0 \n",
            "2020-09-06 10:35:07.631822: I tensorflow/core/common_runtime/gpu/gpu_device.cc:1199] 0:   N \n",
            "2020-09-06 10:35:07.631952: I tensorflow/stream_executor/cuda/cuda_gpu_executor.cc:983] successful NUMA node read from SysFS had negative value (-1), but there must be at least one NUMA node, so returning NUMA node zero\n",
            "2020-09-06 10:35:07.632349: I tensorflow/stream_executor/cuda/cuda_gpu_executor.cc:983] successful NUMA node read from SysFS had negative value (-1), but there must be at least one NUMA node, so returning NUMA node zero\n",
            "2020-09-06 10:35:07.633020: W tensorflow/core/common_runtime/gpu/gpu_bfc_allocator.cc:39] Overriding allow_growth setting because the TF_FORCE_GPU_ALLOW_GROWTH environment variable is set. Original config value was 0.\n",
            "2020-09-06 10:35:07.633074: I tensorflow/core/common_runtime/gpu/gpu_device.cc:1325] Created TensorFlow device (/job:localhost/replica:0/task:0/device:GPU:0 with 7123 MB memory) -> physical GPU (device: 0, name: Tesla P4, pci bus id: 0000:00:04.0, compute capability: 6.1)\n",
            "Begin running with predict mode\n",
            "Restore latest checkpoint in ./outputs\n",
            "2020-09-06 10:35:37.512955: I tensorflow/stream_executor/platform/default/dso_loader.cc:44] Successfully opened dynamic library libcublas.so.10\n"
          ],
          "name": "stdout"
        }
      ]
    },
    {
      "cell_type": "code",
      "metadata": {
        "id": "P1Ykgobq9-c6",
        "colab_type": "code",
        "colab": {
          "base_uri": "https://localhost:8080/",
          "height": 34
        },
        "outputId": "58894604-4eb4-4095-f99f-7635d4bba437"
      },
      "source": [
        "!gedit \"./outputs/predict-predictions.txt\""
      ],
      "execution_count": null,
      "outputs": [
        {
          "output_type": "stream",
          "text": [
            "/bin/bash: gedit: command not found\n"
          ],
          "name": "stdout"
        }
      ]
    },
    {
      "cell_type": "code",
      "metadata": {
        "id": "ubTAa_rq-tYj",
        "colab_type": "code",
        "colab": {}
      },
      "source": [
        "!cp -r ./outputs/ \"/content/drive/My Drive/Summarization/outputs\""
      ],
      "execution_count": null,
      "outputs": []
    },
    {
      "cell_type": "markdown",
      "metadata": {
        "id": "J_tEp3LXwAnw",
        "colab_type": "text"
      },
      "source": [
        "Action Items detection\n"
      ]
    },
    {
      "cell_type": "code",
      "metadata": {
        "id": "eL29P-fkv-yI",
        "colab_type": "code",
        "colab": {
          "base_uri": "https://localhost:8080/",
          "height": 67
        },
        "outputId": "7299e7a0-921a-4e49-8660-c308e8fd8881"
      },
      "source": [
        "import numpy as np\n",
        "import pandas as pd\n",
        "import re\n",
        "\n",
        "import nltk\n",
        "nltk.download('punkt')"
      ],
      "execution_count": null,
      "outputs": [
        {
          "output_type": "stream",
          "text": [
            "[nltk_data] Downloading package punkt to /root/nltk_data...\n",
            "[nltk_data]   Package punkt is already up-to-date!\n"
          ],
          "name": "stdout"
        },
        {
          "output_type": "execute_result",
          "data": {
            "text/plain": [
              "True"
            ]
          },
          "metadata": {
            "tags": []
          },
          "execution_count": 4
        }
      ]
    },
    {
      "cell_type": "code",
      "metadata": {
        "id": "HTB_r16KNS3t",
        "colab_type": "code",
        "colab": {}
      },
      "source": [
        "Data_path = \"/content/drive/My Drive/Summarization/55_120_compressed_emails.csv.zip\"\n",
        "Model = \"/content/drive/My Drive/Summarization/Email-Action-Detection-NLP-master.zip\""
      ],
      "execution_count": null,
      "outputs": []
    },
    {
      "cell_type": "code",
      "metadata": {
        "id": "oJPI-Yz7v_kg",
        "colab_type": "code",
        "colab": {}
      },
      "source": [
        "from zipfile import ZipFile\n",
        "with ZipFile(Data_path, 'r') as z:\n",
        "  z.extractall(\"/content/drive/My Drive/Summarization\")\n",
        "\n"
      ],
      "execution_count": null,
      "outputs": []
    },
    {
      "cell_type": "code",
      "metadata": {
        "id": "WxDRFzQLU_bW",
        "colab_type": "code",
        "colab": {}
      },
      "source": [
        "with ZipFile(Model, 'r') as z:\n",
        "  z.extractall(\"/content/drive/My Drive/Summarization\")"
      ],
      "execution_count": null,
      "outputs": []
    },
    {
      "cell_type": "code",
      "metadata": {
        "id": "5aG1_m31OSI8",
        "colab_type": "code",
        "colab": {}
      },
      "source": [
        "# Dataset directory, set this before your experiments\n",
        "email_ds = '/content/drive/My Drive/Summarization/emails.csv'"
      ],
      "execution_count": null,
      "outputs": []
    },
    {
      "cell_type": "code",
      "metadata": {
        "id": "lbrqrZlLOl8x",
        "colab_type": "code",
        "colab": {}
      },
      "source": [
        "# Pick a sample for understanding perspective\n",
        "df_sample  = pd.read_csv(email_ds, skiprows = lambda x : np.random.rand() > 0.01 and x > 0)"
      ],
      "execution_count": null,
      "outputs": []
    },
    {
      "cell_type": "code",
      "metadata": {
        "id": "yFV-H8MTOwm6",
        "colab_type": "code",
        "colab": {
          "base_uri": "https://localhost:8080/",
          "height": 34
        },
        "outputId": "c037e393-0047-4df3-aff6-a70f7238ffdb"
      },
      "source": [
        "df_sample.shape"
      ],
      "execution_count": null,
      "outputs": [
        {
          "output_type": "execute_result",
          "data": {
            "text/plain": [
              "(5263, 2)"
            ]
          },
          "metadata": {
            "tags": []
          },
          "execution_count": 8
        }
      ]
    },
    {
      "cell_type": "code",
      "metadata": {
        "id": "I6FOUI0XO7LK",
        "colab_type": "code",
        "colab": {
          "base_uri": "https://localhost:8080/",
          "height": 137
        },
        "outputId": "55f8e4ea-0f98-4ea3-dd10-ae0b355771b2"
      },
      "source": [
        "df_sample['message'][0]"
      ],
      "execution_count": null,
      "outputs": [
        {
          "output_type": "execute_result",
          "data": {
            "application/vnd.google.colaboratory.intrinsic+json": {
              "type": "string"
            },
            "text/plain": [
              "\"Message-ID: <29177675.1075855687692.JavaMail.evans@thyme>\\nDate: Tue, 3 Oct 2000 09:15:00 -0700 (PDT)\\nFrom: phillip.allen@enron.com\\nTo: ina.rangel@enron.com\\nSubject: Meeting re: Storage Strategies in the West\\nMime-Version: 1.0\\nContent-Type: text/plain; charset=us-ascii\\nContent-Transfer-Encoding: 7bit\\nX-From: Phillip K Allen\\nX-To: Ina Rangel\\nX-cc: \\nX-bcc: \\nX-Folder: \\\\Phillip_Allen_Dec2000\\\\Notes Folders\\\\'sent mail\\nX-Origin: Allen-P\\nX-FileName: pallen.nsf\\n\\n---------------------- Forwarded by Phillip K Allen/HOU/ECT on 10/03/2000 \\n04:13 PM ---------------------------\\n\\n\\nNancy Hall@ENRON\\n10/02/2000 06:42 AM\\nTo: Mark Whitt/NA/Enron@Enron, Phillip K Allen/HOU/ECT@ECT, Paul T \\nLucci/NA/Enron@Enron, Paul Bieniawski/Corp/Enron@ENRON, Tyrell \\nHarrison/NA/Enron@Enron\\ncc: Jean Mrha/NA/Enron@Enron, Ina Rangel/HOU/ECT@ECT, Monica \\nJackson/Corp/Enron@ENRON \\nSubject: Meeting re: Storage Strategies in the West\\n\\nThere will be a meeting on Tuesday, Oct. 10th at 4:00pm in EB3270 regarding \\nStorage Strategies in the West.  Please mark your calendars.\\n\\nThank you!\\n\\nRegards,\\nNancy Hall\\nENA Denver office\\n303-575-6490\\n\""
            ]
          },
          "metadata": {
            "tags": []
          },
          "execution_count": 9
        }
      ]
    },
    {
      "cell_type": "code",
      "metadata": {
        "id": "2-qoQ64BPFOE",
        "colab_type": "code",
        "colab": {
          "base_uri": "https://localhost:8080/",
          "height": 571
        },
        "outputId": "e9581957-4226-4457-9c23-3de9b0f48f5d"
      },
      "source": [
        "# Establish cleaning patterns\n",
        "\n",
        "[ x.strip() for x in df_sample['message'][11].split('FileName:')[1].split('\\n',1)[1].strip('\\n').split('\\n') if x]"
      ],
      "execution_count": null,
      "outputs": [
        {
          "output_type": "execute_result",
          "data": {
            "text/plain": [
              "['---------------------- Forwarded by Phillip K Allen/HOU/ECT on 04/18/2001',\n",
              " '08:10 AM ---------------------------',\n",
              " 'To: Phillip K Allen/HOU/ECT@ECT',\n",
              " 'cc:',\n",
              " 'Subject: approved trader list',\n",
              " 'Enron Wholesale Services (EES Gas Desk)',\n",
              " 'Approved Trader List:',\n",
              " 'Name    Title    Region  Basis Only',\n",
              " 'Black, Don   Vice President   Any Desk',\n",
              " 'Hewitt, Jess   Director    All Desks',\n",
              " 'Vanderhorst, Barry  Director    East, West',\n",
              " 'Shireman, Kris   Director    West',\n",
              " 'Des Champs, Joe  Director    Central',\n",
              " 'Reynolds, Roger   Director    West',\n",
              " 'Migliano, Andy    Manager   Central',\n",
              " 'Wiltfong, Jim   Manager   All Desks',\n",
              " 'Barker, Jim   Sr, Specialist   East',\n",
              " 'Fleming, Matt   Sr. Specialist   East - basis only',\n",
              " 'Tate, Paul   Sr. Specialist   East - basis only',\n",
              " 'Driscoll, Marde   Sr. Specialist   East - basis only',\n",
              " 'Arnold, Laura   Sr. Specialist   Central - basis only',\n",
              " 'Blaine, Jay   Sr. Specialist   East - basis only',\n",
              " 'Guerra, Jesus   Sr. Specialist   Central - basis only',\n",
              " 'Bangle, Christina  Sr. Specialist   East - basis only',\n",
              " 'Smith, Rhonda   Sr. Specialist   East - basis only',\n",
              " 'Boettcher, Amanda  Sr. Specialist   Central - basis only',\n",
              " 'Pendegraft, Sherry  Sr. Specialist   East - basis only',\n",
              " 'Ruby Robinson   Specialist   West - basis only',\n",
              " 'Diza, Alain   Specialist   East - basis only',\n",
              " 'Monday, April 16, 2001',\n",
              " 'Jess P. Hewitt',\n",
              " 'Revised',\n",
              " 'Approved Trader List.doc']"
            ]
          },
          "metadata": {
            "tags": []
          },
          "execution_count": 10
        }
      ]
    },
    {
      "cell_type": "code",
      "metadata": {
        "id": "uwDdkXQoPWVM",
        "colab_type": "code",
        "colab": {}
      },
      "source": [
        "# Load the whole data\n",
        "\n",
        "df = pd.read_csv(email_ds)"
      ],
      "execution_count": null,
      "outputs": []
    },
    {
      "cell_type": "code",
      "metadata": {
        "id": "Ssw4UAaBPjJR",
        "colab_type": "code",
        "colab": {
          "base_uri": "https://localhost:8080/",
          "height": 34
        },
        "outputId": "b5a35275-0e85-4835-ae49-bf70a58f8878"
      },
      "source": [
        "df.shape"
      ],
      "execution_count": null,
      "outputs": [
        {
          "output_type": "execute_result",
          "data": {
            "text/plain": [
              "(517401, 2)"
            ]
          },
          "metadata": {
            "tags": []
          },
          "execution_count": 9
        }
      ]
    },
    {
      "cell_type": "code",
      "metadata": {
        "id": "5y0Nb4elPtqi",
        "colab_type": "code",
        "colab": {}
      },
      "source": [
        "# Store emails here in the list\n",
        "# Use nltk's sentence tokenizer to tokenize the email sentences -- since we notice above that \n",
        "# order\n",
        "emails = []\n",
        "\n",
        "for i in range(df.shape[0]):\n",
        "    \n",
        "    emails.append(nltk.sent_tokenize(' '.join([ x.strip() for x in df['message'][i].split('FileName:')[1].split('\\n',1)[1].strip('\\n').split('\\n') if x]\n",
        ")))"
      ],
      "execution_count": null,
      "outputs": []
    },
    {
      "cell_type": "code",
      "metadata": {
        "id": "UZWS68OZVHg7",
        "colab_type": "code",
        "colab": {}
      },
      "source": [
        "action_text = \"/content/drive/My Drive/Summarization/Email-Action-Detection-NLP-master/action_words.txt\""
      ],
      "execution_count": null,
      "outputs": []
    },
    {
      "cell_type": "code",
      "metadata": {
        "id": "LQURO-YrVfeq",
        "colab_type": "code",
        "colab": {}
      },
      "source": [
        "# Read in action verbs\n",
        "action_verbs = []\n",
        "\n",
        "with open(action_text, 'r') as f:\n",
        "    for line in f:\n",
        "        action_verbs.append(line.strip().lower())\n",
        "        \n",
        "        \n",
        "# Storing the actionable items as a tuple of 3 items - (text, action-words, no. of action-words in sentence)\n",
        "action_texts = []   \n",
        "\n",
        "# Also store non-actionable items.\n",
        "non_action_texts = []\n",
        "\n",
        "# Due to memory/time constraints, we do not read in the entire emails, rather take a subset of 1,00,000 to show results \n",
        "for item in emails[:100000]:\n",
        "    for text in item:\n",
        "        temp_verb_list = []\n",
        "        \n",
        "        for verb in action_verbs:\n",
        "            if verb in text.lower().split():\n",
        "                temp_verb_list.append(verb)\n",
        "        if len(temp_verb_list) > 0:\n",
        "            action_texts.append((text, temp_verb_list, len(temp_verb_list)))\n",
        "        elif len(temp_verb_list) == 0:\n",
        "            non_action_texts.append(text)"
      ],
      "execution_count": null,
      "outputs": []
    },
    {
      "cell_type": "code",
      "metadata": {
        "id": "3O4P_xwsXDnd",
        "colab_type": "code",
        "colab": {
          "base_uri": "https://localhost:8080/",
          "height": 776
        },
        "outputId": "13973f0f-9a03-46d8-87d6-b12f512532e9"
      },
      "source": [
        "action_texts[:20]"
      ],
      "execution_count": null,
      "outputs": [
        {
          "output_type": "execute_result",
          "data": {
            "text/plain": [
              "[('I would suggest holding the business plan meetings here then take a trip without any formal business meetings.',\n",
              "  ['plan'],\n",
              "  1),\n",
              " ('As far as the business meetings, I think it would be more productive to try and stimulate discussions across the different groups about what is working and what is not.',\n",
              "  ['think'],\n",
              "  1),\n",
              " ('My suggestion for where to go is Austin.', ['go', 'suggestion'], 2),\n",
              " (\"Play golf and rent a ski boat and jet ski's.\", ['play'], 1),\n",
              " ('Randy, Can you send me a schedule of the salary and level of everyone in the scheduling group.',\n",
              "  ['send'],\n",
              "  1),\n",
              " ('Plus your thoughts on any changes that need to be made.', ['need'], 1),\n",
              " ('Please cc the following distribution list with updates: Phillip Allen (pallen@enron.com) Mike Grigsby (mike.grigsby@enron.com) Keith Holst (kholst@enron.com) Monique Sanchez Frank Ermis John Lavorato Thank you for your help Phillip Allen',\n",
              "  ['help', 'please'],\n",
              "  2),\n",
              " (\"1. login:  pallen pw: ke9davis I don't think these are required by the ISP 2.  static IP address IP: 64.216.90.105 Sub: 255.255.255.248 gate: 64.216.90.110 DNS: 151.164.1.8 3.\",\n",
              "  ['required', 'think'],\n",
              "  2),\n",
              " ('To do > so I need a corresponding term gas price for same.', ['need'], 1),\n",
              " ('In doing so,  I need your > best fixed price forward gas price deal for 1, 3, 5, 7 and 10 years for > annual/seasonal supply to microturbines to generate fixed kWh for > customer.',\n",
              "  ['need'],\n",
              "  1),\n",
              " ('kWh deal must have limited/ > no risk forward gas price to make deal work.',\n",
              "  ['make'],\n",
              "  1),\n",
              " ('> > We are proposing installing 180 - 240 units across a large number of > stores (60-100) in San Diego.',\n",
              "  ['proposing'],\n",
              "  1),\n",
              " ('> > For 6-8 hours a day  Microturbine run time: > Gas requirement for 180 microturbines 227 - 302 MMcf per year > Gas requirement for 240 microturbines 302 - 403 MMcf per year > > Gas will likely be consumed from May through September, during peak > electric period.',\n",
              "  ['run'],\n",
              "  1),\n",
              " ('> Gas price required: Burnertip price behind (LDC) San Diego Gas & Electric > Need detail breakout of commodity and transport cost (firm or > interruptible).',\n",
              "  ['need'],\n",
              "  1),\n",
              " ('> > Should you have additional questions, give me a call.', ['give'], 1),\n",
              " ('I have forwarded your request to Zarin Imam at EES.', ['request'], 1),\n",
              " ('Lucy, Here are the rentrolls: Open them and save in the rentroll folder.',\n",
              "  ['open'],\n",
              "  1),\n",
              " (\"Follow these steps so you don't misplace these files.\",\n",
              "  ['follow', 'steps'],\n",
              "  2),\n",
              " ('Click on Save As 2.', ['click'], 1),\n",
              " ('Click on the drop down triangle under Save in: 3.', ['click'], 1)]"
            ]
          },
          "metadata": {
            "tags": []
          },
          "execution_count": 13
        }
      ]
    },
    {
      "cell_type": "code",
      "metadata": {
        "id": "DD4Dw8EoXIeT",
        "colab_type": "code",
        "colab": {
          "base_uri": "https://localhost:8080/",
          "height": 373
        },
        "outputId": "d407bf35-79ff-478e-8bed-a449548ba25c"
      },
      "source": [
        "non_action_texts[20:40]"
      ],
      "execution_count": null,
      "outputs": [
        {
          "output_type": "execute_result",
          "data": {
            "text/plain": [
              "['Therein comes Sempra energy > gas trading, truly you.',\n",
              " '> Store number varies because of installation hurdles face at small percent.',\n",
              " '> Let me assure you, this is real deal!!',\n",
              " '> > Buck Buckner, P.E., MBA > Manager, Business Development and Planning > Big Box Retail Sales > Honeywell Power Systems, Inc. > 8725 Pan American Frwy > Albuquerque, NM 87113 > 505-798-6424 > 505-798-6050x > 505-220-4129 > 888/501-3145 >',\n",
              " 'Mr. Buckner, For delivered gas behind San Diego, Enron Energy Services is the appropriate Enron entity.',\n",
              " 'Her phone number is 713-853-7107.',\n",
              " 'Phillip Allen',\n",
              " '1.',\n",
              " 'Although the meeting with Keith, on Wednesday,  was informative the solution of creating a infinitely dynamic consolidated position screen, will be extremely difficult and time consuming.',\n",
              " 'What needs to happen on Monday from 3 - 5 is a effort to design a desired layout for the consolidated position screen, this is critical.',\n",
              " 'I have been involved in most of the meetings and the discussions have been good.',\n",
              " \"We've had three meetings which brought out very different issues from different traders.\",\n",
              " \"We're getting hit with a lot of different requests, many of which appear to be outside the scope of position consolidation.\",\n",
              " 'Customized rows and columns in the position manager (ad hoc rows/columns that add up existing position manager rows/columns).',\n",
              " 'New drill down in the position manager to break out positions by: physical, transport, swaps, options, ...',\n",
              " 'Addition of a curve tab to the position manager to show the real-time values of all curves on which the desk has a position.',\n",
              " 'Ability to split the current position grid to allow daily positions to be shown directly above monthly positions.',\n",
              " 'Each grouped column in the top grid would be tied to a grouped column in the bottom grid.',\n",
              " 'Ability to properly show curve shift for float-for-float deals; determine the appropriate positions to show for each: Gas Daily for monthly index, Physical gas for Nymex, Physical gas for Inside Ferc, Physical gas for Mid market.',\n",
              " 'Ability for TDS to pull valuation results based on a TDS flag instead of using official valuations.']"
            ]
          },
          "metadata": {
            "tags": []
          },
          "execution_count": 14
        }
      ]
    },
    {
      "cell_type": "markdown",
      "metadata": {
        "id": "9oxjspRsXUIo",
        "colab_type": "text"
      },
      "source": [
        "Hierarchical Filters¶\n",
        "NOTE: This section is applicable when we want to achieve high precision i.e. we might miss a few action items from the original list but we will achieve high accuracy on whatever has been retrieved.\n",
        "\n",
        "First Level:¶\n",
        "Filter A: Check if no. of action words are more than 1 and if length of email sentence is less than 30.\n",
        "\n",
        "Second Level:¶\n",
        "Filter B: Check if object pronouns or subject pronouns are present in the sentence. The list is specified as below.\n",
        "\n",
        "Third Level:¶\n",
        "Filter C: Disregard those with negation words.\n",
        "\n",
        "In [14]:"
      ]
    },
    {
      "cell_type": "code",
      "metadata": {
        "id": "jilwIHrzXWCS",
        "colab_type": "code",
        "colab": {}
      },
      "source": [
        "# Filters A,B,C:\n",
        "\n",
        "object_pronouns = ['me', 'her', 'him', 'us', 'them']\n",
        "subject_pronouns = ['i', 'we', 'you', 'he', 'she', 'they']\n",
        "negation_words = [\"shouldn't\", \"couldn't\", \"wouldn't\"]\n",
        "\n",
        "filtered_action_texts = []\n",
        "\n",
        "for item in action_texts:\n",
        "    if item[2]>1 and len(item[0].split())<30:\n",
        "        \n",
        "        \n",
        "    \n",
        "        obj_flag =0 \n",
        "        for x in object_pronouns:\n",
        "            if x in item[0].lower().split(): \n",
        "                filtered_action_texts.append(item[0])\n",
        "                obj_flag =1\n",
        "                break\n",
        "        if (obj_flag == 0):\n",
        "            for x in subject_pronouns:\n",
        "                if x in item[0].lower().split():\n",
        "                    filtered_action_texts.append(item[0])\n",
        "                    break\n",
        "\n",
        "final_action_texts = []\n",
        "for item in filtered_action_texts:\n",
        "    #print (item)\n",
        "    count_neg = 0\n",
        "    for x in negation_words:\n",
        "        if x in item.lower().split():\n",
        "            count_neg += 1\n",
        "            continue\n",
        "    if count_neg == 0:\n",
        "        final_action_texts.append(item)"
      ],
      "execution_count": null,
      "outputs": []
    },
    {
      "cell_type": "code",
      "metadata": {
        "id": "tOjwscF_Xhex",
        "colab_type": "code",
        "colab": {
          "base_uri": "https://localhost:8080/",
          "height": 373
        },
        "outputId": "5410dc5f-bfca-47ff-a6fc-ce86102ed8e6"
      },
      "source": [
        "final_action_texts[:20]"
      ],
      "execution_count": null,
      "outputs": [
        {
          "output_type": "execute_result",
          "data": {
            "text/plain": [
              "[\"1. login:  pallen pw: ke9davis I don't think these are required by the ISP 2.  static IP address IP: 64.216.90.105 Sub: 255.255.255.248 gate: 64.216.90.110 DNS: 151.164.1.8 3.\",\n",
              " \"Follow these steps so you don't misplace these files.\",\n",
              " 'We really need a single point of contact to help drive the trader requirements and help come to a consensus regarding the requirements.',\n",
              " 'We really need a single point of contact to help drive the trader requirements and help come to a consensus regarding the requirements.',\n",
              " 'Can you please make sure he has an active password.',\n",
              " 'This would give you a total loan of $992,000, total cost of $1,232,645 for equity required of $241,000.',\n",
              " 'This would give you a total loan of $992,000, total cost of $1,232,645 for equity required of $241,000.',\n",
              " 'Please get back to me as soon as your schedule permits regarding the site visit and feel free to call at any time.',\n",
              " 'I will follow up with an email and phone call about Cherry Creek.',\n",
              " 'Jeff, I need to see the site plan for Burnet.',\n",
              " 'Please get back to me as soon as your schedule permits regarding the site visit and feel free to call at any time.',\n",
              " 'Phillip, I will call you today to go over this more thoroughly.',\n",
              " 'Please get back to me as soon as your schedule permits regarding the site visit and feel free to call at any time.',\n",
              " 'During this period, you can use Outlook Web Access (OWA) via your= web browser (Internet Explorer 5.0) to read and send mail.',\n",
              " 'Suzanne, Can you give me more details or email  the plan prior to meeting?',\n",
              " 'You will probably need to close the file before you attach to an email.',\n",
              " \"On the gas side, I think Kean/Lay need an update to a table you prepared for me a few months ago, which I've attached..  Can you oblige?\",\n",
              " 'also, what do I need to enter under domain?',\n",
              " \"On the gas side, I think Kean/Lay need an update to a table you prepared for me a few months ago, which I've attached..  Can you oblige?\",\n",
              " 'When you open the file, go to the \"Checkbook\" tab and look at the yellow highlighted items.']"
            ]
          },
          "metadata": {
            "tags": []
          },
          "execution_count": 16
        }
      ]
    },
    {
      "cell_type": "code",
      "metadata": {
        "id": "bcI_Rt8-CHPJ",
        "colab_type": "code",
        "colab": {}
      },
      "source": [
        "import keras\n",
        "from keras.models import Sequential\n",
        "from keras.layers import Dense\n",
        "from keras.optimizers import Adam\n",
        "from keras.utils import to_categorical"
      ],
      "execution_count": null,
      "outputs": []
    },
    {
      "cell_type": "code",
      "metadata": {
        "id": "757FGHvxYEE0",
        "colab_type": "code",
        "colab": {}
      },
      "source": [
        "from sklearn.model_selection import train_test_split\n",
        "from sklearn.linear_model import LogisticRegression\n",
        "from sklearn.feature_extraction.text import TfidfVectorizer\n",
        "from sklearn.linear_model import LogisticRegression\n",
        "from sklearn.model_selection import cross_val_score\n",
        "from sklearn.pipeline import make_union\n",
        "from sklearn.metrics import confusion_matrix, classification_report\n",
        "\n",
        "import random"
      ],
      "execution_count": null,
      "outputs": []
    },
    {
      "cell_type": "code",
      "metadata": {
        "id": "LFDM-e_ZYIn9",
        "colab_type": "code",
        "colab": {}
      },
      "source": [
        "# Read in the predefined actions from the actions.csv file\n",
        "\n",
        "predefined_actions = pd.read_csv('/content/drive/My Drive/Summarization/Email-Action-Detection-NLP-master/actions.csv', header=None)"
      ],
      "execution_count": null,
      "outputs": []
    },
    {
      "cell_type": "code",
      "metadata": {
        "id": "HcKCjg1bYXEQ",
        "colab_type": "code",
        "colab": {}
      },
      "source": [
        "# Store in list\n",
        "\n",
        "predefined_actions_list = predefined_actions[0].values.tolist()"
      ],
      "execution_count": null,
      "outputs": []
    },
    {
      "cell_type": "code",
      "metadata": {
        "id": "VDF_jcFTYdeW",
        "colab_type": "code",
        "colab": {
          "base_uri": "https://localhost:8080/",
          "height": 34
        },
        "outputId": "74299854-a0eb-43ef-8b5e-d28c1502175c"
      },
      "source": [
        "len(predefined_actions_list)"
      ],
      "execution_count": null,
      "outputs": [
        {
          "output_type": "execute_result",
          "data": {
            "text/plain": [
              "1250"
            ]
          },
          "metadata": {
            "tags": []
          },
          "execution_count": 31
        }
      ]
    },
    {
      "cell_type": "code",
      "metadata": {
        "id": "LdHEGsfTYhu3",
        "colab_type": "code",
        "colab": {}
      },
      "source": [
        "# We need a balanced dataset for our classification task. Hence select 1250 non-action items \n",
        "# from our list\n",
        "\n",
        "non_actions_list = non_action_texts[:1250]"
      ],
      "execution_count": null,
      "outputs": []
    },
    {
      "cell_type": "code",
      "metadata": {
        "id": "EXY0okQbYmZ-",
        "colab_type": "code",
        "colab": {
          "base_uri": "https://localhost:8080/",
          "height": 34
        },
        "outputId": "10773403-5081-4f3e-dd6d-2d56c86d06d7"
      },
      "source": [
        "len(non_actions_list)"
      ],
      "execution_count": null,
      "outputs": [
        {
          "output_type": "execute_result",
          "data": {
            "text/plain": [
              "1250"
            ]
          },
          "metadata": {
            "tags": []
          },
          "execution_count": 33
        }
      ]
    },
    {
      "cell_type": "code",
      "metadata": {
        "id": "ENqnjBsuYrBR",
        "colab_type": "code",
        "colab": {}
      },
      "source": [
        "# Create the labeled numpy array\n",
        "\n",
        "labels = np.array([ 1 if x < 1250 else 0 for x in range(2500) ])"
      ],
      "execution_count": null,
      "outputs": []
    },
    {
      "cell_type": "code",
      "metadata": {
        "id": "IUeh51BUYuxH",
        "colab_type": "code",
        "colab": {
          "base_uri": "https://localhost:8080/",
          "height": 34
        },
        "outputId": "2c15aaa7-5bb1-4768-e270-e008d6894ef4"
      },
      "source": [
        "labels"
      ],
      "execution_count": null,
      "outputs": [
        {
          "output_type": "execute_result",
          "data": {
            "text/plain": [
              "array([1, 1, 1, ..., 0, 0, 0])"
            ]
          },
          "metadata": {
            "tags": []
          },
          "execution_count": 24
        }
      ]
    },
    {
      "cell_type": "code",
      "metadata": {
        "id": "PWj1kUJMY1bj",
        "colab_type": "code",
        "colab": {}
      },
      "source": [
        "X = np.array(predefined_actions_list + non_actions_list)"
      ],
      "execution_count": null,
      "outputs": []
    },
    {
      "cell_type": "code",
      "metadata": {
        "id": "ZX-BC4NXY7Zh",
        "colab_type": "code",
        "colab": {}
      },
      "source": [
        "# Create a new dataframe\n",
        "data = pd.DataFrame({'item':X,'label':labels})"
      ],
      "execution_count": null,
      "outputs": []
    },
    {
      "cell_type": "code",
      "metadata": {
        "id": "1izxS2OBY_ny",
        "colab_type": "code",
        "colab": {}
      },
      "source": [
        "data = data.sample(frac=1).reset_index(drop=True)"
      ],
      "execution_count": null,
      "outputs": []
    },
    {
      "cell_type": "code",
      "metadata": {
        "id": "miPMwx7GZCv7",
        "colab_type": "code",
        "colab": {
          "base_uri": "https://localhost:8080/",
          "height": 195
        },
        "outputId": "b696ebef-6bb8-4f94-e573-396514c669b4"
      },
      "source": [
        "data.head()"
      ],
      "execution_count": null,
      "outputs": [
        {
          "output_type": "execute_result",
          "data": {
            "text/html": [
              "<div>\n",
              "<style scoped>\n",
              "    .dataframe tbody tr th:only-of-type {\n",
              "        vertical-align: middle;\n",
              "    }\n",
              "\n",
              "    .dataframe tbody tr th {\n",
              "        vertical-align: top;\n",
              "    }\n",
              "\n",
              "    .dataframe thead th {\n",
              "        text-align: right;\n",
              "    }\n",
              "</style>\n",
              "<table border=\"1\" class=\"dataframe\">\n",
              "  <thead>\n",
              "    <tr style=\"text-align: right;\">\n",
              "      <th></th>\n",
              "      <th>item</th>\n",
              "      <th>label</th>\n",
              "    </tr>\n",
              "  </thead>\n",
              "  <tbody>\n",
              "    <tr>\n",
              "      <th>0</th>\n",
              "      <td>For example, if CB cannot find a good trim car...</td>\n",
              "      <td>0</td>\n",
              "    </tr>\n",
              "    <tr>\n",
              "      <th>1</th>\n",
              "      <td>You are pulling \"scheduled.\"</td>\n",
              "      <td>0</td>\n",
              "    </tr>\n",
              "    <tr>\n",
              "      <th>2</th>\n",
              "      <td>Please find the most recent version of the CA ...</td>\n",
              "      <td>1</td>\n",
              "    </tr>\n",
              "    <tr>\n",
              "      <th>3</th>\n",
              "      <td>The basis market  anticipated a Socal/San Juan...</td>\n",
              "      <td>0</td>\n",
              "    </tr>\n",
              "    <tr>\n",
              "      <th>4</th>\n",
              "      <td>It is essential that this function be performe...</td>\n",
              "      <td>0</td>\n",
              "    </tr>\n",
              "  </tbody>\n",
              "</table>\n",
              "</div>"
            ],
            "text/plain": [
              "                                                item  label\n",
              "0  For example, if CB cannot find a good trim car...      0\n",
              "1                       You are pulling \"scheduled.\"      0\n",
              "2  Please find the most recent version of the CA ...      1\n",
              "3  The basis market  anticipated a Socal/San Juan...      0\n",
              "4  It is essential that this function be performe...      0"
            ]
          },
          "metadata": {
            "tags": []
          },
          "execution_count": 30
        }
      ]
    },
    {
      "cell_type": "markdown",
      "metadata": {
        "id": "-kHx59EHZP79",
        "colab_type": "text"
      },
      "source": [
        "Use the TF-IDF vectorizer to construct feature vector for each piece of text item - both at the word and character level.¶\n",
        "This effectively functions as our char and word n-gram feature builder from the original items we have. We take n-gram ranges of 1-5 for characters and 2-4 for words."
      ]
    },
    {
      "cell_type": "code",
      "metadata": {
        "id": "3EJ0kTRpZUsG",
        "colab_type": "code",
        "colab": {}
      },
      "source": [
        "word_vectorizer = TfidfVectorizer(\n",
        "    sublinear_tf=True,\n",
        "    strip_accents='unicode',\n",
        "    analyzer='word',\n",
        "    token_pattern=r'\\w{1,}',\n",
        "    ngram_range=(1, 5),\n",
        "    max_features=30000)\n",
        "\n",
        "char_vectorizer = TfidfVectorizer(\n",
        "    sublinear_tf=True,\n",
        "    strip_accents='unicode',\n",
        "    analyzer='char',\n",
        "    ngram_range=(2, 4),\n",
        "    max_features=30000)\n",
        "vectorizer = make_union(word_vectorizer, char_vectorizer, n_jobs=2)"
      ],
      "execution_count": null,
      "outputs": []
    },
    {
      "cell_type": "code",
      "metadata": {
        "id": "DLPsYU7CZbHJ",
        "colab_type": "code",
        "colab": {}
      },
      "source": [
        "all_text = data['item']"
      ],
      "execution_count": null,
      "outputs": []
    },
    {
      "cell_type": "code",
      "metadata": {
        "id": "L-x0EuchZfcy",
        "colab_type": "code",
        "colab": {
          "base_uri": "https://localhost:8080/",
          "height": 34
        },
        "outputId": "6258bec8-4f87-414e-822f-4a67b88946ed"
      },
      "source": [
        "type(all_text)"
      ],
      "execution_count": null,
      "outputs": [
        {
          "output_type": "execute_result",
          "data": {
            "text/plain": [
              "pandas.core.series.Series"
            ]
          },
          "metadata": {
            "tags": []
          },
          "execution_count": 33
        }
      ]
    },
    {
      "cell_type": "code",
      "metadata": {
        "id": "d5UBgmkuZjR_",
        "colab_type": "code",
        "colab": {
          "base_uri": "https://localhost:8080/",
          "height": 487
        },
        "outputId": "97a2d323-25f8-486b-a17b-ba85eca15c80"
      },
      "source": [
        "# Fit the vectorizer on all texts\n",
        "vectorizer.fit(all_text)"
      ],
      "execution_count": null,
      "outputs": [
        {
          "output_type": "execute_result",
          "data": {
            "text/plain": [
              "FeatureUnion(n_jobs=2,\n",
              "             transformer_list=[('tfidfvectorizer-1',\n",
              "                                TfidfVectorizer(analyzer='word', binary=False,\n",
              "                                                decode_error='strict',\n",
              "                                                dtype=<class 'numpy.float64'>,\n",
              "                                                encoding='utf-8',\n",
              "                                                input='content', lowercase=True,\n",
              "                                                max_df=1.0, max_features=30000,\n",
              "                                                min_df=1, ngram_range=(1, 5),\n",
              "                                                norm='l2', preprocessor=None,\n",
              "                                                smooth_idf=True,\n",
              "                                                stop_words=None,\n",
              "                                                strip_accents='unicode',\n",
              "                                                subl...\n",
              "                                                dtype=<class 'numpy.float64'>,\n",
              "                                                encoding='utf-8',\n",
              "                                                input='content', lowercase=True,\n",
              "                                                max_df=1.0, max_features=30000,\n",
              "                                                min_df=1, ngram_range=(2, 4),\n",
              "                                                norm='l2', preprocessor=None,\n",
              "                                                smooth_idf=True,\n",
              "                                                stop_words=None,\n",
              "                                                strip_accents='unicode',\n",
              "                                                sublinear_tf=True,\n",
              "                                                token_pattern='(?u)\\\\b\\\\w\\\\w+\\\\b',\n",
              "                                                tokenizer=None, use_idf=True,\n",
              "                                                vocabulary=None))],\n",
              "             transformer_weights=None, verbose=False)"
            ]
          },
          "metadata": {
            "tags": []
          },
          "execution_count": 34
        }
      ]
    },
    {
      "cell_type": "code",
      "metadata": {
        "id": "QHYWXJr_ZqVK",
        "colab_type": "code",
        "colab": {}
      },
      "source": [
        "# Train-Test Split : 75-25%\n",
        "\n",
        "train_text, test_text, train_labels, test_labels = train_test_split(data['item'], data['label'], test_size=0.2, random_state = 40)"
      ],
      "execution_count": null,
      "outputs": []
    },
    {
      "cell_type": "code",
      "metadata": {
        "id": "pGrBGQOmFAHL",
        "colab_type": "code",
        "colab": {
          "base_uri": "https://localhost:8080/",
          "height": 34
        },
        "outputId": "45288cd1-9a42-4cbe-a931-8ee15cb4250c"
      },
      "source": [
        "train_text.shape"
      ],
      "execution_count": null,
      "outputs": [
        {
          "output_type": "execute_result",
          "data": {
            "text/plain": [
              "(2000,)"
            ]
          },
          "metadata": {
            "tags": []
          },
          "execution_count": 38
        }
      ]
    },
    {
      "cell_type": "code",
      "metadata": {
        "id": "Q3YHPOarZvFz",
        "colab_type": "code",
        "colab": {}
      },
      "source": [
        "train_features = vectorizer.transform(train_text)\n",
        "test_features = vectorizer.transform(test_text)"
      ],
      "execution_count": null,
      "outputs": []
    },
    {
      "cell_type": "code",
      "metadata": {
        "id": "M-Mn0TMEFqc6",
        "colab_type": "code",
        "colab": {}
      },
      "source": [
        "train_features.shape\n",
        "[nSamp,inpShape] = train_features.shape"
      ],
      "execution_count": null,
      "outputs": []
    },
    {
      "cell_type": "code",
      "metadata": {
        "id": "gwtWaDaSZ0q1",
        "colab_type": "code",
        "colab": {}
      },
      "source": [
        "# use a simple logistic regression classifier for 2-class classification\n",
        "\n",
        "classifier = LogisticRegression()"
      ],
      "execution_count": null,
      "outputs": []
    },
    {
      "cell_type": "code",
      "metadata": {
        "id": "apQZYsQLZ6Du",
        "colab_type": "code",
        "colab": {
          "base_uri": "https://localhost:8080/",
          "height": 101
        },
        "outputId": "7ec622e0-2835-4417-8274-7c93c84ecf8a"
      },
      "source": [
        "classifier.fit(train_features, train_labels)"
      ],
      "execution_count": null,
      "outputs": [
        {
          "output_type": "execute_result",
          "data": {
            "text/plain": [
              "LogisticRegression(C=1.0, class_weight=None, dual=False, fit_intercept=True,\n",
              "                   intercept_scaling=1, l1_ratio=None, max_iter=100,\n",
              "                   multi_class='auto', n_jobs=None, penalty='l2',\n",
              "                   random_state=None, solver='lbfgs', tol=0.0001, verbose=0,\n",
              "                   warm_start=False)"
            ]
          },
          "metadata": {
            "tags": []
          },
          "execution_count": 47
        }
      ]
    },
    {
      "cell_type": "code",
      "metadata": {
        "id": "3JxqbmaeZ-4S",
        "colab_type": "code",
        "colab": {
          "base_uri": "https://localhost:8080/",
          "height": 34
        },
        "outputId": "9112d21b-8b7a-49c6-c49a-551f34c8c4b9"
      },
      "source": [
        "#Accuracy\n",
        "classifier.score(test_features, test_labels)"
      ],
      "execution_count": null,
      "outputs": [
        {
          "output_type": "execute_result",
          "data": {
            "text/plain": [
              "0.9424"
            ]
          },
          "metadata": {
            "tags": []
          },
          "execution_count": 48
        }
      ]
    },
    {
      "cell_type": "code",
      "metadata": {
        "id": "CQr3pRg2aEUz",
        "colab_type": "code",
        "colab": {}
      },
      "source": [
        "predictions = classifier.predict(test_features)"
      ],
      "execution_count": null,
      "outputs": []
    },
    {
      "cell_type": "code",
      "metadata": {
        "id": "_URSXForaI7-",
        "colab_type": "code",
        "colab": {
          "base_uri": "https://localhost:8080/",
          "height": 50
        },
        "outputId": "99828cd4-4fff-4894-f8a4-50af5cf768b8"
      },
      "source": [
        "# Get the confusion matrix\n",
        "confusion_matrix(np.array(test_labels.tolist()),predictions)"
      ],
      "execution_count": null,
      "outputs": [
        {
          "output_type": "execute_result",
          "data": {
            "text/plain": [
              "array([[281,   8],\n",
              "       [ 28, 308]])"
            ]
          },
          "metadata": {
            "tags": []
          },
          "execution_count": 50
        }
      ]
    },
    {
      "cell_type": "code",
      "metadata": {
        "id": "wQWikeFxaNp8",
        "colab_type": "code",
        "colab": {
          "base_uri": "https://localhost:8080/",
          "height": 168
        },
        "outputId": "08b7a8d5-2919-48df-9cc4-8a13a2b087b3"
      },
      "source": [
        "# Get the Precision, Recall, F-1 scores for the test sets\n",
        "\n",
        "print(classification_report(np.array(test_labels.tolist()),predictions))"
      ],
      "execution_count": null,
      "outputs": [
        {
          "output_type": "stream",
          "text": [
            "              precision    recall  f1-score   support\n",
            "\n",
            "           0       0.91      0.97      0.94       289\n",
            "           1       0.97      0.92      0.94       336\n",
            "\n",
            "    accuracy                           0.94       625\n",
            "   macro avg       0.94      0.94      0.94       625\n",
            "weighted avg       0.94      0.94      0.94       625\n",
            "\n"
          ],
          "name": "stdout"
        }
      ]
    },
    {
      "cell_type": "code",
      "metadata": {
        "id": "W74QaJIKFciz",
        "colab_type": "code",
        "colab": {}
      },
      "source": [
        "#Create a Model\n",
        "model = Sequential([\n",
        "  Dense(64, activation='relu', input_shape=(inpShape,)),\n",
        "  Dense(32, activation='relu'),\n",
        "  Dense(2, activation='softmax'),\n",
        "])\n",
        "\n",
        "# Compile the model.\n",
        "model.compile(\n",
        "  optimizer='Adam',\n",
        "  loss='categorical_crossentropy',\n",
        "  metrics=['accuracy'],\n",
        ")"
      ],
      "execution_count": null,
      "outputs": []
    },
    {
      "cell_type": "code",
      "metadata": {
        "id": "6xGpjjQMFgh2",
        "colab_type": "code",
        "colab": {
          "base_uri": "https://localhost:8080/",
          "height": 202
        },
        "outputId": "ec03b139-d03d-4d8d-d805-3556e0b641c7"
      },
      "source": [
        "# Train the model.\n",
        "model.fit(\n",
        "  train_features,\n",
        "  to_categorical(train_labels),\n",
        "  epochs=5,\n",
        "  batch_size=32,\n",
        ")"
      ],
      "execution_count": null,
      "outputs": [
        {
          "output_type": "stream",
          "text": [
            "Epoch 1/5\n",
            "63/63 [==============================] - 0s 3ms/step - loss: 0.4480 - accuracy: 0.8840\n",
            "Epoch 2/5\n",
            "63/63 [==============================] - 0s 3ms/step - loss: 0.0497 - accuracy: 0.9900\n",
            "Epoch 3/5\n",
            "63/63 [==============================] - 0s 3ms/step - loss: 0.0153 - accuracy: 0.9970\n",
            "Epoch 4/5\n",
            "63/63 [==============================] - 0s 3ms/step - loss: 0.0098 - accuracy: 0.9975\n",
            "Epoch 5/5\n",
            "63/63 [==============================] - 0s 3ms/step - loss: 0.0069 - accuracy: 0.9975\n"
          ],
          "name": "stdout"
        },
        {
          "output_type": "execute_result",
          "data": {
            "text/plain": [
              "<tensorflow.python.keras.callbacks.History at 0x7f3ffe9f4fd0>"
            ]
          },
          "metadata": {
            "tags": []
          },
          "execution_count": 43
        }
      ]
    },
    {
      "cell_type": "code",
      "metadata": {
        "id": "gGByWifcGgrD",
        "colab_type": "code",
        "colab": {
          "base_uri": "https://localhost:8080/",
          "height": 50
        },
        "outputId": "475025aa-fe5f-42cc-9331-5298456cd1e3"
      },
      "source": [
        "model.evaluate(\n",
        "  test_features,\n",
        "  to_categorical(test_labels)\n",
        ")"
      ],
      "execution_count": null,
      "outputs": [
        {
          "output_type": "stream",
          "text": [
            "16/16 [==============================] - 0s 2ms/step - loss: 0.1898 - accuracy: 0.9420\n"
          ],
          "name": "stdout"
        },
        {
          "output_type": "execute_result",
          "data": {
            "text/plain": [
              "[0.1897965967655182, 0.9419999718666077]"
            ]
          },
          "metadata": {
            "tags": []
          },
          "execution_count": 44
        }
      ]
    }
  ]
}